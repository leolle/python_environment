{
 "cells": [
  {
   "cell_type": "markdown",
   "metadata": {
    "slideshow": {
     "slide_type": "slide"
    }
   },
   "source": [
    "# 基于 pandas DataFrame 的数据处理\n",
    "\n",
    "+ 合并数据，将不同的DataFrame数据按行或列合并，形成新的DataFrame\n",
    "+ 汇总数据，根据关键字对数据进行分组计算"
   ]
  },
  {
   "cell_type": "code",
   "execution_count": 2,
   "metadata": {
    "collapsed": true,
    "slideshow": {
     "slide_type": "slide"
    }
   },
   "outputs": [],
   "source": [
    "from pandas import Series, DataFrame\n",
    "import pandas as pd\n",
    "from numpy.random import randn\n",
    "import numpy as np\n",
    "from myfunctions import *\n",
    "np.set_printoptions(precision=4)"
   ]
  },
  {
   "cell_type": "markdown",
   "metadata": {
    "slideshow": {
     "slide_type": "slide"
    }
   },
   "source": [
    "## 数据合并\n",
    "\n",
    "+ pandas.merge 可根据一个或多个关键字将不同DataFrame中的行就行链接，即进行横向的扩展\n",
    "+ pandas.concat可以沿着一条轴将多个对象堆叠在一切\n"
   ]
  },
  {
   "cell_type": "code",
   "execution_count": 3,
   "metadata": {
    "slideshow": {
     "slide_type": "-"
    }
   },
   "outputs": [
    {
     "name": "stdout",
     "output_type": "stream",
     "text": [
      "RangeIndex(start=0, stop=7, step=1)\n"
     ]
    }
   ],
   "source": [
    "df1 = DataFrame({'key': ['b', 'b', 'a', 'c', 'a', 'a', 'b'],\n",
    "                 'data1': range(7)})\n",
    "df2 = DataFrame({'key': ['a', 'b','b', 'd'],\n",
    "                 'data2': range(4)})\n",
    "df3 = DataFrame({'key': ['a', 'b','b', 'd','e'],\n",
    "                 'data2': range(5)})\n",
    "\n",
    "print(df1.index)"
   ]
  },
  {
   "cell_type": "markdown",
   "metadata": {
    "slideshow": {
     "slide_type": "-"
    }
   },
   "source": [
    "+ 选项 on 给定新DataFrame的键\n",
    "    + 如果不指定，系统会将多个数据中重叠的列作为键，并此为基础进行连接\n",
    "    + pd.merge如果不指定合并的形式，则用inner连接，键是交集，\n",
    "    + 其它方式还包括，\"left\",\"right\",\"outer\"\n",
    "    + outer 得到的新表中的键是原数据键的并集 ******"
   ]
  },
  {
   "cell_type": "code",
   "execution_count": 7,
   "metadata": {},
   "outputs": [
    {
     "name": "stdout",
     "output_type": "stream",
     "text": [
      "   data1 key  data2\n",
      "0      0   b      1\n",
      "1      0   b      2\n",
      "2      1   b      1\n",
      "3      1   b      2\n",
      "4      6   b      1\n",
      "5      6   b      2\n",
      "6      2   a      0\n",
      "7      4   a      0\n",
      "8      5   a      0\n"
     ]
    }
   ],
   "source": [
    "dfmerge1=pd.merge(df1, df2)\n",
    "print (dfmerge1)\n"
   ]
  },
  {
   "cell_type": "code",
   "execution_count": 4,
   "metadata": {
    "slideshow": {
     "slide_type": "slide"
    }
   },
   "outputs": [
    {
     "data": {
      "text/html": [
       "<div style='float: left; border-left : 5px solid #6699cc;'><div>\n",
       "<table border=\"1\" class=\"dataframe\">\n",
       "  <thead>\n",
       "    <tr style=\"text-align: right;\">\n",
       "      <th></th>\n",
       "      <th>data1</th>\n",
       "      <th>key</th>\n",
       "    </tr>\n",
       "  </thead>\n",
       "  <tbody>\n",
       "    <tr>\n",
       "      <th>0</th>\n",
       "      <td>0</td>\n",
       "      <td>b</td>\n",
       "    </tr>\n",
       "    <tr>\n",
       "      <th>1</th>\n",
       "      <td>1</td>\n",
       "      <td>b</td>\n",
       "    </tr>\n",
       "    <tr>\n",
       "      <th>2</th>\n",
       "      <td>2</td>\n",
       "      <td>a</td>\n",
       "    </tr>\n",
       "    <tr>\n",
       "      <th>3</th>\n",
       "      <td>3</td>\n",
       "      <td>c</td>\n",
       "    </tr>\n",
       "    <tr>\n",
       "      <th>4</th>\n",
       "      <td>4</td>\n",
       "      <td>a</td>\n",
       "    </tr>\n",
       "    <tr>\n",
       "      <th>5</th>\n",
       "      <td>5</td>\n",
       "      <td>a</td>\n",
       "    </tr>\n",
       "    <tr>\n",
       "      <th>6</th>\n",
       "      <td>6</td>\n",
       "      <td>b</td>\n",
       "    </tr>\n",
       "  </tbody>\n",
       "</table>\n",
       "</div></div><div style='float: left; border-left : 5px solid #6699cc;'><div>\n",
       "<table border=\"1\" class=\"dataframe\">\n",
       "  <thead>\n",
       "    <tr style=\"text-align: right;\">\n",
       "      <th></th>\n",
       "      <th>data2</th>\n",
       "      <th>key</th>\n",
       "    </tr>\n",
       "  </thead>\n",
       "  <tbody>\n",
       "    <tr>\n",
       "      <th>0</th>\n",
       "      <td>0</td>\n",
       "      <td>a</td>\n",
       "    </tr>\n",
       "    <tr>\n",
       "      <th>1</th>\n",
       "      <td>1</td>\n",
       "      <td>b</td>\n",
       "    </tr>\n",
       "    <tr>\n",
       "      <th>2</th>\n",
       "      <td>2</td>\n",
       "      <td>b</td>\n",
       "    </tr>\n",
       "    <tr>\n",
       "      <th>3</th>\n",
       "      <td>3</td>\n",
       "      <td>d</td>\n",
       "    </tr>\n",
       "  </tbody>\n",
       "</table>\n",
       "</div></div><div style='float: left; border-left : 5px solid #6699cc;'><div>\n",
       "<table border=\"1\" class=\"dataframe\">\n",
       "  <thead>\n",
       "    <tr style=\"text-align: right;\">\n",
       "      <th></th>\n",
       "      <th>data1</th>\n",
       "      <th>key</th>\n",
       "      <th>data2</th>\n",
       "    </tr>\n",
       "  </thead>\n",
       "  <tbody>\n",
       "    <tr>\n",
       "      <th>0</th>\n",
       "      <td>0</td>\n",
       "      <td>b</td>\n",
       "      <td>1</td>\n",
       "    </tr>\n",
       "    <tr>\n",
       "      <th>1</th>\n",
       "      <td>0</td>\n",
       "      <td>b</td>\n",
       "      <td>2</td>\n",
       "    </tr>\n",
       "    <tr>\n",
       "      <th>2</th>\n",
       "      <td>1</td>\n",
       "      <td>b</td>\n",
       "      <td>1</td>\n",
       "    </tr>\n",
       "    <tr>\n",
       "      <th>3</th>\n",
       "      <td>1</td>\n",
       "      <td>b</td>\n",
       "      <td>2</td>\n",
       "    </tr>\n",
       "    <tr>\n",
       "      <th>4</th>\n",
       "      <td>6</td>\n",
       "      <td>b</td>\n",
       "      <td>1</td>\n",
       "    </tr>\n",
       "    <tr>\n",
       "      <th>5</th>\n",
       "      <td>6</td>\n",
       "      <td>b</td>\n",
       "      <td>2</td>\n",
       "    </tr>\n",
       "    <tr>\n",
       "      <th>6</th>\n",
       "      <td>2</td>\n",
       "      <td>a</td>\n",
       "      <td>0</td>\n",
       "    </tr>\n",
       "    <tr>\n",
       "      <th>7</th>\n",
       "      <td>4</td>\n",
       "      <td>a</td>\n",
       "      <td>0</td>\n",
       "    </tr>\n",
       "    <tr>\n",
       "      <th>8</th>\n",
       "      <td>5</td>\n",
       "      <td>a</td>\n",
       "      <td>0</td>\n",
       "    </tr>\n",
       "  </tbody>\n",
       "</table>\n",
       "</div></div><div style='float: left; border-left : 5px solid #6699cc;'><div>\n",
       "<table border=\"1\" class=\"dataframe\">\n",
       "  <thead>\n",
       "    <tr style=\"text-align: right;\">\n",
       "      <th></th>\n",
       "      <th>data1</th>\n",
       "      <th>key</th>\n",
       "      <th>data2</th>\n",
       "    </tr>\n",
       "  </thead>\n",
       "  <tbody>\n",
       "    <tr>\n",
       "      <th>0</th>\n",
       "      <td>0</td>\n",
       "      <td>b</td>\n",
       "      <td>1.0</td>\n",
       "    </tr>\n",
       "    <tr>\n",
       "      <th>1</th>\n",
       "      <td>0</td>\n",
       "      <td>b</td>\n",
       "      <td>2.0</td>\n",
       "    </tr>\n",
       "    <tr>\n",
       "      <th>2</th>\n",
       "      <td>1</td>\n",
       "      <td>b</td>\n",
       "      <td>1.0</td>\n",
       "    </tr>\n",
       "    <tr>\n",
       "      <th>3</th>\n",
       "      <td>1</td>\n",
       "      <td>b</td>\n",
       "      <td>2.0</td>\n",
       "    </tr>\n",
       "    <tr>\n",
       "      <th>4</th>\n",
       "      <td>2</td>\n",
       "      <td>a</td>\n",
       "      <td>0.0</td>\n",
       "    </tr>\n",
       "    <tr>\n",
       "      <th>5</th>\n",
       "      <td>3</td>\n",
       "      <td>c</td>\n",
       "      <td>NaN</td>\n",
       "    </tr>\n",
       "    <tr>\n",
       "      <th>6</th>\n",
       "      <td>4</td>\n",
       "      <td>a</td>\n",
       "      <td>0.0</td>\n",
       "    </tr>\n",
       "    <tr>\n",
       "      <th>7</th>\n",
       "      <td>5</td>\n",
       "      <td>a</td>\n",
       "      <td>0.0</td>\n",
       "    </tr>\n",
       "    <tr>\n",
       "      <th>8</th>\n",
       "      <td>6</td>\n",
       "      <td>b</td>\n",
       "      <td>1.0</td>\n",
       "    </tr>\n",
       "    <tr>\n",
       "      <th>9</th>\n",
       "      <td>6</td>\n",
       "      <td>b</td>\n",
       "      <td>2.0</td>\n",
       "    </tr>\n",
       "  </tbody>\n",
       "</table>\n",
       "</div></div><div style='float: left; border-left : 5px solid #6699cc;'><div>\n",
       "<table border=\"1\" class=\"dataframe\">\n",
       "  <thead>\n",
       "    <tr style=\"text-align: right;\">\n",
       "      <th></th>\n",
       "      <th>data1</th>\n",
       "      <th>key</th>\n",
       "      <th>data2</th>\n",
       "    </tr>\n",
       "  </thead>\n",
       "  <tbody>\n",
       "    <tr>\n",
       "      <th>0</th>\n",
       "      <td>0.0</td>\n",
       "      <td>b</td>\n",
       "      <td>1.0</td>\n",
       "    </tr>\n",
       "    <tr>\n",
       "      <th>1</th>\n",
       "      <td>0.0</td>\n",
       "      <td>b</td>\n",
       "      <td>2.0</td>\n",
       "    </tr>\n",
       "    <tr>\n",
       "      <th>2</th>\n",
       "      <td>1.0</td>\n",
       "      <td>b</td>\n",
       "      <td>1.0</td>\n",
       "    </tr>\n",
       "    <tr>\n",
       "      <th>3</th>\n",
       "      <td>1.0</td>\n",
       "      <td>b</td>\n",
       "      <td>2.0</td>\n",
       "    </tr>\n",
       "    <tr>\n",
       "      <th>4</th>\n",
       "      <td>6.0</td>\n",
       "      <td>b</td>\n",
       "      <td>1.0</td>\n",
       "    </tr>\n",
       "    <tr>\n",
       "      <th>5</th>\n",
       "      <td>6.0</td>\n",
       "      <td>b</td>\n",
       "      <td>2.0</td>\n",
       "    </tr>\n",
       "    <tr>\n",
       "      <th>6</th>\n",
       "      <td>2.0</td>\n",
       "      <td>a</td>\n",
       "      <td>0.0</td>\n",
       "    </tr>\n",
       "    <tr>\n",
       "      <th>7</th>\n",
       "      <td>4.0</td>\n",
       "      <td>a</td>\n",
       "      <td>0.0</td>\n",
       "    </tr>\n",
       "    <tr>\n",
       "      <th>8</th>\n",
       "      <td>5.0</td>\n",
       "      <td>a</td>\n",
       "      <td>0.0</td>\n",
       "    </tr>\n",
       "    <tr>\n",
       "      <th>9</th>\n",
       "      <td>3.0</td>\n",
       "      <td>c</td>\n",
       "      <td>NaN</td>\n",
       "    </tr>\n",
       "    <tr>\n",
       "      <th>10</th>\n",
       "      <td>NaN</td>\n",
       "      <td>d</td>\n",
       "      <td>3.0</td>\n",
       "    </tr>\n",
       "  </tbody>\n",
       "</table>\n",
       "</div></div>"
      ],
      "text/plain": [
       "<myfunctions.side_by_side at 0x111dfe7f0>"
      ]
     },
     "execution_count": 4,
     "metadata": {},
     "output_type": "execute_result"
    }
   ],
   "source": [
    "dfmerge1=pd.merge(df1, df2,on='key')\n",
    "dfmerge2=pd.merge(df1, df2, on='key',how=\"left\")\n",
    "dfmerge3=pd.merge(df1, df2, on='key',how=\"outer\")\n",
    "side_by_side(df1,df2,dfmerge1,dfmerge2,dfmerge3)"
   ]
  },
  {
   "cell_type": "markdown",
   "metadata": {
    "slideshow": {
     "slide_type": "slide"
    }
   },
   "source": [
    "+ 按键进行连接，同一个键在表中有多行，这进行两两组合"
   ]
  },
  {
   "cell_type": "code",
   "execution_count": 5,
   "metadata": {
    "slideshow": {
     "slide_type": "-"
    }
   },
   "outputs": [
    {
     "data": {
      "text/html": [
       "<div style='float: left; border-left : 5px solid #6699cc;'><div>\n",
       "<table border=\"1\" class=\"dataframe\">\n",
       "  <thead>\n",
       "    <tr style=\"text-align: right;\">\n",
       "      <th></th>\n",
       "      <th>data1</th>\n",
       "      <th>key</th>\n",
       "    </tr>\n",
       "  </thead>\n",
       "  <tbody>\n",
       "    <tr>\n",
       "      <th>0</th>\n",
       "      <td>0</td>\n",
       "      <td>a</td>\n",
       "    </tr>\n",
       "    <tr>\n",
       "      <th>1</th>\n",
       "      <td>1</td>\n",
       "      <td>b</td>\n",
       "    </tr>\n",
       "  </tbody>\n",
       "</table>\n",
       "</div></div><div style='float: left; border-left : 5px solid #6699cc;'><div>\n",
       "<table border=\"1\" class=\"dataframe\">\n",
       "  <thead>\n",
       "    <tr style=\"text-align: right;\">\n",
       "      <th></th>\n",
       "      <th>data2</th>\n",
       "      <th>key</th>\n",
       "    </tr>\n",
       "  </thead>\n",
       "  <tbody>\n",
       "    <tr>\n",
       "      <th>0</th>\n",
       "      <td>0</td>\n",
       "      <td>b</td>\n",
       "    </tr>\n",
       "    <tr>\n",
       "      <th>1</th>\n",
       "      <td>1</td>\n",
       "      <td>b</td>\n",
       "    </tr>\n",
       "  </tbody>\n",
       "</table>\n",
       "</div></div><div style='float: left; border-left : 5px solid #6699cc;'><div>\n",
       "<table border=\"1\" class=\"dataframe\">\n",
       "  <thead>\n",
       "    <tr style=\"text-align: right;\">\n",
       "      <th></th>\n",
       "      <th>data1</th>\n",
       "      <th>key</th>\n",
       "      <th>data2</th>\n",
       "    </tr>\n",
       "  </thead>\n",
       "  <tbody>\n",
       "    <tr>\n",
       "      <th>0</th>\n",
       "      <td>1</td>\n",
       "      <td>b</td>\n",
       "      <td>0</td>\n",
       "    </tr>\n",
       "    <tr>\n",
       "      <th>1</th>\n",
       "      <td>1</td>\n",
       "      <td>b</td>\n",
       "      <td>1</td>\n",
       "    </tr>\n",
       "  </tbody>\n",
       "</table>\n",
       "</div></div>"
      ],
      "text/plain": [
       "<myfunctions.side_by_side at 0x111e2e7b8>"
      ]
     },
     "execution_count": 5,
     "metadata": {},
     "output_type": "execute_result"
    }
   ],
   "source": [
    "df1 = DataFrame({'key': ['a', 'b'],\n",
    "                 'data1': range(2)})\n",
    "df2 = DataFrame({'key': ['b',  'b' ],\n",
    "                 'data2': range(2)})\n",
    "merge4=pd.merge(df1, df2, how='inner')\n",
    "side_by_side(df1,df2,merge4)"
   ]
  },
  {
   "cell_type": "markdown",
   "metadata": {
    "slideshow": {
     "slide_type": "slide"
    }
   },
   "source": [
    "+ 也可以通过多个键进行合并"
   ]
  },
  {
   "cell_type": "code",
   "execution_count": 6,
   "metadata": {
    "scrolled": true,
    "slideshow": {
     "slide_type": "-"
    }
   },
   "outputs": [
    {
     "data": {
      "text/html": [
       "<div style='float: left; border-left : 5px solid #6699cc;'><div>\n",
       "<table border=\"1\" class=\"dataframe\">\n",
       "  <thead>\n",
       "    <tr style=\"text-align: right;\">\n",
       "      <th></th>\n",
       "      <th>key2</th>\n",
       "      <th>lval</th>\n",
       "      <th>代码</th>\n",
       "    </tr>\n",
       "  </thead>\n",
       "  <tbody>\n",
       "    <tr>\n",
       "      <th>0</th>\n",
       "      <td>one</td>\n",
       "      <td>1</td>\n",
       "      <td>foo</td>\n",
       "    </tr>\n",
       "    <tr>\n",
       "      <th>1</th>\n",
       "      <td>two</td>\n",
       "      <td>2</td>\n",
       "      <td>foo</td>\n",
       "    </tr>\n",
       "    <tr>\n",
       "      <th>2</th>\n",
       "      <td>one</td>\n",
       "      <td>3</td>\n",
       "      <td>bar</td>\n",
       "    </tr>\n",
       "  </tbody>\n",
       "</table>\n",
       "</div></div><div style='float: left; border-left : 5px solid #6699cc;'><div>\n",
       "<table border=\"1\" class=\"dataframe\">\n",
       "  <thead>\n",
       "    <tr style=\"text-align: right;\">\n",
       "      <th></th>\n",
       "      <th>key2</th>\n",
       "      <th>rval</th>\n",
       "      <th>代码</th>\n",
       "    </tr>\n",
       "  </thead>\n",
       "  <tbody>\n",
       "    <tr>\n",
       "      <th>0</th>\n",
       "      <td>one</td>\n",
       "      <td>4</td>\n",
       "      <td>foo</td>\n",
       "    </tr>\n",
       "    <tr>\n",
       "      <th>1</th>\n",
       "      <td>one</td>\n",
       "      <td>5</td>\n",
       "      <td>foo</td>\n",
       "    </tr>\n",
       "    <tr>\n",
       "      <th>2</th>\n",
       "      <td>one</td>\n",
       "      <td>6</td>\n",
       "      <td>bar</td>\n",
       "    </tr>\n",
       "    <tr>\n",
       "      <th>3</th>\n",
       "      <td>two</td>\n",
       "      <td>7</td>\n",
       "      <td>bar</td>\n",
       "    </tr>\n",
       "  </tbody>\n",
       "</table>\n",
       "</div></div><div style='float: left; border-left : 5px solid #6699cc;'><div>\n",
       "<table border=\"1\" class=\"dataframe\">\n",
       "  <thead>\n",
       "    <tr style=\"text-align: right;\">\n",
       "      <th></th>\n",
       "      <th>key2_x</th>\n",
       "      <th>lval</th>\n",
       "      <th>代码</th>\n",
       "      <th>key2_y</th>\n",
       "      <th>rval</th>\n",
       "    </tr>\n",
       "  </thead>\n",
       "  <tbody>\n",
       "    <tr>\n",
       "      <th>0</th>\n",
       "      <td>one</td>\n",
       "      <td>1</td>\n",
       "      <td>foo</td>\n",
       "      <td>one</td>\n",
       "      <td>4</td>\n",
       "    </tr>\n",
       "    <tr>\n",
       "      <th>1</th>\n",
       "      <td>one</td>\n",
       "      <td>1</td>\n",
       "      <td>foo</td>\n",
       "      <td>one</td>\n",
       "      <td>5</td>\n",
       "    </tr>\n",
       "    <tr>\n",
       "      <th>2</th>\n",
       "      <td>two</td>\n",
       "      <td>2</td>\n",
       "      <td>foo</td>\n",
       "      <td>one</td>\n",
       "      <td>4</td>\n",
       "    </tr>\n",
       "    <tr>\n",
       "      <th>3</th>\n",
       "      <td>two</td>\n",
       "      <td>2</td>\n",
       "      <td>foo</td>\n",
       "      <td>one</td>\n",
       "      <td>5</td>\n",
       "    </tr>\n",
       "    <tr>\n",
       "      <th>4</th>\n",
       "      <td>one</td>\n",
       "      <td>3</td>\n",
       "      <td>bar</td>\n",
       "      <td>one</td>\n",
       "      <td>6</td>\n",
       "    </tr>\n",
       "    <tr>\n",
       "      <th>5</th>\n",
       "      <td>one</td>\n",
       "      <td>3</td>\n",
       "      <td>bar</td>\n",
       "      <td>two</td>\n",
       "      <td>7</td>\n",
       "    </tr>\n",
       "  </tbody>\n",
       "</table>\n",
       "</div></div><div style='float: left; border-left : 5px solid #6699cc;'><div>\n",
       "<table border=\"1\" class=\"dataframe\">\n",
       "  <thead>\n",
       "    <tr style=\"text-align: right;\">\n",
       "      <th></th>\n",
       "      <th>key2</th>\n",
       "      <th>lval</th>\n",
       "      <th>代码</th>\n",
       "      <th>rval</th>\n",
       "    </tr>\n",
       "  </thead>\n",
       "  <tbody>\n",
       "    <tr>\n",
       "      <th>0</th>\n",
       "      <td>one</td>\n",
       "      <td>1</td>\n",
       "      <td>foo</td>\n",
       "      <td>4</td>\n",
       "    </tr>\n",
       "    <tr>\n",
       "      <th>1</th>\n",
       "      <td>one</td>\n",
       "      <td>1</td>\n",
       "      <td>foo</td>\n",
       "      <td>5</td>\n",
       "    </tr>\n",
       "    <tr>\n",
       "      <th>2</th>\n",
       "      <td>one</td>\n",
       "      <td>3</td>\n",
       "      <td>bar</td>\n",
       "      <td>6</td>\n",
       "    </tr>\n",
       "  </tbody>\n",
       "</table>\n",
       "</div></div>"
      ],
      "text/plain": [
       "<myfunctions.side_by_side at 0x111e55668>"
      ]
     },
     "execution_count": 6,
     "metadata": {},
     "output_type": "execute_result"
    }
   ],
   "source": [
    "left = DataFrame({'代码': ['foo', 'foo', 'bar'],\n",
    "                  'key2': ['one', 'two', 'one'],\n",
    "                  'lval': [1, 2, 3]}) \n",
    "right = DataFrame({'代码': ['foo', 'foo', 'bar', 'bar'],\n",
    "                   'key2': ['one', 'one', 'one', 'two'],\n",
    "                   'rval': [4, 5, 6, 7]})\n",
    "merge5=pd.merge(left, right, on='代码', how='outer')\n",
    "merge6=pd.merge(left, right, on=['代码', 'key2'], how='inner')\n",
    "side_by_side(left,right,merge5,merge6)"
   ]
  },
  {
   "cell_type": "markdown",
   "metadata": {
    "slideshow": {
     "slide_type": "slide"
    }
   },
   "source": [
    "+ 索引作为键合并, 使用选项 left_index=True 或者right_index=True\n",
    "+ 左右表的键名称可以不同，用left_on 和 right_on 指定"
   ]
  },
  {
   "cell_type": "code",
   "execution_count": 7,
   "metadata": {
    "slideshow": {
     "slide_type": "-"
    }
   },
   "outputs": [
    {
     "data": {
      "text/html": [
       "<div style='float: left; border-left : 5px solid #6699cc;'><div>\n",
       "<table border=\"1\" class=\"dataframe\">\n",
       "  <thead>\n",
       "    <tr style=\"text-align: right;\">\n",
       "      <th></th>\n",
       "      <th>value</th>\n",
       "      <th>代码</th>\n",
       "    </tr>\n",
       "  </thead>\n",
       "  <tbody>\n",
       "    <tr>\n",
       "      <th>0</th>\n",
       "      <td>0</td>\n",
       "      <td>a</td>\n",
       "    </tr>\n",
       "    <tr>\n",
       "      <th>1</th>\n",
       "      <td>1</td>\n",
       "      <td>b</td>\n",
       "    </tr>\n",
       "    <tr>\n",
       "      <th>2</th>\n",
       "      <td>2</td>\n",
       "      <td>a</td>\n",
       "    </tr>\n",
       "    <tr>\n",
       "      <th>3</th>\n",
       "      <td>3</td>\n",
       "      <td>a</td>\n",
       "    </tr>\n",
       "    <tr>\n",
       "      <th>4</th>\n",
       "      <td>4</td>\n",
       "      <td>b</td>\n",
       "    </tr>\n",
       "    <tr>\n",
       "      <th>5</th>\n",
       "      <td>5</td>\n",
       "      <td>c</td>\n",
       "    </tr>\n",
       "  </tbody>\n",
       "</table>\n",
       "</div></div><div style='float: left; border-left : 5px solid #6699cc;'><div>\n",
       "<table border=\"1\" class=\"dataframe\">\n",
       "  <thead>\n",
       "    <tr style=\"text-align: right;\">\n",
       "      <th></th>\n",
       "      <th>平均值</th>\n",
       "    </tr>\n",
       "  </thead>\n",
       "  <tbody>\n",
       "    <tr>\n",
       "      <th>a</th>\n",
       "      <td>3.5</td>\n",
       "    </tr>\n",
       "    <tr>\n",
       "      <th>b</th>\n",
       "      <td>7.0</td>\n",
       "    </tr>\n",
       "  </tbody>\n",
       "</table>\n",
       "</div></div><div style='float: left; border-left : 5px solid #6699cc;'><div>\n",
       "<table border=\"1\" class=\"dataframe\">\n",
       "  <thead>\n",
       "    <tr style=\"text-align: right;\">\n",
       "      <th></th>\n",
       "      <th>value</th>\n",
       "      <th>代码</th>\n",
       "      <th>平均值</th>\n",
       "    </tr>\n",
       "  </thead>\n",
       "  <tbody>\n",
       "    <tr>\n",
       "      <th>0</th>\n",
       "      <td>0</td>\n",
       "      <td>a</td>\n",
       "      <td>3.5</td>\n",
       "    </tr>\n",
       "    <tr>\n",
       "      <th>2</th>\n",
       "      <td>2</td>\n",
       "      <td>a</td>\n",
       "      <td>3.5</td>\n",
       "    </tr>\n",
       "    <tr>\n",
       "      <th>3</th>\n",
       "      <td>3</td>\n",
       "      <td>a</td>\n",
       "      <td>3.5</td>\n",
       "    </tr>\n",
       "    <tr>\n",
       "      <th>1</th>\n",
       "      <td>1</td>\n",
       "      <td>b</td>\n",
       "      <td>7.0</td>\n",
       "    </tr>\n",
       "    <tr>\n",
       "      <th>4</th>\n",
       "      <td>4</td>\n",
       "      <td>b</td>\n",
       "      <td>7.0</td>\n",
       "    </tr>\n",
       "  </tbody>\n",
       "</table>\n",
       "</div></div>"
      ],
      "text/plain": [
       "<myfunctions.side_by_side at 0x111dfe4a8>"
      ]
     },
     "execution_count": 7,
     "metadata": {},
     "output_type": "execute_result"
    }
   ],
   "source": [
    "left1 = DataFrame({'代码': ['a', 'b', 'a', 'a', 'b', 'c'],\n",
    "                  'value': range(6)})\n",
    "right1 = DataFrame({'平均值': [3.5, 7]}, index=['a', 'b'])\n",
    "\n",
    "\n",
    "pm2=pd.merge(left1, right1, left_on='代码', right_index=True)\n",
    "side_by_side(left1,right1,pm2)\n"
   ]
  },
  {
   "cell_type": "markdown",
   "metadata": {
    "slideshow": {
     "slide_type": "slide"
    }
   },
   "source": [
    "### 轴向连接\n",
    "\n",
    "+ numpy中数组连接 np.concatenate\n",
    "+ pandas 中 concat"
   ]
  },
  {
   "cell_type": "code",
   "execution_count": 8,
   "metadata": {
    "slideshow": {
     "slide_type": "slide"
    }
   },
   "outputs": [
    {
     "data": {
      "text/plain": [
       "array([[ 0,  1,  2,  3],\n",
       "       [ 4,  5,  6,  7],\n",
       "       [ 8,  9, 10, 11]])"
      ]
     },
     "execution_count": 8,
     "metadata": {},
     "output_type": "execute_result"
    }
   ],
   "source": [
    "arr = np.arange(12).reshape((3, 4))\n",
    "arr"
   ]
  },
  {
   "cell_type": "code",
   "execution_count": 9,
   "metadata": {
    "slideshow": {
     "slide_type": "slide"
    }
   },
   "outputs": [
    {
     "data": {
      "text/plain": [
       "array([[ 0,  1,  2,  3],\n",
       "       [ 4,  5,  6,  7],\n",
       "       [ 8,  9, 10, 11],\n",
       "       [ 0,  1,  2,  3],\n",
       "       [ 4,  5,  6,  7],\n",
       "       [ 8,  9, 10, 11]])"
      ]
     },
     "execution_count": 9,
     "metadata": {},
     "output_type": "execute_result"
    }
   ],
   "source": [
    "np.concatenate([arr, arr], axis=0)##axis表示横/竖"
   ]
  },
  {
   "cell_type": "code",
   "execution_count": 10,
   "metadata": {
    "slideshow": {
     "slide_type": "slide"
    }
   },
   "outputs": [
    {
     "data": {
      "text/plain": [
       "array([[ 0,  1,  2,  3,  0,  1,  2,  3],\n",
       "       [ 4,  5,  6,  7,  4,  5,  6,  7],\n",
       "       [ 8,  9, 10, 11,  8,  9, 10, 11]])"
      ]
     },
     "execution_count": 10,
     "metadata": {},
     "output_type": "execute_result"
    }
   ],
   "source": [
    "np.concatenate([arr, arr], axis=1)"
   ]
  },
  {
   "cell_type": "markdown",
   "metadata": {
    "slideshow": {
     "slide_type": "slide"
    }
   },
   "source": [
    "pd.concat连接Series也受传入的轴的影响\n",
    "+ axis=0（默认）形成一个Series，axis=1则形成一个DataFrame"
   ]
  },
  {
   "cell_type": "code",
   "execution_count": 11,
   "metadata": {
    "slideshow": {
     "slide_type": "slide"
    }
   },
   "outputs": [
    {
     "name": "stdout",
     "output_type": "stream",
     "text": [
      "a    0\n",
      "b    1\n",
      "dtype: int64\n",
      "c    2\n",
      "d    3\n",
      "e    4\n",
      "dtype: int64\n",
      "c    5\n",
      "g    6\n",
      "dtype: int64\n",
      "a    0\n",
      "b    1\n",
      "c    2\n",
      "d    3\n",
      "e    4\n",
      "c    5\n",
      "g    6\n",
      "dtype: int64\n"
     ]
    }
   ],
   "source": [
    "s1 = Series([0, 1], index=['a', 'b'])\n",
    "s2 = Series([2, 3, 4], index=['c', 'd', 'e'])\n",
    "s3 = Series([5, 6], index=['c', 'g'])\n",
    "s_all = pd.concat([s1, s2, s3])\n",
    "print(s1)\n",
    "print(s2)\n",
    "print(s3)\n",
    "print(s_all)"
   ]
  },
  {
   "cell_type": "code",
   "execution_count": 12,
   "metadata": {
    "slideshow": {
     "slide_type": "slide"
    }
   },
   "outputs": [
    {
     "data": {
      "text/html": [
       "<div>\n",
       "<table border=\"1\" class=\"dataframe\">\n",
       "  <thead>\n",
       "    <tr style=\"text-align: right;\">\n",
       "      <th></th>\n",
       "      <th>0</th>\n",
       "      <th>1</th>\n",
       "      <th>2</th>\n",
       "    </tr>\n",
       "  </thead>\n",
       "  <tbody>\n",
       "    <tr>\n",
       "      <th>a</th>\n",
       "      <td>0.0</td>\n",
       "      <td>NaN</td>\n",
       "      <td>NaN</td>\n",
       "    </tr>\n",
       "    <tr>\n",
       "      <th>b</th>\n",
       "      <td>1.0</td>\n",
       "      <td>NaN</td>\n",
       "      <td>NaN</td>\n",
       "    </tr>\n",
       "    <tr>\n",
       "      <th>c</th>\n",
       "      <td>NaN</td>\n",
       "      <td>2.0</td>\n",
       "      <td>5.0</td>\n",
       "    </tr>\n",
       "    <tr>\n",
       "      <th>d</th>\n",
       "      <td>NaN</td>\n",
       "      <td>3.0</td>\n",
       "      <td>NaN</td>\n",
       "    </tr>\n",
       "    <tr>\n",
       "      <th>e</th>\n",
       "      <td>NaN</td>\n",
       "      <td>4.0</td>\n",
       "      <td>NaN</td>\n",
       "    </tr>\n",
       "    <tr>\n",
       "      <th>g</th>\n",
       "      <td>NaN</td>\n",
       "      <td>NaN</td>\n",
       "      <td>6.0</td>\n",
       "    </tr>\n",
       "  </tbody>\n",
       "</table>\n",
       "</div>"
      ],
      "text/plain": [
       "     0    1    2\n",
       "a  0.0  NaN  NaN\n",
       "b  1.0  NaN  NaN\n",
       "c  NaN  2.0  5.0\n",
       "d  NaN  3.0  NaN\n",
       "e  NaN  4.0  NaN\n",
       "g  NaN  NaN  6.0"
      ]
     },
     "execution_count": 12,
     "metadata": {},
     "output_type": "execute_result"
    }
   ],
   "source": [
    "pd.concat([s1, s2, s3], axis=1)"
   ]
  },
  {
   "cell_type": "code",
   "execution_count": 13,
   "metadata": {
    "slideshow": {
     "slide_type": "slide"
    }
   },
   "outputs": [
    {
     "name": "stdout",
     "output_type": "stream",
     "text": [
      "   one  two\n",
      "a    0    1\n",
      "b    2    3\n",
      "c    4    5\n",
      "   three  four\n",
      "a      5     6\n",
      "c      7     8\n",
      "   one  two  three  four\n",
      "a    0    1    5.0   6.0\n",
      "b    2    3    NaN   NaN\n",
      "c    4    5    7.0   8.0\n"
     ]
    }
   ],
   "source": [
    "df1 = DataFrame(np.arange(6).reshape(3, 2), index=['a', 'b', 'c'],\n",
    "                columns=['one', 'two'])\n",
    "df2 = DataFrame(5 + np.arange(4).reshape(2, 2), index=['a', 'c'],\n",
    "                columns=['three', 'four'])\n",
    "cdf = pd.concat([df1, df2], axis=1)\n",
    "print(df1)\n",
    "print(df2)\n",
    "print(cdf)"
   ]
  },
  {
   "cell_type": "markdown",
   "metadata": {
    "slideshow": {
     "slide_type": "slide"
    }
   },
   "source": [
    "+ 去掉重复数据"
   ]
  },
  {
   "cell_type": "code",
   "execution_count": 14,
   "metadata": {},
   "outputs": [
    {
     "data": {
      "text/html": [
       "<div style='float: left; border-left : 5px solid #6699cc;'><div>\n",
       "<table border=\"1\" class=\"dataframe\">\n",
       "  <thead>\n",
       "    <tr style=\"text-align: right;\">\n",
       "      <th></th>\n",
       "      <th>k1</th>\n",
       "      <th>k2</th>\n",
       "    </tr>\n",
       "  </thead>\n",
       "  <tbody>\n",
       "    <tr>\n",
       "      <th>0</th>\n",
       "      <td>one</td>\n",
       "      <td>1</td>\n",
       "    </tr>\n",
       "    <tr>\n",
       "      <th>1</th>\n",
       "      <td>one</td>\n",
       "      <td>1</td>\n",
       "    </tr>\n",
       "    <tr>\n",
       "      <th>2</th>\n",
       "      <td>one</td>\n",
       "      <td>2</td>\n",
       "    </tr>\n",
       "    <tr>\n",
       "      <th>3</th>\n",
       "      <td>two</td>\n",
       "      <td>3</td>\n",
       "    </tr>\n",
       "    <tr>\n",
       "      <th>4</th>\n",
       "      <td>two</td>\n",
       "      <td>3</td>\n",
       "    </tr>\n",
       "    <tr>\n",
       "      <th>5</th>\n",
       "      <td>two</td>\n",
       "      <td>4</td>\n",
       "    </tr>\n",
       "    <tr>\n",
       "      <th>6</th>\n",
       "      <td>two</td>\n",
       "      <td>4</td>\n",
       "    </tr>\n",
       "  </tbody>\n",
       "</table>\n",
       "</div></div><div style='float: left; border-left : 5px solid #6699cc;'><div>\n",
       "<table border=\"1\" class=\"dataframe\">\n",
       "  <thead>\n",
       "    <tr style=\"text-align: right;\">\n",
       "      <th></th>\n",
       "      <th>k1</th>\n",
       "      <th>k2</th>\n",
       "    </tr>\n",
       "  </thead>\n",
       "  <tbody>\n",
       "    <tr>\n",
       "      <th>0</th>\n",
       "      <td>one</td>\n",
       "      <td>1</td>\n",
       "    </tr>\n",
       "    <tr>\n",
       "      <th>2</th>\n",
       "      <td>one</td>\n",
       "      <td>2</td>\n",
       "    </tr>\n",
       "    <tr>\n",
       "      <th>3</th>\n",
       "      <td>two</td>\n",
       "      <td>3</td>\n",
       "    </tr>\n",
       "    <tr>\n",
       "      <th>5</th>\n",
       "      <td>two</td>\n",
       "      <td>4</td>\n",
       "    </tr>\n",
       "  </tbody>\n",
       "</table>\n",
       "</div></div>"
      ],
      "text/plain": [
       "<myfunctions.side_by_side at 0x111e55780>"
      ]
     },
     "execution_count": 14,
     "metadata": {},
     "output_type": "execute_result"
    }
   ],
   "source": [
    "data = DataFrame({'k1': ['one'] * 3 + ['two'] * 4,\n",
    "                  'k2': [1, 1, 2, 3, 3, 4, 4]})\n",
    "newdata1=data.drop_duplicates()\n",
    "side_by_side(data,newdata1)"
   ]
  },
  {
   "cell_type": "code",
   "execution_count": 15,
   "metadata": {
    "slideshow": {
     "slide_type": "subslide"
    }
   },
   "outputs": [
    {
     "data": {
      "text/html": [
       "<div style='float: left; border-left : 5px solid #6699cc;'><div>\n",
       "<table border=\"1\" class=\"dataframe\">\n",
       "  <thead>\n",
       "    <tr style=\"text-align: right;\">\n",
       "      <th></th>\n",
       "      <th>k1</th>\n",
       "      <th>k2</th>\n",
       "      <th>v1</th>\n",
       "    </tr>\n",
       "  </thead>\n",
       "  <tbody>\n",
       "    <tr>\n",
       "      <th>0</th>\n",
       "      <td>one</td>\n",
       "      <td>1</td>\n",
       "      <td>0</td>\n",
       "    </tr>\n",
       "    <tr>\n",
       "      <th>1</th>\n",
       "      <td>one</td>\n",
       "      <td>1</td>\n",
       "      <td>1</td>\n",
       "    </tr>\n",
       "    <tr>\n",
       "      <th>2</th>\n",
       "      <td>one</td>\n",
       "      <td>2</td>\n",
       "      <td>2</td>\n",
       "    </tr>\n",
       "    <tr>\n",
       "      <th>3</th>\n",
       "      <td>two</td>\n",
       "      <td>3</td>\n",
       "      <td>3</td>\n",
       "    </tr>\n",
       "    <tr>\n",
       "      <th>4</th>\n",
       "      <td>two</td>\n",
       "      <td>3</td>\n",
       "      <td>4</td>\n",
       "    </tr>\n",
       "    <tr>\n",
       "      <th>5</th>\n",
       "      <td>two</td>\n",
       "      <td>4</td>\n",
       "      <td>5</td>\n",
       "    </tr>\n",
       "    <tr>\n",
       "      <th>6</th>\n",
       "      <td>two</td>\n",
       "      <td>4</td>\n",
       "      <td>6</td>\n",
       "    </tr>\n",
       "  </tbody>\n",
       "</table>\n",
       "</div></div><div style='float: left; border-left : 5px solid #6699cc;'><div>\n",
       "<table border=\"1\" class=\"dataframe\">\n",
       "  <thead>\n",
       "    <tr style=\"text-align: right;\">\n",
       "      <th></th>\n",
       "      <th>k1</th>\n",
       "      <th>k2</th>\n",
       "      <th>v1</th>\n",
       "    </tr>\n",
       "  </thead>\n",
       "  <tbody>\n",
       "    <tr>\n",
       "      <th>0</th>\n",
       "      <td>one</td>\n",
       "      <td>1</td>\n",
       "      <td>0</td>\n",
       "    </tr>\n",
       "    <tr>\n",
       "      <th>3</th>\n",
       "      <td>two</td>\n",
       "      <td>3</td>\n",
       "      <td>3</td>\n",
       "    </tr>\n",
       "  </tbody>\n",
       "</table>\n",
       "</div></div><div style='float: left; border-left : 5px solid #6699cc;'><div>\n",
       "<table border=\"1\" class=\"dataframe\">\n",
       "  <thead>\n",
       "    <tr style=\"text-align: right;\">\n",
       "      <th></th>\n",
       "      <th>k1</th>\n",
       "      <th>k2</th>\n",
       "      <th>v1</th>\n",
       "    </tr>\n",
       "  </thead>\n",
       "  <tbody>\n",
       "    <tr>\n",
       "      <th>1</th>\n",
       "      <td>one</td>\n",
       "      <td>1</td>\n",
       "      <td>1</td>\n",
       "    </tr>\n",
       "    <tr>\n",
       "      <th>2</th>\n",
       "      <td>one</td>\n",
       "      <td>2</td>\n",
       "      <td>2</td>\n",
       "    </tr>\n",
       "    <tr>\n",
       "      <th>4</th>\n",
       "      <td>two</td>\n",
       "      <td>3</td>\n",
       "      <td>4</td>\n",
       "    </tr>\n",
       "    <tr>\n",
       "      <th>6</th>\n",
       "      <td>two</td>\n",
       "      <td>4</td>\n",
       "      <td>6</td>\n",
       "    </tr>\n",
       "  </tbody>\n",
       "</table>\n",
       "</div></div>"
      ],
      "text/plain": [
       "<myfunctions.side_by_side at 0x111e2ea90>"
      ]
     },
     "execution_count": 15,
     "metadata": {},
     "output_type": "execute_result"
    }
   ],
   "source": [
    "data['v1'] = range(7)##data is a dataframe\n",
    "#不希望用所有列判断是否重复,可以指出用于判断的列\n",
    "newdata2=data.drop_duplicates(['k1'])\n",
    "newdata3=data.drop_duplicates(['k1', 'k2'], keep='last')\n",
    "# 使用 drop_duplicates 默认会保留第一个，keep='last'选项则会保留最后一个。\n",
    "side_by_side(data,newdata2,newdata3)"
   ]
  },
  {
   "cell_type": "markdown",
   "metadata": {
    "slideshow": {
     "slide_type": "slide"
    }
   },
   "source": [
    "## 数据分组计算\n",
    "\n",
    "+ 对数据进行分组统计和计算\n",
    "+ 使用groupby 方法"
   ]
  },
  {
   "cell_type": "code",
   "execution_count": 16,
   "metadata": {
    "slideshow": {
     "slide_type": "slide"
    }
   },
   "outputs": [
    {
     "name": "stdout",
     "output_type": "stream",
     "text": [
      "   data1  data2 key1 key2\n",
      "0      0      0    a  one\n",
      "1      1      1    a  two\n",
      "2      2      2    b  one\n",
      "3      3      3    b  two\n",
      "4      4      4    a  one\n",
      "         data1     data2\n",
      "key1                    \n",
      "a     1.666667  1.666667\n",
      "b     2.500000  2.500000\n",
      "key1\n",
      "a    1.666667\n",
      "b    2.500000\n",
      "Name: data1, dtype: float64\n"
     ]
    }
   ],
   "source": [
    "df = DataFrame({'key1' : ['a', 'a', 'b', 'b', 'a'],\n",
    "                'key2' : ['one', 'two', 'one', 'two', 'one'],\n",
    "                'data1' : range(5),\n",
    "                'data2' : range(5)})\n",
    "grouped = df['data1'].groupby(df['key1'])##***groupby****\n",
    "a = df.groupby('key1')\n",
    "\n",
    "print(df) \n",
    "print(a.mean())\n",
    "print(grouped.mean())"
   ]
  },
  {
   "cell_type": "markdown",
   "metadata": {
    "slideshow": {
     "slide_type": "slide"
    }
   },
   "source": [
    "+ 用两列分组"
   ]
  },
  {
   "cell_type": "code",
   "execution_count": 17,
   "metadata": {
    "slideshow": {
     "slide_type": "-"
    }
   },
   "outputs": [
    {
     "name": "stdout",
     "output_type": "stream",
     "text": [
      "key1  key2\n",
      "a     one     2\n",
      "      two     1\n",
      "b     one     2\n",
      "      two     3\n",
      "Name: data1, dtype: int64\n"
     ]
    }
   ],
   "source": [
    "means = df['data1'].groupby([df['key1'], df['key2']]).mean()##[[]]用法\n",
    "print(means)"
   ]
  },
  {
   "cell_type": "markdown",
   "metadata": {
    "slideshow": {
     "slide_type": "slide"
    }
   },
   "source": [
    "层次化的索引可以通过unstack转化为行列表示"
   ]
  },
  {
   "cell_type": "code",
   "execution_count": 18,
   "metadata": {
    "slideshow": {
     "slide_type": "-"
    }
   },
   "outputs": [
    {
     "data": {
      "text/html": [
       "<div>\n",
       "<table border=\"1\" class=\"dataframe\">\n",
       "  <thead>\n",
       "    <tr style=\"text-align: right;\">\n",
       "      <th>key2</th>\n",
       "      <th>one</th>\n",
       "      <th>two</th>\n",
       "    </tr>\n",
       "    <tr>\n",
       "      <th>key1</th>\n",
       "      <th></th>\n",
       "      <th></th>\n",
       "    </tr>\n",
       "  </thead>\n",
       "  <tbody>\n",
       "    <tr>\n",
       "      <th>a</th>\n",
       "      <td>2</td>\n",
       "      <td>1</td>\n",
       "    </tr>\n",
       "    <tr>\n",
       "      <th>b</th>\n",
       "      <td>2</td>\n",
       "      <td>3</td>\n",
       "    </tr>\n",
       "  </tbody>\n",
       "</table>\n",
       "</div>"
      ],
      "text/plain": [
       "key2  one  two\n",
       "key1          \n",
       "a       2    1\n",
       "b       2    3"
      ]
     },
     "execution_count": 18,
     "metadata": {},
     "output_type": "execute_result"
    }
   ],
   "source": [
    "means.unstack()"
   ]
  },
  {
   "cell_type": "code",
   "execution_count": 19,
   "metadata": {
    "slideshow": {
     "slide_type": "slide"
    }
   },
   "outputs": [
    {
     "data": {
      "text/html": [
       "<div>\n",
       "<table border=\"1\" class=\"dataframe\">\n",
       "  <thead>\n",
       "    <tr>\n",
       "      <th></th>\n",
       "      <th colspan=\"2\" halign=\"left\">data1</th>\n",
       "      <th colspan=\"2\" halign=\"left\">data2</th>\n",
       "    </tr>\n",
       "    <tr>\n",
       "      <th>key2</th>\n",
       "      <th>one</th>\n",
       "      <th>two</th>\n",
       "      <th>one</th>\n",
       "      <th>two</th>\n",
       "    </tr>\n",
       "    <tr>\n",
       "      <th>key1</th>\n",
       "      <th></th>\n",
       "      <th></th>\n",
       "      <th></th>\n",
       "      <th></th>\n",
       "    </tr>\n",
       "  </thead>\n",
       "  <tbody>\n",
       "    <tr>\n",
       "      <th>a</th>\n",
       "      <td>2</td>\n",
       "      <td>1</td>\n",
       "      <td>2</td>\n",
       "      <td>1</td>\n",
       "    </tr>\n",
       "    <tr>\n",
       "      <th>b</th>\n",
       "      <td>2</td>\n",
       "      <td>3</td>\n",
       "      <td>2</td>\n",
       "      <td>3</td>\n",
       "    </tr>\n",
       "  </tbody>\n",
       "</table>\n",
       "</div>"
      ],
      "text/plain": [
       "     data1     data2    \n",
       "key2   one two   one two\n",
       "key1                    \n",
       "a        2   1     2   1\n",
       "b        2   3     2   3"
      ]
     },
     "execution_count": 19,
     "metadata": {},
     "output_type": "execute_result"
    }
   ],
   "source": [
    "dfmeans = df.groupby(['key1', 'key2']).mean()\n",
    "dfmeans.unstack()"
   ]
  },
  {
   "cell_type": "markdown",
   "metadata": {
    "slideshow": {
     "slide_type": "slide"
    }
   },
   "source": [
    "只选取部分列进行计算"
   ]
  },
  {
   "cell_type": "code",
   "execution_count": 20,
   "metadata": {
    "slideshow": {
     "slide_type": "-"
    }
   },
   "outputs": [
    {
     "data": {
      "text/html": [
       "<div>\n",
       "<table border=\"1\" class=\"dataframe\">\n",
       "  <thead>\n",
       "    <tr style=\"text-align: right;\">\n",
       "      <th></th>\n",
       "      <th></th>\n",
       "      <th>data2</th>\n",
       "    </tr>\n",
       "    <tr>\n",
       "      <th>key1</th>\n",
       "      <th>key2</th>\n",
       "      <th></th>\n",
       "    </tr>\n",
       "  </thead>\n",
       "  <tbody>\n",
       "    <tr>\n",
       "      <th rowspan=\"2\" valign=\"top\">a</th>\n",
       "      <th>one</th>\n",
       "      <td>2</td>\n",
       "    </tr>\n",
       "    <tr>\n",
       "      <th>two</th>\n",
       "      <td>1</td>\n",
       "    </tr>\n",
       "    <tr>\n",
       "      <th rowspan=\"2\" valign=\"top\">b</th>\n",
       "      <th>one</th>\n",
       "      <td>2</td>\n",
       "    </tr>\n",
       "    <tr>\n",
       "      <th>two</th>\n",
       "      <td>3</td>\n",
       "    </tr>\n",
       "  </tbody>\n",
       "</table>\n",
       "</div>"
      ],
      "text/plain": [
       "           data2\n",
       "key1 key2       \n",
       "a    one       2\n",
       "     two       1\n",
       "b    one       2\n",
       "     two       3"
      ]
     },
     "execution_count": 20,
     "metadata": {},
     "output_type": "execute_result"
    }
   ],
   "source": [
    "df.groupby([df['key1'], df['key2']])[['data2']].mean()"
   ]
  },
  {
   "cell_type": "markdown",
   "metadata": {
    "slideshow": {
     "slide_type": "slide"
    }
   },
   "source": [
    "其它分组计算\n",
    "+ 分位点\n",
    "+ 使用自己的函数\n",
    "+ 描述统计量 "
   ]
  },
  {
   "cell_type": "code",
   "execution_count": 21,
   "metadata": {
    "slideshow": {
     "slide_type": "slide"
    }
   },
   "outputs": [
    {
     "data": {
      "text/plain": [
       "key1\n",
       "a    3.4\n",
       "b    2.9\n",
       "Name: data1, dtype: float64"
      ]
     },
     "execution_count": 21,
     "metadata": {},
     "output_type": "execute_result"
    }
   ],
   "source": [
    "grouped = df.groupby('key1')\n",
    "grouped['data1'].quantile(0.9)"
   ]
  },
  {
   "cell_type": "code",
   "execution_count": 22,
   "metadata": {
    "scrolled": true,
    "slideshow": {
     "slide_type": "slide"
    }
   },
   "outputs": [
    {
     "data": {
      "text/html": [
       "<div>\n",
       "<table border=\"1\" class=\"dataframe\">\n",
       "  <thead>\n",
       "    <tr style=\"text-align: right;\">\n",
       "      <th></th>\n",
       "      <th>data1</th>\n",
       "      <th>data2</th>\n",
       "    </tr>\n",
       "    <tr>\n",
       "      <th>key1</th>\n",
       "      <th></th>\n",
       "      <th></th>\n",
       "    </tr>\n",
       "  </thead>\n",
       "  <tbody>\n",
       "    <tr>\n",
       "      <th>a</th>\n",
       "      <td>4</td>\n",
       "      <td>4</td>\n",
       "    </tr>\n",
       "    <tr>\n",
       "      <th>b</th>\n",
       "      <td>1</td>\n",
       "      <td>1</td>\n",
       "    </tr>\n",
       "  </tbody>\n",
       "</table>\n",
       "</div>"
      ],
      "text/plain": [
       "      data1  data2\n",
       "key1              \n",
       "a         4      4\n",
       "b         1      1"
      ]
     },
     "execution_count": 22,
     "metadata": {},
     "output_type": "execute_result"
    }
   ],
   "source": [
    "def peak_to_peak(arr):\n",
    "    return arr.max() - arr.min()\n",
    "grouped.agg(peak_to_peak)"
   ]
  },
  {
   "cell_type": "code",
   "execution_count": 23,
   "metadata": {
    "slideshow": {
     "slide_type": "slide"
    }
   },
   "outputs": [
    {
     "data": {
      "text/html": [
       "<div>\n",
       "<table border=\"1\" class=\"dataframe\">\n",
       "  <thead>\n",
       "    <tr style=\"text-align: right;\">\n",
       "      <th></th>\n",
       "      <th>代码</th>\n",
       "      <th>名称</th>\n",
       "      <th>收入同比%%</th>\n",
       "      <th>利润同比%%</th>\n",
       "      <th>营业利润率%%</th>\n",
       "      <th>市销率</th>\n",
       "      <th>市净率</th>\n",
       "      <th>市现率</th>\n",
       "      <th>市盈(动)</th>\n",
       "      <th>总金额</th>\n",
       "      <th>量比</th>\n",
       "      <th>细分行业</th>\n",
       "      <th>地区</th>\n",
       "    </tr>\n",
       "  </thead>\n",
       "  <tbody>\n",
       "    <tr>\n",
       "      <th>0</th>\n",
       "      <td>1</td>\n",
       "      <td>平安银行</td>\n",
       "      <td>34.09</td>\n",
       "      <td>15.02</td>\n",
       "      <td>32.78</td>\n",
       "      <td>3.64</td>\n",
       "      <td>1.12</td>\n",
       "      <td>0.93</td>\n",
       "      <td>7.31</td>\n",
       "      <td>3.273803e+09</td>\n",
       "      <td>1.40</td>\n",
       "      <td>银行</td>\n",
       "      <td>深圳</td>\n",
       "    </tr>\n",
       "    <tr>\n",
       "      <th>1</th>\n",
       "      <td>2</td>\n",
       "      <td>万  科Ａ</td>\n",
       "      <td>22.72</td>\n",
       "      <td>0.77</td>\n",
       "      <td>17.35</td>\n",
       "      <td>3.13</td>\n",
       "      <td>1.80</td>\n",
       "      <td>-23.08</td>\n",
       "      <td>16.21</td>\n",
       "      <td>3.218100e+09</td>\n",
       "      <td>1.33</td>\n",
       "      <td>全国地产</td>\n",
       "      <td>深圳</td>\n",
       "    </tr>\n",
       "    <tr>\n",
       "      <th>2</th>\n",
       "      <td>4</td>\n",
       "      <td>国农科技</td>\n",
       "      <td>117.08</td>\n",
       "      <td>125.75</td>\n",
       "      <td>10.98</td>\n",
       "      <td>36.85</td>\n",
       "      <td>26.93</td>\n",
       "      <td>-337.10</td>\n",
       "      <td>905.17</td>\n",
       "      <td>1.750940e+08</td>\n",
       "      <td>0.79</td>\n",
       "      <td>生物制药</td>\n",
       "      <td>深圳</td>\n",
       "    </tr>\n",
       "    <tr>\n",
       "      <th>3</th>\n",
       "      <td>5</td>\n",
       "      <td>世纪星源</td>\n",
       "      <td>52.10</td>\n",
       "      <td>8.05</td>\n",
       "      <td>-64.57</td>\n",
       "      <td>148.17</td>\n",
       "      <td>8.32</td>\n",
       "      <td>155.10</td>\n",
       "      <td>NaN</td>\n",
       "      <td>0.000000e+00</td>\n",
       "      <td>0.00</td>\n",
       "      <td>区域地产</td>\n",
       "      <td>深圳</td>\n",
       "    </tr>\n",
       "    <tr>\n",
       "      <th>4</th>\n",
       "      <td>6</td>\n",
       "      <td>深振业Ａ</td>\n",
       "      <td>311.53</td>\n",
       "      <td>425.18</td>\n",
       "      <td>17.93</td>\n",
       "      <td>6.29</td>\n",
       "      <td>3.01</td>\n",
       "      <td>-20.19</td>\n",
       "      <td>24.66</td>\n",
       "      <td>5.046951e+08</td>\n",
       "      <td>0.82</td>\n",
       "      <td>区域地产</td>\n",
       "      <td>深圳</td>\n",
       "    </tr>\n",
       "  </tbody>\n",
       "</table>\n",
       "</div>"
      ],
      "text/plain": [
       "   代码     名称  收入同比%%  利润同比%%  营业利润率%%     市销率    市净率     市现率   市盈(动)  \\\n",
       "0   1   平安银行   34.09   15.02    32.78    3.64   1.12    0.93    7.31   \n",
       "1   2  万  科Ａ   22.72    0.77    17.35    3.13   1.80  -23.08   16.21   \n",
       "2   4   国农科技  117.08  125.75    10.98   36.85  26.93 -337.10  905.17   \n",
       "3   5   世纪星源   52.10    8.05   -64.57  148.17   8.32  155.10     NaN   \n",
       "4   6   深振业Ａ  311.53  425.18    17.93    6.29   3.01  -20.19   24.66   \n",
       "\n",
       "            总金额    量比  细分行业  地区  \n",
       "0  3.273803e+09  1.40    银行  深圳  \n",
       "1  3.218100e+09  1.33  全国地产  深圳  \n",
       "2  1.750940e+08  0.79  生物制药  深圳  \n",
       "3  0.000000e+00  0.00  区域地产  深圳  \n",
       "4  5.046951e+08  0.82  区域地产  深圳  "
      ]
     },
     "execution_count": 23,
     "metadata": {},
     "output_type": "execute_result"
    }
   ],
   "source": [
    "stocks = pd.read_csv('data/A1.csv',encoding=\"gbk\",na_values=['--  '],skiprows=[2781])\n",
    "substocks=stocks.ix[:,:13]\n",
    "substocks.head()\n"
   ]
  },
  {
   "cell_type": "code",
   "execution_count": 24,
   "metadata": {
    "slideshow": {
     "slide_type": "slide"
    }
   },
   "outputs": [
    {
     "data": {
      "text/html": [
       "<div>\n",
       "<table border=\"1\" class=\"dataframe\">\n",
       "  <thead>\n",
       "    <tr style=\"text-align: right;\">\n",
       "      <th></th>\n",
       "      <th>F0</th>\n",
       "      <th>F1</th>\n",
       "      <th>F2</th>\n",
       "      <th>F3</th>\n",
       "      <th>F4</th>\n",
       "      <th>F5</th>\n",
       "      <th>F6</th>\n",
       "      <th>F7</th>\n",
       "      <th>F8</th>\n",
       "      <th>F9</th>\n",
       "      <th>F10</th>\n",
       "      <th>F11</th>\n",
       "      <th>F12</th>\n",
       "    </tr>\n",
       "  </thead>\n",
       "  <tbody>\n",
       "    <tr>\n",
       "      <th>0</th>\n",
       "      <td>1</td>\n",
       "      <td>平安银行</td>\n",
       "      <td>34.09</td>\n",
       "      <td>15.02</td>\n",
       "      <td>32.78</td>\n",
       "      <td>3.64</td>\n",
       "      <td>1.12</td>\n",
       "      <td>0.93</td>\n",
       "      <td>7.31</td>\n",
       "      <td>3.273803e+09</td>\n",
       "      <td>1.40</td>\n",
       "      <td>银行</td>\n",
       "      <td>深圳</td>\n",
       "    </tr>\n",
       "    <tr>\n",
       "      <th>1</th>\n",
       "      <td>2</td>\n",
       "      <td>万  科Ａ</td>\n",
       "      <td>22.72</td>\n",
       "      <td>0.77</td>\n",
       "      <td>17.35</td>\n",
       "      <td>3.13</td>\n",
       "      <td>1.80</td>\n",
       "      <td>-23.08</td>\n",
       "      <td>16.21</td>\n",
       "      <td>3.218100e+09</td>\n",
       "      <td>1.33</td>\n",
       "      <td>全国地产</td>\n",
       "      <td>深圳</td>\n",
       "    </tr>\n",
       "    <tr>\n",
       "      <th>2</th>\n",
       "      <td>4</td>\n",
       "      <td>国农科技</td>\n",
       "      <td>117.08</td>\n",
       "      <td>125.75</td>\n",
       "      <td>10.98</td>\n",
       "      <td>36.85</td>\n",
       "      <td>26.93</td>\n",
       "      <td>-337.10</td>\n",
       "      <td>905.17</td>\n",
       "      <td>1.750940e+08</td>\n",
       "      <td>0.79</td>\n",
       "      <td>生物制药</td>\n",
       "      <td>深圳</td>\n",
       "    </tr>\n",
       "    <tr>\n",
       "      <th>3</th>\n",
       "      <td>5</td>\n",
       "      <td>世纪星源</td>\n",
       "      <td>52.10</td>\n",
       "      <td>8.05</td>\n",
       "      <td>-64.57</td>\n",
       "      <td>148.17</td>\n",
       "      <td>8.32</td>\n",
       "      <td>155.10</td>\n",
       "      <td>NaN</td>\n",
       "      <td>0.000000e+00</td>\n",
       "      <td>0.00</td>\n",
       "      <td>区域地产</td>\n",
       "      <td>深圳</td>\n",
       "    </tr>\n",
       "    <tr>\n",
       "      <th>4</th>\n",
       "      <td>6</td>\n",
       "      <td>深振业Ａ</td>\n",
       "      <td>311.53</td>\n",
       "      <td>425.18</td>\n",
       "      <td>17.93</td>\n",
       "      <td>6.29</td>\n",
       "      <td>3.01</td>\n",
       "      <td>-20.19</td>\n",
       "      <td>24.66</td>\n",
       "      <td>5.046951e+08</td>\n",
       "      <td>0.82</td>\n",
       "      <td>区域地产</td>\n",
       "      <td>深圳</td>\n",
       "    </tr>\n",
       "  </tbody>\n",
       "</table>\n",
       "</div>"
      ],
      "text/plain": [
       "   F0     F1      F2      F3     F4      F5     F6      F7      F8  \\\n",
       "0   1   平安银行   34.09   15.02  32.78    3.64   1.12    0.93    7.31   \n",
       "1   2  万  科Ａ   22.72    0.77  17.35    3.13   1.80  -23.08   16.21   \n",
       "2   4   国农科技  117.08  125.75  10.98   36.85  26.93 -337.10  905.17   \n",
       "3   5   世纪星源   52.10    8.05 -64.57  148.17   8.32  155.10     NaN   \n",
       "4   6   深振业Ａ  311.53  425.18  17.93    6.29   3.01  -20.19   24.66   \n",
       "\n",
       "             F9   F10   F11 F12  \n",
       "0  3.273803e+09  1.40    银行  深圳  \n",
       "1  3.218100e+09  1.33  全国地产  深圳  \n",
       "2  1.750940e+08  0.79  生物制药  深圳  \n",
       "3  0.000000e+00  0.00  区域地产  深圳  \n",
       "4  5.046951e+08  0.82  区域地产  深圳  "
      ]
     },
     "execution_count": 24,
     "metadata": {},
     "output_type": "execute_result"
    }
   ],
   "source": [
    "substocks.columns=map(lambda y: \"F\"+str(y),range(13))\n",
    "substocks.head()"
   ]
  },
  {
   "cell_type": "code",
   "execution_count": 25,
   "metadata": {
    "collapsed": true,
    "slideshow": {
     "slide_type": "slide"
    }
   },
   "outputs": [],
   "source": [
    "grouped=substocks.groupby(\"F12\")"
   ]
  },
  {
   "cell_type": "code",
   "execution_count": 26,
   "metadata": {
    "slideshow": {
     "slide_type": "slide"
    }
   },
   "outputs": [
    {
     "name": "stderr",
     "output_type": "stream",
     "text": [
      "//anaconda/lib/python2.7/site-packages/numpy/lib/function_base.py:3834: RuntimeWarning: Invalid value encountered in percentile\n",
      "  RuntimeWarning)\n"
     ]
    },
    {
     "data": {
      "text/html": [
       "<div>\n",
       "<table border=\"1\" class=\"dataframe\">\n",
       "  <thead>\n",
       "    <tr style=\"text-align: right;\">\n",
       "      <th></th>\n",
       "      <th>count</th>\n",
       "      <th>mean</th>\n",
       "      <th>std</th>\n",
       "      <th>min</th>\n",
       "      <th>25%</th>\n",
       "      <th>50%</th>\n",
       "      <th>75%</th>\n",
       "      <th>max</th>\n",
       "    </tr>\n",
       "    <tr>\n",
       "      <th>F12</th>\n",
       "      <th></th>\n",
       "      <th></th>\n",
       "      <th></th>\n",
       "      <th></th>\n",
       "      <th></th>\n",
       "      <th></th>\n",
       "      <th></th>\n",
       "      <th></th>\n",
       "    </tr>\n",
       "  </thead>\n",
       "  <tbody>\n",
       "    <tr>\n",
       "      <th>上海</th>\n",
       "      <td>218.0</td>\n",
       "      <td>20.434587</td>\n",
       "      <td>111.076893</td>\n",
       "      <td>-555.93</td>\n",
       "      <td>NaN</td>\n",
       "      <td>NaN</td>\n",
       "      <td>NaN</td>\n",
       "      <td>1426.43</td>\n",
       "    </tr>\n",
       "    <tr>\n",
       "      <th>云南</th>\n",
       "      <td>30.0</td>\n",
       "      <td>54.184000</td>\n",
       "      <td>296.826722</td>\n",
       "      <td>-65.41</td>\n",
       "      <td>-6.1150</td>\n",
       "      <td>0.785</td>\n",
       "      <td>8.9200</td>\n",
       "      <td>1620.30</td>\n",
       "    </tr>\n",
       "    <tr>\n",
       "      <th>内蒙</th>\n",
       "      <td>25.0</td>\n",
       "      <td>274.845200</td>\n",
       "      <td>1508.436832</td>\n",
       "      <td>-1154.43</td>\n",
       "      <td>-3.0300</td>\n",
       "      <td>8.240</td>\n",
       "      <td>18.0400</td>\n",
       "      <td>7406.67</td>\n",
       "    </tr>\n",
       "    <tr>\n",
       "      <th>北京</th>\n",
       "      <td>259.0</td>\n",
       "      <td>8.263552</td>\n",
       "      <td>46.480015</td>\n",
       "      <td>-662.79</td>\n",
       "      <td>2.6400</td>\n",
       "      <td>8.670</td>\n",
       "      <td>18.3000</td>\n",
       "      <td>79.88</td>\n",
       "    </tr>\n",
       "    <tr>\n",
       "      <th>吉林</th>\n",
       "      <td>40.0</td>\n",
       "      <td>12.430000</td>\n",
       "      <td>32.093709</td>\n",
       "      <td>-63.17</td>\n",
       "      <td>-0.5775</td>\n",
       "      <td>6.500</td>\n",
       "      <td>18.5600</td>\n",
       "      <td>146.28</td>\n",
       "    </tr>\n",
       "    <tr>\n",
       "      <th>四川</th>\n",
       "      <td>101.0</td>\n",
       "      <td>-364.761386</td>\n",
       "      <td>3745.902943</td>\n",
       "      <td>-37635.99</td>\n",
       "      <td>-0.0200</td>\n",
       "      <td>5.170</td>\n",
       "      <td>17.5800</td>\n",
       "      <td>307.37</td>\n",
       "    </tr>\n",
       "    <tr>\n",
       "      <th>天津</th>\n",
       "      <td>42.0</td>\n",
       "      <td>2.552143</td>\n",
       "      <td>44.642179</td>\n",
       "      <td>-234.13</td>\n",
       "      <td>0.3325</td>\n",
       "      <td>7.270</td>\n",
       "      <td>15.6950</td>\n",
       "      <td>108.63</td>\n",
       "    </tr>\n",
       "    <tr>\n",
       "      <th>宁夏</th>\n",
       "      <td>12.0</td>\n",
       "      <td>-58.478333</td>\n",
       "      <td>174.252875</td>\n",
       "      <td>-609.91</td>\n",
       "      <td>-27.1175</td>\n",
       "      <td>-3.690</td>\n",
       "      <td>3.7475</td>\n",
       "      <td>5.51</td>\n",
       "    </tr>\n",
       "    <tr>\n",
       "      <th>安徽</th>\n",
       "      <td>88.0</td>\n",
       "      <td>8.131818</td>\n",
       "      <td>17.558783</td>\n",
       "      <td>-35.54</td>\n",
       "      <td>1.0525</td>\n",
       "      <td>5.240</td>\n",
       "      <td>12.7450</td>\n",
       "      <td>104.37</td>\n",
       "    </tr>\n",
       "    <tr>\n",
       "      <th>山东</th>\n",
       "      <td>160.0</td>\n",
       "      <td>2.423875</td>\n",
       "      <td>63.617930</td>\n",
       "      <td>-692.22</td>\n",
       "      <td>1.4025</td>\n",
       "      <td>5.605</td>\n",
       "      <td>11.7200</td>\n",
       "      <td>310.22</td>\n",
       "    </tr>\n",
       "    <tr>\n",
       "      <th>山西</th>\n",
       "      <td>36.0</td>\n",
       "      <td>-4.980278</td>\n",
       "      <td>53.964581</td>\n",
       "      <td>-290.83</td>\n",
       "      <td>-2.8400</td>\n",
       "      <td>3.495</td>\n",
       "      <td>10.1050</td>\n",
       "      <td>66.88</td>\n",
       "    </tr>\n",
       "    <tr>\n",
       "      <th>广东</th>\n",
       "      <td>219.0</td>\n",
       "      <td>54.059909</td>\n",
       "      <td>571.041708</td>\n",
       "      <td>-58.27</td>\n",
       "      <td>NaN</td>\n",
       "      <td>NaN</td>\n",
       "      <td>NaN</td>\n",
       "      <td>8399.53</td>\n",
       "    </tr>\n",
       "    <tr>\n",
       "      <th>广西</th>\n",
       "      <td>35.0</td>\n",
       "      <td>9.441429</td>\n",
       "      <td>22.414506</td>\n",
       "      <td>-60.20</td>\n",
       "      <td>-0.3650</td>\n",
       "      <td>4.190</td>\n",
       "      <td>21.2650</td>\n",
       "      <td>70.91</td>\n",
       "    </tr>\n",
       "    <tr>\n",
       "      <th>新疆</th>\n",
       "      <td>43.0</td>\n",
       "      <td>-1.535116</td>\n",
       "      <td>24.393656</td>\n",
       "      <td>-80.61</td>\n",
       "      <td>-10.6950</td>\n",
       "      <td>2.100</td>\n",
       "      <td>12.9600</td>\n",
       "      <td>59.14</td>\n",
       "    </tr>\n",
       "    <tr>\n",
       "      <th>江苏</th>\n",
       "      <td>270.0</td>\n",
       "      <td>9.938815</td>\n",
       "      <td>16.712960</td>\n",
       "      <td>-69.16</td>\n",
       "      <td>2.4575</td>\n",
       "      <td>7.410</td>\n",
       "      <td>15.9825</td>\n",
       "      <td>118.94</td>\n",
       "    </tr>\n",
       "    <tr>\n",
       "      <th>江西</th>\n",
       "      <td>35.0</td>\n",
       "      <td>8.901714</td>\n",
       "      <td>10.373262</td>\n",
       "      <td>-6.06</td>\n",
       "      <td>1.1750</td>\n",
       "      <td>6.950</td>\n",
       "      <td>15.3550</td>\n",
       "      <td>39.95</td>\n",
       "    </tr>\n",
       "    <tr>\n",
       "      <th>河北</th>\n",
       "      <td>51.0</td>\n",
       "      <td>-0.349412</td>\n",
       "      <td>49.885775</td>\n",
       "      <td>-329.80</td>\n",
       "      <td>-0.8850</td>\n",
       "      <td>4.080</td>\n",
       "      <td>14.3300</td>\n",
       "      <td>44.62</td>\n",
       "    </tr>\n",
       "    <tr>\n",
       "      <th>河南</th>\n",
       "      <td>72.0</td>\n",
       "      <td>0.989167</td>\n",
       "      <td>42.424286</td>\n",
       "      <td>-330.00</td>\n",
       "      <td>-0.9275</td>\n",
       "      <td>4.945</td>\n",
       "      <td>14.0975</td>\n",
       "      <td>53.19</td>\n",
       "    </tr>\n",
       "    <tr>\n",
       "      <th>浙江</th>\n",
       "      <td>296.0</td>\n",
       "      <td>8.736318</td>\n",
       "      <td>44.867622</td>\n",
       "      <td>-725.92</td>\n",
       "      <td>2.7125</td>\n",
       "      <td>9.815</td>\n",
       "      <td>17.3775</td>\n",
       "      <td>62.55</td>\n",
       "    </tr>\n",
       "    <tr>\n",
       "      <th>海南</th>\n",
       "      <td>27.0</td>\n",
       "      <td>4.847778</td>\n",
       "      <td>41.829819</td>\n",
       "      <td>-99.55</td>\n",
       "      <td>-4.5400</td>\n",
       "      <td>0.170</td>\n",
       "      <td>18.9950</td>\n",
       "      <td>147.17</td>\n",
       "    </tr>\n",
       "    <tr>\n",
       "      <th>深圳</th>\n",
       "      <td>199.0</td>\n",
       "      <td>9.167337</td>\n",
       "      <td>25.594943</td>\n",
       "      <td>-169.30</td>\n",
       "      <td>1.3350</td>\n",
       "      <td>7.370</td>\n",
       "      <td>16.1500</td>\n",
       "      <td>147.70</td>\n",
       "    </tr>\n",
       "    <tr>\n",
       "      <th>湖北</th>\n",
       "      <td>83.0</td>\n",
       "      <td>3.552289</td>\n",
       "      <td>35.980428</td>\n",
       "      <td>-271.24</td>\n",
       "      <td>1.6250</td>\n",
       "      <td>5.680</td>\n",
       "      <td>12.3950</td>\n",
       "      <td>64.70</td>\n",
       "    </tr>\n",
       "    <tr>\n",
       "      <th>湖南</th>\n",
       "      <td>82.0</td>\n",
       "      <td>1.034390</td>\n",
       "      <td>37.771212</td>\n",
       "      <td>-227.27</td>\n",
       "      <td>-0.9925</td>\n",
       "      <td>4.260</td>\n",
       "      <td>13.5650</td>\n",
       "      <td>67.66</td>\n",
       "    </tr>\n",
       "    <tr>\n",
       "      <th>甘肃</th>\n",
       "      <td>26.0</td>\n",
       "      <td>4.656538</td>\n",
       "      <td>19.234455</td>\n",
       "      <td>-39.53</td>\n",
       "      <td>-3.4175</td>\n",
       "      <td>6.365</td>\n",
       "      <td>12.0950</td>\n",
       "      <td>45.20</td>\n",
       "    </tr>\n",
       "    <tr>\n",
       "      <th>福建</th>\n",
       "      <td>95.0</td>\n",
       "      <td>7.150316</td>\n",
       "      <td>19.055311</td>\n",
       "      <td>-61.86</td>\n",
       "      <td>NaN</td>\n",
       "      <td>NaN</td>\n",
       "      <td>NaN</td>\n",
       "      <td>67.18</td>\n",
       "    </tr>\n",
       "    <tr>\n",
       "      <th>西藏</th>\n",
       "      <td>11.0</td>\n",
       "      <td>7.389091</td>\n",
       "      <td>37.005027</td>\n",
       "      <td>-93.89</td>\n",
       "      <td>3.5800</td>\n",
       "      <td>10.970</td>\n",
       "      <td>29.1200</td>\n",
       "      <td>42.84</td>\n",
       "    </tr>\n",
       "    <tr>\n",
       "      <th>贵州</th>\n",
       "      <td>20.0</td>\n",
       "      <td>10.545000</td>\n",
       "      <td>16.966942</td>\n",
       "      <td>-9.19</td>\n",
       "      <td>1.4725</td>\n",
       "      <td>5.085</td>\n",
       "      <td>15.8575</td>\n",
       "      <td>70.68</td>\n",
       "    </tr>\n",
       "    <tr>\n",
       "      <th>辽宁</th>\n",
       "      <td>73.0</td>\n",
       "      <td>-16.378356</td>\n",
       "      <td>130.273468</td>\n",
       "      <td>-1017.10</td>\n",
       "      <td>-1.9900</td>\n",
       "      <td>2.940</td>\n",
       "      <td>10.5100</td>\n",
       "      <td>54.08</td>\n",
       "    </tr>\n",
       "    <tr>\n",
       "      <th>重庆</th>\n",
       "      <td>41.0</td>\n",
       "      <td>11.021220</td>\n",
       "      <td>26.196394</td>\n",
       "      <td>-58.75</td>\n",
       "      <td>NaN</td>\n",
       "      <td>NaN</td>\n",
       "      <td>NaN</td>\n",
       "      <td>95.20</td>\n",
       "    </tr>\n",
       "    <tr>\n",
       "      <th>陕西</th>\n",
       "      <td>42.0</td>\n",
       "      <td>-0.553333</td>\n",
       "      <td>45.263929</td>\n",
       "      <td>-234.76</td>\n",
       "      <td>-2.9175</td>\n",
       "      <td>3.475</td>\n",
       "      <td>12.1475</td>\n",
       "      <td>82.92</td>\n",
       "    </tr>\n",
       "    <tr>\n",
       "      <th>青海</th>\n",
       "      <td>10.0</td>\n",
       "      <td>0.025000</td>\n",
       "      <td>16.491843</td>\n",
       "      <td>-30.84</td>\n",
       "      <td>-7.8825</td>\n",
       "      <td>1.555</td>\n",
       "      <td>3.3950</td>\n",
       "      <td>32.62</td>\n",
       "    </tr>\n",
       "    <tr>\n",
       "      <th>黑龙江</th>\n",
       "      <td>35.0</td>\n",
       "      <td>-22.325429</td>\n",
       "      <td>216.349171</td>\n",
       "      <td>-1247.81</td>\n",
       "      <td>-0.4900</td>\n",
       "      <td>5.340</td>\n",
       "      <td>18.8600</td>\n",
       "      <td>189.60</td>\n",
       "    </tr>\n",
       "  </tbody>\n",
       "</table>\n",
       "</div>"
      ],
      "text/plain": [
       "     count        mean          std       min      25%     50%      75%  \\\n",
       "F12                                                                       \n",
       "上海   218.0   20.434587   111.076893   -555.93      NaN     NaN      NaN   \n",
       "云南    30.0   54.184000   296.826722    -65.41  -6.1150   0.785   8.9200   \n",
       "内蒙    25.0  274.845200  1508.436832  -1154.43  -3.0300   8.240  18.0400   \n",
       "北京   259.0    8.263552    46.480015   -662.79   2.6400   8.670  18.3000   \n",
       "吉林    40.0   12.430000    32.093709    -63.17  -0.5775   6.500  18.5600   \n",
       "四川   101.0 -364.761386  3745.902943 -37635.99  -0.0200   5.170  17.5800   \n",
       "天津    42.0    2.552143    44.642179   -234.13   0.3325   7.270  15.6950   \n",
       "宁夏    12.0  -58.478333   174.252875   -609.91 -27.1175  -3.690   3.7475   \n",
       "安徽    88.0    8.131818    17.558783    -35.54   1.0525   5.240  12.7450   \n",
       "山东   160.0    2.423875    63.617930   -692.22   1.4025   5.605  11.7200   \n",
       "山西    36.0   -4.980278    53.964581   -290.83  -2.8400   3.495  10.1050   \n",
       "广东   219.0   54.059909   571.041708    -58.27      NaN     NaN      NaN   \n",
       "广西    35.0    9.441429    22.414506    -60.20  -0.3650   4.190  21.2650   \n",
       "新疆    43.0   -1.535116    24.393656    -80.61 -10.6950   2.100  12.9600   \n",
       "江苏   270.0    9.938815    16.712960    -69.16   2.4575   7.410  15.9825   \n",
       "江西    35.0    8.901714    10.373262     -6.06   1.1750   6.950  15.3550   \n",
       "河北    51.0   -0.349412    49.885775   -329.80  -0.8850   4.080  14.3300   \n",
       "河南    72.0    0.989167    42.424286   -330.00  -0.9275   4.945  14.0975   \n",
       "浙江   296.0    8.736318    44.867622   -725.92   2.7125   9.815  17.3775   \n",
       "海南    27.0    4.847778    41.829819    -99.55  -4.5400   0.170  18.9950   \n",
       "深圳   199.0    9.167337    25.594943   -169.30   1.3350   7.370  16.1500   \n",
       "湖北    83.0    3.552289    35.980428   -271.24   1.6250   5.680  12.3950   \n",
       "湖南    82.0    1.034390    37.771212   -227.27  -0.9925   4.260  13.5650   \n",
       "甘肃    26.0    4.656538    19.234455    -39.53  -3.4175   6.365  12.0950   \n",
       "福建    95.0    7.150316    19.055311    -61.86      NaN     NaN      NaN   \n",
       "西藏    11.0    7.389091    37.005027    -93.89   3.5800  10.970  29.1200   \n",
       "贵州    20.0   10.545000    16.966942     -9.19   1.4725   5.085  15.8575   \n",
       "辽宁    73.0  -16.378356   130.273468  -1017.10  -1.9900   2.940  10.5100   \n",
       "重庆    41.0   11.021220    26.196394    -58.75      NaN     NaN      NaN   \n",
       "陕西    42.0   -0.553333    45.263929   -234.76  -2.9175   3.475  12.1475   \n",
       "青海    10.0    0.025000    16.491843    -30.84  -7.8825   1.555   3.3950   \n",
       "黑龙江   35.0  -22.325429   216.349171  -1247.81  -0.4900   5.340  18.8600   \n",
       "\n",
       "         max  \n",
       "F12           \n",
       "上海   1426.43  \n",
       "云南   1620.30  \n",
       "内蒙   7406.67  \n",
       "北京     79.88  \n",
       "吉林    146.28  \n",
       "四川    307.37  \n",
       "天津    108.63  \n",
       "宁夏      5.51  \n",
       "安徽    104.37  \n",
       "山东    310.22  \n",
       "山西     66.88  \n",
       "广东   8399.53  \n",
       "广西     70.91  \n",
       "新疆     59.14  \n",
       "江苏    118.94  \n",
       "江西     39.95  \n",
       "河北     44.62  \n",
       "河南     53.19  \n",
       "浙江     62.55  \n",
       "海南    147.17  \n",
       "深圳    147.70  \n",
       "湖北     64.70  \n",
       "湖南     67.66  \n",
       "甘肃     45.20  \n",
       "福建     67.18  \n",
       "西藏     42.84  \n",
       "贵州     70.68  \n",
       "辽宁     54.08  \n",
       "重庆     95.20  \n",
       "陕西     82.92  \n",
       "青海     32.62  \n",
       "黑龙江   189.60  "
      ]
     },
     "execution_count": 26,
     "metadata": {},
     "output_type": "execute_result"
    }
   ],
   "source": [
    "results=grouped.describe()\n",
    "results.F4.unstack()\n",
    "# 该版本的pandas的quantile函数不能忽略nan,所以相应位置报错"
   ]
  },
  {
   "cell_type": "markdown",
   "metadata": {
    "slideshow": {
     "slide_type": "slide"
    }
   },
   "source": [
    "+ 显然，上面的例子中数据的清理工作并不完全,需要进一步处理。\n",
    "+ 关于数据处理和分组计算更详细的内容请参考 Python for Data Analysis 参考书7，9章，对照书附带的ch07.ipynb 和 ch09.ipybn进行深入学习。\n",
    "\n",
    "## 作业\n",
    "\n",
    "1. 将A1.csv-A5.csv 读入合并，同一个股票和合并为一行。注意，这些表格中都有相同的代码和名称列,可以用它们作为index。也可能有一些冗余的列和行，对数据进行清理。\n",
    "2. 按\"细分行业\" 将资产分组 \n",
    "   +  统计平均市盈率，平均价格；##P/E\n",
    "   + 用总资产作权重，计算加权市盈率和加权平均价格；##加权--》两个列做乘法\n",
    "   + 用流通市值作权重，计算加权市盈率和加权平均价格；\n",
    "3. 按\"地区\" 将资产分组，重新计算二中问题\n",
    "4. 将上述计算结果合并后存为csv文件。"
   ]
  },
  {
   "cell_type": "code",
   "execution_count": null,
   "metadata": {
    "collapsed": true
   },
   "outputs": [],
   "source": []
  },
  {
   "cell_type": "code",
   "execution_count": null,
   "metadata": {
    "collapsed": true
   },
   "outputs": [],
   "source": []
  }
 ],
 "metadata": {
  "anaconda-cloud": {},
  "celltoolbar": "Slideshow",
  "kernelspec": {
   "display_name": "Python [default]",
   "language": "python",
   "name": "python3"
  },
  "language_info": {
   "codemirror_mode": {
    "name": "ipython",
    "version": 3
   },
   "file_extension": ".py",
   "mimetype": "text/x-python",
   "name": "python",
   "nbconvert_exporter": "python",
   "pygments_lexer": "ipython3",
   "version": "3.5.2"
  }
 },
 "nbformat": 4,
 "nbformat_minor": 1
}
