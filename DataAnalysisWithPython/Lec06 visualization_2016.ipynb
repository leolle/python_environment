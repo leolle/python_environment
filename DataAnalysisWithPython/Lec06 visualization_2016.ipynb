{
 "cells": [
  {
   "cell_type": "markdown",
   "metadata": {},
   "source": [
    "画图参考 [matplotlib](http://matplotlib.org/)"
   ]
  },
  {
   "cell_type": "code",
   "execution_count": 4,
   "metadata": {
    "collapsed": true
   },
   "outputs": [],
   "source": [
    "import numpy as np\n",
    "\n",
    "#import warnings; warnings.simplefilter('ignore')\n",
    "# import seaborn as sns; sns.set()\n",
    "%matplotlib inline"
   ]
  },
  {
   "cell_type": "code",
   "execution_count": null,
   "metadata": {
    "collapsed": true
   },
   "outputs": [],
   "source": []
  },
  {
   "cell_type": "markdown",
   "metadata": {},
   "source": [
    "## One-Dimensional Data Set"
   ]
  },
  {
   "cell_type": "code",
   "execution_count": 5,
   "metadata": {},
   "outputs": [
    {
     "name": "stdout",
     "output_type": "stream",
     "text": [
      "[-0.8044583   0.32093155 -0.02548288  0.64432383 -0.30079667  0.38947455\n",
      " -0.1074373  -0.47998308  0.5950355  -0.46466753  0.66728131 -0.80611561\n",
      " -1.19606983 -0.40596016 -0.18237734  0.10319289 -0.13842199  0.70569237\n",
      "  1.27179528 -0.98674733]\n"
     ]
    }
   ],
   "source": [
    "np.random.seed(1000)\n",
    "y = np.random.standard_normal(20) \n",
    "print(y)"
   ]
  },
  {
   "cell_type": "code",
   "execution_count": 6,
   "metadata": {},
   "outputs": [
    {
     "ename": "NameError",
     "evalue": "name 'plt' is not defined",
     "output_type": "error",
     "traceback": [
      "\u001b[0;31m---------------------------------------------------------------------------\u001b[0m",
      "\u001b[0;31mNameError\u001b[0m                                 Traceback (most recent call last)",
      "\u001b[0;32m<ipython-input-6-5a48d2a2a8d2>\u001b[0m in \u001b[0;36m<module>\u001b[0;34m()\u001b[0m\n\u001b[1;32m      1\u001b[0m \u001b[0mx\u001b[0m \u001b[0;34m=\u001b[0m \u001b[0mrange\u001b[0m\u001b[0;34m(\u001b[0m\u001b[0mlen\u001b[0m\u001b[0;34m(\u001b[0m\u001b[0my\u001b[0m\u001b[0;34m)\u001b[0m\u001b[0;34m)\u001b[0m\u001b[0;34m\u001b[0m\u001b[0m\n\u001b[0;32m----> 2\u001b[0;31m \u001b[0mplt\u001b[0m\u001b[0;34m.\u001b[0m\u001b[0mplot\u001b[0m\u001b[0;34m(\u001b[0m\u001b[0mx\u001b[0m\u001b[0;34m,\u001b[0m \u001b[0my\u001b[0m\u001b[0;34m)\u001b[0m\u001b[0;34m\u001b[0m\u001b[0m\n\u001b[0m\u001b[1;32m      3\u001b[0m \u001b[0;31m# tag: matplotlib_0\u001b[0m\u001b[0;34m\u001b[0m\u001b[0;34m\u001b[0m\u001b[0m\n\u001b[1;32m      4\u001b[0m \u001b[0;31m# title: Plot given x- and y-values\u001b[0m\u001b[0;34m\u001b[0m\u001b[0;34m\u001b[0m\u001b[0m\n\u001b[1;32m      5\u001b[0m \u001b[0mprint\u001b[0m\u001b[0;34m(\u001b[0m\u001b[0my\u001b[0m\u001b[0;34m.\u001b[0m\u001b[0mcumsum\u001b[0m\u001b[0;34m(\u001b[0m\u001b[0;34m)\u001b[0m\u001b[0;34m)\u001b[0m\u001b[0;34m\u001b[0m\u001b[0m\n",
      "\u001b[0;31mNameError\u001b[0m: name 'plt' is not defined"
     ]
    }
   ],
   "source": [
    "x = range(len(y))\n",
    "plt.plot(x, y)\n",
    "# tag: matplotlib_0\n",
    "# title: Plot given x- and y-values\n",
    "print(y.cumsum())\n",
    "print(type(y.cumsum()))"
   ]
  },
  {
   "cell_type": "code",
   "execution_count": 7,
   "metadata": {},
   "outputs": [
    {
     "ename": "NameError",
     "evalue": "name 'plt' is not defined",
     "output_type": "error",
     "traceback": [
      "\u001b[0;31m---------------------------------------------------------------------------\u001b[0m",
      "\u001b[0;31mNameError\u001b[0m                                 Traceback (most recent call last)",
      "\u001b[0;32m<ipython-input-7-1a29a70e9172>\u001b[0m in \u001b[0;36m<module>\u001b[0;34m()\u001b[0m\n\u001b[0;32m----> 1\u001b[0;31m \u001b[0mplt\u001b[0m\u001b[0;34m.\u001b[0m\u001b[0mplot\u001b[0m\u001b[0;34m(\u001b[0m\u001b[0my\u001b[0m\u001b[0;34m.\u001b[0m\u001b[0mcumsum\u001b[0m\u001b[0;34m(\u001b[0m\u001b[0;34m)\u001b[0m\u001b[0;34m)\u001b[0m\u001b[0;34m\u001b[0m\u001b[0m\n\u001b[0m\u001b[1;32m      2\u001b[0m \u001b[0mplt\u001b[0m\u001b[0;34m.\u001b[0m\u001b[0mgrid\u001b[0m\u001b[0;34m(\u001b[0m\u001b[0;32mTrue\u001b[0m\u001b[0;34m)\u001b[0m  \u001b[0;31m# adds a grid\u001b[0m\u001b[0;34m\u001b[0m\u001b[0m\n\u001b[1;32m      3\u001b[0m \u001b[0mplt\u001b[0m\u001b[0;34m.\u001b[0m\u001b[0maxis\u001b[0m\u001b[0;34m(\u001b[0m\u001b[0;34m'tight'\u001b[0m\u001b[0;34m)\u001b[0m  \u001b[0;31m# adjusts the axis ranges\u001b[0m\u001b[0;34m\u001b[0m\u001b[0m\n\u001b[1;32m      4\u001b[0m \u001b[0;31m# tag: matplotlib_3_a\u001b[0m\u001b[0;34m\u001b[0m\u001b[0;34m\u001b[0m\u001b[0m\n\u001b[1;32m      5\u001b[0m \u001b[0;31m# title: Plot with grid and tight axes\u001b[0m\u001b[0;34m\u001b[0m\u001b[0;34m\u001b[0m\u001b[0m\n",
      "\u001b[0;31mNameError\u001b[0m: name 'plt' is not defined"
     ]
    }
   ],
   "source": [
    "plt.plot(y.cumsum())\n",
    "plt.grid(True)  # adds a grid\n",
    "plt.axis('tight')  # adjusts the axis ranges\n",
    "# tag: matplotlib_3_a\n",
    "# title: Plot with grid and tight axes"
   ]
  },
  {
   "cell_type": "code",
   "execution_count": 8,
   "metadata": {},
   "outputs": [
    {
     "ename": "NameError",
     "evalue": "name 'plt' is not defined",
     "output_type": "error",
     "traceback": [
      "\u001b[0;31m---------------------------------------------------------------------------\u001b[0m",
      "\u001b[0;31mNameError\u001b[0m                                 Traceback (most recent call last)",
      "\u001b[0;32m<ipython-input-8-320feea0dd0e>\u001b[0m in \u001b[0;36m<module>\u001b[0;34m()\u001b[0m\n\u001b[0;32m----> 1\u001b[0;31m \u001b[0mplt\u001b[0m\u001b[0;34m.\u001b[0m\u001b[0mplot\u001b[0m\u001b[0;34m(\u001b[0m\u001b[0my\u001b[0m\u001b[0;34m.\u001b[0m\u001b[0mcumsum\u001b[0m\u001b[0;34m(\u001b[0m\u001b[0;34m)\u001b[0m\u001b[0;34m)\u001b[0m\u001b[0;34m\u001b[0m\u001b[0m\n\u001b[0m\u001b[1;32m      2\u001b[0m \u001b[0mplt\u001b[0m\u001b[0;34m.\u001b[0m\u001b[0mgrid\u001b[0m\u001b[0;34m(\u001b[0m\u001b[0;32mTrue\u001b[0m\u001b[0;34m)\u001b[0m\u001b[0;34m\u001b[0m\u001b[0m\n\u001b[1;32m      3\u001b[0m \u001b[0mplt\u001b[0m\u001b[0;34m.\u001b[0m\u001b[0mxlim\u001b[0m\u001b[0;34m(\u001b[0m\u001b[0;34m-\u001b[0m\u001b[0;36m1\u001b[0m\u001b[0;34m,\u001b[0m \u001b[0;36m20\u001b[0m\u001b[0;34m)\u001b[0m\u001b[0;34m\u001b[0m\u001b[0m\n\u001b[1;32m      4\u001b[0m plt.ylim(np.min(y.cumsum()) ,\n\u001b[1;32m      5\u001b[0m          np.max(y.cumsum()) )\n",
      "\u001b[0;31mNameError\u001b[0m: name 'plt' is not defined"
     ]
    }
   ],
   "source": [
    "plt.plot(y.cumsum())\n",
    "plt.grid(True)\n",
    "plt.xlim(-1, 20)\n",
    "plt.ylim(np.min(y.cumsum()) ,\n",
    "         np.max(y.cumsum()) )\n",
    "# tag: matplotlib_3_b\n",
    "# title: Plot with custom axes limits"
   ]
  },
  {
   "cell_type": "code",
   "execution_count": null,
   "metadata": {
    "scrolled": false
   },
   "outputs": [],
   "source": [
    "plt.figure(figsize=(7, 4))\n",
    "  # the figsize parameter defines the\n",
    "  # size of the figure in (width, height)\n",
    "plt.plot(y.cumsum(), 'b', lw=1.5)\n",
    "plt.plot(y.cumsum(), 'ro')\n",
    "plt.grid(True)\n",
    "plt.axis('tight')\n",
    "plt.xlabel('index')\n",
    "plt.ylabel('value')\n",
    "plt.title('A Simple Plot')\n",
    "# tag: matplotlib_4\n",
    "# title: Plot with typical labels\n",
    "\n"
   ]
  },
  {
   "cell_type": "markdown",
   "metadata": {},
   "source": [
    "## Two-Dimensional Data Set"
   ]
  },
  {
   "cell_type": "code",
   "execution_count": null,
   "metadata": {},
   "outputs": [],
   "source": [
    "np.random.seed(2000)\n",
    "y = np.random.standard_normal((20, 2)).cumsum(axis=0)\n",
    "print(y)"
   ]
  },
  {
   "cell_type": "code",
   "execution_count": null,
   "metadata": {},
   "outputs": [],
   "source": [
    "\n",
    "\n",
    "plt.figure(figsize=(7, 4))\n",
    "plt.plot(y, lw=1.5)\n",
    "  # plots two lines\n",
    "plt.plot(y, 'ro')\n",
    "  # plots two dotted lines\n",
    "plt.grid(True)\n",
    "plt.axis('tight')\n",
    "plt.xlabel('index')\n",
    "plt.ylabel('value')\n",
    "plt.title('A Simple Plot')\n",
    "# tag: matplotlib_5\n",
    "# title: Plot with two data sets\n",
    "\n"
   ]
  },
  {
   "cell_type": "code",
   "execution_count": null,
   "metadata": {},
   "outputs": [],
   "source": [
    "plt.figure(figsize=(7, 4))\n",
    "plt.plot(y[:, 0], lw=1.5, label='1st')\n",
    "plt.plot(y[:, 1], lw=1.5, label='2nd')\n",
    "plt.plot(y, 'ro')\n",
    "plt.grid(True)\n",
    "plt.legend(loc=0)\n",
    "plt.axis('tight')\n",
    "plt.xlabel('index')\n",
    "plt.ylabel('value')\n",
    "plt.title('A Simple Plot')\n",
    "# tag: matplotlib_6\n",
    "# title: Plot with labeled data sets"
   ]
  },
  {
   "cell_type": "code",
   "execution_count": null,
   "metadata": {},
   "outputs": [],
   "source": [
    "y[:, 0] = y[:, 0] * 100\n",
    "plt.figure(figsize=(7, 4))\n",
    "plt.plot(y[:, 0], lw=1.5, label='1st')\n",
    "plt.plot(y[:, 1], lw=1.5, label='2nd')\n",
    "plt.plot(y, 'ro')\n",
    "plt.grid(True)\n",
    "plt.legend(loc=0)\n",
    "plt.axis('tight')\n",
    "plt.xlabel('index')\n",
    "plt.ylabel('value')\n",
    "plt.title('A Simple Plot')\n",
    "# tag: matplotlib_7\n",
    "# title: Plot with two differently scaled data sets"
   ]
  },
  {
   "cell_type": "code",
   "execution_count": null,
   "metadata": {},
   "outputs": [],
   "source": [
    "fig, ax1 = plt.subplots()\n",
    "plt.plot(y[:, 0], 'b', lw=1.5, label='1st')\n",
    "plt.plot(y[:, 0], 'ro')\n",
    "plt.grid(True)\n",
    "plt.legend(loc=8)\n",
    "plt.axis('tight')\n",
    "plt.xlabel('index')\n",
    "plt.ylabel('value 1st')\n",
    "plt.title('A Simple Plot')\n",
    "ax2 = ax1.twinx()\n",
    "plt.plot(y[:, 1], 'g', lw=1.5, label='2nd')\n",
    "plt.plot(y[:, 1], 'ro')\n",
    "plt.legend(loc=0)\n",
    "plt.ylabel('value 2nd')\n",
    "# tag: matplotlib_8\n",
    "# title: Plot with two data sets and two y-axes"
   ]
  },
  {
   "cell_type": "code",
   "execution_count": null,
   "metadata": {
    "collapsed": true
   },
   "outputs": [],
   "source": [
    "plt.legend?"
   ]
  },
  {
   "cell_type": "code",
   "execution_count": null,
   "metadata": {
    "scrolled": true
   },
   "outputs": [],
   "source": [
    "plt.figure(figsize=(7, 5))\n",
    "plt.subplot(211)\n",
    "plt.plot(y[:, 0], lw=1.5, label='1st')\n",
    "plt.plot(y[:, 0], 'ro')\n",
    "plt.grid(True)\n",
    "plt.legend(loc=0)\n",
    "plt.axis('tight')\n",
    "plt.ylabel('value')\n",
    "plt.title('A Simple Plot')\n",
    "plt.subplot(212)\n",
    "plt.plot(y[:, 1], 'g', lw=1.5, label='2nd')\n",
    "plt.plot(y[:, 1], 'ro')\n",
    "plt.grid(True)\n",
    "plt.legend(loc=0)\n",
    "plt.axis('tight')\n",
    "plt.xlabel('index')\n",
    "plt.ylabel('value')\n",
    "# tag: matplotlib_9\n",
    "# title: Plot with two sub-plots\n",
    "\n"
   ]
  },
  {
   "cell_type": "code",
   "execution_count": null,
   "metadata": {
    "scrolled": true
   },
   "outputs": [],
   "source": [
    "plt.figure(figsize=(9, 4))\n",
    "plt.subplot(121)\n",
    "plt.plot(y[:, 0], lw=1.5, label='1st')\n",
    "plt.plot(y[:, 0], 'ro')\n",
    "plt.grid(True)\n",
    "plt.legend(loc=0)\n",
    "plt.axis('tight')\n",
    "plt.xlabel('index')\n",
    "plt.ylabel('value')\n",
    "plt.title('1st Data Set')\n",
    "plt.subplot(122)\n",
    "plt.bar(np.arange(len(y)), y[:, 1], width=0.5,\n",
    "        color='g', label='2nd')\n",
    "plt.grid(True)\n",
    "plt.legend(loc=0)\n",
    "plt.axis('tight')\n",
    "plt.xlabel('index')\n",
    "plt.title('2nd Data Set')\n",
    "# tag: matplotlib_10\n",
    "# title: Plot combining line/point sub-plot with bar sub-plot\n",
    "# size: 80"
   ]
  },
  {
   "cell_type": "markdown",
   "metadata": {},
   "source": [
    "## Other Plot Styles"
   ]
  },
  {
   "cell_type": "code",
   "execution_count": null,
   "metadata": {
    "collapsed": true
   },
   "outputs": [],
   "source": [
    "y = np.random.standard_normal((1000, 2))"
   ]
  },
  {
   "cell_type": "code",
   "execution_count": null,
   "metadata": {},
   "outputs": [],
   "source": [
    "plt.figure(figsize=(7, 5))\n",
    "plt.plot(y[:, 0], y[:,1],'ro')\n",
    "plt.plot(y[:,1],'g')\n",
    "plt.plot(y[:,0],'b')\n",
    "plt.grid(True)\n",
    "plt.xlabel('1st')\n",
    "plt.ylabel('2nd')\n",
    "plt.title('Scatter Plot')\n",
    "# tag: matplotlib_11_a\n",
    "# title: Scatter plot via +plot+ function"
   ]
  },
  {
   "cell_type": "code",
   "execution_count": null,
   "metadata": {
    "collapsed": true
   },
   "outputs": [],
   "source": [
    "plt.plot?"
   ]
  },
  {
   "cell_type": "code",
   "execution_count": null,
   "metadata": {},
   "outputs": [],
   "source": [
    "plt.figure(figsize=(7, 5))\n",
    "plt.scatter(y[:, 0], y[:, 1], marker='o')\n",
    "\n",
    "plt.grid(True)\n",
    "plt.xlabel('1st')\n",
    "plt.ylabel('2nd')\n",
    "plt.title('Scatter Plot')\n",
    "# tag: matplotlib_11_b\n",
    "# title: Scatter plot via +scatter+ function"
   ]
  },
  {
   "cell_type": "code",
   "execution_count": null,
   "metadata": {
    "collapsed": true
   },
   "outputs": [],
   "source": [
    "c = np.random.randint(0, 10, len(y))"
   ]
  },
  {
   "cell_type": "code",
   "execution_count": null,
   "metadata": {},
   "outputs": [],
   "source": [
    "plt.figure(figsize=(7, 5))\n",
    "plt.scatter(y[:, 0], y[:, 1], c=c, marker='o')\n",
    "plt.colorbar()\n",
    "plt.grid(True)\n",
    "plt.xlabel('1st')\n",
    "plt.ylabel('2nd')\n",
    "plt.title('Scatter Plot')\n",
    "# tag: matplotlib_11_c\n",
    "# title: Scatter plot with third dimension"
   ]
  },
  {
   "cell_type": "code",
   "execution_count": null,
   "metadata": {},
   "outputs": [],
   "source": [
    "plt.figure(figsize=(7, 4))\n",
    "plt.hist(y, label=['1st', '2nd'], bins=25)\n",
    "plt.grid(True)\n",
    "plt.legend(loc=0)\n",
    "plt.xlabel('value')\n",
    "plt.ylabel('frequency')\n",
    "plt.title('Histogram')\n",
    "# tag: matplotlib_12_a\n",
    "# title: Histogram for two data sets"
   ]
  },
  {
   "cell_type": "code",
   "execution_count": null,
   "metadata": {},
   "outputs": [],
   "source": [
    "plt.figure(figsize=(7, 4))\n",
    "plt.hist(y, label=['1st', '2nd'], color=['b', 'g'],\n",
    "            stacked=True, bins=20)\n",
    "plt.grid(True)\n",
    "plt.legend(loc=0)\n",
    "plt.xlabel('value')\n",
    "plt.ylabel('frequency')\n",
    "plt.title('Histogram')\n",
    "# tag: matplotlib_12_b\n",
    "# title: Stacked histogram for two data sets"
   ]
  },
  {
   "cell_type": "code",
   "execution_count": null,
   "metadata": {
    "scrolled": true
   },
   "outputs": [],
   "source": [
    "fig, ax = plt.subplots(figsize=(7, 4))\n",
    "plt.boxplot(y)\n",
    "plt.grid(True)\n",
    "plt.setp(ax, xticklabels=['1st', '2nd'])\n",
    "plt.xlabel('data set')\n",
    "plt.ylabel('value')\n",
    "plt.title('Boxplot')\n",
    "# tag: matplotlib_13\n",
    "# title: Boxplot for two data sets\n",
    "# size: 70"
   ]
  },
  {
   "cell_type": "markdown",
   "metadata": {},
   "source": [
    "A collection of functions for collecting, analyzing and plotting\n",
    "financial data."
   ]
  },
  {
   "cell_type": "code",
   "execution_count": null,
   "metadata": {},
   "outputs": [],
   "source": [
    "import matplotlib.finance as mpf"
   ]
  },
  {
   "cell_type": "code",
   "execution_count": null,
   "metadata": {
    "collapsed": true
   },
   "outputs": [],
   "source": [
    "mpf?"
   ]
  },
  {
   "cell_type": "code",
   "execution_count": null,
   "metadata": {
    "collapsed": true
   },
   "outputs": [],
   "source": [
    "start = (2014, 5, 1)\n",
    "end = (2014, 6, 30)\n",
    "\n",
    "quotes = mpf.quotes_historical_yahoo_ohlc('^GDAXI', start, end)"
   ]
  },
  {
   "cell_type": "code",
   "execution_count": null,
   "metadata": {},
   "outputs": [],
   "source": [
    "fig, ax = plt.subplots(figsize=(8, 5))\n",
    "fig.subplots_adjust(bottom=0.2)\n",
    "mpf.candlestick_ohlc(ax, quotes, width=0.6, colorup='b', colordown='r')\n",
    "plt.grid(True)\n",
    "ax.xaxis_date()\n",
    "  # dates on the x axis\n",
    "ax.autoscale_view()\n",
    "plt.setp(plt.gca().get_xticklabels(), rotation=30)\n",
    "# tag: matplotlib_14\n",
    "# title: Candlestick chart for financial data\n",
    "# size: 70\n"
   ]
  },
  {
   "cell_type": "code",
   "execution_count": null,
   "metadata": {},
   "outputs": [],
   "source": [
    "fig, ax = plt.subplots(figsize=(8, 5))\n",
    "mpf.plot_day_summary_ohlc(ax, quotes, colorup='b', colordown='r')\n",
    "plt.grid(True)\n",
    "ax.xaxis_date()\n",
    "plt.title('DAX Index')\n",
    "plt.ylabel('index level')\n",
    "plt.setp(plt.gca().get_xticklabels(), rotation=30)\n",
    "# tag: matplotlib_15\n",
    "# title: Daily summary chart for financial data\n",
    "# size: 70\n"
   ]
  },
  {
   "cell_type": "code",
   "execution_count": null,
   "metadata": {
    "collapsed": true
   },
   "outputs": [],
   "source": [
    "quotes = np.array(mpf.quotes_historical_yahoo_ohlc('YHOO', start, end))"
   ]
  },
  {
   "cell_type": "code",
   "execution_count": null,
   "metadata": {},
   "outputs": [],
   "source": [
    "fig, (ax1, ax2) = plt.subplots(2, sharex=True, figsize=(8, 6))\n",
    "mpf.candlestick_ohlc(ax1, quotes, width=0.6, colorup='b', colordown='r')\n",
    "ax1.set_title('Yahoo Inc.')\n",
    "ax1.set_ylabel('index level')\n",
    "ax1.grid(True)\n",
    "ax1.xaxis_date()\n",
    "plt.bar(quotes[:, 0] - 0.25, quotes[:, 5], width=0.5)\n",
    "ax2.set_ylabel('volume')\n",
    "ax2.grid(True)\n",
    "ax2.autoscale_view()\n",
    "plt.setp(plt.gca().get_xticklabels(), rotation=30)\n",
    "# tag: matplotlib_16\n",
    "# title: Plot combining candlestick and volume bar chart\n",
    "# size: 70"
   ]
  },
  {
   "cell_type": "markdown",
   "metadata": {
    "slideshow": {
     "slide_type": "slide"
    }
   },
   "source": [
    "## 基于pandas的时间序列作图"
   ]
  },
  {
   "cell_type": "code",
   "execution_count": null,
   "metadata": {
    "slideshow": {
     "slide_type": "slide"
    }
   },
   "outputs": [],
   "source": [
    "import pandas as pd\n",
    "close_px_all = pd.read_csv('data/stock_px.csv', parse_dates=True, index_col=0)\n",
    "close_px = close_px_all[['AAPL', 'MSFT', 'XOM']]\n",
    "close_px = close_px.resample('B').ffill()\n",
    "close_px.info()"
   ]
  },
  {
   "cell_type": "code",
   "execution_count": null,
   "metadata": {
    "slideshow": {
     "slide_type": "slide"
    }
   },
   "outputs": [],
   "source": [
    "close_px['AAPL'].plot()"
   ]
  },
  {
   "cell_type": "code",
   "execution_count": null,
   "metadata": {
    "scrolled": true,
    "slideshow": {
     "slide_type": "slide"
    }
   },
   "outputs": [],
   "source": [
    "close_px.ix['2009'].plot()"
   ]
  },
  {
   "cell_type": "code",
   "execution_count": null,
   "metadata": {
    "slideshow": {
     "slide_type": "slide"
    }
   },
   "outputs": [],
   "source": [
    "close_px['AAPL'].ix['01-2011':'03-2011'].plot()"
   ]
  },
  {
   "cell_type": "code",
   "execution_count": null,
   "metadata": {
    "scrolled": true,
    "slideshow": {
     "slide_type": "slide"
    }
   },
   "outputs": [],
   "source": [
    "appl_q = close_px['AAPL'].resample('Q-DEC').ffill()\n",
    "aa=appl_q.ix['2009':].plot()\n",
    "fig.savefig(\"test.jpg\")"
   ]
  },
  {
   "cell_type": "markdown",
   "metadata": {
    "slideshow": {
     "slide_type": "slide"
    }
   },
   "source": [
    "## Moving window functions"
   ]
  },
  {
   "cell_type": "code",
   "execution_count": null,
   "metadata": {
    "collapsed": true,
    "slideshow": {
     "slide_type": "slide"
    }
   },
   "outputs": [],
   "source": [
    "close_px = close_px.asfreq('B').fillna(method='ffill')"
   ]
  },
  {
   "cell_type": "code",
   "execution_count": null,
   "metadata": {
    "slideshow": {
     "slide_type": "-"
    }
   },
   "outputs": [],
   "source": [
    "close_px.AAPL.plot()\n",
    "close_px.AAPL.rolling(250).mean().plot()"
   ]
  },
  {
   "cell_type": "code",
   "execution_count": null,
   "metadata": {
    "slideshow": {
     "slide_type": "slide"
    }
   },
   "outputs": [],
   "source": [
    "appl_std250 = close_px.AAPL.rolling(250, min_periods=10).std()\n",
    "appl_std250[5:12]"
   ]
  },
  {
   "cell_type": "code",
   "execution_count": null,
   "metadata": {
    "slideshow": {
     "slide_type": "slide"
    }
   },
   "outputs": [],
   "source": [
    "appl_std250.plot()"
   ]
  },
  {
   "cell_type": "code",
   "execution_count": null,
   "metadata": {
    "scrolled": true
   },
   "outputs": [],
   "source": [
    "close_px.rolling(60).mean().plot(logy=True)"
   ]
  },
  {
   "cell_type": "markdown",
   "metadata": {
    "slideshow": {
     "slide_type": "slide"
    }
   },
   "source": [
    "### Exponentially-weighted functions"
   ]
  },
  {
   "cell_type": "code",
   "execution_count": null,
   "metadata": {
    "slideshow": {
     "slide_type": "slide"
    }
   },
   "outputs": [],
   "source": [
    "fig, axes = plt.subplots(nrows=2, ncols=1, sharex=True, sharey=True,\n",
    "                         figsize=(12, 7))\n",
    "\n",
    "aapl_px = close_px.AAPL['2005':'2009']\n",
    "\n",
    "ma60 = aapl_px.rolling(60, min_periods=50).mean()\n",
    "ewma60 = aapl_px.ewm(span=60).mean()\n",
    "\n",
    "aapl_px.plot(style='k-', ax=axes[0])\n",
    "ma60.plot(style='k--', ax=axes[0])\n",
    "aapl_px.plot(style='k-', ax=axes[1])\n",
    "ewma60.plot(style='k--', ax=axes[1])\n",
    "axes[0].set_title('Simple MA')\n",
    "axes[1].set_title('Exponentially-weighted MA')"
   ]
  },
  {
   "cell_type": "markdown",
   "metadata": {
    "slideshow": {
     "slide_type": "slide"
    }
   },
   "source": [
    "### Binary moving window functions"
   ]
  },
  {
   "cell_type": "code",
   "execution_count": null,
   "metadata": {
    "collapsed": true
   },
   "outputs": [],
   "source": [
    "close_px\n",
    "spx_px = close_px_all['SPX']"
   ]
  },
  {
   "cell_type": "code",
   "execution_count": null,
   "metadata": {
    "slideshow": {
     "slide_type": "slide"
    }
   },
   "outputs": [],
   "source": [
    "spx_rets = spx_px / spx_px.shift(1) - 1\n",
    "returns = close_px.pct_change()\n",
    "corr = returns.AAPL.rolling(125, min_periods=100).corr(spx_rets)\n",
    "corr.plot()"
   ]
  },
  {
   "cell_type": "code",
   "execution_count": null,
   "metadata": {
    "slideshow": {
     "slide_type": "slide"
    }
   },
   "outputs": [],
   "source": [
    "corr = returns.rolling(125, min_periods=100).corr(spx_rets) \n",
    "corr.plot()"
   ]
  },
  {
   "cell_type": "markdown",
   "metadata": {
    "slideshow": {
     "slide_type": "slide"
    }
   },
   "source": [
    "### User-defined moving window functions"
   ]
  },
  {
   "cell_type": "code",
   "execution_count": null,
   "metadata": {},
   "outputs": [],
   "source": [
    "from scipy.stats import percentileofscore\n",
    "score_at_2percent = lambda x: percentileofscore(x, 0.02)\n",
    "result = returns.AAPL.rolling(250).apply(score_at_2percent)\n",
    "result.plot()"
   ]
  },
  {
   "cell_type": "markdown",
   "metadata": {},
   "source": [
    "## 一些金融问题的图形工具\n",
    "\n",
    "+ 单利和复利\n",
    "+ 货币的时间价值\n",
    "+ 日内数据"
   ]
  },
  {
   "cell_type": "markdown",
   "metadata": {},
   "source": [
    "### 单利和复利\n",
    "+ 单利：$FV(simple interest)=PV(1+R* n)$\n",
    "+ 复利：$FV(compounded  interest)=PV(1+R)^n$ "
   ]
  },
  {
   "cell_type": "code",
   "execution_count": null,
   "metadata": {},
   "outputs": [],
   "source": [
    "import numpy as np\n",
    "from matplotlib.pyplot import *\n",
    "from pylab import *\n",
    "pv=1000\n",
    "r=0.08\n",
    "n=10\n",
    "t=linspace(0,n,n)\n",
    "y1=np.ones(len(t))*pv\n",
    "y2=pv*(1+r*t)\n",
    "y3=pv*(1+r)**t\n",
    "title('Simple vs. compounded interest rates')\n",
    "xlabel('Number of years')\n",
    "ylabel('Values')\n",
    "xlim(0,11)\n",
    "ylim(800,2200)\n",
    "plot(t, y1, 'b-')\n",
    "plot(t, y2, 'g--',label=\"Simple\")\n",
    "plot(t, y3, 'r-',label=\"Compounded\")\n",
    "plt.legend(loc=0)\n",
    "show()"
   ]
  },
  {
   "cell_type": "markdown",
   "metadata": {},
   "source": [
    "### 货币的时间价值\n",
    "\n",
    "10年前的100万和现在的100万，今天的100万和十年后的100万的价值是不同的。如果我们用散点图大小表示这种差异，可以如下作图可视化这种差异。"
   ]
  },
  {
   "cell_type": "code",
   "execution_count": null,
   "metadata": {
    "scrolled": true
   },
   "outputs": [],
   "source": [
    "from matplotlib.pyplot import *\n",
    "fig1 = figure(facecolor='white',figsize=(10,6))\n",
    "ax1 = axes(frameon=False)\n",
    "ax1.set_frame_on(False)\n",
    "ax1.get_xaxis().tick_bottom() \n",
    "ax1.axes.get_yaxis().set_visible(False) \n",
    "x=range(0,11,2)\n",
    "x1=range(len(x),0,-1)\n",
    "y = [0]*len(x);\n",
    "annotate(\"今天收到\",fontproperties='SimHei',xy=(0,0),xytext=(2,0.1),arrowprops=dict(facecolor='black',shrink=0.02))\n",
    "annotate(\"2年后收到\",fontproperties='SimHei',xy=(2,0.005),xytext=(3.5,0.08),arrowprops=dict(facecolor='black',shrink=0.02))\n",
    "annotate(\"6年后收到\",fontproperties='SimHei',xy=(4,0.005),xytext=(5.3,0.06),arrowprops=dict(facecolor='black',shrink=0.02))\n",
    "annotate(\"10年后收到\",fontproperties='SimHei',xy=(10,-0.005),xytext=(4,-0.06),arrowprops=dict(facecolor='black',shrink=0.02))\n",
    "s = [50*2.5**n for n in x1];\n",
    "title(u\"不同时刻收到的money现在的价值\",fontproperties='SimHei')\n",
    "xlabel(u\"时间（年）\",fontproperties='SimHei')\n",
    "scatter(x,y,s=s);\n",
    "#plt.axis('tight')\n",
    "show()"
   ]
  },
  {
   "cell_type": "markdown",
   "metadata": {},
   "source": [
    "日内高频"
   ]
  },
  {
   "cell_type": "code",
   "execution_count": null,
   "metadata": {
    "scrolled": true
   },
   "outputs": [],
   "source": [
    "import pandas as pd\n",
    "df = pd.read_csv('data/a1501.csv',header=None, parse_dates=[[0, 2]],index_col = 0)\n",
    "df.index.name=\"Date\"\n",
    "df=df.reset_index()\n",
    "df['Date'] =  df['Date'] + 500*(df['Date'] == df['Date'].shift()).values.astype(\"timedelta64[ms]\")\n",
    "#如果有若干个同一秒数据：\n",
    "#df['Date'] =  df['Date'] + (df['Date'].groupby((df['Date'] != df['Date'].shift()).cumsum()).cumcount()).values.astype('timedelta64[ms]')\n",
    "df = df.set_index('Date')\n",
    "df.head()"
   ]
  },
  {
   "cell_type": "code",
   "execution_count": null,
   "metadata": {
    "collapsed": true
   },
   "outputs": [],
   "source": [
    "df.index[:5]"
   ]
  },
  {
   "cell_type": "code",
   "execution_count": null,
   "metadata": {
    "collapsed": true
   },
   "outputs": [],
   "source": [
    "df[4].plot()"
   ]
  },
  {
   "cell_type": "code",
   "execution_count": null,
   "metadata": {
    "collapsed": true
   },
   "outputs": [],
   "source": [
    "%matplotlib inline\n",
    "from matplotlib.pyplot import *\n",
    "import matplotlib.dates as dates\n",
    "fig, (ax1,ax2) = subplots(nrows=1, ncols=2,sharey=True,figsize=(10,6))\n",
    "df[4].ix[\"2014-11-03 08:59:00\":\"2014-11-03 11:31:00\"].plot(ax=ax1) \n",
    "df[4].ix[\"2014-11-03 13:30:00\":\"2014-11-03 15:01:00\"].plot(ax=ax2) \n",
    "#ax1.plot(x1,df[4].ix[\"2014-11-03 08:59:00\":\"2014-11-03 11:31:00\"].values)\n",
    "#ax2.plot(x2,df[4].ix[\"2014-11-03 13:30:00\":\"2014-11-03 15:01:00\"].values)\n",
    "#plt.axis('tight')\n",
    "ax1.xaxis.set_major_locator(dates.MinuteLocator(interval=30))\n",
    "ax1.xaxis.set_major_formatter(dates.DateFormatter('%H:%M'))\n",
    "ax2.xaxis.set_major_locator(dates.MinuteLocator(interval=20))\n",
    "ax2.xaxis.set_major_formatter(dates.DateFormatter('%H:%M'))\n",
    "tight_layout(pad=2, h_pad=1, w_pad=0) \n",
    "show()"
   ]
  },
  {
   "cell_type": "code",
   "execution_count": null,
   "metadata": {
    "collapsed": true
   },
   "outputs": [],
   "source": [
    " \n",
    "y1=df[4].ix[\"2014-11-03 08:59:00\":\"2014-11-03 11:31:00\"] \n",
    "y2=df[4].ix[\"2014-11-03 13:30:00\":\"2014-11-03 15:01:00\"] \n",
    "mo= pd.date_range( \"2014-11-03 09:00:00\",\"2014-11-03 11:31:00\",freq='30min')\n",
    "af= pd.date_range(\"2014-11-03 13:30:00\",\"2014-11-03 15:01:00\",freq='15min')\n",
    "\n",
    "%matplotlib inline\n",
    "from matplotlib.pyplot import *\n",
    "fig, (ax1,ax2) = subplots(nrows=1, ncols=2,sharey=True,figsize=(10,6))\n",
    "ax1.plot_date(y1.index.to_pydatetime(),y1,\"-\")\n",
    "ax2.plot_date(y2.index.to_pydatetime(),y2,\"-\")\n",
    "#ax1.xaxis.set_major_locator(dates.MinuteLocator(interval=30))\n",
    "ax1.xaxis.set_ticks(mo)\n",
    "ax1.xaxis.set_major_formatter(dates.DateFormatter('%H\\n:%M'))\n",
    "#ax1.xaxis.set_ticklabels\n",
    "#ax2.xaxis.set_major_locator(dates.MinuteLocator(interval=20))\n",
    "ax2.xaxis.set_ticks(af)\n",
    "ax2.xaxis.set_major_formatter(dates.DateFormatter('%H\\n:%M'))\n",
    "tight_layout(pad=0, h_pad=0, w_pad=0) \n",
    "show()"
   ]
  }
 ],
 "metadata": {
  "anaconda-cloud": {},
  "celltoolbar": "Slideshow",
  "kernelspec": {
   "display_name": "Python [default]",
   "language": "python",
   "name": "python3"
  },
  "language_info": {
   "codemirror_mode": {
    "name": "ipython",
    "version": 3
   },
   "file_extension": ".py",
   "mimetype": "text/x-python",
   "name": "python",
   "nbconvert_exporter": "python",
   "pygments_lexer": "ipython3",
   "version": "3.5.2"
  }
 },
 "nbformat": 4,
 "nbformat_minor": 1
}
