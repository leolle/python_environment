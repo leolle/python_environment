{
 "cells": [
  {
   "cell_type": "markdown",
   "metadata": {
    "collapsed": true,
    "slideshow": {
     "slide_type": "slide"
    }
   },
   "source": [
    "## 简单滑动平均模型\n",
    "\n",
    "另一类简单的时间序列模型在金融时间序列建模中也很有用，即滑动平均模型（MA）。\n",
    "\n",
    " \n",
    " $${r_t} = {c_0} + {\\varepsilon _t} + {b_1}{\\varepsilon _{t - 1}} +  \\cdots  + {b_q}{\\varepsilon _{t - q}}$$\n",
    "其中 $\\varepsilon_t$ 为白噪声。"
   ]
  },
  {
   "cell_type": "markdown",
   "metadata": {
    "slideshow": {
     "slide_type": "slide"
    }
   },
   "source": [
    "+ 有几种方式引入MA模型。一种方式是把它作为白噪声序列的简单推广，另一种方式是把它看成参数受某种限制的无穷阶AR模型。第一种方式非常容易理解。下面介绍一下第二种方式。\n",
    "+ 从理论上看，ＡＲ模型的阶有限的设定主要是基于模型的简单性，除此之外并无特别的理由认为模型的阶不能是无穷的。即序列受其所有的历史的影响。我们设想无穷阶ＡＲ模型为\n",
    "$${r_t} = {\\phi _0} + {\\phi _1}{r_{t - 1}} + {\\phi _2}{r_{t - 2}} +  \\cdots  + {\\varepsilon _t}$$\n",
    "\n"
   ]
  },
  {
   "cell_type": "markdown",
   "metadata": {
    "slideshow": {
     "slide_type": "slide"
    }
   },
   "source": [
    "+ 然而，这样的模型通常没有实际意义，因为它有无穷个参数，我们很难直接利用它们。使它们实用的一种方法是假设这些无穷的参数可以由有限个参数确定。一种最简单实用的简化方法是假设该无穷阶ＡＲ模型为\n",
    "\n",
    "$${r_t} = {\\phi _0} - {\\phi _1}{r_{t - 1}} - \\phi _1^2{r_{t - 2}} - \\phi _1^3{r_{t - 3}} -  \\cdots  + {\\varepsilon _t}$$\n",
    "\n",
    "+ 这样，系数只依赖于一个参数${\\phi _1}$ ，${\\phi _i} =  - \\phi _1^i$ 。要使上述序列平稳，必须使${\\phi _1}$ 的绝对值小于１，否则系数和序列本身都将发散。另一方面，因为${\\phi _1}$ 的绝对值小于１，${\\phi _i} =  - \\phi _1^i$ 就会趋向于０，从而 ${r_{t - i}}$对${r_t}$ 的贡献随ｉ的增加成指数衰减。这一点是合理的，因为平稳序列${r_t}$ 对它的延迟值${r_{t - i}}$ 的依赖程度是随时间衰减的。"
   ]
  },
  {
   "cell_type": "markdown",
   "metadata": {
    "slideshow": {
     "slide_type": "slide"
    }
   },
   "source": [
    "+ 我们分析一下上述模型。先将模型写为\n",
    "\n",
    "$$\\begin{equation}{r_t} + {\\phi _1}{r_{t - 1}} + \\phi _1^2{r_{t - 2}} + \\phi _1^3{r_{t - 3}} +  \\cdots  = {\\phi _0} + {\\varepsilon _t} \\end{equation}\\quad\\quad (1)$$\n",
    "对${r_{t - 1}}$ 有\n",
    "\n",
    "$${r_{t - 1}} + {\\phi _1}{r_{t - 2}} + \\phi _1^2{r_{t - 3}} + \\phi _1^3{r_{t - 4}} +  \\cdots  = {\\phi _0} + {\\varepsilon _{t - 1}}\\quad\\quad (2)$$\n",
    "+ 由(1)式减去(2)式乘 ${\\phi _1}$，得到\n",
    " $${r_t} = {\\phi _0}\\left( {1 - {\\phi _1}} \\right) + {\\varepsilon _t} - {\\phi _1}{\\varepsilon _{t - 1}}$$\n",
    "该式表明：除去常数项外， ${r_t}$是两个扰动 ${\\varepsilon _{t - 1}},{\\varepsilon _t}$的加权平均。此模型称为１阶MA模型，记为MA(1)模型。"
   ]
  },
  {
   "cell_type": "markdown",
   "metadata": {
    "slideshow": {
     "slide_type": "slide"
    }
   },
   "source": [
    "ＭＡ（１）模型的一般形式为\n",
    " $${r_t} = {c_0} + {\\varepsilon _t} + b{\\varepsilon _{t - 1}}$$\n",
    "零均值的ＭＡ（１）模型为\n",
    " $${r_t} = {\\varepsilon _t} + b{\\varepsilon _{t - 1}}$$\n",
    "其中${c_0}$ 是常数， ${\\varepsilon _t}$为白噪声序列。类似地，ＭＡ（２）模型表示为\n",
    " $${r_t} = {c_0} + {\\varepsilon _t} + {b_1}{\\varepsilon _{t - 1}} + {b_2}{\\varepsilon _{t - 2}}$$\n",
    "ＭＡ（ｑ）模型表示为\n",
    " $${r_t} = {c_0} + {\\varepsilon _t} + {b_1}{\\varepsilon _{t - 1}} +  \\cdots  + {b_q}{\\varepsilon _{t - q}}, \\varepsilon_t\\sim WN(0,\\sigma_\\varepsilon^2)$$\n"
   ]
  },
  {
   "cell_type": "markdown",
   "metadata": {
    "slideshow": {
     "slide_type": "slide"
    }
   },
   "source": [
    "### MA 模型的性质\n",
    "\n",
    "MA模型总是平稳的，其为白噪声的有限线性组合,一阶距和二阶矩都是平移不变的。对MA（q）模型，记${b_0} = 1$ ，有一阶距和二阶矩如下：\n",
    " $$\\begin{array}{rl}\n",
    "E\\left( {{r_t}} \\right)& = {c_0}\\\\\n",
    "{\\gamma _k} &= \\left\\{ {\\begin{array}{*{20}{c}}\n",
    "{\\left( {1 + b_1^2 +  \\cdots  + b_q^2} \\right){\\sigma ^2}}&{k = 0}\\\\\n",
    "{\\sum\\limits_{i = 0}^{q - k} {{b_i}{b_{i + k}}} }\\sigma^2&{0 < k \\le q}\\\\\n",
    "0&{k > q}\n",
    "\\end{array}} \\right.\n",
    "\\end{array}$$\n",
    "同样，我们可以计算出自相关系数${\\rho _k}$ 。从上述自协方差函数可以看出，MA(q)序列只与其头q个延迟值线性相关，从而它是一个“有限记忆”模型,我们称这一性质为自相关系数的截尾性。\n"
   ]
  },
  {
   "cell_type": "markdown",
   "metadata": {
    "slideshow": {
     "slide_type": "slide"
    }
   },
   "source": [
    "### 识别MA的阶\n",
    " \n",
    " MA模型阶的一个非常自然的识别方法是利用序列自相关系数的截尾性。首先计算时间序列的样本自相关系数，寻找最小的整数q，使得步数大于q的样本自相关系数都能不拒绝原假设为“自相关系数等于0” 的检验。\n"
   ]
  },
  {
   "cell_type": "markdown",
   "metadata": {
    "slideshow": {
     "slide_type": "slide"
    }
   },
   "source": [
    "###  估计和检验\n",
    "\n",
    "估计MA模型通常用最大似然方法。有两种计算似然函数的方法，一种为条件（近似）似然法，另一种为精确似然方法。近似似然方法假设初始的扰动为0，然后用递推的方法给出联合似然函数。而精确似然方法则是精确计算联合似然函数。精确似然方法的计算比较复杂，在样本量较少时比近似方法好，但当样本量较多时，两者结果相似。\n"
   ]
  },
  {
   "cell_type": "markdown",
   "metadata": {
    "slideshow": {
     "slide_type": "slide"
    }
   },
   "source": [
    "### \t用MA模型预测\n",
    "MA模型具有有限记忆性，它的点预测很快就会达到序列的均值。设预测原点为t，对零均值的MA（1）过程的向前1步预测，模型为\n",
    " $${r_{t + 1}} = {\\varepsilon _{t+1}} + b{\\varepsilon _{t }}$$\n",
    "取条件期望，我们有\n",
    " \n",
    " $$\\begin{array}{l}\n",
    "{{\\hat r}_t}\\left( 1 \\right) = E\\left( {{r_{t + 1}}|{r_t},{r_{t - 1}}, \\cdots } \\right) = b{\\varepsilon _t},\\\\\n",
    "{e_t}\\left( 1 \\right) = {r_{t + 1}} - {{\\hat r}_t}\\left( 1 \\right) = {\\varepsilon _{t + 1}}\n",
    "\\end{array}$$\n",
    "\n",
    "因此预测误差的方差为\n",
    "$${\\mathop{\\rm var}} \\left( {{e_t}\\left( 1 \\right) = {\\sigma ^2}} \\right)$$ "
   ]
  },
  {
   "cell_type": "markdown",
   "metadata": {
    "slideshow": {
     "slide_type": "slide"
    }
   },
   "source": [
    "**预测式中扰动 ${\\varepsilon _t}$的计算**\n",
    "\n",
    "可以用递推的方法得到。\n",
    "\n",
    "设定${\\varepsilon _0} = 0$ ，则${\\varepsilon _1} = {r_1}$ ，对$2 \\le t \\le h,$ 可由${\\varepsilon _t} = {r_t} - b{\\varepsilon _{t - 1}}$ 递推得到${\\varepsilon _t}$。"
   ]
  },
  {
   "cell_type": "markdown",
   "metadata": {
    "slideshow": {
     "slide_type": "slide"
    }
   },
   "source": [
    "**向前2步预测**\n",
    "\n",
    "由\n",
    " $${r_{t + 2}} = {\\varepsilon _{t + 2}} + b{\\varepsilon _{t+1}}$$\n",
    "有\n",
    " $$\\begin{array}{rl}\n",
    "{{\\hat r}_t}\\left( 2 \\right) &= E\\left( {{r_{t + 2}}|{r_t},{r_{t - 1}}, \\cdots } \\right) = 0,\\\\\n",
    "{e_t}\\left( 2 \\right) &= {r_{t + 2}} - {{\\hat r}_t}\\left( 2 \\right) = {\\varepsilon _{t + 2}} + b{\\varepsilon _{t + 1}}\n",
    "\\end{array}$$\n",
    "计算预测误差的方差，\n",
    "$$ {\\rm var}  \\left( {e_t} ( 2 )\\right) = \\left( {1 + {b^2}} \\right){\\sigma^2}  $$\n",
    "\n",
    "+ 其和无条件方差一样，\n",
    "+ 大于或等于一步预测的方差。"
   ]
  },
  {
   "cell_type": "markdown",
   "metadata": {
    "slideshow": {
     "slide_type": "slide"
    }
   },
   "source": [
    "总的来说，对于零均值MA（1）模型，以t为预测原点的向前一步预测为$b{\\varepsilon _t}$ ，向前多步预测为0，即模型的无条件均值。类似地，我们可以得到MA（q）的预测方法。"
   ]
  },
  {
   "cell_type": "markdown",
   "metadata": {},
   "source": [
    "## 下面我们讨论MA模型的编程实现\n",
    "\n",
    "主要介绍 \n",
    "+ 模型阶的确定；\n",
    "+ 估计 和预测"
   ]
  },
  {
   "cell_type": "code",
   "execution_count": 1,
   "metadata": {
    "collapsed": true,
    "slideshow": {
     "slide_type": "slide"
    }
   },
   "outputs": [],
   "source": [
    "import numpy as np\n",
    "from statsmodels.tsa.arima_process import arma_generate_sample\n",
    "np.random.seed(12345)\n",
    "arparams = np.array([])\n",
    "maparams = np.array([.25,0,0,0, .35])\n",
    "ar = np.r_[1, -arparams] # add zero-lag and negate\n",
    "ma = np.r_[1, maparams] # add zero-lag\n",
    "nobs=500\n",
    "y = arma_generate_sample(ar, ma, nobs)\n"
   ]
  },
  {
   "cell_type": "code",
   "execution_count": 2,
   "metadata": {
    "slideshow": {
     "slide_type": "slide"
    }
   },
   "outputs": [
    {
     "data": {
      "text/plain": [
       "[<matplotlib.lines.Line2D at 0x24fdd714240>,\n",
       " <matplotlib.lines.Line2D at 0x24fdd714400>,\n",
       " <matplotlib.lines.Line2D at 0x24fdd714d68>]"
      ]
     },
     "execution_count": 2,
     "metadata": {},
     "output_type": "execute_result"
    },
    {
     "data": {
      "image/png": "[encoded data removed]",
      "text/plain": [
       "<matplotlib.figure.Figure at 0x24fdba4c588>"
      ]
     },
     "metadata": {},
     "output_type": "display_data"
    }
   ],
   "source": [
    "from statsmodels.tsa.stattools import acf\n",
    "import matplotlib.pylab as plt\n",
    "%matplotlib inline\n",
    "k=10\n",
    "autoco=acf(y,nlags=k)\n",
    "\n",
    "n=len(y)\n",
    "plt.figure(figsize=(6,5))\n",
    "plt.plot(range(1,k+1),autoco[1:],\"b*\",[0,k+1],[1.96/np.sqrt(n)]*2,\"r--\",[0,k+1],[-1.96/np.sqrt(n)]*2,\"r--\")\n",
    "\n"
   ]
  },
  {
   "cell_type": "markdown",
   "metadata": {
    "slideshow": {
     "slide_type": "slide"
    }
   },
   "source": [
    "结合 MA模型的协方差函数判断阶\n",
    "\n",
    " $$\\begin{array}{rl}\n",
    "E\\left( {{r_t}} \\right)& = {c_0}\\\\\n",
    "{\\gamma _k} &= \\left\\{ {\\begin{array}{*{20}{c}}\n",
    "{\\left( {1 + b_1^2 +  \\cdots  + b_q^2} \\right){\\sigma ^2}}&{k = 0}\\\\\n",
    "{\\sum\\limits_{i = 0}^{q - k} {{b_i}{b_{i + k}}} }&{0 < k \\le q}\\\\\n",
    "0&{k > q}\n",
    "\\end{array}} \\right.\n",
    "\\end{array}$$"
   ]
  },
  {
   "cell_type": "markdown",
   "metadata": {
    "slideshow": {
     "slide_type": "slide"
    }
   },
   "source": [
    "估计"
   ]
  },
  {
   "cell_type": "code",
   "execution_count": 8,
   "metadata": {
    "collapsed": true,
    "slideshow": {
     "slide_type": "slide"
    }
   },
   "outputs": [],
   "source": [
    "from __future__ import print_function \n",
    "import statsmodels.api as sm\n",
    "import pandas as pd\n",
    "\n",
    "dates = sm.tsa.datetools.dates_from_range('1970m1', length=nobs)\n",
    "y = pd.Series(y, index=dates)\n",
    "arma_mod = sm.tsa.ARMA(y, order=(0,5))\n",
    "arma_res = arma_mod.fit(trend='nc', disp=-1)\n",
    "\n"
   ]
  },
  {
   "cell_type": "code",
   "execution_count": 9,
   "metadata": {
    "scrolled": true
   },
   "outputs": [
    {
     "name": "stdout",
     "output_type": "stream",
     "text": [
      "                              ARMA Model Results                              \n",
      "==============================================================================\n",
      "Dep. Variable:                      y   No. Observations:                  500\n",
      "Model:                     ARMA(0, 5)   Log Likelihood                -715.951\n",
      "Method:                       css-mle   S.D. of innovations              1.012\n",
      "Date:                Fri, 09 Dec 2016   AIC                           1443.903\n",
      "Time:                        09:18:27   BIC                           1469.191\n",
      "Sample:                    01-31-1970   HQIC                          1453.826\n",
      "                         - 08-31-2011                                         \n",
      "==============================================================================\n",
      "                 coef    std err          z      P>|z|      [95.0% Conf. Int.]\n",
      "------------------------------------------------------------------------------\n",
      "ma.L1.y        0.3053      0.044      6.997      0.000         0.220     0.391\n",
      "ma.L2.y        0.0008      0.044      0.019      0.985        -0.086     0.087\n",
      "ma.L3.y        0.0078      0.044      0.176      0.860        -0.079     0.095\n",
      "ma.L4.y        0.0171      0.045      0.381      0.704        -0.071     0.105\n",
      "ma.L5.y        0.3741      0.044      8.462      0.000         0.287     0.461\n",
      "                                    Roots                                    \n",
      "=============================================================================\n",
      "                 Real           Imaginary           Modulus         Frequency\n",
      "-----------------------------------------------------------------------------\n",
      "MA.1           -1.1249           -0.0000j            1.1249           -0.5000\n",
      "MA.2           -0.4625           -1.1113j            1.2037           -0.3128\n",
      "MA.3           -0.4625           +1.1113j            1.2037            0.3128\n",
      "MA.4            1.0021           -0.7973j            1.2806           -0.1070\n",
      "MA.5            1.0021           +0.7973j            1.2806            0.1070\n",
      "-----------------------------------------------------------------------------\n"
     ]
    }
   ],
   "source": [
    "\n",
    "\n",
    "print(arma_res.summary())\n",
    "\n"
   ]
  },
  {
   "cell_type": "code",
   "execution_count": 6,
   "metadata": {},
   "outputs": [
    {
     "data": {
      "text/plain": [
       "2011-04-30   -0.093309\n",
       "2011-05-31    2.547587\n",
       "2011-06-30    0.926775\n",
       "2011-07-31    1.959485\n",
       "2011-08-31    1.899109\n",
       "dtype: float64"
      ]
     },
     "execution_count": 6,
     "metadata": {},
     "output_type": "execute_result"
    }
   ],
   "source": [
    "y.tail()"
   ]
  },
  {
   "cell_type": "code",
   "execution_count": 10,
   "metadata": {
    "scrolled": true
   },
   "outputs": [
    {
     "name": "stderr",
     "output_type": "stream",
     "text": [
      "C:\\Users\\admin\\Anaconda2\\envs\\py3\\lib\\site-packages\\statsmodels\\tsa\\arima_model.py:1724: FutureWarning: TimeSeries is deprecated. Please use Series\n",
      "  forecast = TimeSeries(forecast, index=self.data.predict_dates)\n"
     ]
    },
    {
     "data": {
      "image/png": "[encoded data removed]",
      "text/plain": [
       "<matplotlib.figure.Figure at 0x24fdd7485c0>"
      ]
     },
     "metadata": {},
     "output_type": "display_data"
    }
   ],
   "source": [
    "fig, ax = plt.subplots(figsize=(10,8))\n",
    "fig = arma_res.plot_predict(start='2010m1', end='2012m1',  ax=ax)\n",
    "legend = ax.legend(loc='upper left')"
   ]
  },
  {
   "cell_type": "markdown",
   "metadata": {
    "slideshow": {
     "slide_type": "slide"
    }
   },
   "source": [
    "**深入编程**\n",
    "\n",
    " \n",
    "+ 下面我们利用python 优化函数，利用MLE估计参数"
   ]
  },
  {
   "cell_type": "markdown",
   "metadata": {
    "slideshow": {
     "slide_type": "slide"
    }
   },
   "source": [
    "**目标函数--条件似然函数**\n",
    "\n",
    "$$logL=\\sum_i^n\\log\\left(\\frac{1}{\\sqrt{ 2 \\pi \\sigma^2 }}\n",
    "                 e^{ - \\frac{ (x_i - \\mu)^2 } {2 \\sigma^2} }\\right)$$"
   ]
  },
  {
   "cell_type": "code",
   "execution_count": 11,
   "metadata": {
    "collapsed": true,
    "slideshow": {
     "slide_type": "slide"
    }
   },
   "outputs": [],
   "source": [
    "\n",
    "import numpy as np\n",
    "import scipy.optimize as scopt\n",
    " "
   ]
  },
  {
   "cell_type": "code",
   "execution_count": 12,
   "metadata": {
    "collapsed": true,
    "slideshow": {
     "slide_type": "slide"
    }
   },
   "outputs": [],
   "source": [
    "def pdfnorm(x,sig):\n",
    "    return  np.exp(-x**2/2/sig**2)/np.sqrt(2*np.pi)/sig\n",
    "\n",
    "def Llikelihood(b,data):\n",
    "    #专门针对上面的模型，前两个数为两个系数，最后一个为白噪声标准差\n",
    "    b1=b[0];b5=b[1];sig=b[2]\n",
    "    ll=0\n",
    "    e=np.zeros(len(data))\n",
    "    e[0]=data[0]\n",
    "    for i in range(1,5):\n",
    "        e[i]=data[i]-b1*data[i-1]\n",
    "    for i in range(5,len(data)):\n",
    "        e[i]=data[i]-b1*e[i-1]-b5*e[i-5]        \n",
    "    tem=e[5:]   \n",
    "    return(-np.sum(np.log(pdfnorm(tem,sig))))"
   ]
  },
  {
   "cell_type": "code",
   "execution_count": 13,
   "metadata": {
    "collapsed": true
   },
   "outputs": [],
   "source": [
    " #给一个初始值，然后优化，这里给了各参数的界\n",
    "x0=[0.36,0.36,0.9]\n",
    "res = scopt.minimize(Llikelihood,x0,y, method='SLSQP')  \n",
    "#可以给出阶\n",
    "bounds = [(0,1),(0,1),(0,2)]\n",
    "results = scopt.minimize(Llikelihood, x0, (y), \n",
    "                             method='SLSQP', \n",
    "                             bounds = bounds)\n"
   ]
  },
  {
   "cell_type": "code",
   "execution_count": 15,
   "metadata": {
    "scrolled": true
   },
   "outputs": [
    {
     "name": "stdout",
     "output_type": "stream",
     "text": [
      "真实值的对数似然函数值: -709.915046925\n",
      "估计值: [ 0.30801176  0.36990277  1.01291293]\n",
      "估计值似然函数值: -708.725563435\n"
     ]
    },
    {
     "data": {
      "text/plain": [
       "     fun: 708.72556343523638\n",
       "     jac: array([-0.01251221, -0.02503204, -0.02635193,  0.        ])\n",
       " message: 'Optimization terminated successfully.'\n",
       "    nfev: 41\n",
       "     nit: 7\n",
       "    njev: 7\n",
       "  status: 0\n",
       " success: True\n",
       "       x: array([ 0.30801176,  0.36990277,  1.01291293])"
      ]
     },
     "execution_count": 15,
     "metadata": {},
     "output_type": "execute_result"
    }
   ],
   "source": [
    "#给出真实值的对数似然函数值，估计值，以及估计值对应的似然函数值\n",
    "print(\"真实值的对数似然函数值:\",-Llikelihood([0.25,0.35,1],y))\n",
    "print(\"估计值:\",results.x)\n",
    "print(\"估计值似然函数值:\",-Llikelihood(results.x,y))\n",
    "results"
   ]
  },
  {
   "cell_type": "code",
   "execution_count": 17,
   "metadata": {},
   "outputs": [
    {
     "data": {
      "text/plain": [
       "     fun: 708.72556350686796\n",
       "     jac: array([-0.00215149, -0.0019455 ,  0.01121521,  0.        ])\n",
       " message: 'Optimization terminated successfully.'\n",
       "    nfev: 45\n",
       "     nit: 7\n",
       "    njev: 7\n",
       "  status: 0\n",
       " success: True\n",
       "       x: array([ 0.30800762,  0.36989982,  1.01292456])"
      ]
     },
     "execution_count": 17,
     "metadata": {},
     "output_type": "execute_result"
    }
   ],
   "source": [
    "res"
   ]
  },
  {
   "cell_type": "code",
   "execution_count": 20,
   "metadata": {},
   "outputs": [
    {
     "name": "stdout",
     "output_type": "stream",
     "text": [
      "真实值的对数似然函数值: -70908.3746481\n",
      "估计值: [ 0.24917016  0.35452021  0.9993579 ]\n",
      "估计值似然函数值: -70907.7168742\n"
     ]
    },
    {
     "data": {
      "text/plain": [
       "     fun: 70907.716874224003\n",
       "     jac: array([ 0.11132812,  0.12988281,  0.00585938,  0.        ])\n",
       " message: 'Optimization terminated successfully.'\n",
       "    nfev: 54\n",
       "     nit: 9\n",
       "    njev: 9\n",
       "  status: 0\n",
       " success: True\n",
       "       x: array([ 0.24917016,  0.35452021,  0.9993579 ])"
      ]
     },
     "execution_count": 20,
     "metadata": {},
     "output_type": "execute_result"
    }
   ],
   "source": [
    "nobs=50000\n",
    "y = arma_generate_sample(ar, ma, nobs)\n",
    "results = scopt.minimize(Llikelihood, x0, (y), \n",
    "                             method='SLSQP', \n",
    "                             bounds = bounds)\n",
    "print(\"真实值的对数似然函数值:\",-Llikelihood([0.25,0.35,1],y))\n",
    "print(\"估计值:\",results.x)\n",
    "print(\"估计值似然函数值:\",-Llikelihood(results.x,y))\n",
    "results"
   ]
  }
 ],
 "metadata": {
  "anaconda-cloud": {},
  "celltoolbar": "Slideshow",
  "kernelspec": {
   "display_name": "Python 2",
   "language": "python",
   "name": "python2"
  },
  "language_info": {
   "codemirror_mode": {
    "name": "ipython",
    "version": 2
   },
   "file_extension": ".py",
   "mimetype": "text/x-python",
   "name": "python",
   "nbconvert_exporter": "python",
   "pygments_lexer": "ipython2",
   "version": "2.7.13"
  }
 },
 "nbformat": 4,
 "nbformat_minor": 1
}
