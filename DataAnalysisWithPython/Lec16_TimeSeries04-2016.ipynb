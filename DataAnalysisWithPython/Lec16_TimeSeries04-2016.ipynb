{
 "cells": [
  {
   "cell_type": "markdown",
   "metadata": {
    "slideshow": {
     "slide_type": "slide"
    }
   },
   "source": [
    "#  ARMA模型\n",
    "自回归模型和滑动平均模型都有较简单的性质，相对简单的判断模型阶以及进行参数估计的方法。但在某些应用中，如果利用AR和MA进行建模可能需要比较高的阶，才能对数据进行好的拟合，问题可能变得比较复杂。但如果我们结合AR模型和MA模型，可能使我们利用较少的参数对这些数据进行建模。ARMA模型就是这样的模型，其认为序列的当前值是过去的回归项和若干扰动的滑动平均之和，最简单的ARMA(1,1)模型表示为\n",
    "\n",
    "$${r_t} = {\\phi _0} + {\\phi _1}{r_{t - 1}} + {\\varepsilon _t} + {b_1}{\\varepsilon _{t - 1}},\\quad {\\varepsilon _t}\\sim WN\\left( {0,{\\sigma ^2}} \\right)$$\n",
    "\n",
    "其中$\\left\\{ {{\\varepsilon _t}} \\right\\}$ 为零均值白噪声序列， ${r_t}$为零均值时间序列，并且上述${r_t}$ 为ARMA（1，1）序列。一般我们要求${\\phi _1} \\ne  - {b_1}$ ，否则就能推导出${r_t}$ 为白噪声序列。\n"
   ]
  },
  {
   "cell_type": "markdown",
   "metadata": {
    "slideshow": {
     "slide_type": "slide"
    }
   },
   "source": [
    "## ARMA（1，1）模型的性质\n",
    "\n",
    "**期望**\n",
    "在ARMA(1,1)模型两边同时取期望，可得\n",
    "$$E\\left( {{r_t}} \\right) = \\frac{{{\\phi _0}}}{{1 - {\\phi _1}}}$$\n",
    "\n",
    "这个结果和一阶自回归模型相同。"
   ]
  },
  {
   "cell_type": "markdown",
   "metadata": {
    "slideshow": {
     "slide_type": "slide"
    }
   },
   "source": [
    "**方差**\n",
    "\n",
    "我们考虑零均值的ARMA(1,1)模型，即其中${\\phi _0} = 0$。同样，如果因果条件成立，即${\\mathop{\\rm cov}} \\left( {{r_{t - j}},{\\varepsilon _t}} \\right) = 0$，我们可以计算\n",
    " \n",
    " $$E\\left( {{r_t}{\\varepsilon _t}} \\right) = {\\sigma ^2}$$\n",
    "ARMA(1,1)模型两边同时取方差，有\n",
    "$$\\begin{array}{rl}\n",
    "{\\gamma _0} &= {\\mathop{\\rm var}} \\left( {{r_t}} \\right) = E\\left[ {{{\\left( {{\\phi _1}{r_{t - 1}} + {\\varepsilon _t} + {b_1}{\\varepsilon _{t - 1}}} \\right)}^2}} \\right]\\\\\n",
    " &= \\phi _1^2{\\gamma _0} + {\\sigma ^2} + b_1^2{\\sigma ^2} + 2{\\phi _1}{b_1}E\\left( {{r_{t - 1}}{\\varepsilon _{t - 1}}} \\right)\\\\\n",
    " &= \\phi _1^2{\\gamma _0} + \\left( {1 + b_1^2 + 2{\\phi _1}{b_1}} \\right){\\sigma ^2}\n",
    "\\end{array}$$\n",
    "可得\n",
    " $${\\gamma _0} = \\frac{{\\left( {1 + b_1^2 + 2{\\phi _1}{b_1}} \\right){\\sigma ^2}}}{{1 - \\phi _1^2}}$$\n",
    "因此，我们必须要求${\\rm{|}}{\\phi _1}{\\rm{| < 1}}$。这同样也是ARMA(1,1)模型平稳的充分条件。"
   ]
  },
  {
   "cell_type": "markdown",
   "metadata": {
    "slideshow": {
     "slide_type": "slide"
    }
   },
   "source": [
    "**Yule-Walker 方程**\n",
    "\n",
    "我们在零均值ARMA(1,1)模型两边同时乘以 ${r_{t - k}}$，并且同时取期望，得到\n",
    "$k = 1$ 时，有\n",
    " $${\\gamma _1} - {\\phi _1}{\\gamma _0} = {b_1}{\\sigma ^2}$$\n",
    "$k \\ge 2$时，有\n",
    "\n",
    " $${\\gamma _k} - {\\phi _1}{\\gamma _{k - 1}} = 0$$\n",
    "因此，我们可以计算自相关系数如下\n",
    " $${\\rho _1} = {\\phi _1} + \\frac{{{b_1}{\\sigma ^2}}}{{{\\gamma _0}}},\\quad {\\rho _k} = {\\phi _1}{\\rho _{k - 1}}\\quad \\left( {k > 1} \\right)$$\n",
    "这说明ＡＲＭＡ（１，１）模型的自相关系数不截尾。"
   ]
  },
  {
   "cell_type": "markdown",
   "metadata": {
    "slideshow": {
     "slide_type": "slide"
    }
   },
   "source": [
    " ## ARMA（ｐ，ｑ）模型\n",
    "一般的ＡＲＭＡ（ｐ，ｑ）模型的形式为\n",
    " $${r_t} = {\\phi _0} + \\sum\\limits_{i = 1}^p {{\\phi _i}{r_{t - i}}}  + {\\varepsilon _t} + \\sum\\limits_{i = 1}^q {{b_i}{\\varepsilon _{t - i}}} ,$$\n",
    " 其中$\\varepsilon_t\\sim WN(0,\\sigma^2)$."
   ]
  },
  {
   "cell_type": "markdown",
   "metadata": {
    "slideshow": {
     "slide_type": "slide"
    }
   },
   "source": [
    "**平稳性条件**\n",
    "\n",
    "称$A\\left( z \\right) = 1 - \\sum\\limits_{i = 1}^p {{\\phi _i}{z^i}} $ 为ＡＲ多项式， $B\\left( z \\right) = 1 + \\sum\\limits_{i = 1}^q {{b_i}{z^i}} $为ＭＡ多项式。为了保证模型为最简约形式，要求$A\\left( z \\right),B\\left( z \\right)$ 没有公因子。如果要求序列平稳，则要求$A\\left( z \\right)$ 的根都在单位圆外。"
   ]
  },
  {
   "cell_type": "markdown",
   "metadata": {
    "slideshow": {
     "slide_type": "slide"
    }
   },
   "source": [
    "**模型的选择，估计和检验**\n",
    "\n",
    "当$k > q$ 时，ＡＲＭＡ（ｐ，ｑ）模型有和自回归模型类似的Ｙｕｌｅ－Ｗａｌｋｅｒ方程。利用这一点也可以用来判断ＡＲＭＡ模型的阶，但通常是利用信息准则来选择恰当阶的ARMA模型。\n",
    "\n",
    "估计和模型检验和前面介绍的AR模型和MA模型类似，使用极大似然估计估计参数，并利用白噪声检验判断模型残差是否为白噪声。"
   ]
  },
  {
   "cell_type": "markdown",
   "metadata": {
    "slideshow": {
     "slide_type": "slide"
    }
   },
   "source": [
    "**模型的预测**\n",
    "\n",
    "   ARMA(p,q)模型的预测和AR模型类似，只是需要对MA部分进行调整。并且这种调整只需要对较低期的预测需要，当预测的期数高于MA的阶$q$时，MA部分的影响就消失了。\n",
    "   \n",
    "   设 $h$为预测原点，$F_h$为在$h$时刻所能得到的信息的集合，向前1步预测为：\n",
    "   \n",
    "   $$\\hat{r}_h(1)=E(r_{h+1|F_h})=\\phi_0+\\sum_{i=1}^p\\phi_i r_{h+1-i}-\\sum_{i=1}^q b_i \\varepsilon_{h+1-i}$$\n",
    "   预测的误差$$e_h(1)=r_{h+1}-\\hat{r}_h(1)=\\varepsilon_{h+1}$$\n",
    "   误差的方差就是白噪声方差$\\sigma^2$"
   ]
  },
  {
   "cell_type": "markdown",
   "metadata": {
    "slideshow": {
     "slide_type": "slide"
    }
   },
   "source": [
    "**$k$步预测**\n",
    "\n",
    "   $$\\hat{r}_h(k)=E(r_{h+k|F_h})=\\phi_0+\\sum_{i=1}^p\\phi_i \\hat{r}_h(k-i)-\\sum_{i=1}^q b_i \\varepsilon_{h}(k-i)$$\n",
    "   其中 $l-i\\leq 0$时，$ \\hat{r}_h(k-i)=x_{h+k-i}, \\varepsilon_h(k-i)=\\varepsilon_{h+k-i}$; 当  $l-i> 0$时，$   \\varepsilon_h(k-i)=0$\n",
    "   \n",
    "   预测的误差$$e_h(1)=r_{h+k}-\\hat{r}_h(k)$$"
   ]
  },
  {
   "cell_type": "markdown",
   "metadata": {},
   "source": [
    "**ARMA 模型的 MA表示**\n",
    "\n",
    "和AR模型一样，我们可以用白噪声的线性序列表示观察数据$r_t$.\n",
    "\n",
    "\n",
    " $${r_t} = {\\phi _0} + \\sum\\limits_{i = 1}^p {{\\phi _i}{r_{t - i}}}  + {\\varepsilon _t} + \\sum\\limits_{i = 1}^q {{b_i}{\\varepsilon _{t - i}}} ,$$\n",
    " \n",
    " 引入滞后算子(为了避免混淆，用$L$)多项式\n",
    "\n",
    "$A\\left(L \\right) = 1 - \\sum\\limits_{i = 1}^p {{\\phi _i}{L^i}} $  ， $B\\left(L \\right) = 1 + \\sum\\limits_{i = 1}^q {{b_i}{L^i}} $\n",
    "\n",
    "将模型表示为：\n",
    "\n",
    "$$A(L)r_t=\\phi_0+B(L)\\varepsilon_t$$\n",
    "\n"
   ]
  },
  {
   "cell_type": "markdown",
   "metadata": {
    "slideshow": {
     "slide_type": "slide"
    }
   },
   "source": [
    "**ARMA 模型的 MA表示**\n",
    "\n",
    "我们将$A^{-1}(L)$展开为多项式级数的形式，如果存在，显然 $A^{-1}(L)A(L)=1$\n",
    "\n",
    "将算子$A^{-1}(L)$同时作用于等式 $A(L)r_t=+B(L)\\varepsilon_t$ 两边，可以得到\n",
    "\n",
    "\n",
    "$$r_t=A^{-1}(L)\\phi_0+A^{-1}(L)B(L)\\varepsilon_t=\\mu+\\varepsilon_t+\\psi_1 \\varepsilon_{t-1}+\\psi_2 \\varepsilon_{t-2}+\\cdots$$\n",
    "\n",
    "这个$\\psi_i$为脉冲响应系数\n",
    "\n"
   ]
  },
  {
   "cell_type": "markdown",
   "metadata": {
    "slideshow": {
     "slide_type": "slide"
    }
   },
   "source": [
    "**用MA表示分析ARMA的预测**\n",
    "\n",
    "\n",
    "$$r_{h+k}=\\mu+\\varepsilon_{h+k}+\\psi_1 \\varepsilon_{h+k-1}+\\psi_2 \\varepsilon_{h+k-2}+\\cdots$$\n",
    "\n",
    "ARMA模型的向前 $k$步预测为：\n",
    "\n",
    " $$ \\hat{r}_h(k)=\\mu+\\psi_k \\varepsilon_h+ \\psi_{k+1} \\varepsilon_{h-1}+\\cdots$$\n",
    "\n",
    "误差为： \n",
    "   $$e_h(k)=r_{h+k}- \\hat{r}_h(k)=\\varepsilon_{h+k}+\\psi_1 \\varepsilon_{h+k-1}+\\cdots+\\psi_{k-1} \\varepsilon_{h+1}$$\n",
    "   \n",
    " 预测误差的方差为：\n",
    " \n",
    " $$(1+\\psi_1^2+\\cdots+\\psi_{k-1}^2)\\sigma^2$$"
   ]
  },
  {
   "cell_type": "markdown",
   "metadata": {
    "slideshow": {
     "slide_type": "slide"
    }
   },
   "source": [
    "我们把沪深股市过一遍，看看日收益率的自相关性(这里仅仅讨论了日收益率)，下面是自相关系数最高的十只。"
   ]
  },
  {
   "cell_type": "code",
   "execution_count": 1,
   "metadata": {
    "slideshow": {
     "slide_type": "slide"
    }
   },
   "outputs": [
    {
     "data": {
      "text/html": [
       "<div>\n",
       "<table border=\"1\" class=\"dataframe\">\n",
       "  <thead>\n",
       "    <tr style=\"text-align: right;\">\n",
       "      <th></th>\n",
       "      <th>0</th>\n",
       "      <th>1</th>\n",
       "      <th>2</th>\n",
       "      <th>3</th>\n",
       "      <th>4</th>\n",
       "      <th>5</th>\n",
       "    </tr>\n",
       "  </thead>\n",
       "  <tbody>\n",
       "    <tr>\n",
       "      <th>600317</th>\n",
       "      <td>0.230590</td>\n",
       "      <td>0.048977</td>\n",
       "      <td>0.001059</td>\n",
       "      <td>0.068277</td>\n",
       "      <td>-0.054996</td>\n",
       "      <td>0.002247</td>\n",
       "    </tr>\n",
       "    <tr>\n",
       "      <th>606</th>\n",
       "      <td>0.182622</td>\n",
       "      <td>0.006486</td>\n",
       "      <td>0.022557</td>\n",
       "      <td>-0.029581</td>\n",
       "      <td>-0.092574</td>\n",
       "      <td>-0.010252</td>\n",
       "    </tr>\n",
       "    <tr>\n",
       "      <th>600301</th>\n",
       "      <td>0.178848</td>\n",
       "      <td>0.025379</td>\n",
       "      <td>0.045260</td>\n",
       "      <td>0.033242</td>\n",
       "      <td>-0.029048</td>\n",
       "      <td>0.001965</td>\n",
       "    </tr>\n",
       "    <tr>\n",
       "      <th>2355</th>\n",
       "      <td>0.170163</td>\n",
       "      <td>0.066944</td>\n",
       "      <td>0.033639</td>\n",
       "      <td>0.024863</td>\n",
       "      <td>0.009346</td>\n",
       "      <td>-0.095205</td>\n",
       "    </tr>\n",
       "    <tr>\n",
       "      <th>59</th>\n",
       "      <td>0.166113</td>\n",
       "      <td>-0.057725</td>\n",
       "      <td>0.024846</td>\n",
       "      <td>0.007080</td>\n",
       "      <td>0.035886</td>\n",
       "      <td>0.020479</td>\n",
       "    </tr>\n",
       "    <tr>\n",
       "      <th>601668</th>\n",
       "      <td>-0.027504</td>\n",
       "      <td>0.055419</td>\n",
       "      <td>-0.056715</td>\n",
       "      <td>0.165671</td>\n",
       "      <td>0.019762</td>\n",
       "      <td>0.013104</td>\n",
       "    </tr>\n",
       "    <tr>\n",
       "      <th>2027</th>\n",
       "      <td>0.160108</td>\n",
       "      <td>0.010033</td>\n",
       "      <td>0.008325</td>\n",
       "      <td>-0.007444</td>\n",
       "      <td>-0.102126</td>\n",
       "      <td>-0.059907</td>\n",
       "    </tr>\n",
       "    <tr>\n",
       "      <th>601939</th>\n",
       "      <td>-0.004485</td>\n",
       "      <td>-0.070203</td>\n",
       "      <td>0.061159</td>\n",
       "      <td>0.160038</td>\n",
       "      <td>-0.147009</td>\n",
       "      <td>0.012374</td>\n",
       "    </tr>\n",
       "    <tr>\n",
       "      <th>806</th>\n",
       "      <td>0.156048</td>\n",
       "      <td>0.004091</td>\n",
       "      <td>-0.017619</td>\n",
       "      <td>0.042569</td>\n",
       "      <td>-0.041648</td>\n",
       "      <td>-0.026724</td>\n",
       "    </tr>\n",
       "    <tr>\n",
       "      <th>829</th>\n",
       "      <td>0.152872</td>\n",
       "      <td>-0.016700</td>\n",
       "      <td>-0.087600</td>\n",
       "      <td>-0.043394</td>\n",
       "      <td>-0.074999</td>\n",
       "      <td>-0.007591</td>\n",
       "    </tr>\n",
       "  </tbody>\n",
       "</table>\n",
       "</div>"
      ],
      "text/plain": [
       "               0         1         2         3         4         5\n",
       "600317  0.230590  0.048977  0.001059  0.068277 -0.054996  0.002247\n",
       "606     0.182622  0.006486  0.022557 -0.029581 -0.092574 -0.010252\n",
       "600301  0.178848  0.025379  0.045260  0.033242 -0.029048  0.001965\n",
       "2355    0.170163  0.066944  0.033639  0.024863  0.009346 -0.095205\n",
       "59      0.166113 -0.057725  0.024846  0.007080  0.035886  0.020479\n",
       "601668 -0.027504  0.055419 -0.056715  0.165671  0.019762  0.013104\n",
       "2027    0.160108  0.010033  0.008325 -0.007444 -0.102126 -0.059907\n",
       "601939 -0.004485 -0.070203  0.061159  0.160038 -0.147009  0.012374\n",
       "806     0.156048  0.004091 -0.017619  0.042569 -0.041648 -0.026724\n",
       "829     0.152872 -0.016700 -0.087600 -0.043394 -0.074999 -0.007591"
      ]
     },
     "execution_count": 1,
     "metadata": {},
     "output_type": "execute_result"
    }
   ],
   "source": [
    "import statsmodels.api as sm\n",
    "import pandas as pd \n",
    "from statsmodels.tsa.stattools import q_stat, acf\n",
    "import numpy as np\n",
    "\n",
    "#下面文件存储了收益率拒绝白噪声检验（2012-2014日对数收益率，alpha=0.01,m=6）的沪深股票的自相关系数\n",
    "autocorr=pd.read_csv(\"stockautocorr700.csv\",index_col=0)\n",
    "#autocorr.sort(columns=\"0\",ascending=False)\n",
    "automax=autocorr.max(axis=1) \n",
    "oindex=automax.sort_values(ascending=False).index\n",
    "#取出相关系数最大的10只\n",
    "autocorr10=autocorr.ix[oindex][:10]\n",
    "#stockidset=[str(item).zfill(6) for item in autocorr10.index]\n",
    "autocorr10"
   ]
  },
  {
   "cell_type": "markdown",
   "metadata": {
    "slideshow": {
     "slide_type": "slide"
    }
   },
   "source": [
    "我们选择一个讨论一下 "
   ]
  },
  {
   "cell_type": "code",
   "execution_count": 2,
   "metadata": {
    "slideshow": {
     "slide_type": "slide"
    }
   },
   "outputs": [],
   "source": [
    "#取1只的数据，并计算日收益率\n",
    "%run getsinadata.py\n",
    "stockidset=[\"002355\"]\n",
    "stockclose=pd.DataFrame([])\n",
    "stocklogret= pd.DataFrame([])\n",
    "n=len(stockidset)\n",
    "for i in range(n):\n",
    "    stockid=stockidset[i]\n",
    "    stock=get_sina_stock(stockid,\"2012-1-1\",\"2014-12-31\")[\"close\"]\n",
    "    ret=stock.pct_change()\n",
    "    logret=(1+ret).map(np.math.log)\n",
    "    logret.name=stock.name=stockid  \n",
    "    stock=pd.DataFrame(stock)\n",
    "    logret=pd.DataFrame(logret)\n",
    "    if i==0:\n",
    "        stockclose=stock\n",
    "        stocklogret= logret  \n",
    "    else:\n",
    "        stockclose= pd.merge(stockclose,stock,left_index=True, right_index=True)\n",
    "        stocklogret= pd.merge(stocklogret,logret,left_index=True, right_index=True)"
   ]
  },
  {
   "cell_type": "code",
   "execution_count": 3,
   "metadata": {
    "slideshow": {
     "slide_type": "slide"
    }
   },
   "outputs": [
    {
     "data": {
      "text/plain": [
       "array([<matplotlib.axes._subplots.AxesSubplot object at 0x000001654DCE9B70>], dtype=object)"
      ]
     },
     "execution_count": 3,
     "metadata": {},
     "output_type": "execute_result"
    },
    {
     "data": {
      "image/png": "[encoded data removed]",
      "text/plain": [
       "<matplotlib.figure.Figure at 0x1654c2c0208>"
      ]
     },
     "metadata": {},
     "output_type": "display_data"
    },
    {
     "data": {
      "image/png": "[encoded data removed]",
      "text/plain": [
       "<matplotlib.figure.Figure at 0x1654c2c0278>"
      ]
     },
     "metadata": {},
     "output_type": "display_data"
    }
   ],
   "source": [
    "\n",
    "%matplotlib inline\n",
    "stockclose.plot(subplots=True)\n",
    "stocklogret.plot(subplots=True)"
   ]
  },
  {
   "cell_type": "code",
   "execution_count": 4,
   "metadata": {
    "slideshow": {
     "slide_type": "slide"
    }
   },
   "outputs": [
    {
     "name": "stdout",
     "output_type": "stream",
     "text": [
      "           002355\n",
      "count  724.000000\n",
      "mean     0.000184\n",
      "std      0.020097\n",
      "min     -0.105968\n",
      "25%     -0.008274\n",
      "50%      0.000888\n",
      "75%      0.010009\n",
      "max      0.095340\n"
     ]
    },
    {
     "data": {
      "text/plain": [
       "array([ 1.        ,  0.17016254,  0.06694381,  0.03363879,  0.02486272,\n",
       "        0.00934576, -0.09520472, -0.03318942, -0.00369742, -0.00701959,\n",
       "       -0.01827032])"
      ]
     },
     "execution_count": 4,
     "metadata": {},
     "output_type": "execute_result"
    }
   ],
   "source": [
    "# 取出数据并去掉第一个NA值\n",
    "logret1=stocklogret[1:]\n",
    "print( logret1.describe())\n",
    "acf(logret1,nlags=10)"
   ]
  },
  {
   "cell_type": "code",
   "execution_count": 5,
   "metadata": {
    "slideshow": {
     "slide_type": "slide"
    }
   },
   "outputs": [
    {
     "name": "stdout",
     "output_type": "stream",
     "text": [
      "(1, 0) (1, 0)\n",
      "             0            1            2\n",
      "0          NaN -3619.882611 -3620.437929\n",
      "1 -3621.917419 -3621.257633 -3619.277574\n",
      "2 -3621.036423 -3619.274595 -3617.884233\n",
      "3 -3619.276994 -3617.331439 -3618.253538\n",
      "4 -3617.459367 -3615.459416 -3617.563634\n",
      "             0            1            2\n",
      "0          NaN -3610.713028 -3606.683555\n",
      "1 -3612.747836 -3607.503259 -3600.938408\n",
      "2 -3607.282049 -3600.935429 -3594.960276\n",
      "3 -3600.937829 -3594.407482 -3590.744790\n",
      "4 -3594.535410 -3587.950668 -3585.470094\n"
     ]
    }
   ],
   "source": [
    "mean1=logret1.mean()\n",
    "logret1=logret1-mean1\n",
    "res = sm.tsa.arma_order_select_ic(logret1, ic=['aic', 'bic'], trend='nc',max_ar=4, max_ma=2)\n",
    "print( res.aic_min_order,res.bic_min_order)\n",
    "print( res.aic)\n",
    "print( res.bic)"
   ]
  },
  {
   "cell_type": "code",
   "execution_count": 6,
   "metadata": {
    "scrolled": false,
    "slideshow": {
     "slide_type": "slide"
    }
   },
   "outputs": [
    {
     "data": {
      "text/html": [
       "<table class=\"simpletable\">\n",
       "<tr>\n",
       "        <td>Model:</td>              <td>ARMA</td>               <td>BIC:</td>         <td>-3612.7478</td>\n",
       "</tr>\n",
       "<tr>\n",
       "  <td>Dependent Variable:</td>      <td>002355</td>         <td>Log-Likelihood:</td>     <td>1813.0</td>  \n",
       "</tr>\n",
       "<tr>\n",
       "         <td>Date:</td>        <td>2016-12-13 08:13</td>        <td>Scale:</td>          <td>1.0000</td>  \n",
       "</tr>\n",
       "<tr>\n",
       "   <td>No. Observations:</td>         <td>724</td>              <td>Method:</td>         <td>css-mle</td> \n",
       "</tr>\n",
       "<tr>\n",
       "       <td>Df Model:</td>              <td>1</td>               <td>Sample:</td>       <td>01-05-2012</td>\n",
       "</tr>\n",
       "<tr>\n",
       "     <td>Df Residuals:</td>           <td>723</td>                 <td></td>           <td>12-31-2014</td>\n",
       "</tr>\n",
       "<tr>\n",
       "      <td>Converged:</td>           <td>1.0000</td>      <td>S.D. of innovations:</td>    <td>0.020</td>  \n",
       "</tr>\n",
       "<tr>\n",
       "         <td>AIC:</td>            <td>-3621.9174</td>            <td>HQIC:</td>         <td>-3618.378</td>\n",
       "</tr>\n",
       "</table>\n",
       "<table class=\"simpletable\">\n",
       "<tr>\n",
       "        <td></td>        <th>Coef.</th> <th>Std.Err.</th>    <th>t</th>    <th>P>|t|</th> <th>[0.025</th> <th>0.975]</th>\n",
       "</tr>\n",
       "<tr>\n",
       "  <th>ar.L1.002355</th> <td>0.1755</td>  <td>0.0372</td>  <td>4.7216</td> <td>0.0000</td> <td>0.1027</td> <td>0.2484</td>\n",
       "</tr>\n",
       "</table>\n",
       "<table class=\"simpletable\">\n",
       "<tr>\n",
       "    <td></td>    <th>Real</th>  <th>Imaginary</th> <th>Modulus</th> <th>Frequency</th>\n",
       "</tr>\n",
       "<tr>\n",
       "  <th>AR.1</th> <td>5.6971</td>  <td>0.0000</td>   <td>5.6971</td>   <td>0.0000</td>  \n",
       "</tr>\n",
       "</table>"
      ],
      "text/plain": [
       "<class 'statsmodels.iolib.summary2.Summary'>\n",
       "\"\"\"\n",
       "                           Results: ARMA\n",
       "====================================================================\n",
       "Model:              ARMA             BIC:                 -3612.7478\n",
       "Dependent Variable: 002355           Log-Likelihood:      1813.0    \n",
       "Date:               2016-12-13 08:13 Scale:               1.0000    \n",
       "No. Observations:   724              Method:              css-mle   \n",
       "Df Model:           1                Sample:              01-05-2012\n",
       "Df Residuals:       723                                   12-31-2014\n",
       "Converged:          1.0000           S.D. of innovations: 0.020     \n",
       "AIC:                -3621.9174       HQIC:                -3618.378 \n",
       "----------------------------------------------------------------------\n",
       "                 Coef.    Std.Err.     t      P>|t|    [0.025   0.975]\n",
       "----------------------------------------------------------------------\n",
       "ar.L1.002355     0.1755     0.0372   4.7216   0.0000   0.1027   0.2484\n",
       "-----------------------------------------------------------------------------\n",
       "                 Real           Imaginary          Modulus          Frequency\n",
       "-----------------------------------------------------------------------------\n",
       "AR.1            5.6971             0.0000           5.6971             0.0000\n",
       "====================================================================\n",
       "\n",
       "\"\"\""
      ]
     },
     "execution_count": 6,
     "metadata": {},
     "output_type": "execute_result"
    }
   ],
   "source": [
    "\n",
    "arma_mod1 = sm.tsa.ARMA(logret1, order=(1,0))\n",
    "arma_res = arma_mod1.fit(trend='nc')\n",
    "arma_res.summary2()"
   ]
  },
  {
   "cell_type": "code",
   "execution_count": 7,
   "metadata": {
    "slideshow": {
     "slide_type": "slide"
    }
   },
   "outputs": [
    {
     "data": {
      "text/plain": [
       "002355    0.014584\n",
       "dtype: float64"
      ]
     },
     "execution_count": 7,
     "metadata": {},
     "output_type": "execute_result"
    }
   ],
   "source": [
    "## R^2\n",
    "1-arma_res.resid.std()/logret1.std()\n"
   ]
  },
  {
   "cell_type": "code",
   "execution_count": 8,
   "metadata": {},
   "outputs": [
    {
     "data": {
      "text/plain": [
       "0.02895530694400006"
      ]
     },
     "execution_count": 8,
     "metadata": {},
     "output_type": "execute_result"
    }
   ],
   "source": [
    "1-(1-0.014584)**2"
   ]
  },
  {
   "cell_type": "code",
   "execution_count": 9,
   "metadata": {
    "slideshow": {
     "slide_type": "slide"
    }
   },
   "outputs": [
    {
     "data": {
      "text/plain": [
       "array([ 1.        , -0.01205778,  0.0342761 ,  0.0189221 ,  0.01856113,\n",
       "        0.02259811, -0.09648737, -0.0174427 ,  0.00226006, -0.0034912 ,\n",
       "       -0.01472577])"
      ]
     },
     "execution_count": 9,
     "metadata": {},
     "output_type": "execute_result"
    }
   ],
   "source": [
    "acf(arma_res.resid,nlags=10)"
   ]
  },
  {
   "cell_type": "markdown",
   "metadata": {
    "slideshow": {
     "slide_type": "slide"
    }
   },
   "source": [
    "+ 其实我们从收益率方差和白噪声方差就可以看出，即使对沪深股票收益率自相关相对较大的情形，线性时间序列的预测能力也很低。至少从R平方这个角度看，对2012.1.1-2014.12.30这段时间的日收益率，线性时间序列的预测能力是比较低的。\n",
    "+ 并且 有较高阶的自相关系数还较大(相对 1.96/np.sqrt(724)=0.073，从绝对量来说还是比较小)，通常情况下我们不会强行对这种高阶(弱)相关性进行拟合，除非其有明确的意义。"
   ]
  },
  {
   "cell_type": "markdown",
   "metadata": {
    "slideshow": {
     "slide_type": "slide"
    }
   },
   "source": [
    "下面画出其样本预测值"
   ]
  },
  {
   "cell_type": "code",
   "execution_count": 10,
   "metadata": {
    "slideshow": {
     "slide_type": "slide"
    }
   },
   "outputs": [
    {
     "ename": "SyntaxError",
     "evalue": "invalid character in identifier (<ipython-input-10-4036c191627d>, line 3)",
     "output_type": "error",
     "traceback": [
      "\u001b[1;36m  File \u001b[1;32m\"<ipython-input-10-4036c191627d>\"\u001b[1;36m, line \u001b[1;32m3\u001b[0m\n\u001b[1;33m    print( logret1.tail(10)）\u001b[0m\n\u001b[1;37m                           ^\u001b[0m\n\u001b[1;31mSyntaxError\u001b[0m\u001b[1;31m:\u001b[0m invalid character in identifier\n"
     ]
    }
   ],
   "source": [
    "import matplotlib.pylab as plt\n",
    "%matplotlib inline\n",
    "print( logret1.tail(10)）\n",
    "pred,predstd,_=arma_res.forecast(5)\n",
    "pred+=mean1.values\n",
    "low=pred-2*predstd\n",
    "upp=pred+2*predstd"
   ]
  },
  {
   "cell_type": "code",
   "execution_count": null,
   "metadata": {
    "slideshow": {
     "slide_type": "slide"
    }
   },
   "outputs": [],
   "source": [
    "import pandas as pd\n",
    "\n",
    "fig, ax = plt.subplots(figsize=(10,8))\n",
    "\n",
    "xt=pd.date_range(start=\"2015-1-2\", end=None, periods=5, freq='B')\n",
    "da=logret.tail(10)\n",
    "xdate=da.index.union(xt)\n",
    "data=np.append(da.values,pred )\n",
    "alld=pd.Series(data,index=xdate)\n",
    "alld.plot(ax=ax)\n",
    "#preda.plot()\n",
    "ax.plot(xt,pred,\"g-\",xt,upp,\"g-\",xt,low,\"g-\")\n",
    "arma_res.predict().tail(10).plot(ax=ax)"
   ]
  }
 ],
 "metadata": {
  "anaconda-cloud": {},
  "celltoolbar": "Slideshow",
  "kernelspec": {
   "display_name": "Python 2",
   "language": "python",
   "name": "python2"
  },
  "language_info": {
   "codemirror_mode": {
    "name": "ipython",
    "version": 2
   },
   "file_extension": ".py",
   "mimetype": "text/x-python",
   "name": "python",
   "nbconvert_exporter": "python",
   "pygments_lexer": "ipython2",
   "version": "2.7.13"
  }
 },
 "nbformat": 4,
 "nbformat_minor": 1
}
