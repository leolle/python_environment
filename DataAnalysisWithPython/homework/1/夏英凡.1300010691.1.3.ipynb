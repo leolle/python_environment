{
 "cells": [
  {
   "cell_type": "code",
   "execution_count": 2,
   "metadata": {
    "collapsed": true
   },
   "outputs": [],
   "source": [
    "%matplotlib inline \n",
    "from __future__ import division\n",
    "\n",
    "from numpy.random import randn\n",
    "import numpy as np\n",
    "\n",
    "np.set_printoptions(precision=4, suppress=True)"
   ]
  },
  {
   "cell_type": "code",
   "execution_count": 31,
   "metadata": {
    "collapsed": false
   },
   "outputs": [
    {
     "data": {
      "text/plain": [
       "array([[ 1.,  2.,  3.],\n",
       "       [ 4.,  5.,  6.],\n",
       "       [ 2.,  3.,  4.],\n",
       "       [ 3.,  4.,  5.]])"
      ]
     },
     "execution_count": 31,
     "metadata": {},
     "output_type": "execute_result"
    }
   ],
   "source": [
    "def uniquerows(array):\n",
    "    x = np.zeros((len(array),len(array[0])))\n",
    "    x[0] = array[0]\n",
    "    n = 1\n",
    "    for i in range(1,len(array)):\n",
    "        for j in range(0,n):\n",
    "            for k in range(0,len(array[0])):\n",
    "                if x[j][k]==array[i][k]:\n",
    "                    k=k+1\n",
    "                else:\n",
    "                    break\n",
    "            if k==len(array[0]):\n",
    "                break\n",
    "            else:\n",
    "                j=j+1\n",
    "        if j==n:\n",
    "            x[n]=array[i]\n",
    "            n=n+1\n",
    "            i=i+1\n",
    "        else:\n",
    "            i=i+1\n",
    "    return x[:n]\n",
    "arr=np.array([[1.,2.,3.],[4.,5.,6.],[2.,3.,4.],[3.,4.,5.],[1.,2.,3.],[4.,5.,6.],[3.,4.,5.]])\n",
    "uniquerows(arr)"
   ]
  },
  {
   "cell_type": "code",
   "execution_count": 38,
   "metadata": {
    "collapsed": false
   },
   "outputs": [
    {
     "data": {
      "text/plain": [
       "array([[-0.1158,  0.1524],\n",
       "       [-0.3973,  0.311 ],\n",
       "       [ 0.3142,  0.5155],\n",
       "       ..., \n",
       "       [-0.6928, -1.8644],\n",
       "       [-1.4878,  0.6847],\n",
       "       [-0.2655, -0.3588]])"
      ]
     },
     "execution_count": 38,
     "metadata": {},
     "output_type": "execute_result"
    }
   ],
   "source": [
    "arr=np.random.normal(size=(1000,2))\n",
    "uniquerows(arr)"
   ]
  }
 ],
 "metadata": {
  "kernelspec": {
   "display_name": "Python 2",
   "language": "python",
   "name": "python2"
  },
  "language_info": {
   "codemirror_mode": {
    "name": "ipython",
    "version": 2
   },
   "file_extension": ".py",
   "mimetype": "text/x-python",
   "name": "python",
   "nbconvert_exporter": "python",
   "pygments_lexer": "ipython2",
   "version": "2.7.10"
  }
 },
 "nbformat": 4,
 "nbformat_minor": 0
}
