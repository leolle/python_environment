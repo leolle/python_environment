{
 "cells": [
  {
   "cell_type": "code",
   "execution_count": 10,
   "metadata": {
    "collapsed": true
   },
   "outputs": [],
   "source": [
    "%matplotlib inline \n",
    "from __future__ import division\n",
    "\n",
    "from numpy.random import randn\n",
    "import numpy as np\n",
    "from math import sqrt\n",
    "np.set_printoptions(precision=4, suppress=True)"
   ]
  },
  {
   "cell_type": "code",
   "execution_count": 14,
   "metadata": {
    "collapsed": false
   },
   "outputs": [],
   "source": [
    "def dis(point):\n",
    "    distance = np.zeros((len(point),len(point)))\n",
    "    for i in range(0,len(point)):\n",
    "        for j in range(0,len(point)):\n",
    "            distance[i][j] = sqrt((point[i][0]-point[j][0])**2+(point[i][1]-point[j][1])**2)\n",
    "            j = j+1\n",
    "        i = i+1\n",
    "    print(distance)"
   ]
  },
  {
   "cell_type": "code",
   "execution_count": 17,
   "metadata": {
    "collapsed": false
   },
   "outputs": [
    {
     "name": "stdout",
     "output_type": "stream",
     "text": [
      "[[ 0.      1.9857  0.9158  1.4698  2.1732  0.5117]\n",
      " [ 1.9857  0.      1.2835  3.4545  0.3354  1.4825]\n",
      " [ 0.9158  1.2835  0.      2.291   1.3756  0.4779]\n",
      " [ 1.4698  3.4545  2.291   0.      3.6283  1.9734]\n",
      " [ 2.1732  0.3354  1.3756  3.6283  0.      1.6617]\n",
      " [ 0.5117  1.4825  0.4779  1.9734  1.6617  0.    ]]\n"
     ]
    }
   ],
   "source": [
    "point = randn(6,2)\n",
    "dis(point) #distance[i][j]表示point[i]与point[j]之间的距离"
   ]
  }
 ],
 "metadata": {
  "kernelspec": {
   "display_name": "Python [Root]",
   "language": "python",
   "name": "Python [Root]"
  },
  "language_info": {
   "codemirror_mode": {
    "name": "ipython",
    "version": 2
   },
   "file_extension": ".py",
   "mimetype": "text/x-python",
   "name": "python",
   "nbconvert_exporter": "python",
   "pygments_lexer": "ipython2",
   "version": "2.7.12"
  }
 },
 "nbformat": 4,
 "nbformat_minor": 0
}
