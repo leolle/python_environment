{
 "cells": [
  {
   "cell_type": "code",
   "execution_count": 268,
   "metadata": {
    "collapsed": false
   },
   "outputs": [
    {
     "name": "stdout",
     "output_type": "stream",
     "text": [
      "0.00930280576699\n",
      "0.0368999546674\n",
      "0.212193383911\n",
      "0.574167791049\n",
      "1.01483387988\n"
     ]
    },
    {
     "data": {
      "image/png": "[encoded data removed]",
      "text/plain": [
       "<matplotlib.figure.Figure at 0x1f58f860>"
      ]
     },
     "metadata": {},
     "output_type": "display_data"
    }
   ],
   "source": [
    "#####set up the environment\n",
    "import pandas as pd\n",
    "import numpy as np\n",
    "import matplotlib.pylab as plt\n",
    "import scipy.stats as stats\n",
    "from scipy.stats import chi2\n",
    "from lxml.html import parse\n",
    "from urllib2 import urlopen\n",
    "from os.path import getsize\n",
    "from math import log\n",
    "from pandas import Series, DataFrame\n",
    "import urllib \n",
    "import statsmodels.api as sm\n",
    "from statsmodels.tsa.stattools import q_stat, acf, pacf\n",
    "from statsmodels.tsa.stattools import adfuller\n",
    "import statsmodels.api as sm\n",
    "from datetime import datetime\n",
    "%matplotlib inline"
   ]
  },
  {
   "cell_type": "code",
   "execution_count": null,
   "metadata": {
    "collapsed": true
   },
   "outputs": [],
   "source": [
    "def autocoef(data,k):\n",
    "    meanw=np.mean(data)\n",
    "    n=len(data)    \n",
    "    return np.nansum((data[:(n-k)]-meanw)*(data[k:]-meanw))/np.nansum((data-meanw)**2)\n",
    "def qtest(data,m,plot):\n",
    "    q=np.zeros(m)\n",
    "    l=[(autocoef(data,i+1))**2 for i in range(m)]\n",
    "    for j in range(m):\n",
    "        q[j]=sum(l[:j+1])*len(data)\n",
    "        print(q[j])\n",
    "    if plot==1:\n",
    "        plt.figure(figsize=(6,5))\n",
    "        plt.plot(range(1,m+1),q[:],\"b*\",[1,m],stats.chi2.ppf(0.95,[1,m]),\"r--\")\n",
    "n=1000\n",
    "data=np.random.normal(size=n)\n",
    "qtest(data,5,1)"
   ]
  },
  {
   "cell_type": "markdown",
   "metadata": {},
   "source": [
    " + (a)\n",
    "推导过程 \n",
    "$${r_t} = {\\phi _0} + {\\phi _1}{r_{t - 1}} + {\\phi _2}{r_{t - 2}} + {a_t}$$\n",
    "对上式两边求期望得： \n",
    "$$E\\left( {{r_t}} \\right) = \\frac{{{\\phi _0}}}{{1 - {\\phi _1} - {\\phi _2}}}$$\n",
    "下不妨设$\\phi _0$为0，即考虑零均值的二阶自回归模型 $${r_t} ={\\phi _1}{r_{t - 1}} + {\\phi _2}{r_{t - 2}} + {a_t}$$\n",
    "显然$${\\rho _0} = 1$$\n",
    "在${r_t} ={\\phi _1}{r_{t - 1}} + {\\phi _2}{r_{t - 2}} + {a_t}$两边同时乘上${r_{t - 1}}$得：\n",
    "$${r_t}{r_{t - 1}} ={\\phi _1}{r_{t - 1}}{r_{t - 1}} + {\\phi _2}{r_{t - 2}}{r_{t - 1}} + {a_t}{r_{t - 1}}$$\n",
    "对上式两边同时求期望得${\\rho _1}={\\phi _1}+{\\phi _2}{\\rho _1}$\n",
    "即：$${\\rho _1} = \\frac{{{\\phi _1}}}{{1 - {\\phi _2}}}$$\n",
    "再对原式两边同时乘上${r_{t - l}}$得：\n",
    "$${r_t}{r_{t - l}} ={\\phi _1}{r_{t - 1}}{r_{t - l}} + {\\phi _2}{r_{t - 2}}{r_{t - l}} + {a_t}{r_{t - l}}$$\n",
    "对上式两边同时求期望得$${\\rho _l} = {\\phi _1}{\\rho _{l - 1}} + {\\phi _2}{\\rho _{l - 2}},\\;\\;\\;{\\kern 1pt} l \\ge 1$$\n",
    "\n",
    "故证毕"
   ]
  },
  {
   "cell_type": "markdown",
   "metadata": {},
   "source": [
    "+ (b）\n",
    "判断AR(2)是否是平稳函数"
   ]
  },
  {
   "cell_type": "code",
   "execution_count": 269,
   "metadata": {
    "collapsed": false
   },
   "outputs": [],
   "source": [
    "def pingwen(phi1,phi2):\n",
    "    if (phi1**2+4*phi2)>0:\n",
    "        a=np.abs((-phi1+np.sqrt(phi1**2+4*phi2))/(2*phi2))\n",
    "        b=np.abs((-phi1-np.sqrt(phi1**2+4*phi2))/(2*phi2))\n",
    "        if a>1 and b>1:\n",
    "            print('满足平稳条件')\n",
    "        else:\n",
    "            print('不满足平稳条件')\n",
    "    else:\n",
    "        if -1/phi2>1:\n",
    "             print('满足平稳条件')\n",
    "        else:\n",
    "            print('不满足平稳条件')"
   ]
  },
  {
   "cell_type": "code",
   "execution_count": 270,
   "metadata": {
    "collapsed": false
   },
   "outputs": [
    {
     "name": "stdout",
     "output_type": "stream",
     "text": [
      "满足平稳条件\n"
     ]
    }
   ],
   "source": [
    "pingwen(0.7,-0.3)"
   ]
  },
  {
   "cell_type": "markdown",
   "metadata": {},
   "source": [
    "计算自相关系数"
   ]
  },
  {
   "cell_type": "code",
   "execution_count": 271,
   "metadata": {
    "collapsed": true
   },
   "outputs": [],
   "source": [
    "def xiangguan(phi1,phi2,p):\n",
    "    y=1;z=phi1/(1-phi2)\n",
    "    x=[y,z]\n",
    "    for i in range(2,p+1):\n",
    "        t=phi1*z+phi2*y\n",
    "        x.append(t)\n",
    "        y=z;z=t\n",
    "    return x"
   ]
  },
  {
   "cell_type": "code",
   "execution_count": 272,
   "metadata": {
    "collapsed": false
   },
   "outputs": [
    {
     "data": {
      "text/plain": [
       "[1,\n",
       " 0.5384615384615384,\n",
       " 0.07692307692307687,\n",
       " -0.10769230769230771,\n",
       " -0.09846153846153846,\n",
       " -0.036615384615384605,\n",
       " 0.003907692307692317,\n",
       " 0.013720000000000003,\n",
       " 0.008431692307692307,\n",
       " 0.0017861846153846136,\n",
       " -0.0012791784615384626,\n",
       " -0.0014312803076923079,\n",
       " -0.0006181426769230767,\n",
       " -3.3157815384613257e-06,\n",
       " 0.00018312175600000008,\n",
       " 0.00012917996366153844,\n",
       " 3.548944776307688e-05,\n",
       " -1.3911375664307719e-05,\n",
       " -2.0384797293938465e-05,\n",
       " -1.0095945406464609e-05,\n",
       " -9.51722596343687e-07]"
      ]
     },
     "execution_count": 272,
     "metadata": {},
     "output_type": "execute_result"
    }
   ],
   "source": [
    "xiangguan(0.7,-0.3,20)"
   ]
  },
  {
   "cell_type": "code",
   "execution_count": 273,
   "metadata": {
    "collapsed": false
   },
   "outputs": [],
   "source": [
    "#借用部分小组作业时的代码\n",
    "from lxml.html import parse\n",
    "from urllib2 import urlopen\n",
    "from os.path import getsize\n",
    "import pandas as pd\n",
    "import urllib \n",
    "from __future__ import division\n",
    "import os\n",
    "import sys\n",
    "import matplotlib  \n",
    "from matplotlib.pyplot import plot,savefig \n",
    "\n",
    "import numpy as np\n",
    "from numpy.random import randn\n",
    "from pandas import Series, DataFrame\n",
    "import pandas as pd\n",
    "import matplotlib.pyplot as plt\n",
    "\n",
    "\n",
    "def get_sina_stock(stockid,start=\"1990-12-19\",end=pd.datetime.now(),isstock=True,fuquan=True):    \n",
    "    def _unpack(row, kind='td'):\n",
    "        elts = row.findall('.//%s' % kind)\n",
    "        return [val.text_content().strip() for val in elts] \n",
    "    def parse_options_data(table,isstock,fuquan):\n",
    "        rows = table.findall('.//tr')\n",
    "        data = [_unpack(r) for r in rows[2:]]\n",
    "        if isstock & fuquan:\n",
    "            colnames = ['date','open','high','close','low','vol','amount','ratio'] \n",
    "        else:\n",
    "            colnames = ['date','open','high','close','low','vol','amount']\n",
    "        data= pd.DataFrame(data,columns=colnames)\n",
    "        data.index=pd.to_datetime(data[\"date\"])\n",
    "        data=data.drop(\"date\",axis=1)\n",
    "        data=data.ix[range(len(data)-1,-1,-1)]\n",
    "        return  data\n",
    "    data=pd.DataFrame()\n",
    "    daterange=pd.date_range(start,end,freq=\"Q\")\n",
    "    daterange=daterange.insert(len(daterange),daterange[-1]+1)\n",
    "    for cq in daterange: \n",
    "        if isstock:\n",
    "            if fuquan:\n",
    "                url='http://vip.stock.finance.sina.com.cn/corp/go.php/vMS_FuQuanMarketHistory/stockid/'+str(stockid)+'.phtml?year='+str(cq.year)+'&jidu='+str(cq.month/3)\n",
    "            else:\n",
    "                url='http://vip.stock.finance.sina.com.cn/corp/go.php/vMS_MarketHistory/stockid/'+str(stockid)+'.phtml?year='+str(cq.year)+'&jidu='+str(cq.month/3)            \n",
    "        else:            \n",
    "            url='http://vip.stock.finance.sina.com.cn/corp/go.php/vMS_MarketHistory/stockid/'+str(stockid)+'/type/S.phtml?year='+str(cq.year)+'&jidu='+str(cq.month/3)\n",
    "        try:\n",
    "            parsed = parse(urlopen(url))\n",
    "        except:\n",
    "            print \"download failed for year=\" +str(cq.year)+',  jidu='+str(cq.month/3)\n",
    "            continue\n",
    "        doc = parsed.getroot()\n",
    "        tables=doc.findall('.//table')     \n",
    "        da= tables[-1] # last table 19 for fuquan data and 4 for index\n",
    "        datatem = parse_options_data(da,isstock,fuquan)\n",
    "        data=pd.concat([data,datatem])\n",
    "    return pd.DataFrame(data[start:end],dtype=float)"
   ]
  },
  {
   "cell_type": "code",
   "execution_count": 274,
   "metadata": {
    "collapsed": false
   },
   "outputs": [
    {
     "name": "stdout",
     "output_type": "stream",
     "text": [
      "0.427123156762\n",
      "19.962223873\n",
      "20.018595011\n",
      "33.6341124294\n",
      "34.214602087\n"
     ]
    },
    {
     "data": {
      "image/png": "[encoded data removed]",
      "text/plain": [
       "<matplotlib.figure.Figure at 0x208c0748>"
      ]
     },
     "metadata": {},
     "output_type": "display_data"
    }
   ],
   "source": [
    "data=get_sina_stock(600426,\"2013-1-1\",\"2015-12-1\")\n",
    "SimpleReturnDaily1=data[\"close\"].pct_change()\n",
    "SimpleReturnDaily1=SimpleReturnDaily1.dropna()\n",
    "SimpleReturnDaily1=list(SimpleReturnDaily1)\n",
    "qtest(SimpleReturnDaily1,5,1)"
   ]
  },
  {
   "cell_type": "markdown",
   "metadata": {},
   "source": [
    "由图可见不满足平稳条件，下面用AR模型来拟合"
   ]
  },
  {
   "cell_type": "code",
   "execution_count": 275,
   "metadata": {
    "collapsed": false
   },
   "outputs": [
    {
     "name": "stdout",
     "output_type": "stream",
     "text": [
      "0.0742402938697\n",
      "[ 0.29857645  0.29030227  0.76853399  0.72617834  1.68250476  1.14581211\n",
      "  1.01824447  0.82767706 -0.72099085]\n",
      "[ 0.79672168 -0.28155434  0.06501101 -0.06548336  0.52003269  0.64408275\n",
      "  0.48725085  0.62710212 -0.92728256  0.69091755]\n",
      "[ 0.89328299 -0.41114956  0.1526536   0.00261388  0.61004845  0.71676152\n",
      "  0.47809902  0.63618794 -0.96663205  0.80226584 -0.13975808]\n"
     ]
    }
   ],
   "source": [
    "from scipy.linalg import toeplitz\n",
    "#95%的阀值为：\n",
    "print(1.96/np.sqrt(len(SimpleReturnDaily1)))\n",
    "\n",
    "def mypacf(ac,k):    \n",
    "    r=ac[:k]\n",
    "    R = toeplitz(r[:-1])\n",
    "    rho = np.linalg.solve(R, r[1:])\n",
    "    return(rho)\n",
    "\n",
    "print(mypacf(SimpleReturnDaily1,10))\n",
    "print(mypacf(SimpleReturnDaily1,11))\n",
    "print(mypacf(SimpleReturnDaily1,12))"
   ]
  },
  {
   "cell_type": "markdown",
   "metadata": {},
   "source": [
    "阶数应该为11"
   ]
  },
  {
   "cell_type": "code",
   "execution_count": 276,
   "metadata": {
    "collapsed": false
   },
   "outputs": [
    {
     "name": "stdout",
     "output_type": "stream",
     "text": [
      "                            OLS Regression Results                            \n",
      "==============================================================================\n",
      "Dep. Variable:                      y   R-squared:                       0.080\n",
      "Model:                            OLS   Adj. R-squared:                  0.065\n",
      "Method:                 Least Squares   F-statistic:                     5.437\n",
      "Date:                Fri, 11 Dec 2015   Prob (F-statistic):           2.46e-08\n",
      "Time:                        20:14:46   Log-Likelihood:                 1508.5\n",
      "No. Observations:                 697   AIC:                            -2995.\n",
      "Df Residuals:                     686   BIC:                            -2945.\n",
      "Df Model:                          11                                         \n",
      "Covariance Type:            nonrobust                                         \n",
      "==============================================================================\n",
      "                 coef    std err          t      P>|t|      [95.0% Conf. Int.]\n",
      "------------------------------------------------------------------------------\n",
      "x1             0.0268      0.038      0.702      0.483        -0.048     0.102\n",
      "x2            -0.1177      0.038     -3.119      0.002        -0.192    -0.044\n",
      "x3            -0.0010      0.038     -0.026      0.979        -0.076     0.074\n",
      "x4             0.0887      0.038      2.332      0.020         0.014     0.163\n",
      "x5            -0.0399      0.038     -1.045      0.296        -0.115     0.035\n",
      "x6            -0.0672      0.038     -1.763      0.078        -0.142     0.008\n",
      "x7             0.0200      0.038      0.525      0.600        -0.055     0.095\n",
      "x8             0.0521      0.038      1.369      0.172        -0.023     0.127\n",
      "x9             0.0112      0.038      0.295      0.768        -0.064     0.086\n",
      "x10           -0.1520      0.038     -4.016      0.000        -0.226    -0.078\n",
      "x11           -0.0456      0.038     -1.190      0.234        -0.121     0.030\n",
      "==============================================================================\n",
      "Omnibus:                       45.031   Durbin-Watson:                   1.997\n",
      "Prob(Omnibus):                  0.000   Jarque-Bera (JB):              127.581\n",
      "Skew:                          -0.279   Prob(JB):                     1.98e-28\n",
      "Kurtosis:                       5.020   Cond. No.                         1.53\n",
      "==============================================================================\n",
      "\n",
      "Warnings:\n",
      "[1] Standard Errors assume that the covariance matrix of the errors is correctly specified.\n"
     ]
    }
   ],
   "source": [
    "# 最小二乘估计\n",
    "import statsmodels.formula.api as sm\n",
    "# 自回归的数据矩阵　lagmat\n",
    "from statsmodels.tsa.tsatools import  lagmat\n",
    "A=lagmat(SimpleReturnDaily1,11)\n",
    "results = sm.OLS(SimpleReturnDaily1, A).fit()\n",
    "print(results.summary())"
   ]
  },
  {
   "cell_type": "markdown",
   "metadata": {},
   "source": [
    "上表中coef即为拟合的系数"
   ]
  },
  {
   "cell_type": "code",
   "execution_count": 1,
   "metadata": {
    "collapsed": false
   },
   "outputs": [
    {
     "ename": "NameError",
     "evalue": "name 'pd' is not defined",
     "output_type": "error",
     "traceback": [
      "\u001b[0;31m---------------------------------------------------------------------------\u001b[0m",
      "\u001b[0;31mNameError\u001b[0m                                 Traceback (most recent call last)",
      "\u001b[0;32m<ipython-input-1-c94184e83078>\u001b[0m in \u001b[0;36m<module>\u001b[0;34m()\u001b[0m\n\u001b[0;32m----> 1\u001b[0;31m \u001b[0mA1\u001b[0m \u001b[0;34m=\u001b[0m \u001b[0mpd\u001b[0m\u001b[0;34m.\u001b[0m\u001b[0mread_table\u001b[0m\u001b[0;34m(\u001b[0m\u001b[0;34m\"/data/gdp.csv\"\u001b[0m\u001b[0;34m,\u001b[0m\u001b[0msep\u001b[0m\u001b[0;34m=\u001b[0m\u001b[0;34m\",\"\u001b[0m\u001b[0;34m)\u001b[0m\u001b[0;34m\u001b[0m\u001b[0m\n\u001b[0m\u001b[1;32m      2\u001b[0m \u001b[0mSimpleReturnDaily\u001b[0m\u001b[0;34m=\u001b[0m\u001b[0mA1\u001b[0m\u001b[0;34m[\u001b[0m\u001b[0;34m\"gdp\"\u001b[0m\u001b[0;34m]\u001b[0m\u001b[0;34m.\u001b[0m\u001b[0mpct_change\u001b[0m\u001b[0;34m(\u001b[0m\u001b[0;34m)\u001b[0m\u001b[0;34m\u001b[0m\u001b[0m\n\u001b[1;32m      3\u001b[0m \u001b[0mSimpleReturnDaily\u001b[0m\u001b[0;34m=\u001b[0m\u001b[0mSimpleReturnDaily\u001b[0m\u001b[0;34m.\u001b[0m\u001b[0mdropna\u001b[0m\u001b[0;34m(\u001b[0m\u001b[0;34m)\u001b[0m\u001b[0;34m\u001b[0m\u001b[0m\n\u001b[1;32m      4\u001b[0m \u001b[0mSimpleReturnDaily\u001b[0m\u001b[0;34m=\u001b[0m\u001b[0mlist\u001b[0m\u001b[0;34m(\u001b[0m\u001b[0mSimpleReturnDaily\u001b[0m\u001b[0;34m)\u001b[0m\u001b[0;34m\u001b[0m\u001b[0m\n\u001b[1;32m      5\u001b[0m \u001b[0mqtest\u001b[0m\u001b[0;34m(\u001b[0m\u001b[0mSimpleReturnDaily\u001b[0m\u001b[0;34m,\u001b[0m\u001b[0;36m5\u001b[0m\u001b[0;34m,\u001b[0m\u001b[0;36m1\u001b[0m\u001b[0;34m)\u001b[0m\u001b[0;34m\u001b[0m\u001b[0m\n",
      "\u001b[0;31mNameError\u001b[0m: name 'pd' is not defined"
     ]
    }
   ],
   "source": [
    "A1 = pd.read_table(\"gdp.csv\",sep=\",\")\n",
    "SimpleReturnDaily=A1[\"gdp\"].pct_change()\n",
    "SimpleReturnDaily=SimpleReturnDaily.dropna()\n",
    "SimpleReturnDaily=list(SimpleReturnDaily)\n",
    "qtest(SimpleReturnDaily,5,1)"
   ]
  },
  {
   "cell_type": "markdown",
   "metadata": {},
   "source": [
    "由上图可知不是白噪声，下面用AR模型拟合"
   ]
  },
  {
   "cell_type": "code",
   "execution_count": 278,
   "metadata": {
    "collapsed": false
   },
   "outputs": [
    {
     "data": {
      "text/plain": [
       "array([ 1.        ,  0.62982892, -0.18053684,  0.02266526,  0.13172511,\n",
       "        0.2406439 ,  0.1042829 ,  0.02685878, -0.1058745 ,  0.14390792,\n",
       "        0.04443043])"
      ]
     },
     "execution_count": 278,
     "metadata": {},
     "output_type": "execute_result"
    }
   ],
   "source": [
    "from statsmodels.tsa.stattools import pacf\n",
    "pacf(SimpleReturnDaily,10)"
   ]
  },
  {
   "cell_type": "markdown",
   "metadata": {},
   "source": [
    "可以看出阶数为2"
   ]
  },
  {
   "cell_type": "code",
   "execution_count": 279,
   "metadata": {
    "collapsed": false
   },
   "outputs": [
    {
     "name": "stdout",
     "output_type": "stream",
     "text": [
      "                            OLS Regression Results                            \n",
      "==============================================================================\n",
      "Dep. Variable:                      y   R-squared:                       0.688\n",
      "Model:                            OLS   Adj. R-squared:                  0.678\n",
      "Method:                 Least Squares   F-statistic:                     66.28\n",
      "Date:                Fri, 11 Dec 2015   Prob (F-statistic):           6.41e-16\n",
      "Time:                        20:14:46   Log-Likelihood:                 71.495\n",
      "No. Observations:                  62   AIC:                            -139.0\n",
      "Df Residuals:                      60   BIC:                            -134.7\n",
      "Df Model:                           2                                         \n",
      "Covariance Type:            nonrobust                                         \n",
      "==============================================================================\n",
      "                 coef    std err          t      P>|t|      [95.0% Conf. Int.]\n",
      "------------------------------------------------------------------------------\n",
      "x1             0.8269      0.129      6.405      0.000         0.569     1.085\n",
      "x2             0.0060      0.130      0.046      0.963        -0.253     0.265\n",
      "==============================================================================\n",
      "Omnibus:                        0.162   Durbin-Watson:                   1.904\n",
      "Prob(Omnibus):                  0.922   Jarque-Bera (JB):                0.325\n",
      "Skew:                          -0.096   Prob(JB):                        0.850\n",
      "Kurtosis:                       2.702   Cond. No.                         3.27\n",
      "==============================================================================\n",
      "\n",
      "Warnings:\n",
      "[1] Standard Errors assume that the covariance matrix of the errors is correctly specified.\n"
     ]
    }
   ],
   "source": [
    "# 最小二乘估计\n",
    "import statsmodels.formula.api as sm\n",
    "# 自回归的数据矩阵　lagmat\n",
    "from statsmodels.tsa.tsatools import  lagmat\n",
    "X=lagmat(SimpleReturnDaily,2)\n",
    "results = sm.OLS(SimpleReturnDaily, X).fit()\n",
    "print(results.summary())"
   ]
  },
  {
   "cell_type": "code",
   "execution_count": 280,
   "metadata": {
    "collapsed": false
   },
   "outputs": [
    {
     "name": "stdout",
     "output_type": "stream",
     "text": [
      "方差：0.0740957701148\n",
      "期望：0.018521792595\n"
     ]
    }
   ],
   "source": [
    "print(u'方差：'+str(results.resid.std()))\n",
    "print(u'期望：'+str(results.resid.mean()))"
   ]
  },
  {
   "cell_type": "code",
   "execution_count": 281,
   "metadata": {
    "collapsed": false
   },
   "outputs": [
    {
     "data": {
      "text/plain": [
       "nan"
      ]
     },
     "execution_count": 281,
     "metadata": {},
     "output_type": "execute_result"
    }
   ],
   "source": [
    "phi1=0.8269;phi2=0.006\n",
    "2*np.pi/np.arccos(phi1/(2*np.sqrt(-phi2)))"
   ]
  },
  {
   "cell_type": "markdown",
   "metadata": {},
   "source": [
    "无周期"
   ]
  },
  {
   "cell_type": "code",
   "execution_count": 282,
   "metadata": {
    "collapsed": false
   },
   "outputs": [
    {
     "data": {
      "text/plain": [
       "[<matplotlib.lines.Line2D at 0x1f0c00f0>,\n",
       " <matplotlib.lines.Line2D at 0x1f58e6a0>,\n",
       " <matplotlib.lines.Line2D at 0x1f58f438>]"
      ]
     },
     "execution_count": 282,
     "metadata": {},
     "output_type": "execute_result"
    },
    {
     "data": {
      "image/png": "[encoded data removed]",
      "text/plain": [
       "<matplotlib.figure.Figure at 0x20064518>"
      ]
     },
     "metadata": {},
     "output_type": "display_data"
    }
   ],
   "source": [
    "k=10\n",
    "autoco=[autocoef(results.resid,i) for i in range(k+1)]\n",
    "n=len(results.resid)\n",
    "plt.figure(figsize=(6,5))\n",
    "plt.plot(range(1,k+1),autoco[1:],\"b*\",[0,k+1],[1.96/np.sqrt(n)]*2,\"r--\",[0,k+1],[-1.96/np.sqrt(n)]*2,\"r--\")"
   ]
  },
  {
   "cell_type": "markdown",
   "metadata": {},
   "source": [
    "由上图知，拟合模型的残差符合白噪声模型"
   ]
  },
  {
   "cell_type": "code",
   "execution_count": 283,
   "metadata": {
    "collapsed": false
   },
   "outputs": [],
   "source": [
    "n=len(SimpleReturnDaily)\n",
    "x1=SimpleReturnDaily[n-2]\n",
    "x2=SimpleReturnDaily[n-1]"
   ]
  },
  {
   "cell_type": "code",
   "execution_count": 291,
   "metadata": {
    "collapsed": false
   },
   "outputs": [
    {
     "name": "stdout",
     "output_type": "stream",
     "text": [
      "2015年预测值：[ 0.07941253]\n",
      "%95的置信区间：[-0.06581518]-[ 0.22464024]\n"
     ]
    }
   ],
   "source": [
    "sig=results.resid.std()\n",
    "a=results.predict(exog=[x1,x2])\n",
    "print('2015年预测值：'+str(a))\n",
    "print('%95的置信区间：'+str(a-1.96*sig)+'-'+str(a+1.96*sig))"
   ]
  },
  {
   "cell_type": "code",
   "execution_count": 292,
   "metadata": {
    "collapsed": false
   },
   "outputs": [
    {
     "name": "stdout",
     "output_type": "stream",
     "text": [
      "2016年预测值：[ 0.06363451]\n",
      "%95的置信区间：[-0.0815932]-[ 0.20886222]\n"
     ]
    }
   ],
   "source": [
    "b=results.predict(exog=[x2,a])\n",
    "print('2016年预测值：'+str(b))\n",
    "print('%95的置信区间：'+str(b-1.96*sig)+'-'+str(b+1.96*sig))"
   ]
  },
  {
   "cell_type": "code",
   "execution_count": null,
   "metadata": {
    "collapsed": true
   },
   "outputs": [],
   "source": []
  }
 ],
 "metadata": {
  "anaconda-cloud": {},
  "kernelspec": {
   "display_name": "Python [conda root]",
   "language": "python",
   "name": "conda-root-py"
  },
  "language_info": {
   "codemirror_mode": {
    "name": "ipython",
    "version": 3
   },
   "file_extension": ".py",
   "mimetype": "text/x-python",
   "name": "python",
   "nbconvert_exporter": "python",
   "pygments_lexer": "ipython3",
   "version": "3.5.2"
  }
 },
 "nbformat": 4,
 "nbformat_minor": 0
}
