{
 "cells": [
  {
   "cell_type": "markdown",
   "metadata": {},
   "source": [
    "第一题"
   ]
  },
  {
   "cell_type": "code",
   "execution_count": 1,
   "metadata": {
    "collapsed": true
   },
   "outputs": [],
   "source": [
    "from lxml.html import parse\n",
    "from urllib2 import urlopen\n",
    "from os.path import getsize\n",
    "from math import log\n",
    "from pandas import Series, DataFrame\n",
    "import pandas as pd\n",
    "import urllib \n",
    "import numpy as np\n",
    "import matplotlib.pylab as plt\n",
    "import scipy.stats as stats\n",
    "from scipy.stats import chi2\n",
    "import statsmodels.api as sm\n",
    "from statsmodels.tsa.stattools import q_stat, acf, pacf\n",
    "from statsmodels.tsa.stattools import adfuller\n",
    "import statsmodels.api as sm\n",
    "from datetime import datetime\n",
    "%matplotlib inline"
   ]
  },
  {
   "cell_type": "code",
   "execution_count": 2,
   "metadata": {
    "collapsed": true
   },
   "outputs": [],
   "source": [
    "def get_sina_stock(stockid,start=\"1990-12-19\",end=pd.datetime.now(),isstock=True,fuquan=True):    \n",
    "    def _unpack(row, kind='td'):\n",
    "        elts = row.findall('.//%s' % kind)\n",
    "        return [val.text_content().strip() for val in elts] # .strip()去掉\\r\\t\\n之类的字符    \n",
    "    def parse_options_data(table,isstock,fuquan):\n",
    "        rows = table.findall('.//tr')\n",
    "        data = [_unpack(r) for r in rows[2:]]\n",
    "        if isstock & fuquan:\n",
    "            colnames = ['date','open','high','close','low','vol','amount','ratio'] # 回避中文处理\n",
    "        else:\n",
    "            colnames = ['date','open','high','close','low','vol','amount']\n",
    "        data= pd.DataFrame(data,columns=colnames)\n",
    "        data.index=pd.to_datetime(data[\"date\"])\n",
    "        data=data.drop(\"date\",axis=1)\n",
    "        data=data.ix[range(len(data)-1,-1,-1)]\n",
    "        return  data\n",
    "    data=pd.DataFrame()\n",
    "    daterange=pd.date_range(start,end,freq=\"Q\")\n",
    "    daterange=daterange.insert(len(daterange),daterange[-1]+1)\n",
    "    for cq in daterange: \n",
    "        if isstock:\n",
    "            if fuquan:\n",
    "                url='http://vip.stock.finance.sina.com.cn/corp/go.php/vMS_FuQuanMarketHistory/stockid/'+str(stockid)+'.phtml?year='+str(cq.year)+'&jidu='+str(cq.month/3)\n",
    "            else:\n",
    "                url='http://vip.stock.finance.sina.com.cn/corp/go.php/vMS_MarketHistory/stockid/'+str(stockid)+'.phtml?year='+str(cq.year)+'&jidu='+str(cq.month/3)            \n",
    "        else:            \n",
    "            url='http://vip.stock.finance.sina.com.cn/corp/go.php/vMS_MarketHistory/stockid/'+str(stockid)+'/type/S.phtml?year='+str(cq.year)+'&jidu='+str(cq.month/3)\n",
    "        try:\n",
    "            parsed = parse(urlopen(url))\n",
    "        except:\n",
    "            print \"download failed for year=\" +str(cq.year)+',  jidu='+str(cq.month/3)\n",
    "            continue\n",
    "        doc = parsed.getroot()\n",
    "        tables=doc.findall('.//table')     \n",
    "        da= tables[-1] # last table 19 for fuquan data and 4 for index\n",
    "        datatem = parse_options_data(da,isstock,fuquan)\n",
    "        data=pd.concat([data,datatem])\n",
    "    return pd.DataFrame(data[start:end],dtype=float)    "
   ]
  },
  {
   "cell_type": "code",
   "execution_count": 1,
   "metadata": {
    "collapsed": false
   },
   "outputs": [
    {
     "ename": "NameError",
     "evalue": "name 'get_sina_stock' is not defined",
     "output_type": "error",
     "traceback": [
      "\u001b[0;31m---------------------------------------------------------------------------\u001b[0m",
      "\u001b[0;31mNameError\u001b[0m                                 Traceback (most recent call last)",
      "\u001b[0;32m<ipython-input-1-1e7589a0f30c>\u001b[0m in \u001b[0;36m<module>\u001b[0;34m()\u001b[0m\n\u001b[0;32m----> 1\u001b[0;31m \u001b[0mdata\u001b[0m\u001b[0;34m=\u001b[0m\u001b[0mget_sina_stock\u001b[0m\u001b[0;34m(\u001b[0m\u001b[0;34m\"000001\"\u001b[0m\u001b[0;34m,\u001b[0m\u001b[0;34m\"1991-1-1\"\u001b[0m\u001b[0;34m,\u001b[0m\u001b[0;34m\"2014-12-31\"\u001b[0m\u001b[0;34m,\u001b[0m\u001b[0misstock\u001b[0m\u001b[0;34m=\u001b[0m\u001b[0;32mFalse\u001b[0m\u001b[0;34m)\u001b[0m\u001b[0;34m\u001b[0m\u001b[0m\n\u001b[0m\u001b[1;32m      2\u001b[0m \u001b[0mdata_month_high\u001b[0m\u001b[0;34m=\u001b[0m\u001b[0mdata\u001b[0m\u001b[0;34m[\u001b[0m\u001b[0;34m'high'\u001b[0m\u001b[0;34m]\u001b[0m\u001b[0;34m.\u001b[0m\u001b[0mresample\u001b[0m\u001b[0;34m(\u001b[0m\u001b[0;34m\"M\"\u001b[0m\u001b[0;34m,\u001b[0m\u001b[0mhow\u001b[0m\u001b[0;34m=\u001b[0m\u001b[0;34m\"mean\"\u001b[0m\u001b[0;34m)\u001b[0m\u001b[0;34m\u001b[0m\u001b[0m\n\u001b[1;32m      3\u001b[0m \u001b[0mdata_month_low\u001b[0m\u001b[0;34m=\u001b[0m\u001b[0mdata\u001b[0m\u001b[0;34m[\u001b[0m\u001b[0;34m'low'\u001b[0m\u001b[0;34m]\u001b[0m\u001b[0;34m.\u001b[0m\u001b[0mresample\u001b[0m\u001b[0;34m(\u001b[0m\u001b[0;34m\"M\"\u001b[0m\u001b[0;34m,\u001b[0m\u001b[0mhow\u001b[0m\u001b[0;34m=\u001b[0m\u001b[0;34m\"mean\"\u001b[0m\u001b[0;34m)\u001b[0m\u001b[0;34m\u001b[0m\u001b[0m\n\u001b[1;32m      4\u001b[0m \u001b[0mdata_month_high_log\u001b[0m\u001b[0;34m=\u001b[0m\u001b[0mdata_month_high\u001b[0m\u001b[0;34m.\u001b[0m\u001b[0mmap\u001b[0m\u001b[0;34m(\u001b[0m\u001b[0mlog\u001b[0m\u001b[0;34m)\u001b[0m\u001b[0;34m\u001b[0m\u001b[0m\n\u001b[1;32m      5\u001b[0m \u001b[0mdata_month_low_log\u001b[0m\u001b[0;34m=\u001b[0m\u001b[0mdata_month_low\u001b[0m\u001b[0;34m.\u001b[0m\u001b[0mmap\u001b[0m\u001b[0;34m(\u001b[0m\u001b[0mlog\u001b[0m\u001b[0;34m)\u001b[0m\u001b[0;34m\u001b[0m\u001b[0m\n",
      "\u001b[0;31mNameError\u001b[0m: name 'get_sina_stock' is not defined"
     ]
    }
   ],
   "source": [
    "data=get_sina_stock(\"000001\",\"1991-1-1\",\"2014-12-31\",isstock=False)\n",
    "data_month_high=data['high'].resample(\"M\",how=\"mean\")\n",
    "data_month_low=data['low'].resample(\"M\",how=\"mean\")\n",
    "data_month_high_log=data_month_high.map(log)\n",
    "data_month_low_log=data_month_low.map(log)\n",
    "data_month_bodong=data_month_high_log-data_month_low_log\n",
    "data_month_bodong"
   ]
  },
  {
   "cell_type": "code",
   "execution_count": 4,
   "metadata": {
    "collapsed": false
   },
   "outputs": [],
   "source": [
    "def autocoef(data,k):\n",
    "    meanw=np.mean(data)\n",
    "    n=len(data)    \n",
    "    return np.nansum((data[:(n-k)]-meanw)*(data[k:]-meanw))/np.nansum((data-meanw)**2)\n",
    "def qtest(data,m,plot):\n",
    "    q=np.zeros(m)\n",
    "    l=[(autocoef(data,i+1))**2 for i in range(m)]\n",
    "    for j in range(m):\n",
    "        q[j]=sum(l[:j+1])*len(data)\n",
    "        print(q[j])\n",
    "    if plot==1:\n",
    "        plt.figure(figsize=(6,5))\n",
    "        plt.plot(range(1,m+1),q[:],\"b*\",[1,m],stats.chi2.ppf(0.95,[1,m]),\"r--\")"
   ]
  },
  {
   "cell_type": "code",
   "execution_count": 5,
   "metadata": {
    "collapsed": false
   },
   "outputs": [
    {
     "data": {
      "text/plain": [
       "5.662960480135946"
      ]
     },
     "execution_count": 5,
     "metadata": {},
     "output_type": "execute_result"
    }
   ],
   "source": [
    "log(len(data_month_bodong))"
   ]
  },
  {
   "cell_type": "code",
   "execution_count": 6,
   "metadata": {
    "collapsed": false
   },
   "outputs": [
    {
     "name": "stdout",
     "output_type": "stream",
     "text": [
      "283.463128679\n",
      "563.372684874\n",
      "839.680599623\n",
      "1112.49484359\n",
      "1382.26701977\n",
      "1649.2048779\n"
     ]
    },
    {
     "data": {
      "image/png": "[encoded data removed]",
      "text/plain": [
       "<matplotlib.figure.Figure at 0x35d54e0>"
      ]
     },
     "metadata": {},
     "output_type": "display_data"
    }
   ],
   "source": [
    "qtest(data_month_bodong,6,1)"
   ]
  },
  {
   "cell_type": "markdown",
   "metadata": {},
   "source": [
    "由上图可以看出，各自由度的Q统计量的值远大于卡方分布的95%的置信水平线，所以拒绝白噪声检验"
   ]
  },
  {
   "cell_type": "code",
   "execution_count": 7,
   "metadata": {
    "collapsed": false
   },
   "outputs": [
    {
     "data": {
      "text/plain": [
       "array([<matplotlib.axes._subplots.AxesSubplot object at 0x000000001F942E48>], dtype=object)"
      ]
     },
     "execution_count": 7,
     "metadata": {},
     "output_type": "execute_result"
    },
    {
     "data": {
      "image/png": "[encoded data removed]",
      "text/plain": [
       "<matplotlib.figure.Figure at 0x1fa2c940>"
      ]
     },
     "metadata": {},
     "output_type": "display_data"
    }
   ],
   "source": [
    "data_month_bodong.plot(subplots=True)"
   ]
  },
  {
   "cell_type": "code",
   "execution_count": 8,
   "metadata": {
    "collapsed": false
   },
   "outputs": [
    {
     "data": {
      "text/plain": [
       "array([<matplotlib.axes._subplots.AxesSubplot object at 0x000000001F8C1780>], dtype=object)"
      ]
     },
     "execution_count": 8,
     "metadata": {},
     "output_type": "execute_result"
    },
    {
     "data": {
      "image/png": "[encoded data removed]",
      "text/plain": [
       "<matplotlib.figure.Figure at 0x1fbf4a20>"
      ]
     },
     "metadata": {},
     "output_type": "display_data"
    }
   ],
   "source": [
    "data_month_bodong=data_month_bodong-data_month_bodong.shift(1)\n",
    "data_month_bodong.plot(subplots=True)"
   ]
  },
  {
   "cell_type": "code",
   "execution_count": 9,
   "metadata": {
    "collapsed": false
   },
   "outputs": [],
   "source": [
    "data_month_bodong=data_month_bodong.dropna()"
   ]
  },
  {
   "cell_type": "code",
   "execution_count": 10,
   "metadata": {
    "collapsed": false
   },
   "outputs": [
    {
     "data": {
      "text/plain": [
       "(-8.1710592666040203,\n",
       " 8.6204499674905083e-13,\n",
       " 15L,\n",
       " 271L,\n",
       " {'1%': -3.4547128138328875,\n",
       "  '10%': -2.5724850011573914,\n",
       "  '5%': -2.8722649771800155},\n",
       " -1805.9937269009861)"
      ]
     },
     "execution_count": 10,
     "metadata": {},
     "output_type": "execute_result"
    }
   ],
   "source": [
    "adfuller(data_month_bodong)"
   ]
  },
  {
   "cell_type": "code",
   "execution_count": 11,
   "metadata": {
    "collapsed": false
   },
   "outputs": [
    {
     "name": "stdout",
     "output_type": "stream",
     "text": [
      "count    287.000000\n",
      "mean       0.000105\n",
      "std        0.012667\n",
      "min       -0.095757\n",
      "25%       -0.003221\n",
      "50%        0.000012\n",
      "75%        0.003761\n",
      "max        0.108143\n",
      "dtype: float64\n"
     ]
    },
    {
     "data": {
      "text/plain": [
       "array([  1.00000000e+00,  -3.98398557e-01,  -9.65313780e-02,\n",
       "         1.06862209e-01,  -4.76836681e-02,  -1.04641761e-01,\n",
       "         1.57391203e-01,   9.12940281e-04,  -1.18525512e-01,\n",
       "         5.46630372e-02,   6.34744744e-02,  -7.53351666e-02,\n",
       "        -2.84377234e-02,   3.51466821e-02,  -3.24192657e-02,\n",
       "        -1.01000551e-02])"
      ]
     },
     "execution_count": 11,
     "metadata": {},
     "output_type": "execute_result"
    },
    {
     "data": {
      "image/png": "[encoded data removed]",
      "text/plain": [
       "<matplotlib.figure.Figure at 0x202bd5f8>"
      ]
     },
     "metadata": {},
     "output_type": "display_data"
    }
   ],
   "source": [
    "print data_month_bodong.describe()\n",
    "acf(data_month_bodong,nlags=15)\n",
    "k=15\n",
    "autoco=acf(data_month_bodong,nlags=k)\n",
    "n=len(data_month_bodong)\n",
    "plt.figure(figsize=(6,5))\n",
    "plt.plot(range(1,k+1),autoco[1:],\"b*\",[0,k+1],[1.96/np.sqrt(n)]*2,\"r--\",[0,k+1],[-1.96/np.sqrt(n)]*2,\"r--\")\n",
    "acf(data_month_bodong,nlags=15)"
   ]
  },
  {
   "cell_type": "markdown",
   "metadata": {},
   "source": [
    "由图可知MA模型的阶应该取8"
   ]
  },
  {
   "cell_type": "code",
   "execution_count": 12,
   "metadata": {
    "collapsed": false
   },
   "outputs": [
    {
     "name": "stdout",
     "output_type": "stream",
     "text": [
      "0.115695141876\n"
     ]
    },
    {
     "data": {
      "text/plain": [
       "array([ 1.        , -0.39979156, -0.30594176, -0.08545339, -0.07591949,\n",
       "       -0.18000932,  0.01770382,  0.06744801, -0.05291108, -0.03858413,\n",
       "        0.05268082])"
      ]
     },
     "execution_count": 12,
     "metadata": {},
     "output_type": "execute_result"
    }
   ],
   "source": [
    "print(1.96/np.sqrt(len(data_month_bodong)))\n",
    "pacf(data_month_bodong,10)"
   ]
  },
  {
   "cell_type": "markdown",
   "metadata": {},
   "source": [
    "由此可知AR模型的阶应该取5"
   ]
  },
  {
   "cell_type": "code",
   "execution_count": 13,
   "metadata": {
    "collapsed": false
   },
   "outputs": [
    {
     "name": "stdout",
     "output_type": "stream",
     "text": [
      "(0, 1) (0, 1)\n",
      "             0            1            2\n",
      "0          NaN -1773.490711 -1772.232049\n",
      "1 -1740.133796 -1772.118032 -1771.097936\n",
      "2 -1766.490402 -1770.796790 -1769.491750\n",
      "3 -1766.788129 -1773.332665 -1771.604659\n",
      "4 -1766.563832 -1771.475973 -1769.648888\n",
      "             0            1            2\n",
      "0          NaN -1766.171747 -1761.253602\n",
      "1 -1732.814831 -1761.139585 -1756.460007\n",
      "2 -1755.511956 -1756.158861 -1751.194338\n",
      "3 -1752.150200 -1755.035254 -1749.647765\n",
      "4 -1748.266421 -1749.519080 -1744.032513\n"
     ]
    },
    {
     "name": "stderr",
     "output_type": "stream",
     "text": [
      "C:\\Users\\xiayingfan\\Anaconda\\lib\\site-packages\\statsmodels\\base\\model.py:466: ConvergenceWarning: Maximum Likelihood optimization failed to converge. Check mle_retvals\n",
      "  \"Check mle_retvals\", ConvergenceWarning)\n"
     ]
    }
   ],
   "source": [
    "mean=data_month_bodong.mean()\n",
    "data_month_bodong=data_month_bodong-mean\n",
    "res = sm.tsa.arma_order_select_ic(data_month_bodong, ic=['aic', 'bic'], trend='nc')\n",
    "print res.aic_min_order,res.bic_min_order\n",
    "print res.aic\n",
    "print res.bic"
   ]
  },
  {
   "cell_type": "markdown",
   "metadata": {},
   "source": [
    "下面用ARIMA(0,1,1)模型进行拟合"
   ]
  },
  {
   "cell_type": "code",
   "execution_count": 14,
   "metadata": {
    "collapsed": false
   },
   "outputs": [
    {
     "data": {
      "text/html": [
       "<table class=\"simpletable\">\n",
       "<tr>\n",
       "        <td>Model:</td>              <td>ARIMA</td>         <td>Log-Likelihood:</td>     <td>840.83</td>  \n",
       "</tr>\n",
       "<tr>\n",
       "  <td>Dependent Variable:</td>        <td>D.y</td>              <td>Scale:</td>          <td>1.0000</td>  \n",
       "</tr>\n",
       "<tr>\n",
       "         <td>Date:</td>        <td>2015-12-29 23:04</td>        <td>Method:</td>         <td>css-mle</td> \n",
       "</tr>\n",
       "<tr>\n",
       "   <td>No. Observations:</td>         <td>286</td>              <td>Sample:</td>       <td>03-31-1991</td>\n",
       "</tr>\n",
       "<tr>\n",
       "       <td>Df Model:</td>              <td>1</td>                  <td></td>           <td>12-31-2014</td>\n",
       "</tr>\n",
       "<tr>\n",
       "     <td>Df Residuals:</td>           <td>285</td>       <td>S.D. of innovations:</td>    <td>0.013</td>  \n",
       "</tr>\n",
       "<tr>\n",
       "         <td>AIC:</td>            <td>-1677.6519</td>            <td>HQIC:</td>         <td>-1674.721</td>\n",
       "</tr>\n",
       "<tr>\n",
       "         <td>BIC:</td>            <td>-1670.3399</td>              <td></td>                <td></td>     \n",
       "</tr>\n",
       "</table>\n",
       "<table class=\"simpletable\">\n",
       "<tr>\n",
       "      <td></td>       <th>Coef.</th>  <th>Std.Err.</th>     <th>t</th>      <th>P>|t|</th> <th>[0.025</th>  <th>0.975]</th> \n",
       "</tr>\n",
       "<tr>\n",
       "  <th>ma.L1.D.y</th> <td>-1.0000</td>  <td>0.0087</td>  <td>-114.4464</td> <td>0.0000</td> <td>-1.0171</td> <td>-0.9829</td>\n",
       "</tr>\n",
       "</table>\n",
       "<table class=\"simpletable\">\n",
       "<tr>\n",
       "    <td></td>    <th>Real</th>  <th>Imaginary</th> <th>Modulus</th> <th>Frequency</th>\n",
       "</tr>\n",
       "<tr>\n",
       "  <th>MA.1</th> <td>1.0000</td>  <td>0.0000</td>   <td>1.0000</td>   <td>0.0000</td>  \n",
       "</tr>\n",
       "</table>"
      ],
      "text/plain": [
       "<class 'statsmodels.iolib.summary2.Summary'>\n",
       "\"\"\"\n",
       "                           Results: ARIMA\n",
       "====================================================================\n",
       "Model:              ARIMA            Log-Likelihood:      840.83    \n",
       "Dependent Variable: D.y              Scale:               1.0000    \n",
       "Date:               2015-12-29 23:04 Method:              css-mle   \n",
       "No. Observations:   286              Sample:              03-31-1991\n",
       "Df Model:           1                                     12-31-2014\n",
       "Df Residuals:       285              S.D. of innovations: 0.013     \n",
       "AIC:                -1677.6519       HQIC:                -1674.721 \n",
       "BIC:                -1670.3399                                      \n",
       "---------------------------------------------------------------------\n",
       "                Coef.   Std.Err.      t      P>|t|    [0.025   0.975]\n",
       "---------------------------------------------------------------------\n",
       "ma.L1.D.y      -1.0000    0.0087  -114.4464  0.0000  -1.0171  -0.9829\n",
       "-----------------------------------------------------------------------------\n",
       "                 Real           Imaginary          Modulus          Frequency\n",
       "-----------------------------------------------------------------------------\n",
       "MA.1            1.0000             0.0000           1.0000             0.0000\n",
       "====================================================================\n",
       "\n",
       "\"\"\""
      ]
     },
     "execution_count": 14,
     "metadata": {},
     "output_type": "execute_result"
    }
   ],
   "source": [
    "arma_mod1 = sm.tsa.ARIMA(data_month_bodong,order=(0,1,1))\n",
    "arma_res = arma_mod1.fit(trend='nc')\n",
    "arma_res.summary2()"
   ]
  },
  {
   "cell_type": "markdown",
   "metadata": {},
   "source": [
    "拟合出来的模型为：$${r_t} = {r_{t - 1}} + {\\varepsilon _t} + {\\varepsilon _{t - 1}}$$\n"
   ]
  },
  {
   "cell_type": "markdown",
   "metadata": {},
   "source": [
    "残差的方差为"
   ]
  },
  {
   "cell_type": "code",
   "execution_count": 15,
   "metadata": {
    "collapsed": false
   },
   "outputs": [
    {
     "data": {
      "text/plain": [
       "0.012951325666885392"
      ]
     },
     "execution_count": 15,
     "metadata": {},
     "output_type": "execute_result"
    }
   ],
   "source": [
    "arma_res.resid.std()"
   ]
  },
  {
   "cell_type": "markdown",
   "metadata": {},
   "source": [
    "下面加入月天数统计"
   ]
  },
  {
   "cell_type": "code",
   "execution_count": 16,
   "metadata": {
    "collapsed": false
   },
   "outputs": [
    {
     "data": {
      "text/plain": [
       "[22,\n",
       " 18,\n",
       " 21,\n",
       " 22,\n",
       " 22,\n",
       " 20,\n",
       " 23,\n",
       " 22,\n",
       " 21,\n",
       " 21,\n",
       " 21,\n",
       " 22,\n",
       " 22,\n",
       " 17,\n",
       " 22,\n",
       " 22,\n",
       " 20,\n",
       " 22,\n",
       " 23,\n",
       " 21,\n",
       " 22,\n",
       " 20,\n",
       " 21,\n",
       " 23,\n",
       " 18,\n",
       " 20,\n",
       " 23,\n",
       " 22,\n",
       " 21,\n",
       " 22,\n",
       " 22,\n",
       " 22,\n",
       " 22,\n",
       " 20,\n",
       " 22,\n",
       " 23,\n",
       " 21,\n",
       " 15,\n",
       " 23,\n",
       " 21,\n",
       " 21,\n",
       " 22,\n",
       " 21,\n",
       " 23,\n",
       " 22,\n",
       " 19,\n",
       " 22,\n",
       " 22,\n",
       " 19,\n",
       " 17,\n",
       " 23,\n",
       " 20,\n",
       " 22,\n",
       " 22,\n",
       " 21,\n",
       " 23,\n",
       " 21,\n",
       " 20,\n",
       " 22,\n",
       " 21,\n",
       " 22,\n",
       " 12,\n",
       " 20,\n",
       " 22,\n",
       " 22,\n",
       " 20,\n",
       " 23,\n",
       " 22,\n",
       " 20,\n",
       " 21,\n",
       " 21,\n",
       " 22,\n",
       " 22,\n",
       " 10,\n",
       " 21,\n",
       " 22,\n",
       " 20,\n",
       " 20,\n",
       " 22,\n",
       " 21,\n",
       " 22,\n",
       " 20,\n",
       " 20,\n",
       " 23,\n",
       " 15,\n",
       " 15,\n",
       " 22,\n",
       " 22,\n",
       " 20,\n",
       " 22,\n",
       " 23,\n",
       " 21,\n",
       " 22,\n",
       " 20,\n",
       " 21,\n",
       " 23,\n",
       " 20,\n",
       " 7,\n",
       " 23,\n",
       " 22,\n",
       " 20,\n",
       " 22,\n",
       " 22,\n",
       " 22,\n",
       " 22,\n",
       " 16,\n",
       " 22,\n",
       " 21,\n",
       " 19,\n",
       " 12,\n",
       " 23,\n",
       " 20,\n",
       " 18,\n",
       " 22,\n",
       " 21,\n",
       " 23,\n",
       " 21,\n",
       " 17,\n",
       " 22,\n",
       " 21,\n",
       " 14,\n",
       " 18,\n",
       " 22,\n",
       " 21,\n",
       " 18,\n",
       " 21,\n",
       " 22,\n",
       " 23,\n",
       " 20,\n",
       " 18,\n",
       " 22,\n",
       " 21,\n",
       " 20,\n",
       " 10,\n",
       " 21,\n",
       " 22,\n",
       " 18,\n",
       " 20,\n",
       " 23,\n",
       " 22,\n",
       " 20,\n",
       " 18,\n",
       " 21,\n",
       " 22,\n",
       " 20,\n",
       " 15,\n",
       " 21,\n",
       " 22,\n",
       " 15,\n",
       " 21,\n",
       " 23,\n",
       " 21,\n",
       " 22,\n",
       " 18,\n",
       " 20,\n",
       " 23,\n",
       " 13,\n",
       " 20,\n",
       " 23,\n",
       " 22,\n",
       " 16,\n",
       " 22,\n",
       " 22,\n",
       " 22,\n",
       " 22,\n",
       " 16,\n",
       " 22,\n",
       " 23,\n",
       " 20,\n",
       " 13,\n",
       " 23,\n",
       " 21,\n",
       " 17,\n",
       " 22,\n",
       " 21,\n",
       " 23,\n",
       " 22,\n",
       " 16,\n",
       " 22,\n",
       " 22,\n",
       " 16,\n",
       " 17,\n",
       " 23,\n",
       " 20,\n",
       " 18,\n",
       " 22,\n",
       " 21,\n",
       " 23,\n",
       " 21,\n",
       " 17,\n",
       " 22,\n",
       " 21,\n",
       " 20,\n",
       " 15,\n",
       " 22,\n",
       " 21,\n",
       " 18,\n",
       " 21,\n",
       " 22,\n",
       " 23,\n",
       " 20,\n",
       " 18,\n",
       " 22,\n",
       " 20,\n",
       " 22,\n",
       " 16,\n",
       " 21,\n",
       " 21,\n",
       " 20,\n",
       " 20,\n",
       " 23,\n",
       " 21,\n",
       " 19,\n",
       " 20,\n",
       " 20,\n",
       " 23,\n",
       " 15,\n",
       " 20,\n",
       " 22,\n",
       " 21,\n",
       " 18,\n",
       " 22,\n",
       " 23,\n",
       " 21,\n",
       " 22,\n",
       " 16,\n",
       " 21,\n",
       " 23,\n",
       " 20,\n",
       " 15,\n",
       " 23,\n",
       " 21,\n",
       " 20,\n",
       " 19,\n",
       " 22,\n",
       " 22,\n",
       " 19,\n",
       " 16,\n",
       " 22,\n",
       " 23,\n",
       " 20,\n",
       " 15,\n",
       " 23,\n",
       " 19,\n",
       " 21,\n",
       " 21,\n",
       " 21,\n",
       " 23,\n",
       " 21,\n",
       " 16,\n",
       " 22,\n",
       " 22,\n",
       " 15,\n",
       " 21,\n",
       " 22,\n",
       " 17,\n",
       " 22,\n",
       " 20,\n",
       " 22,\n",
       " 23,\n",
       " 20,\n",
       " 18,\n",
       " 22,\n",
       " 21,\n",
       " 20,\n",
       " 15,\n",
       " 21,\n",
       " 18,\n",
       " 22,\n",
       " 17,\n",
       " 23,\n",
       " 22,\n",
       " 19,\n",
       " 18,\n",
       " 21,\n",
       " 22,\n",
       " 21,\n",
       " 16,\n",
       " 21,\n",
       " 21,\n",
       " 20,\n",
       " 20,\n",
       " 23,\n",
       " 21,\n",
       " 21,\n",
       " 18,\n",
       " 20]"
      ]
     },
     "execution_count": 16,
     "metadata": {},
     "output_type": "execute_result"
    }
   ],
   "source": [
    "a=pd.date_range('1/1/1991','31/12/2014',freq='M')\n",
    "index=list(a)\n",
    "num=list(a)\n",
    "for i in range(len(index)):\n",
    "    x=list(str(index[i]))\n",
    "    x=x[:7]\n",
    "    index[i]=''.join(x)\n",
    "for i in range(len(index)):\n",
    "    num[i]=len(data[index[i]])\n",
    "num=num[:len(num)-1]\n",
    "num"
   ]
  },
  {
   "cell_type": "code",
   "execution_count": 17,
   "metadata": {
    "collapsed": false
   },
   "outputs": [
    {
     "data": {
      "text/html": [
       "<table class=\"simpletable\">\n",
       "<caption>OLS Regression Results</caption>\n",
       "<tr>\n",
       "  <th>Dep. Variable:</th>            <td>y</td>        <th>  R-squared:         </th> <td>   0.006</td>\n",
       "</tr>\n",
       "<tr>\n",
       "  <th>Model:</th>                   <td>OLS</td>       <th>  Adj. R-squared:    </th> <td>   0.003</td>\n",
       "</tr>\n",
       "<tr>\n",
       "  <th>Method:</th>             <td>Least Squares</td>  <th>  F-statistic:       </th> <td>   1.740</td>\n",
       "</tr>\n",
       "<tr>\n",
       "  <th>Date:</th>             <td>Tue, 29 Dec 2015</td> <th>  Prob (F-statistic):</th>  <td> 0.188</td> \n",
       "</tr>\n",
       "<tr>\n",
       "  <th>Time:</th>                 <td>23:04:33</td>     <th>  Log-Likelihood:    </th> <td>  847.98</td>\n",
       "</tr>\n",
       "<tr>\n",
       "  <th>No. Observations:</th>      <td>   287</td>      <th>  AIC:               </th> <td>  -1692.</td>\n",
       "</tr>\n",
       "<tr>\n",
       "  <th>Df Residuals:</th>          <td>   285</td>      <th>  BIC:               </th> <td>  -1685.</td>\n",
       "</tr>\n",
       "<tr>\n",
       "  <th>Df Model:</th>              <td>     1</td>      <th>                     </th>     <td> </td>   \n",
       "</tr>\n",
       "<tr>\n",
       "  <th>Covariance Type:</th>      <td>nonrobust</td>    <th>                     </th>     <td> </td>   \n",
       "</tr>\n",
       "</table>\n",
       "<table class=\"simpletable\">\n",
       "<tr>\n",
       "    <td></td>       <th>coef</th>     <th>std err</th>      <th>t</th>      <th>P>|t|</th> <th>[95.0% Conf. Int.]</th> \n",
       "</tr>\n",
       "<tr>\n",
       "  <th>x1</th>    <td>    0.0004</td> <td>    0.000</td> <td>    1.319</td> <td> 0.188</td> <td>   -0.000     0.001</td>\n",
       "</tr>\n",
       "<tr>\n",
       "  <th>const</th> <td>   -0.0078</td> <td>    0.006</td> <td>   -1.309</td> <td> 0.192</td> <td>   -0.020     0.004</td>\n",
       "</tr>\n",
       "</table>\n",
       "<table class=\"simpletable\">\n",
       "<tr>\n",
       "  <th>Omnibus:</th>       <td>122.244</td> <th>  Durbin-Watson:     </th> <td>   2.784</td> \n",
       "</tr>\n",
       "<tr>\n",
       "  <th>Prob(Omnibus):</th> <td> 0.000</td>  <th>  Jarque-Bera (JB):  </th> <td>10946.447</td>\n",
       "</tr>\n",
       "<tr>\n",
       "  <th>Skew:</th>          <td> 0.680</td>  <th>  Prob(JB):          </th> <td>    0.00</td> \n",
       "</tr>\n",
       "<tr>\n",
       "  <th>Kurtosis:</th>      <td>33.225</td>  <th>  Cond. No.          </th> <td>    164.</td> \n",
       "</tr>\n",
       "</table>"
      ],
      "text/plain": [
       "<class 'statsmodels.iolib.summary.Summary'>\n",
       "\"\"\"\n",
       "                            OLS Regression Results                            \n",
       "==============================================================================\n",
       "Dep. Variable:                      y   R-squared:                       0.006\n",
       "Model:                            OLS   Adj. R-squared:                  0.003\n",
       "Method:                 Least Squares   F-statistic:                     1.740\n",
       "Date:                Tue, 29 Dec 2015   Prob (F-statistic):              0.188\n",
       "Time:                        23:04:33   Log-Likelihood:                 847.98\n",
       "No. Observations:                 287   AIC:                            -1692.\n",
       "Df Residuals:                     285   BIC:                            -1685.\n",
       "Df Model:                           1                                         \n",
       "Covariance Type:            nonrobust                                         \n",
       "==============================================================================\n",
       "                 coef    std err          t      P>|t|      [95.0% Conf. Int.]\n",
       "------------------------------------------------------------------------------\n",
       "x1             0.0004      0.000      1.319      0.188        -0.000     0.001\n",
       "const         -0.0078      0.006     -1.309      0.192        -0.020     0.004\n",
       "==============================================================================\n",
       "Omnibus:                      122.244   Durbin-Watson:                   2.784\n",
       "Prob(Omnibus):                  0.000   Jarque-Bera (JB):            10946.447\n",
       "Skew:                           0.680   Prob(JB):                         0.00\n",
       "Kurtosis:                      33.225   Cond. No.                         164.\n",
       "==============================================================================\n",
       "\n",
       "Warnings:\n",
       "[1] Standard Errors assume that the covariance matrix of the errors is correctly specified.\n",
       "\"\"\""
      ]
     },
     "execution_count": 17,
     "metadata": {},
     "output_type": "execute_result"
    }
   ],
   "source": [
    "X = sm.add_constant(num, prepend=False)\n",
    "results2 = sm.OLS(data_month_bodong, X).fit()\n",
    "results2.summary() "
   ]
  },
  {
   "cell_type": "code",
   "execution_count": 18,
   "metadata": {
    "collapsed": false
   },
   "outputs": [
    {
     "data": {
      "text/plain": [
       "(array([  5.48144217e-04,   1.09657003e-03,   1.23035732e-03,\n",
       "          1.57069962e-03,   2.17637088e-03,   2.37162318e-03,\n",
       "          3.47061568e-03,   3.50413366e-03,   3.73192778e-03,\n",
       "          4.35617790e-03,   7.44887305e-03,   1.01995469e-02,\n",
       "          2.51046020e-02,   3.63183818e-02,   1.00626987e-01,\n",
       "          3.63223065e+00,   6.44669702e+00,   6.46026252e+00,\n",
       "          6.67637780e+00,   6.71005516e+00,   6.71005591e+00,\n",
       "          7.22619521e+00,   7.75702375e+00,   7.81138049e+00,\n",
       "          7.86643874e+00,   7.93706927e+00,   8.12802452e+00,\n",
       "          8.12914718e+00,   8.13103564e+00,   8.27386102e+00,\n",
       "          8.28558652e+00,   8.37595297e+00,   8.37616962e+00,\n",
       "          8.37623244e+00,   8.40591145e+00,   8.43553763e+00,\n",
       "          8.43787687e+00,   8.46188302e+00,   8.46403255e+00,\n",
       "          8.50306555e+00,   8.50339640e+00,   8.52282799e+00,\n",
       "          9.45426011e+00,   9.76961256e+00,   9.92090490e+00,\n",
       "          1.06530840e+01,   1.06600435e+01,   1.06774751e+01,\n",
       "          1.07446979e+01,   1.07475238e+01,   1.07587325e+01,\n",
       "          1.09627832e+01,   1.12290278e+01,   1.12317776e+01,\n",
       "          1.12329067e+01,   1.12533631e+01,   1.12539350e+01,\n",
       "          1.12580124e+01,   1.12585865e+01,   1.12627813e+01,\n",
       "          1.12947930e+01,   1.13157064e+01,   1.13525125e+01,\n",
       "          1.13544803e+01,   1.13547289e+01,   1.13567592e+01,\n",
       "          1.13728311e+01,   1.13788745e+01,   1.13788769e+01,\n",
       "          1.13862179e+01,   1.14339340e+01,   1.17602700e+01,\n",
       "          1.20937142e+01,   1.22515512e+01,   1.22552310e+01,\n",
       "          1.23813553e+01,   1.24169367e+01,   1.24189741e+01,\n",
       "          1.24745123e+01,   1.24835378e+01,   1.24890808e+01,\n",
       "          1.24949882e+01,   1.25104817e+01,   1.25347999e+01,\n",
       "          1.25471128e+01,   1.25489533e+01,   1.25492547e+01,\n",
       "          1.25537406e+01,   1.25588522e+01,   1.25592349e+01,\n",
       "          1.26287373e+01,   1.26676352e+01,   1.26859342e+01,\n",
       "          1.26901817e+01,   1.26990907e+01,   1.27017172e+01,\n",
       "          1.27023324e+01,   1.27039781e+01,   1.27041555e+01,\n",
       "          1.27569977e+01,   1.27868996e+01,   1.27907406e+01,\n",
       "          1.28989191e+01,   1.28990025e+01,   1.29098008e+01,\n",
       "          1.29347692e+01,   1.29359215e+01,   1.29879903e+01,\n",
       "          1.31260686e+01,   1.32238140e+01,   1.32621016e+01,\n",
       "          1.32645136e+01,   1.32746694e+01,   1.32817310e+01,\n",
       "          1.32833499e+01,   1.32851188e+01,   1.32945435e+01,\n",
       "          1.32967962e+01,   1.33017793e+01,   1.33092574e+01,\n",
       "          1.33250221e+01,   1.33430499e+01,   1.33431613e+01,\n",
       "          1.33457246e+01,   1.33474335e+01,   1.33560652e+01,\n",
       "          1.33643309e+01,   1.33659392e+01,   1.34113653e+01,\n",
       "          1.34549586e+01,   1.34653696e+01,   1.36889750e+01,\n",
       "          1.38202999e+01,   1.38380992e+01,   1.38582774e+01,\n",
       "          1.38582774e+01,   1.38767841e+01,   1.39183231e+01,\n",
       "          1.39268498e+01,   1.39268892e+01,   1.39360198e+01,\n",
       "          1.39695457e+01,   1.39887909e+01,   1.40010486e+01,\n",
       "          1.40343389e+01,   1.40370581e+01,   1.40533569e+01,\n",
       "          1.40560579e+01,   1.40608805e+01,   1.40620932e+01,\n",
       "          1.40663979e+01,   1.40680063e+01,   1.40766092e+01,\n",
       "          1.40889581e+01,   1.41004442e+01,   1.41180578e+01,\n",
       "          1.41180579e+01,   1.41261106e+01,   1.41262682e+01,\n",
       "          1.41270379e+01,   1.41326679e+01,   1.41371854e+01,\n",
       "          1.41411308e+01,   1.41783387e+01,   1.41783388e+01,\n",
       "          1.42199104e+01,   1.42235020e+01,   1.42246756e+01,\n",
       "          1.42377592e+01,   1.42386193e+01,   1.42445152e+01,\n",
       "          1.42445989e+01,   1.42641832e+01,   1.42868230e+01,\n",
       "          1.42873171e+01,   1.43058268e+01,   1.43058293e+01,\n",
       "          1.43059674e+01,   1.43141808e+01,   1.43190745e+01,\n",
       "          1.43210558e+01,   1.43222711e+01,   1.43371374e+01,\n",
       "          1.44491604e+01,   1.44818323e+01,   1.44926014e+01,\n",
       "          1.45062442e+01,   1.45244542e+01,   1.45305612e+01,\n",
       "          1.45700401e+01,   1.46082704e+01,   1.46768404e+01,\n",
       "          1.46823243e+01,   1.47293015e+01,   1.47342464e+01,\n",
       "          1.47702464e+01,   1.48437896e+01,   1.49691047e+01,\n",
       "          1.49769856e+01,   1.49834405e+01,   1.50050274e+01,\n",
       "          1.50102638e+01,   1.50724250e+01,   1.51163671e+01,\n",
       "          1.51173785e+01,   1.52427605e+01,   1.52507692e+01,\n",
       "          1.54190784e+01,   1.54546784e+01,   1.55016673e+01,\n",
       "          1.55095326e+01,   1.55097642e+01,   1.55461841e+01,\n",
       "          1.55549678e+01,   1.57797769e+01,   1.58534087e+01,\n",
       "          1.60981619e+01,   1.61450386e+01,   1.61808709e+01,\n",
       "          1.61896059e+01,   1.61904224e+01,   1.62002799e+01,\n",
       "          1.63818624e+01,   1.64857744e+01,   1.65988530e+01,\n",
       "          1.66156339e+01,   1.66220657e+01,   1.66238077e+01,\n",
       "          1.66589011e+01,   1.66589013e+01,   1.66628491e+01,\n",
       "          1.68264020e+01,   1.69258802e+01,   1.69258821e+01,\n",
       "          1.69444175e+01,   1.69604870e+01,   1.71108576e+01,\n",
       "          1.71166911e+01,   1.71892977e+01,   1.71898929e+01,\n",
       "          1.71977270e+01,   1.71984034e+01,   1.72006622e+01,\n",
       "          1.72017446e+01,   1.72017820e+01,   1.72129721e+01,\n",
       "          1.72600944e+01,   1.72743321e+01,   1.72947857e+01,\n",
       "          1.73096429e+01,   1.73112990e+01,   1.73515883e+01,\n",
       "          1.74062992e+01,   1.74087420e+01,   1.74090014e+01,\n",
       "          1.74148247e+01,   1.74151660e+01,   1.74176380e+01,\n",
       "          1.74389472e+01,   1.74739080e+01,   1.75069361e+01,\n",
       "          1.75069493e+01,   1.75708731e+01,   1.75716008e+01,\n",
       "          1.75720673e+01,   1.76051813e+01,   1.76557873e+01,\n",
       "          1.76656209e+01,   1.80600513e+01,   1.80828072e+01,\n",
       "          1.81157181e+01,   1.81909472e+01,   1.82099100e+01,\n",
       "          1.82239537e+01,   1.82287188e+01,   1.83021807e+01,\n",
       "          1.84237137e+01,   1.84290603e+01,   1.85168492e+01,\n",
       "          1.85762339e+01,   1.85905962e+01,   1.85919640e+01,\n",
       "          1.85970092e+01,   1.85973844e+01,   1.86353896e+01,\n",
       "          1.91412849e+01,              inf]),\n",
       " array([ 0.98132125,  0.99945187,  0.99998853,  0.99999969,  0.99999999,\n",
       "         1.        ,  1.        ,  1.        ,  1.        ,  1.        ,\n",
       "         1.        ,  1.        ,  1.        ,  1.        ,  1.        ,\n",
       "         0.99940535,  0.98964605,  0.99394329,  0.99574945,  0.99753326,\n",
       "         0.99864525,  0.99869223,  0.9987275 ,  0.99925192,  0.99956538,\n",
       "         0.99974584,  0.99982961,  0.99990996,  0.99995314,  0.99997089,\n",
       "         0.99998498,  0.99999143,  0.99999575,  0.99999792,  0.99999895,\n",
       "         0.99999947,  0.99999975,  0.99999988,  0.99999994,  0.99999997,\n",
       "         0.99999999,  0.99999999,  0.99999999,  0.99999999,  0.99999999,\n",
       "         0.99999999,  0.99999999,  1.        ,  1.        ,  1.        ,\n",
       "         1.        ,  1.        ,  1.        ,  1.        ,  1.        ,\n",
       "         1.        ,  1.        ,  1.        ,  1.        ,  1.        ,\n",
       "         1.        ,  1.        ,  1.        ,  1.        ,  1.        ,\n",
       "         1.        ,  1.        ,  1.        ,  1.        ,  1.        ,\n",
       "         1.        ,  1.        ,  1.        ,  1.        ,  1.        ,\n",
       "         1.        ,  1.        ,  1.        ,  1.        ,  1.        ,\n",
       "         1.        ,  1.        ,  1.        ,  1.        ,  1.        ,\n",
       "         1.        ,  1.        ,  1.        ,  1.        ,  1.        ,\n",
       "         1.        ,  1.        ,  1.        ,  1.        ,  1.        ,\n",
       "         1.        ,  1.        ,  1.        ,  1.        ,  1.        ,\n",
       "         1.        ,  1.        ,  1.        ,  1.        ,  1.        ,\n",
       "         1.        ,  1.        ,  1.        ,  1.        ,  1.        ,\n",
       "         1.        ,  1.        ,  1.        ,  1.        ,  1.        ,\n",
       "         1.        ,  1.        ,  1.        ,  1.        ,  1.        ,\n",
       "         1.        ,  1.        ,  1.        ,  1.        ,  1.        ,\n",
       "         1.        ,  1.        ,  1.        ,  1.        ,  1.        ,\n",
       "         1.        ,  1.        ,  1.        ,  1.        ,  1.        ,\n",
       "         1.        ,  1.        ,  1.        ,  1.        ,  1.        ,\n",
       "         1.        ,  1.        ,  1.        ,  1.        ,  1.        ,\n",
       "         1.        ,  1.        ,  1.        ,  1.        ,  1.        ,\n",
       "         1.        ,  1.        ,  1.        ,  1.        ,  1.        ,\n",
       "         1.        ,  1.        ,  1.        ,  1.        ,  1.        ,\n",
       "         1.        ,  1.        ,  1.        ,  1.        ,  1.        ,\n",
       "         1.        ,  1.        ,  1.        ,  1.        ,  1.        ,\n",
       "         1.        ,  1.        ,  1.        ,  1.        ,  1.        ,\n",
       "         1.        ,  1.        ,  1.        ,  1.        ,  1.        ,\n",
       "         1.        ,  1.        ,  1.        ,  1.        ,  1.        ,\n",
       "         1.        ,  1.        ,  1.        ,  1.        ,  1.        ,\n",
       "         1.        ,  1.        ,  1.        ,  1.        ,  1.        ,\n",
       "         1.        ,  1.        ,  1.        ,  1.        ,  1.        ,\n",
       "         1.        ,  1.        ,  1.        ,  1.        ,  1.        ,\n",
       "         1.        ,  1.        ,  1.        ,  1.        ,  1.        ,\n",
       "         1.        ,  1.        ,  1.        ,  1.        ,  1.        ,\n",
       "         1.        ,  1.        ,  1.        ,  1.        ,  1.        ,\n",
       "         1.        ,  1.        ,  1.        ,  1.        ,  1.        ,\n",
       "         1.        ,  1.        ,  1.        ,  1.        ,  1.        ,\n",
       "         1.        ,  1.        ,  1.        ,  1.        ,  1.        ,\n",
       "         1.        ,  1.        ,  1.        ,  1.        ,  1.        ,\n",
       "         1.        ,  1.        ,  1.        ,  1.        ,  1.        ,\n",
       "         1.        ,  1.        ,  1.        ,  1.        ,  1.        ,\n",
       "         1.        ,  1.        ,  1.        ,  1.        ,  1.        ,\n",
       "         1.        ,  1.        ,  1.        ,  1.        ,  1.        ,\n",
       "         1.        ,  1.        ,  1.        ,  1.        ,  1.        ,\n",
       "         1.        ,  1.        ,  1.        ,  1.        ,  1.        ,\n",
       "         1.        ,  1.        ,  1.        ,  1.        ,  1.        ,\n",
       "         1.        ,  1.        ,  1.        ,  1.        ,  1.        ,\n",
       "         1.        ,  1.        ,  1.        ,  1.        ,  1.        ,\n",
       "         1.        ,  0.        ]))"
      ]
     },
     "execution_count": 18,
     "metadata": {},
     "output_type": "execute_result"
    },
    {
     "data": {
      "image/png": "[encoded data removed]",
      "text/plain": [
       "<matplotlib.figure.Figure at 0x2061cd30>"
      ]
     },
     "metadata": {},
     "output_type": "display_data"
    }
   ],
   "source": [
    "plt.plot(acf(results2.resid.values) )\n",
    "q_stat(results2.resid,len(results2.resid))"
   ]
  },
  {
   "cell_type": "code",
   "execution_count": 19,
   "metadata": {
    "collapsed": false
   },
   "outputs": [
    {
     "name": "stdout",
     "output_type": "stream",
     "text": [
      "0.11805626722\n"
     ]
    },
    {
     "data": {
      "image/png": "[encoded data removed]",
      "text/plain": [
       "<matplotlib.figure.Figure at 0x208fa710>"
      ]
     },
     "metadata": {},
     "output_type": "display_data"
    }
   ],
   "source": [
    "resi=results2.resid\n",
    "resi=resi.dropna()\n",
    "plt.plot(acf(resi),\"*\",[2/np.sqrt(len(resi))]*40,\"r-\",[-2/np.sqrt(len(resi))]*40,\"r-\")\n",
    "print 2/np.sqrt(len(resi))"
   ]
  },
  {
   "cell_type": "code",
   "execution_count": 20,
   "metadata": {
    "collapsed": false
   },
   "outputs": [
    {
     "name": "stdout",
     "output_type": "stream",
     "text": [
      "(3, 1) (0, 1)\n",
      "             0            1            2\n",
      "0          NaN -1773.327370 -1772.262477\n",
      "1 -1741.472221 -1772.158216 -1770.976848\n",
      "2 -1766.040775 -1770.455213 -1769.132000\n",
      "3 -1766.075145 -1773.421933 -1771.501770\n",
      "4 -1765.998218 -1771.467670 -1767.490338\n",
      "             0            1            2\n",
      "0          NaN -1766.008406 -1761.284031\n",
      "1 -1734.153257 -1761.179769 -1756.338919\n",
      "2 -1755.062329 -1755.817285 -1750.834589\n",
      "3 -1751.437216 -1755.124521 -1749.544877\n",
      "4 -1747.700807 -1749.510777 -1741.873962\n"
     ]
    }
   ],
   "source": [
    "es = sm.tsa.arma_order_select_ic(resi, ic=['aic', 'bic'], trend='nc')\n",
    "print es.aic_min_order,es.bic_min_order\n",
    "print es.aic\n",
    "print es.bic"
   ]
  },
  {
   "cell_type": "markdown",
   "metadata": {},
   "source": [
    "下面按ARIMA(3,1,1)模型拟合"
   ]
  },
  {
   "cell_type": "code",
   "execution_count": 21,
   "metadata": {
    "collapsed": false
   },
   "outputs": [
    {
     "data": {
      "text/html": [
       "<table class=\"simpletable\">\n",
       "<tr>\n",
       "        <td>Model:</td>              <td>ARIMA</td>         <td>Log-Likelihood:</td>     <td>861.71</td>  \n",
       "</tr>\n",
       "<tr>\n",
       "  <td>Dependent Variable:</td>        <td>D.y</td>              <td>Scale:</td>          <td>1.0000</td>  \n",
       "</tr>\n",
       "<tr>\n",
       "         <td>Date:</td>        <td>2015-12-29 23:11</td>        <td>Method:</td>         <td>css-mle</td> \n",
       "</tr>\n",
       "<tr>\n",
       "   <td>No. Observations:</td>         <td>286</td>              <td>Sample:</td>       <td>03-31-1991</td>\n",
       "</tr>\n",
       "<tr>\n",
       "       <td>Df Model:</td>              <td>6</td>                  <td></td>           <td>12-31-2014</td>\n",
       "</tr>\n",
       "<tr>\n",
       "     <td>Df Residuals:</td>           <td>280</td>       <td>S.D. of innovations:</td>    <td>0.012</td>  \n",
       "</tr>\n",
       "<tr>\n",
       "         <td>AIC:</td>            <td>-1709.4115</td>            <td>HQIC:</td>         <td>-1699.154</td>\n",
       "</tr>\n",
       "<tr>\n",
       "         <td>BIC:</td>            <td>-1683.8196</td>              <td></td>                <td></td>     \n",
       "</tr>\n",
       "</table>\n",
       "<table class=\"simpletable\">\n",
       "<tr>\n",
       "      <td></td>       <th>Coef.</th>  <th>Std.Err.</th>     <th>t</th>     <th>P>|t|</th> <th>[0.025</th>  <th>0.975]</th> \n",
       "</tr>\n",
       "<tr>\n",
       "  <th>x1</th>        <td>-0.0000</td>  <td>0.0001</td>   <td>-0.3002</td> <td>0.7642</td> <td>-0.0003</td> <td>0.0002</td> \n",
       "</tr>\n",
       "<tr>\n",
       "  <th>const</th>     <td>0.0009</td>   <td>0.0029</td>   <td>0.3019</td>  <td>0.7629</td> <td>-0.0048</td> <td>0.0065</td> \n",
       "</tr>\n",
       "<tr>\n",
       "  <th>ar.L1.D.y</th> <td>-0.7101</td>  <td>0.0343</td>  <td>-20.7094</td> <td>0.0000</td> <td>-0.7773</td> <td>-0.6429</td>\n",
       "</tr>\n",
       "<tr>\n",
       "  <th>ar.L2.D.y</th> <td>-0.4846</td>  <td>0.0392</td>  <td>-12.3505</td> <td>0.0000</td> <td>-0.5615</td> <td>-0.4077</td>\n",
       "</tr>\n",
       "<tr>\n",
       "  <th>ar.L3.D.y</th> <td>-0.1638</td>  <td>0.0476</td>   <td>-3.4445</td> <td>0.0007</td> <td>-0.2570</td> <td>-0.0706</td>\n",
       "</tr>\n",
       "<tr>\n",
       "  <th>ma.L1.D.y</th> <td>-0.7769</td>    <td>nan</td>      <td>nan</td>     <td>nan</td>    <td>nan</td>     <td>nan</td>  \n",
       "</tr>\n",
       "</table>\n",
       "<table class=\"simpletable\">\n",
       "<tr>\n",
       "    <td></td>    <th>Real</th>   <th>Imaginary</th> <th>Modulus</th> <th>Frequency</th>\n",
       "</tr>\n",
       "<tr>\n",
       "  <th>AR.1</th> <td>-0.3593</td>  <td>-1.6114</td>  <td>1.6510</td>   <td>-0.2849</td> \n",
       "</tr>\n",
       "<tr>\n",
       "  <th>AR.2</th> <td>-0.3593</td>  <td>1.6114</td>   <td>1.6510</td>   <td>0.2849</td>  \n",
       "</tr>\n",
       "<tr>\n",
       "  <th>AR.3</th> <td>-2.2396</td>  <td>-0.0000</td>  <td>2.2396</td>   <td>-0.5000</td> \n",
       "</tr>\n",
       "<tr>\n",
       "  <th>MA.1</th> <td>1.2872</td>   <td>0.0000</td>   <td>1.2872</td>   <td>0.0000</td>  \n",
       "</tr>\n",
       "</table>"
      ],
      "text/plain": [
       "<class 'statsmodels.iolib.summary2.Summary'>\n",
       "\"\"\"\n",
       "                           Results: ARIMA\n",
       "====================================================================\n",
       "Model:              ARIMA            Log-Likelihood:      861.71    \n",
       "Dependent Variable: D.y              Scale:               1.0000    \n",
       "Date:               2015-12-29 23:11 Method:              css-mle   \n",
       "No. Observations:   286              Sample:              03-31-1991\n",
       "Df Model:           6                                     12-31-2014\n",
       "Df Residuals:       280              S.D. of innovations: 0.012     \n",
       "AIC:                -1709.4115       HQIC:                -1699.154 \n",
       "BIC:                -1683.8196                                      \n",
       "----------------------------------------------------------------------\n",
       "             Coef.    Std.Err.      t       P>|t|     [0.025    0.975]\n",
       "----------------------------------------------------------------------\n",
       "x1          -0.0000     0.0001    -0.3002   0.7642   -0.0003    0.0002\n",
       "const        0.0009     0.0029     0.3019   0.7629   -0.0048    0.0065\n",
       "ar.L1.D.y   -0.7101     0.0343   -20.7094   0.0000   -0.7773   -0.6429\n",
       "ar.L2.D.y   -0.4846     0.0392   -12.3505   0.0000   -0.5615   -0.4077\n",
       "ar.L3.D.y   -0.1638     0.0476    -3.4445   0.0007   -0.2570   -0.0706\n",
       "ma.L1.D.y   -0.7769        nan        nan      nan       nan       nan\n",
       "-----------------------------------------------------------------------------\n",
       "                 Real           Imaginary          Modulus          Frequency\n",
       "-----------------------------------------------------------------------------\n",
       "AR.1           -0.3593            -1.6114           1.6510            -0.2849\n",
       "AR.2           -0.3593             1.6114           1.6510             0.2849\n",
       "AR.3           -2.2396            -0.0000           2.2396            -0.5000\n",
       "MA.1            1.2872             0.0000           1.2872             0.0000\n",
       "====================================================================\n",
       "\n",
       "\"\"\""
      ]
     },
     "execution_count": 21,
     "metadata": {},
     "output_type": "execute_result"
    }
   ],
   "source": [
    "arma_mod1 = sm.tsa.ARIMA(data_month_bodong,order=(3,1,1),exog=X)\n",
    "arma_res = arma_mod1.fit(trend='nc')\n",
    "arma_res.summary2()"
   ]
  },
  {
   "cell_type": "code",
   "execution_count": 22,
   "metadata": {
    "collapsed": false
   },
   "outputs": [
    {
     "data": {
      "text/plain": [
       "[<matplotlib.lines.Line2D at 0x203d0160>,\n",
       " <matplotlib.lines.Line2D at 0x202bddd8>,\n",
       " <matplotlib.lines.Line2D at 0x206f8470>]"
      ]
     },
     "execution_count": 22,
     "metadata": {},
     "output_type": "execute_result"
    },
    {
     "data": {
      "image/png": "[encoded data removed]",
      "text/plain": [
       "<matplotlib.figure.Figure at 0x208e3cc0>"
      ]
     },
     "metadata": {},
     "output_type": "display_data"
    }
   ],
   "source": [
    "plt.plot(acf(arma_res.resid),\"*\",[2/np.sqrt(len(resi))]*40,\"r-\",[-2/np.sqrt(len(resi))]*40,\"r-\")"
   ]
  },
  {
   "cell_type": "markdown",
   "metadata": {},
   "source": [
    "可以看到x1前系数很小，所以相关性不显著。"
   ]
  },
  {
   "cell_type": "markdown",
   "metadata": {},
   "source": [
    "第二题"
   ]
  },
  {
   "cell_type": "markdown",
   "metadata": {},
   "source": [
    "d应该取2，第一个acf图说明这个时间序列有线性趋势项，第二个acf图说明一阶差分后的序列是一个白噪声序列，第三个acf图说明二阶差分后的时间序列可以用6阶MA模型进行拟合。"
   ]
  },
  {
   "cell_type": "markdown",
   "metadata": {},
   "source": [
    "第三题"
   ]
  },
  {
   "cell_type": "code",
   "execution_count": 23,
   "metadata": {
    "collapsed": false
   },
   "outputs": [
    {
     "name": "stdout",
     "output_type": "stream",
     "text": [
      "(128.275, 128.005)\n",
      "[[126.31500000000001, 130.235], [125.8441, 130.1659]]\n"
     ]
    }
   ],
   "source": [
    "y=[0,0,0,0]\n",
    "e=[0,0]\n",
    "sigma=[0,0]\n",
    "y[0]=120.1\n",
    "y[1]=118.3\n",
    "e[0]=-2.3\n",
    "e[1]=2.6\n",
    "y[2]=103+0.2*y[1]+0.4*e[1]-0.25*e[0]\n",
    "y[3]=103+0.2*y[2]-0.25*e[1]\n",
    "sigma[0]=1\n",
    "sigma[1]=1+0.2**2+0.25**2\n",
    "print(y[2],y[3])\n",
    "print([[y[2]-1.96*sigma[0],y[2]+1.96*sigma[0]],[y[3]-1.96*sigma[1],y[3]+1.96*sigma[1]]])"
   ]
  }
 ],
 "metadata": {
  "anaconda-cloud": {},
  "kernelspec": {
   "display_name": "Python [conda root]",
   "language": "python",
   "name": "conda-root-py"
  },
  "language_info": {
   "codemirror_mode": {
    "name": "ipython",
    "version": 3
   },
   "file_extension": ".py",
   "mimetype": "text/x-python",
   "name": "python",
   "nbconvert_exporter": "python",
   "pygments_lexer": "ipython3",
   "version": "3.5.2"
  }
 },
 "nbformat": 4,
 "nbformat_minor": 0
}
