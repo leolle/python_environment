{
 "cells": [
  {
   "cell_type": "code",
   "execution_count": 1,
   "metadata": {
    "collapsed": true
   },
   "outputs": [],
   "source": [
    "from __future__ import division\n",
    "import os\n",
    "import sys\n",
    "import numpy as np\n",
    "from numpy.random import randn\n",
    "from pandas import Series, DataFrame\n",
    "import pandas as pd\n",
    "import matplotlib.pyplot as plt\n",
    "np.random.seed(12345)\n",
    "plt.rc('figure', figsize=(10, 6))\n",
    "np.set_printoptions(precision=4)"
   ]
  },
  {
   "cell_type": "code",
   "execution_count": 164,
   "metadata": {
    "collapsed": false
   },
   "outputs": [],
   "source": [
    "df1 = pd.read_table('A1.csv',sep=',',encoding='gbk',index_col=[u'代码',u'名称'],na_values=['--  '])\n",
    "df2 = pd.read_table('A2.csv',sep=',',encoding='gbk',index_col=[u'代码',u'名称'],na_values=['--  '])\n",
    "df3 = pd.read_table('A3.csv',sep=',',encoding='gbk',index_col=[u'代码',u'名称'],na_values=['--  '])\n",
    "df4 = pd.read_table('A4.csv',sep=',',encoding='gbk',index_col=[u'代码',u'名称'],na_values=['--  '])\n",
    "df5 = pd.read_table('A5.csv',sep=',',encoding='gbk',index_col=[u'代码',u'名称'],na_values=['--  '])\n",
    "df = df1.combine_first(df2)\n",
    "df = df.combine_first(df3)\n",
    "df = df.combine_first(df4)\n",
    "df = df.combine_first(df5)\n",
    "df = df.drop_duplicates()\n",
    "df.to_csv(u'夏英凡.1300010691.2.1.csv',encoding='gbk',na_rep='--  ')"
   ]
  },
  {
   "cell_type": "code",
   "execution_count": 166,
   "metadata": {
    "collapsed": false,
    "scrolled": true
   },
   "outputs": [],
   "source": [
    "grouped = df[[u'市盈(动)',u'均价']].groupby(df[u'细分行业'])\n",
    "a = grouped.mean()\n",
    "grouped = df[u'总资产(万)'].groupby(df[u'细分行业'])\n",
    "zong = grouped.sum()\n",
    "x = df[u'市盈(动)']*df[u'总资产(万)']\n",
    "grouped = x.groupby(df[u'细分行业'])\n",
    "b = grouped.mean()/zong\n",
    "b.name=u'市盈(动)按总资产加权'\n",
    "y = df[u'均价']*df[u'总资产(万)']\n",
    "grouped = y.groupby(df[u'细分行业'])\n",
    "c = grouped.mean()/zong\n",
    "c.name=u'均价按总资产加权'\n",
    "p1 = pd.concat([a,b,c],axis=1)\n",
    "df0 = pd.read_table('out1.csv',sep=',',encoding='gbk',index_col=[u'代码',u'名称'],na_values=['--  '])\n",
    "#这里因为原表中流通市值一栏中数据含有中文“亿”，所以我新建了个表out1，将所有“亿删掉了”\n",
    "grouped = df0[[u'市盈(动)',u'均价']].groupby(df0[u'细分行业'])\n",
    "zong = grouped.mean()\n",
    "grouped = df0[u'流通市值'].groupby(df0[u'细分行业'])\n",
    "zong = grouped.sum()\n",
    "x = df0[u'市盈(动)']*df0[u'流通市值']\n",
    "grouped = x.groupby(df0[u'细分行业'])\n",
    "b = grouped.mean()/zong\n",
    "b.name=u'市盈(动)按流通市值加权'\n",
    "y = df0[u'均价']*df0[u'流通市值']\n",
    "grouped = y.groupby(df0[u'细分行业'])\n",
    "c = grouped.mean()/zong\n",
    "c.name=u'均价按流通市值加权'\n",
    "p2 = pd.concat([b,c],axis=1)\n",
    "p = pd.concat([p1,p2],axis=1)\n",
    "p.to_csv(u'夏英凡.1300010691.2.2.csv',encoding='gbk',na_rep='--  ')"
   ]
  },
  {
   "cell_type": "code",
   "execution_count": 167,
   "metadata": {
    "collapsed": false
   },
   "outputs": [],
   "source": [
    "grouped = df[[u'市盈(动)',u'均价']].groupby(df[u'地区'])\n",
    "a = grouped.mean()\n",
    "grouped = df[u'总资产(万)'].groupby(df[u'地区'])\n",
    "zong = grouped.sum()\n",
    "x = df[u'市盈(动)']*df[u'总资产(万)']\n",
    "grouped = x.groupby(df[u'地区'])\n",
    "b = grouped.mean()/zong\n",
    "b.name=u'市盈(动)按总资产加权'\n",
    "y = df[u'均价']*df[u'总资产(万)']\n",
    "grouped = y.groupby(df[u'地区'])\n",
    "c = grouped.mean()/zong\n",
    "c.name=u'均价按总资产加权'\n",
    "p1 = pd.concat([a,b,c],axis=1)\n",
    "df0 = pd.read_table('out1.csv',sep=',',encoding='gbk',index_col=[u'代码',u'名称'],na_values=['--  '])\n",
    "grouped = df0[[u'市盈(动)',u'均价']].groupby(df0[u'地区'])\n",
    "a = grouped.mean()\n",
    "grouped = df0[u'流通市值'].groupby(df0[u'地区'])\n",
    "zong = grouped.sum()\n",
    "x = df0[u'市盈(动)']*df0[u'流通市值']\n",
    "grouped = x.groupby(df0[u'地区'])\n",
    "b = grouped.mean()/zong\n",
    "b.name=u'市盈(动)按流通市值加权'\n",
    "y = df0[u'均价']*df0[u'流通市值']\n",
    "grouped = y.groupby(df0[u'地区'])\n",
    "c = grouped.mean()/zong\n",
    "c.name=u'均价按流通市值加权'\n",
    "p2 = pd.concat([b,c],axis=1)\n",
    "p = pd.concat([p1,p2],axis=1)\n",
    "p.to_csv(u'夏英凡.1300010691.2.3.csv',encoding='gbk',na_rep='--  ')"
   ]
  }
 ],
 "metadata": {
  "kernelspec": {
   "display_name": "Python 2",
   "language": "python",
   "name": "python2"
  },
  "language_info": {
   "codemirror_mode": {
    "name": "ipython",
    "version": 2
   },
   "file_extension": ".py",
   "mimetype": "text/x-python",
   "name": "python",
   "nbconvert_exporter": "python",
   "pygments_lexer": "ipython2",
   "version": "2.7.10"
  }
 },
 "nbformat": 4,
 "nbformat_minor": 0
}
