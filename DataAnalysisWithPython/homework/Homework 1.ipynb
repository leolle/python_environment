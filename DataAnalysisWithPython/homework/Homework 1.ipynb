{
 "cells": [
  {
   "cell_type": "code",
   "execution_count": 15,
   "metadata": {
    "collapsed": false
   },
   "outputs": [
    {
     "name": "stdout",
     "output_type": "stream",
     "text": [
      "input a number10\n",
      "('The factor of n is:', 3628800)\n",
      "100000 loops, best of 3: 2.72 µs per loop\n"
     ]
    }
   ],
   "source": [
    "##for 循环\n",
    "\n",
    "n = int (input(\"input a number\"))\n",
    "\n",
    "def factor0(n):\n",
    "    factor=1\n",
    "\n",
    "    for i in range (1,n+1):\n",
    "       \n",
    "        factor=factor*i;\n",
    "    \n",
    "    return factor\n",
    "print('The factor of n is:', factor0(n))\n",
    "\n",
    "\n",
    "%timeit a=[factor0(n)]"
   ]
  },
  {
   "cell_type": "code",
   "execution_count": 13,
   "metadata": {
    "collapsed": false
   },
   "outputs": [
    {
     "name": "stdout",
     "output_type": "stream",
     "text": [
      "input a number10\n",
      "('The factor of n is:', 362880)\n",
      "100000 loops, best of 3: 2.53 µs per loop\n"
     ]
    }
   ],
   "source": [
    "## while 循环\n",
    "\n",
    "n = int (input(\"input a number\"))\n",
    "\n",
    "def factor1(n):\n",
    "    factor = 1\n",
    "    i=1\n",
    "    while i < n:\n",
    "        factor=factor*i\n",
    "        i=i+1\n",
    "    return factor\n",
    "\n",
    "print('The factor of n is:', factor1(n))\n",
    "\n",
    "%timeit a=[factor1(n)]"
   ]
  },
  {
   "cell_type": "code",
   "execution_count": 10,
   "metadata": {
    "collapsed": false
   },
   "outputs": [
    {
     "name": "stdout",
     "output_type": "stream",
     "text": [
      "Input a number:10\n",
      "3628800\n",
      "100000 loops, best of 3: 2.84 µs per loop\n"
     ]
    }
   ],
   "source": [
    "##递归\n",
    "n=int(input(\"Input a number:\" ))\n",
    "def factor(i):\n",
    "    if i == 1:\n",
    "        return 1;\n",
    "    else:\n",
    "        return i * factor (i-1)\n",
    "\n",
    "print (factor(n))\n",
    "\n",
    "%timeit a=[factor(n)]\n"
   ]
  },
  {
   "cell_type": "markdown",
   "metadata": {},
   "source": [
    "我是在MacBook Pro OSX 版本10.11.6 环境下安装的Anaconda， 直接从官网上下载Anaconda最新安装包，然后一路安装就可以。\n",
    "安装完成后再anaconda里面安装Spyder和ipython notebook，就可以直接打开编辑ipython环境。\n",
    "\n",
    "主要问题有一个，就是如何在MacBook 下安装 不同版本的Python，如2.7 和 3.5 共存。\n",
    "这里我从网上看到了一个方法，就是在terminal里安装最新的brew，用brew安装最新的pyenv包，通过pyenv包加载两个Python环境。网上有一个很详细的教程：http://www.cnblogs.com/blackmatrix/p/5591341.html 如果有类似问题可以看一下这个教程。最终完美解决了两个版本共存的问题。"
   ]
  }
 ],
 "metadata": {
  "kernelspec": {
   "display_name": "Python [Root]",
   "language": "python",
   "name": "Python [Root]"
  },
  "language_info": {
   "codemirror_mode": {
    "name": "ipython",
    "version": 2
   },
   "file_extension": ".py",
   "mimetype": "text/x-python",
   "name": "python",
   "nbconvert_exporter": "python",
   "pygments_lexer": "ipython2",
   "version": "2.7.12"
  }
 },
 "nbformat": 4,
 "nbformat_minor": 0
}
