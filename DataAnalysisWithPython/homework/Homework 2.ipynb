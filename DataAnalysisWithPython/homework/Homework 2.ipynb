{
 "cells": [
  {
   "cell_type": "code",
   "execution_count": 146,
   "metadata": {
    "collapsed": false
   },
   "outputs": [],
   "source": [
    "###################################  PROBLEM 1 ##################################\n",
    "from numpy.random import randn\n",
    "import numpy  as np\n",
    "np.set_printoptions(precision=4, suppress=True)\n",
    "%matplotlib inline\n",
    "x = list(np.array([[1., 2., 3.], [4., 5., 6.],[1., 2., 3.], [4., 5., 6.]]))\n",
    "num = len(x)\n",
    "y=x[:]\n",
    "##let y be a copy of x\n",
    "def total_equal(a,b):\n",
    "    flag = True\n",
    "    Length_ab=min(len(a),len(b))\n",
    "    for k in range(Length_ab):\n",
    "            flag = flag * (a[k] == b[k])\n",
    "    return flag\n",
    "##a function to judge whether two list have the same value in all dimensions"
   ]
  },
  {
   "cell_type": "code",
   "execution_count": 147,
   "metadata": {
    "collapsed": false
   },
   "outputs": [
    {
     "name": "stdout",
     "output_type": "stream",
     "text": [
      "[ 2.  2.  1.  1.]\n",
      "[array([ 1.,  2.,  3.]), array([ 4.,  5.,  6.])]\n"
     ]
    }
   ],
   "source": [
    "a = np.zeros(num)\n",
    "for k in range(num):\n",
    "    for j in range(k,num):\n",
    "        if total_equal(x[k],y[j]):\n",
    "            a[k] = a[k] +1\n",
    "print(a)\n",
    "b=[]\n",
    "for g in range(len(a)):\n",
    "    if a[g] == 1:\n",
    "        b.append(x[g])\n",
    "##set a new list to cover all the unique elements\n",
    "print(b)"
   ]
  },
  {
   "cell_type": "code",
   "execution_count": 148,
   "metadata": {
    "collapsed": false
   },
   "outputs": [
    {
     "name": "stdout",
     "output_type": "stream",
     "text": [
      "[[  0.   1.   2.]\n",
      " [  1.   2.   3.]\n",
      " [  2.   3.   4.]\n",
      " [  3.   4.   5.]\n",
      " [  4.   5.   6.]\n",
      " [  5.   6.   7.]\n",
      " [  6.   7.   8.]\n",
      " [  7.   8.   9.]\n",
      " [  8.   9.  10.]\n",
      " [  9.  10.  11.]\n",
      " [ 10.  11.  12.]\n",
      " [ 11.  12.  13.]\n",
      " [ 12.  13.  14.]\n",
      " [ 13.  14.  15.]\n",
      " [ 14.  15.  16.]\n",
      " [ 15.  16.  17.]\n",
      " [ 16.  17.  18.]\n",
      " [ 17.  18.  19.]]\n"
     ]
    }
   ],
   "source": [
    "###################################  PROBLEM 2 ##################################\n",
    "z=np.array(range(20))\n",
    "##initialize Z\n",
    "v = np.zeros((len(z)-2,3))\n",
    "##initialize our empty list\n",
    "for k in range(len(z)-2):\n",
    "    v[k]=z[k:k+3]\n",
    "print(v)\n",
    "##reset the list"
   ]
  },
  {
   "cell_type": "code",
   "execution_count": null,
   "metadata": {
    "collapsed": true
   },
   "outputs": [],
   "source": []
  }
 ],
 "metadata": {
  "kernelspec": {
   "display_name": "Python [Root]",
   "language": "python",
   "name": "Python [Root]"
  },
  "language_info": {
   "codemirror_mode": {
    "name": "ipython",
    "version": 2
   },
   "file_extension": ".py",
   "mimetype": "text/x-python",
   "name": "python",
   "nbconvert_exporter": "python",
   "pygments_lexer": "ipython2",
   "version": "2.7.12"
  }
 },
 "nbformat": 4,
 "nbformat_minor": 0
}
