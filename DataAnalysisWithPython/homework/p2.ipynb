{
 "cells": [
  {
   "cell_type": "markdown",
   "metadata": {},
   "source": [
    "+ 分组作业   1300017640王瑞康 1300017639吴振宇 1300017674何雨凡\n",
    " +  行业 ：房地产"
   ]
  },
  {
   "cell_type": "code",
   "execution_count": 21,
   "metadata": {
    "collapsed": false
   },
   "outputs": [],
   "source": [
    "##________________________________________set up the database  ——————————————————————————————————————————————————\n",
    "import sqlite3\n",
    "con= sqlite3.connect('teamwork102.db')  "
   ]
  },
  {
   "cell_type": "code",
   "execution_count": 22,
   "metadata": {
    "collapsed": false
   },
   "outputs": [],
   "source": [
    "##____________________________________ set the environment ____________________________________________________________\n",
    "import os\n",
    "import sys\n",
    "import numpy as np\n",
    "from numpy.random import randn\n",
    "from pandas import Series, DataFrame\n",
    "import pandas.io.sql as sql\n",
    "import pandas as pd\n",
    "import matplotlib.pyplot as plt\n",
    "from os.path import getsize\n",
    "from urllib.request import urlretrieve\n",
    "from lxml.html import parse\n",
    "from urllib.request import urlopen\n",
    "import urllib \n",
    "from __future__ import division\n",
    "from pandas.io.parsers import TextParser"
   ]
  },
  {
   "cell_type": "code",
   "execution_count": 23,
   "metadata": {
    "collapsed": false
   },
   "outputs": [
    {
     "data": {
      "text/plain": [
       "'/Users/wrk/Documents/notebook0'"
      ]
     },
     "execution_count": 23,
     "metadata": {},
     "output_type": "execute_result"
    }
   ],
   "source": [
    "%pwd"
   ]
  },
  {
   "cell_type": "code",
   "execution_count": 24,
   "metadata": {
    "collapsed": true
   },
   "outputs": [],
   "source": [
    "##_________________________________________get sina high_______________________________________________________________\n",
    "def get_sina_high(stockid,start,end):\n",
    "    #stockid with pre sh or sz\n",
    "    data=pd.DataFrame()\n",
    "    daterange=pd.date_range(start,end,freq=\"B\")\n",
    "\n",
    "    for cq in daterange:\n",
    "        url='http://market.finance.sina.com.cn/downxls.php?date='+str(cq.date())+'&symbol='+stockid\n",
    "        urllib.urlretrieve(url, \"temp.txt\")    \n",
    "        # if no data, temp.txt just contains few words        \n",
    "        if getsize(\"temp.txt\")<100:\n",
    "            continue\n",
    "        HighF=pd.read_table(\"temp.txt\",na_values=\"--\",encoding=\"gbk\",index_col=0,parse_dates=True)\n",
    "        HighF=HighF.ix[range(len(HighF)-1,-1,-1)]\n",
    "        delta=cq.date()-HighF.index.date[0]\n",
    "        HighF.index=HighF.index+delta\n",
    "        data=pd.concat([data,HighF])\n",
    "    return data\n"
   ]
  },
  {
   "cell_type": "code",
   "execution_count": 25,
   "metadata": {
    "collapsed": true
   },
   "outputs": [],
   "source": [
    "##________________________get_sina_stock(with stock id)______________________________________________________________\n",
    "def get_sina_stock(stockid,start=\"1990-12-19\",end=pd.datetime.now(),isstock=True,fuquan=True):    \n",
    "    def _unpack(row, kind='td'):\n",
    "        elts = row.findall('.//%s' % kind)\n",
    "        return [val.text_content().strip() for val in elts] # .strip()去掉\\r\\t\\n之类的字符    \n",
    "    def parse_options_data(table,isstock,fuquan):\n",
    "        rows = table.findall('.//tr')\n",
    "        data = [_unpack(r) for r in rows[2:]]\n",
    "        if isstock & fuquan:\n",
    "            colnames = ['date','open','high','close','low','vol','amount','ratio'] # 回避中文处理\n",
    "        else:\n",
    "            colnames = ['date','open','high','close','low','vol','amount']\n",
    "        data= pd.DataFrame(data,columns=colnames)\n",
    "        data.index=pd.to_datetime(data[\"date\"])\n",
    "        data=data.drop(\"date\",axis=1)\n",
    "        data=data.ix[range(len(data)-1,-1,-1)]\n",
    "        return  data\n",
    "    data=pd.DataFrame()\n",
    "    daterange=pd.date_range(start,end,freq=\"Q\")\n",
    "    daterange=daterange.insert(len(daterange),daterange[-1]+1)\n",
    "    stockid=str(stockid).zfill(6)\n",
    "    for cq in daterange: \n",
    "        if isstock:\n",
    "            if fuquan:\n",
    "                url='http://vip.stock.finance.sina.com.cn/corp/go.php/vMS_FuQuanMarketHistory/stockid/'+str(stockid)+'.phtml?year='+str(cq.year)+'&jidu='+str(cq.month/3)\n",
    "            else:\n",
    "                url='http://vip.stock.finance.sina.com.cn/corp/go.php/vMS_MarketHistory/stockid/'+str(stockid)+'.phtml?year='+str(cq.year)+'&jidu='+str(cq.month/3)            \n",
    "        else:            \n",
    "            url='http://vip.stock.finance.sina.com.cn/corp/go.php/vMS_MarketHistory/stockid/'+str(stockid)+'/type/S.phtml?year='+str(cq.year)+'&jidu='+str(cq.month/3)\n",
    "        try:\n",
    "            parsed = parse(url)\n",
    "        except:\n",
    "            print(\"download failed for year=\" +str(cq.year)+',  jidu='+str(cq.month/3))\n",
    "            continue\n",
    "        doc = parsed.getroot()\n",
    "        tables=doc.findall('.//table')     \n",
    "        da= tables[-1] # last table 19 for fuquan data and 4 for index\n",
    "        datatem = parse_options_data(da,isstock,fuquan)\n",
    "        data=pd.concat([data,datatem])\n",
    "    return pd.DataFrame(data[start:end],dtype=float)    \n"
   ]
  },
  {
   "cell_type": "code",
   "execution_count": 26,
   "metadata": {
    "collapsed": true
   },
   "outputs": [],
   "source": [
    "##_____________________________________  get_sina_high ______________________________________________________________\n",
    "\n",
    "def get_sina_high(stockid,start,end):\n",
    "    #stockid with pre sh or sz\n",
    "    data=pd.DataFrame()\n",
    "    daterange=pd.date_range(start,end,freq=\"B\")\n",
    "    for cq in daterange:\n",
    "        url='http://market.finance.sina.com.cn/downxls.php?date='+str(cq.date())+'&symbol='+stockid\n",
    "        urllib.urlretrieve(url, \"temp.txt\")    \n",
    "        # if no data, temp.txt just contains few words        \n",
    "        if getsize(\"temp.txt\")<100:\n",
    "            continue\n",
    "        HighF=pd.read_table(\"temp.txt\",na_values=\"--\",encoding=\"gbk\",index_col=0,parse_dates=True)\n",
    "        HighF=HighF.ix[range(len(HighF)-1,-1,-1)]\n",
    "        delta=cq.date()-HighF.index.date[0]\n",
    "        HighF.index=HighF.index+delta\n",
    "        data=pd.concat([data,HighF])\n",
    "    return data\n",
    "\n"
   ]
  },
  {
   "cell_type": "code",
   "execution_count": 27,
   "metadata": {
    "collapsed": false
   },
   "outputs": [],
   "source": [
    "##______________________________________ get financial related data  _________________________________________________\n",
    "\n",
    "def get_sina_fin(stockid,year):\n",
    "    def _unpack(row,kind='td'):\n",
    "        elts = row.findall('.//%s' % kind)\n",
    "        return [val.text_content().strip() for val in elts] # .strip()去掉\\r\\t\\n之类的字符 \n",
    "    def parse_options_data(table):\n",
    "        rows = table.findall('.//tr')\n",
    "        data = [_unpack(r) for r in rows[1:]]    \n",
    "        data= pd.DataFrame(data)\n",
    "        \n",
    "        datacol=pd.to_datetime(data.ix[0][1:])\n",
    "        dataindex=data[0][1:]        \n",
    "        data=data.drop(0,axis=1)\n",
    "        data=data.ix[1:]\n",
    "        data.index=dataindex\n",
    "        data.columns=datacol\n",
    "        return  data\n",
    "\n",
    "    url=\"http://money.finance.sina.com.cn/corp/go.php/vFD_ProfitStatement/stockid/\"+str(stockid)+\"/ctrl/\"+str(year)+\"/displaytype/4.phtml\"\n",
    "    parsed = parse(urlopen(url))\n",
    "    doc = parsed.getroot()\n",
    "    tables=doc.findall('.//table')\n",
    "    da= tables[-2]      \n",
    "    datatem = parse_options_data(da)\n",
    "     \n",
    "    return datatem\n"
   ]
  },
  {
   "cell_type": "code",
   "execution_count": 28,
   "metadata": {
    "collapsed": false
   },
   "outputs": [
    {
     "name": "stdout",
     "output_type": "stream",
     "text": [
      "['600376', '601155', '000926', '600077', '000062', '600684', '002344', '000838', '000615', '000809', '600510', '600162', '600622', '600393', '600466', '600503', '600515', '600606', '600565', '600604', '600621', '600533', '600555', '600223', '600215', '600234', '600225', '600177', '600173', '600208', '600185', '600340', '600325', '600383', '000006', '600246', '600239', '600322', '600266', '600638', '600773', '600753', '600791', '600790', '600745', '600743', '600748', '600747', '000005', '600895', '000002', '601588', '600823', '600807', '600890', '600848', '600663', '600658', '600675', '600665', '600641', '600639', '600657', '600649', '600732', '600724', '600736', '600733', '600692', '600683', '600716', '600708', '000608', '000573', '000616', '000609', '000540', '000537', '000567', '000558', '000671', '000668', '000718', '000691', '000631', '000620', '000667', '000656', '000043', '000042', '000056', '000046', '000031', '000029', '000040', '000036', '000514', '000506', '000534', '000517', '000402', '000058', '000505', '000502', '600048', '600007', '600053', '600052', '002244', '002208', '002305', '002285', '600133', '600094', '600159', '600158', '600067', '600064', '600082', '000011', '000918', '000897', '000931', '000014', '000736', '000732', '000863', '000797', '002077', '002016', '002146', '002133', '000979', '000965', '001979', '000981']\n"
     ]
    }
   ],
   "source": [
    "##——————————————————————————————————————————————————————import stockid list___________________________________________\n",
    "\n",
    "stockid_list = pd.read_csv('data/realstate.csv')\n",
    "IDlist = []\n",
    "for x in  stockid_list['stockid']:\n",
    "    y = x[:6]\n",
    "    IDlist.append(y)\n",
    "\n",
    "print(IDlist)"
   ]
  },
  {
   "cell_type": "code",
   "execution_count": 29,
   "metadata": {
    "collapsed": false
   },
   "outputs": [],
   "source": [
    "##__________________________________________import daily data to the database__________________________________________\n",
    "\n",
    "for stockid in IDlist:\n",
    "    x=get_sina_stock(stockid,'2011-10-20','2016-10-20')\n",
    "    ##reload(sys)\n",
    "    ##sys.setdefaultencoding( \"utf-8\" )\n",
    "    sql.to_sql(x,'daily'+str(stockid),con)"
   ]
  },
  {
   "cell_type": "code",
   "execution_count": 30,
   "metadata": {
    "collapsed": false
   },
   "outputs": [
    {
     "name": "stdout",
     "output_type": "stream",
     "text": [
      "Not available600376\n",
      "Not available601155\n",
      "Not available000926\n",
      "Not available600077\n",
      "Not available000062\n",
      "Not available600684\n",
      "Not available002344\n",
      "Not available000838\n",
      "Not available000615\n",
      "Not available000809\n",
      "Not available600510\n",
      "Not available600162\n",
      "Not available600622\n",
      "Not available600393\n",
      "Not available600466\n",
      "Not available600503\n",
      "Not available600515\n",
      "Not available600606\n",
      "Not available600565\n",
      "Not available600604\n",
      "Not available600621\n",
      "Not available600533\n",
      "Not available600555\n",
      "Not available600223\n",
      "Not available600215\n",
      "Not available600234\n",
      "Not available600225\n",
      "Not available600177\n",
      "Not available600173\n",
      "Not available600208\n",
      "Not available600185\n",
      "Not available600340\n",
      "Not available600325\n",
      "Not available600383\n",
      "Not available000006\n",
      "Not available600246\n",
      "Not available600239\n",
      "Not available600322\n",
      "Not available600266\n",
      "Not available600638\n",
      "Not available600773\n",
      "Not available600753\n",
      "Not available600791\n",
      "Not available600790\n",
      "Not available600745\n",
      "Not available600743\n",
      "Not available600748\n",
      "Not available600747\n",
      "Not available000005\n",
      "Not available600895\n",
      "Not available000002\n",
      "Not available601588\n",
      "Not available600823\n",
      "Not available600807\n",
      "Not available600890\n",
      "Not available600848\n",
      "Not available600663\n",
      "Not available600658\n",
      "Not available600675\n",
      "Not available600665\n",
      "Not available600641\n",
      "Not available600639\n",
      "Not available600657\n",
      "Not available600649\n",
      "Not available600732\n",
      "Not available600724\n",
      "Not available600736\n",
      "Not available600733\n",
      "Not available600692\n",
      "Not available600683\n",
      "Not available600716\n",
      "Not available600708\n",
      "Not available000608\n",
      "Not available000573\n",
      "Not available000616\n",
      "Not available000609\n",
      "Not available000540\n",
      "Not available000537\n",
      "Not available000567\n",
      "Not available000558\n",
      "Not available000671\n",
      "Not available000668\n",
      "Not available000718\n",
      "Not available000691\n",
      "Not available000631\n",
      "Not available000620\n",
      "Not available000667\n",
      "Not available000656\n",
      "Not available000043\n",
      "Not available000042\n",
      "Not available000056\n",
      "Not available000046\n",
      "Not available000031\n",
      "Not available000029\n",
      "Not available000040\n",
      "Not available000036\n",
      "Not available000514\n",
      "Not available000506\n",
      "Not available000534\n",
      "Not available000517\n",
      "Not available000402\n",
      "Not available000058\n",
      "Not available000505\n",
      "Not available000502\n",
      "Not available600048\n",
      "Not available600007\n",
      "Not available600053\n",
      "Not available600052\n",
      "Not available002244\n",
      "Not available002208\n",
      "Not available002305\n",
      "Not available002285\n",
      "Not available600133\n",
      "Not available600094\n",
      "Not available600159\n",
      "Not available600158\n",
      "Not available600067\n",
      "Not available600064\n",
      "Not available600082\n",
      "Not available000011\n",
      "Not available000918\n",
      "Not available000897\n",
      "Not available000931\n",
      "Not available000014\n",
      "Not available000736\n",
      "Not available000732\n",
      "Not available000863\n",
      "Not available000797\n",
      "Not available002077\n",
      "Not available002016\n",
      "Not available002146\n",
      "Not available002133\n",
      "Not available000979\n",
      "Not available000965\n",
      "Not available001979\n",
      "Not available000981\n"
     ]
    }
   ],
   "source": [
    "##_________________________________________import daily high frequency data to the database____________________________\n",
    "\n",
    "for stockid in IDlist:\n",
    "    try:\n",
    "        x=get_sina_high(stockid_2,'2011-10-20','2016-10-20')\n",
    "        ##reload(sys)\n",
    "        ##sys.setdefaultencoding( \"utf-8\" )\n",
    "        sql.to_sql(x,'high'+str(stockid),con)\n",
    "    except:\n",
    "        print('Not available' + str(stockid))\n",
    "        continue"
   ]
  },
  {
   "cell_type": "code",
   "execution_count": 31,
   "metadata": {
    "collapsed": false
   },
   "outputs": [
    {
     "ename": "AttributeError",
     "evalue": "module 'urllib' has no attribute 'urlretrieve'",
     "output_type": "error",
     "traceback": [
      "\u001b[0;31m---------------------------------------------------------------------------\u001b[0m",
      "\u001b[0;31mAttributeError\u001b[0m                            Traceback (most recent call last)",
      "\u001b[0;32m<ipython-input-31-c949d09264f4>\u001b[0m in \u001b[0;36m<module>\u001b[0;34m()\u001b[0m\n\u001b[0;32m----> 1\u001b[0;31m \u001b[0ma\u001b[0m \u001b[0;34m=\u001b[0m \u001b[0mget_sina_high\u001b[0m\u001b[0;34m(\u001b[0m\u001b[0;34m'600325'\u001b[0m\u001b[0;34m,\u001b[0m\u001b[0;34m'2016-10-18'\u001b[0m\u001b[0;34m,\u001b[0m\u001b[0;34m'2016-10-21'\u001b[0m\u001b[0;34m)\u001b[0m\u001b[0;34m\u001b[0m\u001b[0m\n\u001b[0m\u001b[1;32m      2\u001b[0m \u001b[0mprint\u001b[0m\u001b[0;34m(\u001b[0m\u001b[0ma\u001b[0m\u001b[0;34m.\u001b[0m\u001b[0mdtype\u001b[0m\u001b[0;34m)\u001b[0m\u001b[0;34m\u001b[0m\u001b[0m\n",
      "\u001b[0;32m<ipython-input-26-a8445d73ea7f>\u001b[0m in \u001b[0;36mget_sina_high\u001b[0;34m(stockid, start, end)\u001b[0m\n\u001b[1;32m      7\u001b[0m     \u001b[0;32mfor\u001b[0m \u001b[0mcq\u001b[0m \u001b[0;32min\u001b[0m \u001b[0mdaterange\u001b[0m\u001b[0;34m:\u001b[0m\u001b[0;34m\u001b[0m\u001b[0m\n\u001b[1;32m      8\u001b[0m         \u001b[0murl\u001b[0m\u001b[0;34m=\u001b[0m\u001b[0;34m'http://market.finance.sina.com.cn/downxls.php?date='\u001b[0m\u001b[0;34m+\u001b[0m\u001b[0mstr\u001b[0m\u001b[0;34m(\u001b[0m\u001b[0mcq\u001b[0m\u001b[0;34m.\u001b[0m\u001b[0mdate\u001b[0m\u001b[0;34m(\u001b[0m\u001b[0;34m)\u001b[0m\u001b[0;34m)\u001b[0m\u001b[0;34m+\u001b[0m\u001b[0;34m'&symbol='\u001b[0m\u001b[0;34m+\u001b[0m\u001b[0mstockid\u001b[0m\u001b[0;34m\u001b[0m\u001b[0m\n\u001b[0;32m----> 9\u001b[0;31m         \u001b[0murllib\u001b[0m\u001b[0;34m.\u001b[0m\u001b[0murlretrieve\u001b[0m\u001b[0;34m(\u001b[0m\u001b[0murl\u001b[0m\u001b[0;34m,\u001b[0m \u001b[0;34m\"temp.txt\"\u001b[0m\u001b[0;34m)\u001b[0m\u001b[0;34m\u001b[0m\u001b[0m\n\u001b[0m\u001b[1;32m     10\u001b[0m         \u001b[0;31m# if no data, temp.txt just contains few words\u001b[0m\u001b[0;34m\u001b[0m\u001b[0;34m\u001b[0m\u001b[0m\n\u001b[1;32m     11\u001b[0m         \u001b[0;32mif\u001b[0m \u001b[0mgetsize\u001b[0m\u001b[0;34m(\u001b[0m\u001b[0;34m\"temp.txt\"\u001b[0m\u001b[0;34m)\u001b[0m\u001b[0;34m<\u001b[0m\u001b[0;36m100\u001b[0m\u001b[0;34m:\u001b[0m\u001b[0;34m\u001b[0m\u001b[0m\n",
      "\u001b[0;31mAttributeError\u001b[0m: module 'urllib' has no attribute 'urlretrieve'"
     ]
    }
   ],
   "source": [
    "a = get_sina_high('600325','2016-10-18','2016-10-21')\n",
    "print(a.dtype)"
   ]
  },
  {
   "cell_type": "code",
   "execution_count": null,
   "metadata": {
    "collapsed": true
   },
   "outputs": [],
   "source": [
    "##________________________________unpack the data from website_____________________________________________________\n",
    "def _unpack(row, kind='td'):\n",
    "    elts = row.findall('.//%s' % kind)\n",
    "    return [val.text_content().strip() for val in elts]# .strip()去掉\\r\\t\\n之类的字符   \n",
    "\n",
    "##_____________________________________define get_data_____________________________________________________________\n",
    "def get_data(url,stockname,dataamounts = 12,timelenth=23):\n",
    "    parsed = parse(urlopen(url))\n",
    "    doc = parsed.getroot()\n",
    "    tables=doc.findall('.//table')\n",
    "    table = tables[19]\n",
    "    row = table.findall('.//tr')\n",
    "    data = [_unpack(r) for r in row[1:]]\n",
    "    \n",
    "    flag = 0\n",
    "    tot = (dataamounts+1)*timelenth+1\n",
    "    for i in range(1,min(tot,len(row)),dataamounts+1):\n",
    "        header=_unpack(row[i],kind=\"td\")\n",
    "        header = [stockname,header[1]]\n",
    "        x = TextParser(data[i:i+dataamounts-1], names=header).get_chunk()\n",
    "        x = x.set_index([header[0]])\n",
    "        if flag ==0:\n",
    "            y = x\n",
    "            flag = 1\n",
    "        else:\n",
    "            y = y.join(x,how='outer')\n",
    "    y = y.T\n",
    "    return y"
   ]
  },
  {
   "cell_type": "code",
   "execution_count": null,
   "metadata": {
    "collapsed": false
   },
   "outputs": [],
   "source": [
    "\n",
    "##_________________________________________eliminate the error when dealing with 0_____________________________________\n",
    "def str2stockid(x):\n",
    "    return (6-len(str(x)))*'0'+str(x)\n",
    "##here is a test:\n",
    "##print(str2stockid('000003'))\n",
    "\n",
    "##________________________________________add financial data to the dtabase___________________________________________ \n",
    "for x in IDlist1:\n",
    "    stockid = str2stockid(x)\n",
    "    ##url of financial information:\n",
    "    url = 'http://vip.stock.finance.sina.com.cn/corp/go.php/vFD_FinanceSummary/stockid/'+stockid+'.phtml'\n",
    "    stockname = stockid + 'accounting_files'\n",
    "    y = get_data(url,stockname)\n",
    "    print(y)\n",
    "    try:\n",
    "        y.to_sql(stockname,con)\n",
    "    except:\n",
    "        print('Stock_id Overlap')"
   ]
  },
  {
   "cell_type": "code",
   "execution_count": null,
   "metadata": {
    "collapsed": true
   },
   "outputs": [],
   "source": []
  },
  {
   "cell_type": "code",
   "execution_count": null,
   "metadata": {
    "collapsed": true
   },
   "outputs": [],
   "source": []
  },
  {
   "cell_type": "code",
   "execution_count": null,
   "metadata": {
    "collapsed": true
   },
   "outputs": [],
   "source": []
  },
  {
   "cell_type": "code",
   "execution_count": null,
   "metadata": {
    "collapsed": true
   },
   "outputs": [],
   "source": []
  }
 ],
 "metadata": {
  "anaconda-cloud": {},
  "kernelspec": {
   "display_name": "Python [conda root]",
   "language": "python",
   "name": "conda-root-py"
  },
  "language_info": {
   "codemirror_mode": {
    "name": "ipython",
    "version": 3
   },
   "file_extension": ".py",
   "mimetype": "text/x-python",
   "name": "python",
   "nbconvert_exporter": "python",
   "pygments_lexer": "ipython3",
   "version": "3.5.2"
  }
 },
 "nbformat": 4,
 "nbformat_minor": 0
}
