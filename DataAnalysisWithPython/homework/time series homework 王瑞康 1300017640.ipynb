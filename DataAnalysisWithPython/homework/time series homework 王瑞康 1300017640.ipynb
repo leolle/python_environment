{
 "cells": [
  {
   "cell_type": "code",
   "execution_count": 73,
   "metadata": {
    "collapsed": false
   },
   "outputs": [],
   "source": [
    "#####set up the environment\n",
    "import pandas as pd\n",
    "import numpy as np\n",
    "import matplotlib.pylab as plt\n",
    "import scipy.stats as stats\n",
    "from scipy.stats import chi2\n",
    "from lxml.html import parse\n",
    "from urllib.request import urlopen\n",
    "from os.path import getsize\n",
    "from math import log\n",
    "from __future__ import division\n",
    "from pandas import Series, DataFrame\n",
    "import urllib \n",
    "import statsmodels.api as sm\n",
    "import statsmodels.tsa\n",
    "from statsmodels.tsa.stattools import q_stat, acf, pacf\n",
    "from statsmodels.tsa.stattools import adfuller\n",
    "from datetime import datetime\n",
    "from statsmodels.tsa.stattools import pacf\n",
    "import statsmodels.formula.api as sm\n",
    "from statsmodels.tsa.tsatools import  lagmat\n",
    "from statsmodels.tsa.stattools import pacf\n",
    "from statsmodels.tsa.arima_process import arma_generate_sample\n",
    "%matplotlib inline\n",
    "import os\n",
    "import sys\n",
    "import matplotlib  \n",
    "from matplotlib.pyplot import plot,savefig \n",
    "from numpy.random import randn\n",
    "import matplotlib.pyplot as plt\n"
   ]
  },
  {
   "cell_type": "code",
   "execution_count": 74,
   "metadata": {
    "collapsed": false
   },
   "outputs": [
    {
     "data": {
      "text/plain": [
       "'/Users/wrk/Documents/notebook0'"
      ]
     },
     "execution_count": 74,
     "metadata": {},
     "output_type": "execute_result"
    }
   ],
   "source": [
    "%pwd"
   ]
  },
  {
   "cell_type": "code",
   "execution_count": 75,
   "metadata": {
    "collapsed": false
   },
   "outputs": [
    {
     "name": "stdout",
     "output_type": "stream",
     "text": [
      "1.38320834519\n",
      "1.5585688538\n",
      "1.69581105794\n",
      "2.14270029696\n",
      "2.17244481326\n"
     ]
    },
    {
     "data": {
      "image/png": "[encoded data removed]",
      "text/plain": [
       "<matplotlib.figure.Figure at 0x11b829128>"
      ]
     },
     "metadata": {},
     "output_type": "display_data"
    }
   ],
   "source": [
    "def autocoef(data,k):\n",
    "    meanw=np.mean(data)\n",
    "    n=len(data)    \n",
    "    return np.nansum((data[:(n-k)]-meanw)*(data[k:]-meanw))/np.nansum((data-meanw)**2)\n",
    "def qtest(data,m,plot):\n",
    "    q=np.zeros(m)\n",
    "    l=[(autocoef(data,i+1))**2 for i in range(m)]\n",
    "    for j in range(m):\n",
    "        q[j]=sum(l[:j+1])*len(data)\n",
    "        print(q[j])\n",
    "    if plot==1:\n",
    "        plt.figure(figsize=(6,5))\n",
    "        plt.plot(range(1,m+1),q[:],\"b*\",[1,m],stats.chi2.ppf(0.95,[1,m]),\"r--\")\n",
    "n=1000\n",
    "data=np.random.normal(size=n)\n",
    "qtest(data,5,1)"
   ]
  },
  {
   "cell_type": "markdown",
   "metadata": {},
   "source": [
    "+ (a)\n",
    "\n",
    "$${r_t} = {\\phi _0} + {\\phi _1}{r_{t - 1}} + {\\phi _2}{r_{t - 2}} + {a_t}$$\n",
    "对上式两边求期望得： \n",
    "$$E\\left( {{r_t}} \\right) = \\frac{{{\\phi _0}}}{{1 - {\\phi _1} - {\\phi _2}}}$$\n",
    "考虑零均值的二阶自回归模型 $${r_t} ={\\phi _1}{r_{t - 1}} + {\\phi _2}{r_{t - 2}} + {a_t}$$\n",
    "显然$${\\rho _0} = 1$$\n",
    "在${r_t} ={\\phi _1}{r_{t - 1}} + {\\phi _2}{r_{t - 2}} + {a_t}$两边同时乘上${r_{t - 1}}$得：\n",
    "$${r_t}{r_{t - 1}} ={\\phi _1}{r_{t - 1}}{r_{t - 1}} + {\\phi _2}{r_{t - 2}}{r_{t - 1}} + {a_t}{r_{t - 1}}$$\n",
    "对上式两边同时求期望得${\\rho _1}={\\phi _1}+{\\phi _2}{\\rho _1}$\n",
    "即：$${\\rho _1} = \\frac{{{\\phi _1}}}{{1 - {\\phi _2}}}$$\n",
    "再对原式两边同时乘上${r_{t - l}}$得：\n",
    "$${r_t}{r_{t - l}} ={\\phi _1}{r_{t - 1}}{r_{t - l}} + {\\phi _2}{r_{t - 2}}{r_{t - l}} + {a_t}{r_{t - l}}$$\n",
    "对上式两边同时求期望得$${\\rho _l} = {\\phi _1}{\\rho _{l - 1}} + {\\phi _2}{\\rho _{l - 2}},\\;\\;\\;{\\kern 1pt} l \\ge 1$$\n",
    "\n",
    "证毕"
   ]
  },
  {
   "cell_type": "code",
   "execution_count": 76,
   "metadata": {
    "collapsed": true
   },
   "outputs": [],
   "source": [
    "##stable or not\n",
    "def stable(phi1,phi2):\n",
    "    if (phi1**2+4*phi2)>0:\n",
    "        a=np.abs((-phi1+np.sqrt(phi1**2+4*phi2))/(2*phi2))\n",
    "        b=np.abs((-phi1-np.sqrt(phi1**2+4*phi2))/(2*phi2))\n",
    "        if a>1 and b>1:\n",
    "            print('stable')\n",
    "        else:\n",
    "            print('not stable')\n",
    "    else:\n",
    "        if -1/phi2>1:\n",
    "             print('stable')\n",
    "        else:\n",
    "            print('not stable')"
   ]
  },
  {
   "cell_type": "code",
   "execution_count": 77,
   "metadata": {
    "collapsed": true
   },
   "outputs": [],
   "source": [
    "###autocorralation\n",
    "def autocorr(phi1,phi2,p):\n",
    "    y=1;z=phi1/(1-phi2)\n",
    "    x=[y,z]\n",
    "    for i in range(2,p+1):\n",
    "        t=phi1*z+phi2*y\n",
    "        x.append(t)\n",
    "        y=z;z=t\n",
    "    return x"
   ]
  },
  {
   "cell_type": "code",
   "execution_count": 78,
   "metadata": {
    "collapsed": false
   },
   "outputs": [],
   "source": [
    "###get sina stock\n",
    "def get_sina_stock(stockid,start=\"1990-12-19\",end=pd.datetime.now(),isstock=True,fuquan=True):    \n",
    "    def _unpack(row, kind='td'):\n",
    "        elts = row.findall('.//%s' % kind)\n",
    "        return [val.text_content().strip() for val in elts] \n",
    "    def parse_options_data(table,isstock,fuquan):\n",
    "        rows = table.findall('.//tr')\n",
    "        data = [_unpack(r) for r in rows[2:]]\n",
    "        if isstock & fuquan:\n",
    "            colnames = ['date','open','high','close','low','vol','amount','ratio'] \n",
    "        else:\n",
    "            colnames = ['date','open','high','close','low','vol','amount']\n",
    "        data= pd.DataFrame(data,columns=colnames)\n",
    "        data.index=pd.to_datetime(data[\"date\"])\n",
    "        data=data.drop(\"date\",axis=1)\n",
    "        data=data.ix[range(len(data)-1,-1,-1)]\n",
    "        return  data\n",
    "    data=pd.DataFrame()\n",
    "    daterange=pd.date_range(start,end,freq=\"Q\")\n",
    "    daterange=daterange.insert(len(daterange),daterange[-1]+1)\n",
    "    for cq in daterange: \n",
    "        if isstock:\n",
    "            if fuquan:\n",
    "                url='http://vip.stock.finance.sina.com.cn/corp/go.php/vMS_FuQuanMarketHistory/stockid/'+str(stockid)+'.phtml?year='+str(cq.year)+'&jidu='+str(cq.month/3)\n",
    "            else:\n",
    "                url='http://vip.stock.finance.sina.com.cn/corp/go.php/vMS_MarketHistory/stockid/'+str(stockid)+'.phtml?year='+str(cq.year)+'&jidu='+str(cq.month/3)            \n",
    "        else:            \n",
    "            url='http://vip.stock.finance.sina.com.cn/corp/go.php/vMS_MarketHistory/stockid/'+str(stockid)+'/type/S.phtml?year='+str(cq.year)+'&jidu='+str(cq.month/3)\n",
    "        try:\n",
    "            parsed = parse(urlopen(url))\n",
    "        except:\n",
    "            print (\"download failed for year=\" +str(cq.year)+',  jidu='+str(cq.month/3))\n",
    "            continue\n",
    "        doc = parsed.getroot()\n",
    "        tables=doc.findall('.//table')     \n",
    "        da= tables[-1] # last table 19 for fuquan data and 4 for index\n",
    "        datatem = parse_options_data(da,isstock,fuquan)\n",
    "        data=pd.concat([data,datatem])\n",
    "    return pd.DataFrame(data[start:end],dtype=float)    "
   ]
  },
  {
   "cell_type": "code",
   "execution_count": 87,
   "metadata": {
    "collapsed": false
   },
   "outputs": [
    {
     "name": "stdout",
     "output_type": "stream",
     "text": [
      "0.00683450194434\n",
      "0.726538294956\n",
      "2.7432222176\n",
      "2.89114728364\n",
      "6.822616157\n"
     ]
    },
    {
     "data": {
      "image/png": "[encoded data removed]",
      "text/plain": [
       "<matplotlib.figure.Figure at 0x118b46780>"
      ]
     },
     "metadata": {},
     "output_type": "display_data"
    }
   ],
   "source": [
    "data=get_sina_stock(600376,\"2012-1-1\",\"2016-12-1\")\n",
    "SimpleReturnDaily1=data[\"close\"].pct_change()\n",
    "SimpleReturnDaily1=SimpleReturnDaily1.dropna()\n",
    "SimpleReturnDaily1=list(SimpleReturnDaily1)\n",
    "qtest(SimpleReturnDaily1,5,1)"
   ]
  },
  {
   "cell_type": "code",
   "execution_count": 88,
   "metadata": {
    "collapsed": false
   },
   "outputs": [
    {
     "name": "stdout",
     "output_type": "stream",
     "text": [
      "0.0572278019224\n",
      "[ 0.05771662 -0.22397335  0.99959908 -0.61096249  0.20538664  0.1116322\n",
      " -0.92493255 -0.02216051 -1.05254003]\n",
      "[-0.86091933 -0.2433146   0.1923364  -0.51353213  0.384644   -0.42160367\n",
      " -0.05250242 -0.21763998 -1.00216612 -0.87278005]\n",
      "[-4.04987315 -3.90501777 -0.6028741  -0.70536486 -1.15580669  0.9838042\n",
      " -1.92884026  0.48511656 -1.89118625 -4.01839729 -3.65378862]\n"
     ]
    }
   ],
   "source": [
    "#95%的阀值为：\n",
    "from scipy.linalg import toeplitz\n",
    "print(1.96/np.sqrt(len(SimpleReturnDaily1)))\n",
    "def mypacf(ac,k):    \n",
    "    r=ac[:k]\n",
    "    R = toeplitz(r[:-1])\n",
    "    rho = np.linalg.solve(R, r[1:])\n",
    "    return(rho)\n",
    "print(mypacf(SimpleReturnDaily1,10))\n",
    "print(mypacf(SimpleReturnDaily1,11))\n",
    "print(mypacf(SimpleReturnDaily1,12))"
   ]
  },
  {
   "cell_type": "code",
   "execution_count": 89,
   "metadata": {
    "collapsed": false
   },
   "outputs": [
    {
     "name": "stdout",
     "output_type": "stream",
     "text": [
      "                            OLS Regression Results                            \n",
      "==============================================================================\n",
      "Dep. Variable:                      y   R-squared:                       0.023\n",
      "Model:                            OLS   Adj. R-squared:                  0.013\n",
      "Method:                 Least Squares   F-statistic:                     2.444\n",
      "Date:                Sat, 31 Dec 2016   Prob (F-statistic):            0.00513\n",
      "Time:                        15:26:11   Log-Likelihood:                 2421.4\n",
      "No. Observations:                1173   AIC:                            -4821.\n",
      "Df Residuals:                    1162   BIC:                            -4765.\n",
      "Df Model:                          11                                         \n",
      "Covariance Type:            nonrobust                                         \n",
      "==============================================================================\n",
      "                 coef    std err          t      P>|t|      [95.0% Conf. Int.]\n",
      "------------------------------------------------------------------------------\n",
      "x1            -0.0003      0.029     -0.012      0.991        -0.058     0.057\n",
      "x2             0.0262      0.029      0.891      0.373        -0.031     0.084\n",
      "x3            -0.0354      0.029     -1.207      0.228        -0.093     0.022\n",
      "x4             0.0148      0.029      0.504      0.614        -0.043     0.072\n",
      "x5            -0.0543      0.029     -1.853      0.064        -0.112     0.003\n",
      "x6            -0.0623      0.029     -2.127      0.034        -0.120    -0.005\n",
      "x7             0.0736      0.029      2.511      0.012         0.016     0.131\n",
      "x8             0.0442      0.029      1.506      0.132        -0.013     0.102\n",
      "x9             0.0540      0.029      1.838      0.066        -0.004     0.112\n",
      "x10           -0.0247      0.029     -0.840      0.401        -0.082     0.033\n",
      "x11            0.0427      0.029      1.452      0.147        -0.015     0.100\n",
      "==============================================================================\n",
      "Omnibus:                       55.787   Durbin-Watson:                   1.995\n",
      "Prob(Omnibus):                  0.000   Jarque-Bera (JB):              181.625\n",
      "Skew:                           0.049   Prob(JB):                     3.64e-40\n",
      "Kurtosis:                       4.925   Cond. No.                         1.19\n",
      "==============================================================================\n",
      "\n",
      "Warnings:\n",
      "[1] Standard Errors assume that the covariance matrix of the errors is correctly specified.\n"
     ]
    }
   ],
   "source": [
    "# 最小二乘估计\n",
    "import statsmodels.formula.api as sm\n",
    "# 自回归的数据矩阵　\n",
    "from statsmodels.tsa.tsatools import  lagmat\n",
    "A=lagmat(SimpleReturnDaily1,11)\n",
    "results = sm.OLS(SimpleReturnDaily1, A).fit()\n",
    "print(results.summary())"
   ]
  },
  {
   "cell_type": "code",
   "execution_count": 90,
   "metadata": {
    "collapsed": false
   },
   "outputs": [
    {
     "name": "stdout",
     "output_type": "stream",
     "text": [
      "23.8074658837\n",
      "28.6156720642\n",
      "29.3387452961\n",
      "30.1091573032\n",
      "33.8834471474\n"
     ]
    },
    {
     "data": {
      "text/plain": [
       "array([ 1.        ,  0.62982892, -0.18053684,  0.02266526,  0.13172511,\n",
       "        0.2406439 ,  0.1042829 ,  0.02685878, -0.1058745 ,  0.14390792,\n",
       "        0.04443043])"
      ]
     },
     "execution_count": 90,
     "metadata": {},
     "output_type": "execute_result"
    },
    {
     "data": {
      "image/png": "[encoded data removed]",
      "text/plain": [
       "<matplotlib.figure.Figure at 0x118b510b8>"
      ]
     },
     "metadata": {},
     "output_type": "display_data"
    }
   ],
   "source": [
    "A1 = pd.read_table(\"gdp.csv\",sep=\",\")\n",
    "SimpleReturnDaily=A1[\"gdp\"].pct_change()\n",
    "SimpleReturnDaily=SimpleReturnDaily.dropna()\n",
    "SimpleReturnDaily=list(SimpleReturnDaily)\n",
    "qtest(SimpleReturnDaily,5,1)\n",
    "pacf(SimpleReturnDaily,10)"
   ]
  },
  {
   "cell_type": "code",
   "execution_count": 91,
   "metadata": {
    "collapsed": false
   },
   "outputs": [
    {
     "name": "stdout",
     "output_type": "stream",
     "text": [
      "                            OLS Regression Results                            \n",
      "==============================================================================\n",
      "Dep. Variable:                      y   R-squared:                       0.688\n",
      "Model:                            OLS   Adj. R-squared:                  0.678\n",
      "Method:                 Least Squares   F-statistic:                     66.28\n",
      "Date:                Sat, 31 Dec 2016   Prob (F-statistic):           6.41e-16\n",
      "Time:                        15:26:20   Log-Likelihood:                 71.495\n",
      "No. Observations:                  62   AIC:                            -139.0\n",
      "Df Residuals:                      60   BIC:                            -134.7\n",
      "Df Model:                           2                                         \n",
      "Covariance Type:            nonrobust                                         \n",
      "==============================================================================\n",
      "                 coef    std err          t      P>|t|      [95.0% Conf. Int.]\n",
      "------------------------------------------------------------------------------\n",
      "x1             0.8269      0.129      6.405      0.000         0.569     1.085\n",
      "x2             0.0060      0.130      0.046      0.963        -0.253     0.265\n",
      "==============================================================================\n",
      "Omnibus:                        0.162   Durbin-Watson:                   1.904\n",
      "Prob(Omnibus):                  0.922   Jarque-Bera (JB):                0.325\n",
      "Skew:                          -0.096   Prob(JB):                        0.850\n",
      "Kurtosis:                       2.702   Cond. No.                         3.27\n",
      "==============================================================================\n",
      "\n",
      "Warnings:\n",
      "[1] Standard Errors assume that the covariance matrix of the errors is correctly specified.\n"
     ]
    }
   ],
   "source": [
    "#####最小二乘估计 \n",
    "X=lagmat(SimpleReturnDaily,2)\n",
    "results = sm.OLS(SimpleReturnDaily, X).fit()\n",
    "print(results.summary())"
   ]
  },
  {
   "cell_type": "code",
   "execution_count": 92,
   "metadata": {
    "collapsed": false
   },
   "outputs": [
    {
     "name": "stdout",
     "output_type": "stream",
     "text": [
      "Variance:0.0740957701148\n",
      "Expectation：0.018521792595\n"
     ]
    }
   ],
   "source": [
    "print('Variance:'+str(results.resid.std()))\n",
    "print('Expectation：'+str(results.resid.mean()))"
   ]
  },
  {
   "cell_type": "code",
   "execution_count": 93,
   "metadata": {
    "collapsed": false
   },
   "outputs": [
    {
     "data": {
      "text/plain": [
       "nan"
      ]
     },
     "execution_count": 93,
     "metadata": {},
     "output_type": "execute_result"
    }
   ],
   "source": [
    "phi1=0.8269;phi2=0.006\n",
    "2*np.pi/np.arccos(phi1/(2*np.sqrt(-phi2)))"
   ]
  },
  {
   "cell_type": "code",
   "execution_count": 94,
   "metadata": {
    "collapsed": false
   },
   "outputs": [
    {
     "data": {
      "text/plain": [
       "[<matplotlib.lines.Line2D at 0x118a431d0>,\n",
       " <matplotlib.lines.Line2D at 0x118a432b0>,\n",
       " <matplotlib.lines.Line2D at 0x118a43fd0>]"
      ]
     },
     "execution_count": 94,
     "metadata": {},
     "output_type": "execute_result"
    },
    {
     "data": {
      "image/png": "[encoded data removed]",
      "text/plain": [
       "<matplotlib.figure.Figure at 0x1044e71d0>"
      ]
     },
     "metadata": {},
     "output_type": "display_data"
    }
   ],
   "source": [
    "###可以看出，无周期\n",
    "k=10\n",
    "autoco=[autocoef(results.resid,i) for i in range(k+1)]\n",
    "n=len(results.resid)\n",
    "plt.figure(figsize=(6,5))\n",
    "plt.plot(range(1,k+1),autoco[1:],\"b*\",[0,k+1],[1.96/np.sqrt(n)]*2,\"r--\",[0,k+1],[-1.96/np.sqrt(n)]*2,\"r--\")"
   ]
  },
  {
   "cell_type": "code",
   "execution_count": 95,
   "metadata": {
    "collapsed": true
   },
   "outputs": [],
   "source": [
    "n=len(SimpleReturnDaily)\n",
    "x1=SimpleReturnDaily[n-2]\n",
    "x2=SimpleReturnDaily[n-1]"
   ]
  },
  {
   "cell_type": "code",
   "execution_count": 96,
   "metadata": {
    "collapsed": false
   },
   "outputs": [
    {
     "name": "stdout",
     "output_type": "stream",
     "text": [
      "2015 prediction：[ 0.07941253]\n",
      "%95 confidence interval：[-0.06581518]-[ 0.22464024]\n"
     ]
    }
   ],
   "source": [
    "sig=results.resid.std()\n",
    "a=results.predict(exog=[x1,x2])\n",
    "print('2015 prediction：'+str(a))\n",
    "print('%95 confidence interval：'+str(a-1.96*sig)+'-'+str(a+1.96*sig))"
   ]
  },
  {
   "cell_type": "code",
   "execution_count": 97,
   "metadata": {
    "collapsed": false
   },
   "outputs": [
    {
     "name": "stdout",
     "output_type": "stream",
     "text": [
      "2016 prediction：[ 0.06363451]\n",
      "%95 confidence interval：[-0.0815932]-[ 0.20886222]\n"
     ]
    }
   ],
   "source": [
    "b=results.predict(exog=[x2,a])\n",
    "print('2016 prediction：'+str(b))\n",
    "print('%95 confidence interval：'+str(b-1.96*sig)+'-'+str(b+1.96*sig))"
   ]
  },
  {
   "cell_type": "code",
   "execution_count": 102,
   "metadata": {
    "collapsed": false
   },
   "outputs": [
    {
     "name": "stdout",
     "output_type": "stream",
     "text": [
      "283.463128679\n",
      "563.372684874\n",
      "839.680599623\n",
      "1112.49484359\n",
      "1382.26701977\n",
      "1649.2048779\n"
     ]
    },
    {
     "data": {
      "image/png": "[encoded data removed]",
      "text/plain": [
       "<matplotlib.figure.Figure at 0x1182cca58>"
      ]
     },
     "metadata": {},
     "output_type": "display_data"
    }
   ],
   "source": [
    "data=get_sina_stock(\"000001\",\"1991-1-1\",\"2014-12-31\",isstock=False)\n",
    "data_month_high=data['high'].resample(\"M\").mean()\n",
    "data_month_low=data['low'].resample(\"M\").mean()\n",
    "data_month_high_log=data_month_high.map(log)\n",
    "data_month_low_log=data_month_low.map(log)\n",
    "data_month_variance=data_month_high_log-data_month_low_log\n",
    "data_month_variance\n",
    "log(len(data_month_variance))\n",
    "qtest(data_month_variance,6,1)\n",
    "###Q值>>卡方分布的95%分位点，拒绝白噪声假设"
   ]
  },
  {
   "cell_type": "code",
   "execution_count": 99,
   "metadata": {
    "collapsed": false
   },
   "outputs": [
    {
     "name": "stdout",
     "output_type": "stream",
     "text": [
      "count    287.000000\n",
      "mean       0.000105\n",
      "std        0.012667\n",
      "min       -0.095757\n",
      "25%       -0.003221\n",
      "50%        0.000012\n",
      "75%        0.003761\n",
      "max        0.108143\n",
      "dtype: float64\n",
      "0.115695141876\n"
     ]
    },
    {
     "data": {
      "text/plain": [
       "array([ 1.        , -0.39979156, -0.30594176, -0.08545339, -0.07591949,\n",
       "       -0.18000932,  0.01770382,  0.06744801, -0.05291108, -0.03858413,\n",
       "        0.05268082])"
      ]
     },
     "execution_count": 99,
     "metadata": {},
     "output_type": "execute_result"
    },
    {
     "data": {
      "image/png": "[encoded data removed]",
      "text/plain": [
       "<matplotlib.figure.Figure at 0x11bd070f0>"
      ]
     },
     "metadata": {},
     "output_type": "display_data"
    },
    {
     "data": {
      "image/png": "[encoded data removed]",
      "text/plain": [
       "<matplotlib.figure.Figure at 0x118c8e400>"
      ]
     },
     "metadata": {},
     "output_type": "display_data"
    }
   ],
   "source": [
    "data_month_variance.plot(subplots=True)\n",
    "data_month_variance=data_month_variance-data_month_variance.shift(1)\n",
    "data_month_variance.plot(subplots=True)\n",
    "data_month_variance=data_month_variance.dropna()\n",
    "adfuller(data_month_variance)\n",
    "print(data_month_variance.describe())\n",
    "acf(data_month_variance,nlags=15)\n",
    "k=15\n",
    "autoco=acf(data_month_variance,nlags=k)\n",
    "n=len(data_month_variance)\n",
    "plt.figure(figsize=(6,5))\n",
    "plt.plot(range(1,k+1),autoco[1:],\"b*\",[0,k+1],[1.96/np.sqrt(n)]*2,\"r--\",[0,k+1],[-1.96/np.sqrt(n)]*2,\"r--\")\n",
    "acf(data_month_variance,nlags=15)\n",
    "print(1.96/np.sqrt(len(data_month_variance)))\n",
    "pacf(data_month_variance,10)"
   ]
  },
  {
   "cell_type": "code",
   "execution_count": 101,
   "metadata": {
    "collapsed": false
   },
   "outputs": [
    {
     "ename": "AttributeError",
     "evalue": "module 'statsmodels.formula.api' has no attribute 'tsa'",
     "output_type": "error",
     "traceback": [
      "\u001b[0;31m---------------------------------------------------------------------------\u001b[0m",
      "\u001b[0;31mAttributeError\u001b[0m                            Traceback (most recent call last)",
      "\u001b[0;32m<ipython-input-101-cd6c69415d70>\u001b[0m in \u001b[0;36m<module>\u001b[0;34m()\u001b[0m\n\u001b[1;32m      3\u001b[0m \u001b[0mmean\u001b[0m\u001b[0;34m=\u001b[0m\u001b[0mdata_month_variance\u001b[0m\u001b[0;34m.\u001b[0m\u001b[0mmean\u001b[0m\u001b[0;34m(\u001b[0m\u001b[0;34m)\u001b[0m\u001b[0;34m\u001b[0m\u001b[0m\n\u001b[1;32m      4\u001b[0m \u001b[0mdata_month_variance\u001b[0m\u001b[0;34m=\u001b[0m\u001b[0mdata_month_variance\u001b[0m\u001b[0;34m-\u001b[0m\u001b[0mmean\u001b[0m\u001b[0;34m\u001b[0m\u001b[0m\n\u001b[0;32m----> 5\u001b[0;31m \u001b[0mres\u001b[0m \u001b[0;34m=\u001b[0m \u001b[0msm\u001b[0m\u001b[0;34m.\u001b[0m\u001b[0mtsa\u001b[0m\u001b[0;34m.\u001b[0m\u001b[0marma_order_select_ic\u001b[0m\u001b[0;34m(\u001b[0m\u001b[0mdata_month_variance\u001b[0m\u001b[0;34m,\u001b[0m \u001b[0mic\u001b[0m\u001b[0;34m=\u001b[0m\u001b[0;34m[\u001b[0m\u001b[0;34m'aic'\u001b[0m\u001b[0;34m,\u001b[0m\u001b[0;34m'bic'\u001b[0m\u001b[0;34m]\u001b[0m\u001b[0;34m,\u001b[0m \u001b[0mtrend\u001b[0m\u001b[0;34m=\u001b[0m\u001b[0;34m'nc'\u001b[0m\u001b[0;34m)\u001b[0m\u001b[0;34m\u001b[0m\u001b[0m\n\u001b[0m\u001b[1;32m      6\u001b[0m \u001b[0mprint\u001b[0m\u001b[0;34m(\u001b[0m\u001b[0mres\u001b[0m\u001b[0;34m.\u001b[0m\u001b[0maic_min_order\u001b[0m\u001b[0;34m,\u001b[0m\u001b[0mres\u001b[0m\u001b[0;34m.\u001b[0m\u001b[0mbic_min_order\u001b[0m\u001b[0;34m)\u001b[0m\u001b[0;34m\u001b[0m\u001b[0m\n\u001b[1;32m      7\u001b[0m \u001b[0mprint\u001b[0m\u001b[0;34m(\u001b[0m\u001b[0mres\u001b[0m\u001b[0;34m.\u001b[0m\u001b[0maic\u001b[0m\u001b[0;34m)\u001b[0m\u001b[0;34m\u001b[0m\u001b[0m\n",
      "\u001b[0;31mAttributeError\u001b[0m: module 'statsmodels.formula.api' has no attribute 'tsa'"
     ]
    }
   ],
   "source": [
    "##由上知MA模型的阶取8,AR模型的阶取5\n",
    "statsmodels.formula.api??\n",
    "mean=data_month_variance.mean()\n",
    "data_month_variance=data_month_variance-mean\n",
    "res = sm.tsa.arma_order_select_ic(data_month_variance, ic=['aic','bic'], trend='nc')\n",
    "print(res.aic_min_order,res.bic_min_order)\n",
    "print(res.aic)\n",
    "print(res.bic)"
   ]
  },
  {
   "cell_type": "code",
   "execution_count": 103,
   "metadata": {
    "collapsed": false
   },
   "outputs": [
    {
     "ename": "AttributeError",
     "evalue": "module 'statsmodels.formula.api' has no attribute 'tsa'",
     "output_type": "error",
     "traceback": [
      "\u001b[0;31m---------------------------------------------------------------------------\u001b[0m",
      "\u001b[0;31mAttributeError\u001b[0m                            Traceback (most recent call last)",
      "\u001b[0;32m<ipython-input-103-29cb087f8579>\u001b[0m in \u001b[0;36m<module>\u001b[0;34m()\u001b[0m\n\u001b[0;32m----> 1\u001b[0;31m \u001b[0marma_mod1\u001b[0m \u001b[0;34m=\u001b[0m \u001b[0msm\u001b[0m\u001b[0;34m.\u001b[0m\u001b[0mtsa\u001b[0m\u001b[0;34m.\u001b[0m\u001b[0mARIMA\u001b[0m\u001b[0;34m(\u001b[0m\u001b[0mdata_month_variance\u001b[0m\u001b[0;34m,\u001b[0m\u001b[0morder\u001b[0m\u001b[0;34m=\u001b[0m\u001b[0;34m(\u001b[0m\u001b[0;36m0\u001b[0m\u001b[0;34m,\u001b[0m\u001b[0;36m1\u001b[0m\u001b[0;34m,\u001b[0m\u001b[0;36m1\u001b[0m\u001b[0;34m)\u001b[0m\u001b[0;34m)\u001b[0m\u001b[0;34m\u001b[0m\u001b[0m\n\u001b[0m\u001b[1;32m      2\u001b[0m \u001b[0marma_res\u001b[0m \u001b[0;34m=\u001b[0m \u001b[0marma_mod1\u001b[0m\u001b[0;34m.\u001b[0m\u001b[0mfit\u001b[0m\u001b[0;34m(\u001b[0m\u001b[0mtrend\u001b[0m\u001b[0;34m=\u001b[0m\u001b[0;34m'nc'\u001b[0m\u001b[0;34m)\u001b[0m\u001b[0;34m\u001b[0m\u001b[0m\n\u001b[1;32m      3\u001b[0m \u001b[0marma_res\u001b[0m\u001b[0;34m.\u001b[0m\u001b[0msummary2\u001b[0m\u001b[0;34m(\u001b[0m\u001b[0;34m)\u001b[0m\u001b[0;34m\u001b[0m\u001b[0m\n",
      "\u001b[0;31mAttributeError\u001b[0m: module 'statsmodels.formula.api' has no attribute 'tsa'"
     ]
    }
   ],
   "source": [
    "arma_mod1 = sm.tsa.ARIMA(data_month_variance,order=(0,1,1))\n",
    "arma_res = arma_mod1.fit(trend='nc')\n",
    "arma_res.summary2()"
   ]
  },
  {
   "cell_type": "markdown",
   "metadata": {},
   "source": [
    "拟合出来的模型为：$${r_t} = {r_{t - 1}} + {\\varepsilon _t} + {\\varepsilon _{t - 1}}$$"
   ]
  },
  {
   "cell_type": "code",
   "execution_count": 107,
   "metadata": {
    "collapsed": false
   },
   "outputs": [
    {
     "ename": "AttributeError",
     "evalue": "module 'statsmodels.formula.api' has no attribute 'add_constant'",
     "output_type": "error",
     "traceback": [
      "\u001b[0;31m---------------------------------------------------------------------------\u001b[0m",
      "\u001b[0;31mAttributeError\u001b[0m                            Traceback (most recent call last)",
      "\u001b[0;32m<ipython-input-107-505936c4403d>\u001b[0m in \u001b[0;36m<module>\u001b[0;34m()\u001b[0m\n\u001b[1;32m     11\u001b[0m \u001b[0mnum\u001b[0m\u001b[0;34m\u001b[0m\u001b[0m\n\u001b[1;32m     12\u001b[0m \u001b[0;34m\u001b[0m\u001b[0m\n\u001b[0;32m---> 13\u001b[0;31m \u001b[0mX\u001b[0m \u001b[0;34m=\u001b[0m \u001b[0msm\u001b[0m\u001b[0;34m.\u001b[0m\u001b[0madd_constant\u001b[0m\u001b[0;34m(\u001b[0m\u001b[0mnum\u001b[0m\u001b[0;34m,\u001b[0m \u001b[0mprepend\u001b[0m\u001b[0;34m=\u001b[0m\u001b[0;32mFalse\u001b[0m\u001b[0;34m)\u001b[0m\u001b[0;34m\u001b[0m\u001b[0m\n\u001b[0m\u001b[1;32m     14\u001b[0m \u001b[0mresults2\u001b[0m \u001b[0;34m=\u001b[0m \u001b[0msm\u001b[0m\u001b[0;34m.\u001b[0m\u001b[0mOLS\u001b[0m\u001b[0;34m(\u001b[0m\u001b[0mdata_month_bodong\u001b[0m\u001b[0;34m,\u001b[0m \u001b[0mX\u001b[0m\u001b[0;34m)\u001b[0m\u001b[0;34m.\u001b[0m\u001b[0mfit\u001b[0m\u001b[0;34m(\u001b[0m\u001b[0;34m)\u001b[0m\u001b[0;34m\u001b[0m\u001b[0m\n\u001b[1;32m     15\u001b[0m \u001b[0mresults2\u001b[0m\u001b[0;34m.\u001b[0m\u001b[0msummary\u001b[0m\u001b[0;34m(\u001b[0m\u001b[0;34m)\u001b[0m\u001b[0;34m\u001b[0m\u001b[0m\n",
      "\u001b[0;31mAttributeError\u001b[0m: module 'statsmodels.formula.api' has no attribute 'add_constant'"
     ]
    }
   ],
   "source": [
    "##残差的方差为\n",
    "arma_res.resid.std()\n",
    "a=pd.date_range('1/1/1991','31/12/2014',freq='M')\n",
    "index=list(a)\n",
    "num=list(a)\n",
    "for i in range(len(index)):\n",
    "    x=list(str(index[i]))\n",
    "    x=x[:7]\n",
    "    index[i]=''.join(x)\n",
    "for i in range(len(index)):\n",
    "    num[i]=len(data[index[i]])\n",
    "num=num[:len(num)-1]\n",
    "num\n",
    "\n",
    "X = sm.add_constant(num, prepend=False)\n",
    "results2 = sm.OLS(data_month_variance, X).fit()\n",
    "results2.summary() \n",
    "plt.plot(acf(results2.resid.values) )\n",
    "q_stat(results2.resid,len(results2.resid))\n",
    "resi=results2.resid\n",
    "resi=resi.dropna()\n",
    "plt.plot(acf(resi),\"*\",[2/np.sqrt(len(resi))]*40,\"r-\",[-2/np.sqrt(len(resi))]*40,\"r-\")\n",
    "print (2/np.sqrt(len(resi)))\n",
    "es = sm.tsa.arma_order_select_ic(resi, ic=['aic', 'bic'], trend='nc')\n",
    "print (es.aic_min_order,es.bic_min_order)\n",
    "print (es.aic)\n",
    "print (es.bic)"
   ]
  },
  {
   "cell_type": "code",
   "execution_count": null,
   "metadata": {
    "collapsed": true
   },
   "outputs": [],
   "source": [
    "arma_mod1 = sm.tsa.ARIMA(data_month_variance,order=(3,1,1),exog=X)\n",
    "arma_res = arma_mod1.fit(trend='nc')\n",
    "arma_res.summary2()\n",
    "plt.plot(acf(arma_res.resid),\"*\",[2/np.sqrt(len(resi))]*40,\"r-\",[-2/np.sqrt(len(resi))]*40,\"r-\")"
   ]
  },
  {
   "cell_type": "code",
   "execution_count": null,
   "metadata": {
    "collapsed": true
   },
   "outputs": [],
   "source": [
    "##d应该取2\n",
    "##第一个acf图说明这个时间序列有线性趋势项，\n",
    "##第二个acf图说明一阶差分后的序列是一个白噪声序列，\n",
    "##第三个acf图说明二阶差分后的时间序列可以用6阶MA模型进行拟合。"
   ]
  },
  {
   "cell_type": "code",
   "execution_count": null,
   "metadata": {
    "collapsed": true
   },
   "outputs": [],
   "source": [
    "y=[0,0,0,0]\n",
    "e=[0,0]\n",
    "sigma=[0,0]\n",
    "y[0]=120.1\n",
    "y[1]=118.3\n",
    "e[0]=-2.3\n",
    "e[1]=2.6\n",
    "y[2]=103+0.2*y[1]+0.4*e[1]-0.25*e[0]\n",
    "y[3]=103+0.2*y[2]-0.25*e[1]\n",
    "sigma[0]=1\n",
    "sigma[1]=1+0.2**2+0.25**2\n",
    "print(y[2],y[3])\n",
    "print([[y[2]-1.96*sigma[0],y[2]+1.96*sigma[0]],[y[3]-1.96*sigma[1],y[3]+1.96*sigma[1]]])"
   ]
  }
 ],
 "metadata": {
  "anaconda-cloud": {},
  "kernelspec": {
   "display_name": "Python [conda root]",
   "language": "python",
   "name": "conda-root-py"
  },
  "language_info": {
   "codemirror_mode": {
    "name": "ipython",
    "version": 3
   },
   "file_extension": ".py",
   "mimetype": "text/x-python",
   "name": "python",
   "nbconvert_exporter": "python",
   "pygments_lexer": "ipython3",
   "version": "3.5.2"
  }
 },
 "nbformat": 4,
 "nbformat_minor": 1
}
