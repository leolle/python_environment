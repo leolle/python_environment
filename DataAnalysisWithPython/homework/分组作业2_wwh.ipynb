{
 "cells": [
  {
   "cell_type": "code",
   "execution_count": null,
   "metadata": {
    "collapsed": true
   },
   "outputs": [],
   "source": [
    "import pandas.io.sql as sql\n",
    "from lxml.html import parse\n",
    "from urllib.request import urlopen\n",
    "import pandas as pd\n",
    "import urllib \n",
    "import numpy as np\n",
    "from matplotlib.pyplot import plot,savefig \n",
    "import matplotlib.pyplot as plt\n",
    "from pandas import Series, DataFrame\n",
    "import statsmodels.api as sm\n",
    "import scipy.stats as stats "
   ]
  },
  {
   "cell_type": "code",
   "execution_count": null,
   "metadata": {
    "collapsed": true
   },
   "outputs": [],
   "source": [
    "def get_sina_stock(stockid,start=\"1990-12-19\",end=pd.datetime.now(),isstock=True,fuquan=True):    \n",
    "    def _unpack(row, kind='td'):\n",
    "        elts = row.findall('.//%s' % kind)\n",
    "        return [val.text_content().strip() for val in elts] # .strip()鍘绘帀\\r\\t\\n涔嬬被鐨勫瓧绗�    \n",
    "    def parse_options_data(table,isstock,fuquan):\n",
    "        rows = table.findall('.//tr')\n",
    "        data = [_unpack(r) for r in rows[2:]]\n",
    "        if isstock & fuquan:\n",
    "            colnames = ['date','open','high','close','low','vol','amount','ratio'] # 鍥為伩涓枃澶勭悊\n",
    "        else:\n",
    "            colnames = ['date','open','high','close','low','vol','amount']\n",
    "        data= pd.DataFrame(data,columns=colnames)\n",
    "        data.index=pd.to_datetime(data[\"date\"])\n",
    "        data=data.drop(\"date\",axis=1)\n",
    "        data=data.ix[range(len(data)-1,-1,-1)]\n",
    "        return  data\n",
    "    data=pd.DataFrame()\n",
    "    daterange=pd.date_range(start,end,freq=\"Q\")\n",
    "    daterange=daterange.insert(len(daterange),daterange[-1]+1)\n",
    "    for cq in daterange: \n",
    "        if isstock:\n",
    "            if fuquan:\n",
    "                url='http://vip.stock.finance.sina.com.cn/corp/go.php/vMS_FuQuanMarketHistory/stockid/'+str(stockid)+'.phtml?year='+str(cq.year)+'&jidu='+str(cq.month/3)\n",
    "            else:\n",
    "                url='http://vip.stock.finance.sina.com.cn/corp/go.php/vMS_MarketHistory/stockid/'+str(stockid)+'.phtml?year='+str(cq.year)+'&jidu='+str(cq.month/3)            \n",
    "        else:            \n",
    "            url='http://vip.stock.finance.sina.com.cn/corp/go.php/vMS_MarketHistory/stockid/'+str(stockid)+'/type/S.phtml?year='+str(cq.year)+'&jidu='+str(cq.month/3)\n",
    "        try:\n",
    "            parsed = parse(urlopen(url))\n",
    "        except:\n",
    "            print (\"download failed for year=\" +str(cq.year)+',  jidu='+str(cq.month/3))\n",
    "            continue\n",
    "        doc = parsed.getroot()\n",
    "        tables=doc.findall('.//table')     \n",
    "        da= tables[-1] # last table 19 for fuquan data and 4 for index\n",
    "        datatem = parse_options_data(da,isstock,fuquan)\n",
    "        data=pd.concat([data,datatem])\n",
    "    return pd.DataFrame(data[start:end],dtype=float)    "
   ]
  },
  {
   "cell_type": "code",
   "execution_count": null,
   "metadata": {
    "collapsed": false
   },
   "outputs": [],
   "source": [
    "#1.计算每只股票的月收益率，选择若干只(>=小组人数)分析其分布。\n",
    "data1=get_sina_stock('600007','1991-1-1','2016-11-16').close\n",
    "data2=get_sina_stock('600048','1991-1-1','2016-11-16').close\n",
    "data3=get_sina_stock('600052','1991-1-1','2016-11-16').close\n",
    "data4=get_sina_stock('600053','1991-1-1','2016-11-16').close\n",
    "data1.name='600007'#中国国贸\n",
    "data2.name='600048'#保利地产\n",
    "data3.name='600052'#浙江广厦\n",
    "data4.name='600053'#九鼎投资\n",
    "data=pd.concat([data1,data2,data3,data4],axis=1)"
   ]
  },
  {
   "cell_type": "code",
   "execution_count": null,
   "metadata": {
    "collapsed": false
   },
   "outputs": [],
   "source": [
    "rtn_m=data.resample('M',how='last').pct_change()\n",
    "rtn_m.describe()\n",
    "print(rtn_m)"
   ]
  },
  {
   "cell_type": "code",
   "execution_count": null,
   "metadata": {
    "collapsed": false
   },
   "outputs": [],
   "source": [
    "####################################################################################################################\n",
    "#2.计算每段时间内行业内每只股票的月期望收益率和标准差,画两个图形，分别给出收益率和标准差的走势图形并作简单说明。   #\n",
    "#要求：横轴为时间，纵轴为预期收益率或标准差，每只股票用一种颜色的线条表示，并将所有股票对应的线条画在一个坐标系内。#\n",
    "####################################################################################################################\n",
    "Emu = DataFrame()\n",
    "Emu[0] = rtn_m['1991':'1994'].mean()\n",
    "Emu[1] = rtn_m['1995':'1998'].mean()\n",
    "Emu[2] = rtn_m['1999':'2002'].mean()\n",
    "Emu[3] = rtn_m['2003':'2006'].mean()\n",
    "Emu[4] = rtn_m['2007':'2010'].mean()\n",
    "Emu[5] = rtn_m['2011':'2014'].mean()\n",
    "Emu = Emu.transpose()\n",
    "Emu.index = ['1991-1994','1995-1998','1999-2002','2003-2006','2007-2010','2011-2014']\n",
    "Emu.plot()\n",
    "\n",
    "Esigma = DataFrame()\n",
    "Esigma[0] = rtn_m['1991':'1994'].std()\n",
    "Esigma[1] = rtn_m['1995':'1998'].std()\n",
    "Esigma[2] = rtn_m['1999':'2002'].std()\n",
    "Esigma[3] = rtn_m['2003':'2006'].std()\n",
    "Esigma[4] = rtn_m['2007':'2010'].std()\n",
    "Esigma[5] = rtn_m['2011':'2014'].std()\n",
    "Esigma = Esigma.transpose()\n",
    "Esigma.index = ['1991-1994','1995-1998','1999-2002','2003-2006','2007-2010','2011-2014']\n",
    "Esigma.plot()\n",
    "\n",
    "plt.show()"
   ]
  },
  {
   "cell_type": "code",
   "execution_count": null,
   "metadata": {
    "collapsed": false
   },
   "outputs": [],
   "source": [
    "#3.以标准差为横轴，期望收益率和纵轴，用上面计算的所有数据作散点图，不同股票用不同颜色，同一支股票的不同时间得到的数据用相同的颜色。\n",
    "plt.figure(1)\n",
    "for i in range(len(stock_list)):\n",
    "    list1 = Emu[stock_list[i]].tolist() \n",
    "    list2 = Esigma[stock_list[i]].tolist()\n",
    "    plt.figure(1)\n",
    "    plt.plot(list2,list1,'o')\n",
    "    plt.title('scatter')\n",
    "plt.show()"
   ]
  },
  {
   "cell_type": "code",
   "execution_count": null,
   "metadata": {
    "collapsed": false
   },
   "outputs": [],
   "source": [
    "#############################################################################################\n",
    "#4.从上面股票中，对每个时间窗，计算股票收益率之间的相关系数矩阵，只取下三角形中不是1的数据。#\n",
    "#  统计每个时间段相关系数的最大值，最小值，均值，25%和75%分为点（表格汇总）。               #\n",
    "#  用box图画出相关系数的分布，横坐为时间轴，每个时间段对应一个分布图                        #\n",
    "#############################################################################################"
   ]
  },
  {
   "cell_type": "code",
   "execution_count": null,
   "metadata": {
    "collapsed": true
   },
   "outputs": [],
   "source": [
    "######################################################\n",
    "#进一步分析上面得到的结果，讨论如下问题：            #\n",
    "#(a). 总体上看，高收益，高风险的模式是否成立？       #\n",
    "#(b). 时间周轴上看，每只股票的收益风险特性是否稳定？ #\n",
    "#(c). 相关系数的分布是否稳定？                       #\n",
    "######################################################\n"
   ]
  },
  {
   "cell_type": "code",
   "execution_count": null,
   "metadata": {
    "collapsed": true
   },
   "outputs": [],
   "source": [
    "######################################################################\n",
    "#5.\t选择3只数据比较完整的股票，对每个时间段作投资组合分析，包括：    #\n",
    "#(d). 在没有无风险资产的情况下计算并画出有效前沿                     #\n",
    "#(e). 在有无风险资产的情形下计算并画出有效前沿，其中需要计算切线组合 #\n",
    "#(f). 比较不同时间段计算的投资组合的差异，有效前沿，切线组合等       #\n",
    "######################################################################\n"
   ]
  }
 ],
 "metadata": {
  "anaconda-cloud": {},
  "kernelspec": {
   "display_name": "Python [conda root]",
   "language": "python",
   "name": "conda-root-py"
  },
  "language_info": {
   "codemirror_mode": {
    "name": "ipython",
    "version": 3
   },
   "file_extension": ".py",
   "mimetype": "text/x-python",
   "name": "python",
   "nbconvert_exporter": "python",
   "pygments_lexer": "ipython3",
   "version": "3.5.2"
  }
 },
 "nbformat": 4,
 "nbformat_minor": 0
}
