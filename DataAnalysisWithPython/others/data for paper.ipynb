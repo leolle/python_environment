{
 "cells": [
  {
   "cell_type": "code",
   "execution_count": 9,
   "metadata": {
    "collapsed": true
   },
   "outputs": [],
   "source": [
    "#set up the environment\n",
    "import pandas as pd\n",
    "import numpy as np\n",
    "import pandas\n",
    "from pandas import Series, DataFrame\n",
    "from datetime import datetime\n",
    "from numpy.random import randn\n",
    "import numpy as np"
   ]
  },
  {
   "cell_type": "code",
   "execution_count": 10,
   "metadata": {
    "collapsed": false
   },
   "outputs": [],
   "source": [
    "#example：for 3 stocks\n",
    "IDlist=['000002','000039','000059']"
   ]
  },
  {
   "cell_type": "code",
   "execution_count": 11,
   "metadata": {
    "collapsed": false
   },
   "outputs": [],
   "source": [
    "#set the empty set\n",
    "data = {}\n",
    "#select certain time period  PS:the frequency of our date is 'B' as business day\n",
    "selecteddates = pd.date_range('2000-04-15', '2000-04-25', freq='B')\n",
    "#get the empty dataframe named  'stock'\n",
    "stock = DataFrame(data,columns=IDlist,index=selecteddates)"
   ]
  },
  {
   "cell_type": "code",
   "execution_count": 393,
   "metadata": {
    "collapsed": false
   },
   "outputs": [],
   "source": [
    "for i in range(len(IDlist)):\n",
    "#read the csv\n",
    "    readcsv = pd.read_csv('data/'+IDlist[i]+'.csv',encoding=\"gbk\",na_values=['--  '])\n",
    "\n",
    "#turn to DataFrame\n",
    "    original_data = DataFrame(readcsv).dropna()\n",
    "\n",
    "\n",
    "#select useful data\n",
    "    del original_data['open']\n",
    "    del original_data['max']\n",
    "    del original_data['min']\n",
    "    del original_data['close']\n",
    "    del original_data['turn']\n",
    "    del original_data['volume']\n",
    "\n",
    "#transform  dailyreturn to Series\n",
    "    dailyrtn = np.array(original_data['dailyreturn'])\n",
    "\n",
    "#transform date to string\n",
    "    for x in original_data['date']:\n",
    "        x = str(x)\n",
    "        x = datetime.strptime(x, '%Y-%m-%d')\n",
    "    date =original_data['date']\n",
    "    ts = Series(dailyrtn,index=date).dropna()\n",
    "\n",
    "#we need to input our target period of time, here we use the example of 1994-04-15 --->> 1994-04-25\n",
    "    temp = np.array(ts['2000-04-15':'2000-04-25'])\n",
    "    stock[IDlist[i]] = temp\n"
   ]
  },
  {
   "cell_type": "code",
   "execution_count": 8,
   "metadata": {
    "collapsed": false,
    "scrolled": true
   },
   "outputs": [
    {
     "data": {
      "text/html": [
       "<div>\n",
       "<table border=\"1\" class=\"dataframe\">\n",
       "  <thead>\n",
       "    <tr style=\"text-align: right;\">\n",
       "      <th></th>\n",
       "      <th>000002</th>\n",
       "      <th>000039</th>\n",
       "      <th>000059</th>\n",
       "    </tr>\n",
       "  </thead>\n",
       "  <tbody>\n",
       "    <tr>\n",
       "      <th>2000-04-17</th>\n",
       "      <td>NaN</td>\n",
       "      <td>NaN</td>\n",
       "      <td>NaN</td>\n",
       "    </tr>\n",
       "    <tr>\n",
       "      <th>2000-04-18</th>\n",
       "      <td>NaN</td>\n",
       "      <td>NaN</td>\n",
       "      <td>NaN</td>\n",
       "    </tr>\n",
       "    <tr>\n",
       "      <th>2000-04-19</th>\n",
       "      <td>NaN</td>\n",
       "      <td>NaN</td>\n",
       "      <td>NaN</td>\n",
       "    </tr>\n",
       "    <tr>\n",
       "      <th>2000-04-20</th>\n",
       "      <td>NaN</td>\n",
       "      <td>NaN</td>\n",
       "      <td>NaN</td>\n",
       "    </tr>\n",
       "    <tr>\n",
       "      <th>2000-04-21</th>\n",
       "      <td>NaN</td>\n",
       "      <td>NaN</td>\n",
       "      <td>NaN</td>\n",
       "    </tr>\n",
       "    <tr>\n",
       "      <th>2000-04-24</th>\n",
       "      <td>NaN</td>\n",
       "      <td>NaN</td>\n",
       "      <td>NaN</td>\n",
       "    </tr>\n",
       "    <tr>\n",
       "      <th>2000-04-25</th>\n",
       "      <td>NaN</td>\n",
       "      <td>NaN</td>\n",
       "      <td>NaN</td>\n",
       "    </tr>\n",
       "  </tbody>\n",
       "</table>\n",
       "</div>"
      ],
      "text/plain": [
       "           000002 000039 000059\n",
       "2000-04-17    NaN    NaN    NaN\n",
       "2000-04-18    NaN    NaN    NaN\n",
       "2000-04-19    NaN    NaN    NaN\n",
       "2000-04-20    NaN    NaN    NaN\n",
       "2000-04-21    NaN    NaN    NaN\n",
       "2000-04-24    NaN    NaN    NaN\n",
       "2000-04-25    NaN    NaN    NaN"
      ]
     },
     "execution_count": 8,
     "metadata": {},
     "output_type": "execute_result"
    }
   ],
   "source": [
    "stock\n",
    "###.cov()\n",
    "##.mean()\n"
   ]
  },
  {
   "cell_type": "code",
   "execution_count": null,
   "metadata": {
    "collapsed": true
   },
   "outputs": [],
   "source": []
  }
 ],
 "metadata": {
  "anaconda-cloud": {},
  "kernelspec": {
   "display_name": "Python [conda root]",
   "language": "python",
   "name": "conda-root-py"
  },
  "language_info": {
   "codemirror_mode": {
    "name": "ipython",
    "version": 3
   },
   "file_extension": ".py",
   "mimetype": "text/x-python",
   "name": "python",
   "nbconvert_exporter": "python",
   "pygments_lexer": "ipython3",
   "version": "3.5.2"
  }
 },
 "nbformat": 4,
 "nbformat_minor": 1
}
