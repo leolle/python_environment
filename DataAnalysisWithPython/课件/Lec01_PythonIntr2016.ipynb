{
 "cells": [
  {
   "cell_type": "markdown",
   "metadata": {
    "nbpresent": {
     "id": "05817e12-7b2e-4637-9713-495001ef531d"
    },
    "slideshow": {
     "slide_type": "slide"
    }
   },
   "source": [
    "# Python 介绍\n",
    "\n",
    "在这一讲中，我们将对Python进行非常简要的介绍。包括\n",
    "\n",
    "+ Python的安装，ipython，以及notebook的使用。"
   ]
  },
  {
   "cell_type": "markdown",
   "metadata": {
    "nbpresent": {
     "id": "bf8c0f8e-38c7-4a9f-98c8-1f906ca575f6"
    },
    "slideshow": {
     "slide_type": "slide"
    }
   },
   "source": [
    "+ 基本的数据类型和语法是利用python进行计算的基础\n",
    "\n",
    "  +  变量       \n",
    "  +  变量类型\n",
    "  +  运算\n",
    "  +  迭代\n",
    "  +  条件\n",
    "  +  函数\n",
    "  +  字符串\n",
    "  +  Lists, Tuples, Dictionaries\n",
    "  +  集合 set\n",
    "  +  类 class \n",
    "  +  python工具"
   ]
  },
  {
   "cell_type": "markdown",
   "metadata": {
    "nbpresent": {
     "id": "2707ceae-7166-48a7-a050-5f9c2b3b7de8"
    },
    "slideshow": {
     "slide_type": "slide"
    }
   },
   "source": [
    "  \n",
    "   \n",
    "更详细的内容可以参考：\n",
    "\n",
    "  + 官方网址资料： https://docs.python.org/2/tutorial/ \n",
    "  + 在线教程： http://www.afterhoursprogramming.com/tutorial/Python/Introduction/ \n",
    "  + Computational Statistics in Python 课程关于python的介绍： http://people.duke.edu/~ccc14/sta-663/index.html"
   ]
  },
  {
   "cell_type": "markdown",
   "metadata": {
    "slideshow": {
     "slide_type": "slide"
    }
   },
   "source": [
    "## 安装 python 及其它包\n",
    "\n",
    "**一般方法**：\n",
    "\n",
    "+ 在python官网下载python，然后利用 pip 或者easy_install 命令在线安装其它程序包。\n",
    "+ pip是非常好用的安装更新包的工具,提供程序包的名字就可以安装了。\n",
    "\n",
    "+ pip的语法如下：\n",
    "\n",
    "> pip install  packagename\n",
    "\n",
    "> pip install --upgrade packagename"
   ]
  },
  {
   "cell_type": "markdown",
   "metadata": {
    "nbpresent": {
     "id": "0eb808e6-c475-4078-b6e2-86e4e8606621"
    },
    "slideshow": {
     "slide_type": "slide"
    }
   },
   "source": [
    "+ 不过python为2.7的话，easy_install和pip也需要单独安装，\n",
    " \n",
    "> 下载[get-pip.py](https://bootstrap.pypa.io/get-pip.py)( https://bootstrap.pypa.io/get-pip.py),  然后运行  python get-pip.py\n",
    "\n",
    "\n",
    "+ python包国内镜像 http://pypi.douban.com/simple/ ，可以用选项 -i 从国内按照更新包。\n",
    "\n",
    "> pip install -i http://pypi.douban.com/simple/package  "
   ]
  },
  {
   "cell_type": "markdown",
   "metadata": {
    "nbpresent": {
     "id": "6d522373-add8-4b8d-bdb2-1e9f3737e3b6"
    },
    "slideshow": {
     "slide_type": "slide"
    }
   },
   "source": [
    "** <font color=#0099ff size=5 face=\"黑体\">安装python最简便方法--Anaconda </font> **\n",
    "\n",
    "+ Anaconda distribution  (https://store.continuum.io/cshop/anaconda/) 集成了比较全面的python包，特别是对数据分析处理的包基本都整合在里面了。并且有spyder编辑工具，编辑程序也很方便。 安装后更新Anaconda 可以用其中的conda命令。\n",
    " \n",
    "> conda update conda\n",
    " \n",
    "> conda update anaconda\n",
    " "
   ]
  },
  {
   "cell_type": "markdown",
   "metadata": {
    "nbpresent": {
     "id": "6a60ee37-c67f-42fe-91cf-589bd3199fa2"
    },
    "slideshow": {
     "slide_type": "slide"
    }
   },
   "source": [
    "+ python社区发展特别快，特别是统计包。 pip， conda都可以用来安装更新这些包。 \n",
    "\n",
    "\n",
    "+ Python 的官网地址：\n",
    "\n",
    "https://www.python.org/\n",
    "其中可以找到包列表的地址：\n",
    "https://pypi.python.org/pypi"
   ]
  },
  {
   "cell_type": "markdown",
   "metadata": {
    "nbpresent": {
     "id": "6c13d58a-f38a-4450-b16a-fe2f21357fa0"
    },
    "slideshow": {
     "slide_type": "slide"
    }
   },
   "source": [
    " ## Ipython notebook (jupyter notebook)\n",
    "\n",
    "+ ipython notebook 是 一个交互的，基于web环境的python工具，其可以将代码，文本，图形结合在一起生成一个文档。 最简单安装方法：\n",
    "\n",
    "  + 安装Anaconda ( https://store.continuum.io/cshop/anaconda/ )\n",
    "  + 运行  jupyter notebook\n",
    "\n",
    "+ 如果希望ipython notebook 以工作目录为根目录，比如工作目录E:\\notebook，可以建立一个.bat文件,内容为\n",
    "\n",
    "   ```\n",
    "     cd E:\\notebook\n",
    "     e:\n",
    "     jupyter notebook\n",
    "     pause\n",
    "```\n",
    " "
   ]
  },
  {
   "cell_type": "markdown",
   "metadata": {
    "nbpresent": {
     "id": "83e2bb3c-5ddf-401c-8611-0bb4d6eaf43f"
    },
    "slideshow": {
     "slide_type": "slide"
    }
   },
   "source": [
    "### Notebook 使用\n",
    "\n",
    "notebook有两类主要类型单元，\n",
    "  + code\n",
    "  + Markdown\n",
    "\n",
    "code单元用于python计算，输入python代码进行运算和输出结果。"
   ]
  },
  {
   "cell_type": "markdown",
   "metadata": {
    "nbpresent": {
     "id": "f1d01056-9c47-4be9-bc25-060933b39810"
    },
    "slideshow": {
     "slide_type": "slide"
    }
   },
   "source": [
    "#### Code"
   ]
  },
  {
   "cell_type": "code",
   "execution_count": 4,
   "metadata": {
    "collapsed": false,
    "nbpresent": {
     "id": "ac6d1a3c-c61c-4852-9107-8afb1b905b3a"
    },
    "slideshow": {
     "slide_type": "-"
    }
   },
   "outputs": [
    {
     "name": "stdout",
     "output_type": "stream",
     "text": [
      "x=:1\n",
      "y=:2\n"
     ]
    },
    {
     "data": {
      "text/plain": [
       "'12'"
      ]
     },
     "execution_count": 4,
     "metadata": {},
     "output_type": "execute_result"
    }
   ],
   "source": [
    "x=input(\"x=:\")\n",
    "y=input(\"y=:\")\n",
    "x+y"
   ]
  },
  {
   "cell_type": "markdown",
   "metadata": {
    "slideshow": {
     "slide_type": "slide"
    }
   },
   "source": [
    "#### Markdown单元\n",
    "\n",
    "用来构建文本报告，其中可以包含图标，公式等。比如：\n",
    "\n",
    "+ 数学公式,latex：\n",
    "\n",
    "$$\\phi(x) = \\frac{e^{- \\frac{\\scriptscriptstyle 1}{\\scriptscriptstyle 2} x^2}}{\\sqrt{2\\pi}}$$"
   ]
  },
  {
   "cell_type": "markdown",
   "metadata": {
    "slideshow": {
     "slide_type": "slide"
    }
   },
   "source": [
    "+ 图像\n",
    "\n",
    "```\n",
    "![](./data/normalfig.jpg)  \n",
    "```\n",
    "\n",
    "![](./data/normalfig.jpg)\n",
    "\n",
    "如果希望改变图形大小和位置\n",
    "\n",
    "```\n",
    "<img src=\"./data/normalfig.jpg\" width = \"50\" height = \"30\"   align=right />\n",
    "```<img src=\"./data/normalfig.jpg\" width = \"50\" height = \"30\"  align=right />\n",
    " "
   ]
  },
  {
   "cell_type": "markdown",
   "metadata": {
    "slideshow": {
     "slide_type": "slide"
    }
   },
   "source": [
    "+ 列表\n",
    "\n",
    "    1. Item 1\n",
    "    2. Item 2\n",
    "    3. Item 3\n",
    "        + Item 3a\n",
    "        + Item 3b"
   ]
  },
  {
   "cell_type": "markdown",
   "metadata": {
    "slideshow": {
     "slide_type": "slide"
    }
   },
   "source": [
    "+ 表格\n",
    "\n",
    "First Header  | Second Header | Third header\n",
    "------------- | ------------- |--------------\n",
    "Content Cell  | Content Cell  |a\n",
    "Content Cell  | Content Cell  |b"
   ]
  },
  {
   "cell_type": "markdown",
   "metadata": {
    "nbpresent": {
     "id": "dc05f490-b3b0-4c17-bad1-eaf578b7422c"
    },
    "slideshow": {
     "slide_type": "slide"
    }
   },
   "source": [
    "+ 编辑的notebook文件储存为ipynb文件，如果需要导出，在file中点击download as就可以保存为相应的格式。\n",
    "+ 中文pdf文件可能会出错，可以先html，在打印pdf"
   ]
  },
  {
   "cell_type": "markdown",
   "metadata": {
    "collapsed": false,
    "nbpresent": {
     "id": "48caabea-dc91-482d-a49d-8b8fc13d3e8e"
    },
    "slideshow": {
     "slide_type": "slide"
    }
   },
   "source": [
    "## 变量\n",
    "\n",
    "+ 赋值给一个变量时，其值和类型被确定"
   ]
  },
  {
   "cell_type": "code",
   "execution_count": 6,
   "metadata": {
    "collapsed": false,
    "nbpresent": {
     "id": "a63f16bc-37a0-4558-b135-2c3dc46c4817"
    },
    "slideshow": {
     "slide_type": "-"
    }
   },
   "outputs": [
    {
     "name": "stdout",
     "output_type": "stream",
     "text": [
      "a is  <class 'int'>\n",
      "b is  <class 'str'>\n"
     ]
    }
   ],
   "source": [
    "a=1\n",
    "b=\"1\"\n",
    "print(\"a is \", type(a))\n",
    "print(\"b is \", type(b))"
   ]
  },
  {
   "cell_type": "markdown",
   "metadata": {
    "nbpresent": {
     "id": "4c6a9b0e-5365-4370-a951-d9db3a01ba5d"
    },
    "slideshow": {
     "slide_type": "slide"
    }
   },
   "source": [
    "+ 不同的数据类型之间进行运算可能出错"
   ]
  },
  {
   "cell_type": "code",
   "execution_count": 9,
   "metadata": {
    "collapsed": false,
    "nbpresent": {
     "id": "a6d2976d-9ede-4bee-a964-2ff36de32e57"
    },
    "slideshow": {
     "slide_type": "-"
    }
   },
   "outputs": [
    {
     "name": "stdout",
     "output_type": "stream",
     "text": [
      "1\n"
     ]
    },
    {
     "data": {
      "text/plain": [
       "2"
      ]
     },
     "execution_count": 9,
     "metadata": {},
     "output_type": "execute_result"
    }
   ],
   "source": [
    "int(input())+a"
   ]
  },
  {
   "cell_type": "markdown",
   "metadata": {
    "nbpresent": {
     "id": "c99a448e-4ab3-4ff1-a970-32ee8b256f51"
    },
    "slideshow": {
     "slide_type": "slide"
    }
   },
   "source": [
    "+ 加，减，除，乘，赋值，大于，小于，等于，不等于，交(and), 或等分别用+,-,/,*,=,>,<,==,!=,&,| 表示。\n",
    "\n",
    "+ %表示余数，//表示商，两个连续的乘号表示次方。 **Python2除法运算的时候一定要小心，整数和浮点数得到的结果是不一样的**。Python 3 修改了这个容易出错的地方/就表示浮点除，1/2=0.5， //才表示整数除的商。"
   ]
  },
  {
   "cell_type": "code",
   "execution_count": 63,
   "metadata": {
    "collapsed": false,
    "nbpresent": {
     "id": "e5f5e4c9-a8b1-4be2-aee1-d9fe4e0442b7"
    },
    "slideshow": {
     "slide_type": "-"
    }
   },
   "outputs": [
    {
     "name": "stdout",
     "output_type": "stream",
     "text": [
      "0.75\n",
      "0.75\n",
      "3\n",
      "0\n",
      "81\n"
     ]
    }
   ],
   "source": [
    "print(3/4)\n",
    "print(3.0 / 4.0)\n",
    "print(3%4)\n",
    "print(3//4)\n",
    "print(3**4)"
   ]
  },
  {
   "cell_type": "markdown",
   "metadata": {
    "nbpresent": {
     "id": "7046518a-b429-43ae-a295-ad2977e2098c"
    },
    "slideshow": {
     "slide_type": "slide"
    }
   },
   "source": [
    "## 循环\n",
    "\n",
    "+ 常用的两个循环为 for 和 while。这里要注意缩进，这是python语言的重要特点。"
   ]
  },
  {
   "cell_type": "code",
   "execution_count": 64,
   "metadata": {
    "collapsed": false,
    "nbpresent": {
     "id": "d01e4a72-bdd3-4373-9098-e9cc387a3cd0"
    },
    "slideshow": {
     "slide_type": "-"
    }
   },
   "outputs": [
    {
     "name": "stdout",
     "output_type": "stream",
     "text": [
      "1 2 3 4 5 6 7 8 9 \n",
      "2\n",
      "3\n",
      "4\n"
     ]
    }
   ],
   "source": [
    "for i in range(1,10):    \n",
    "    print(i,end=\" \")\n",
    "\n",
    "print()        \n",
    "i = 2\n",
    "while i < 5:\n",
    "    print(i)\n",
    "    i+=1"
   ]
  },
  {
   "cell_type": "markdown",
   "metadata": {
    "nbpresent": {
     "id": "013bfa65-baa2-48ab-840b-748029f4f949"
    },
    "slideshow": {
     "slide_type": "slide"
    }
   },
   "source": [
    "## 条件\n",
    "\n",
    "+ 常用的包括 if， elif， else"
   ]
  },
  {
   "cell_type": "code",
   "execution_count": 65,
   "metadata": {
    "collapsed": false,
    "nbpresent": {
     "id": "aab7f67e-510f-4d85-afcf-8ae64859015b"
    },
    "slideshow": {
     "slide_type": "-"
    }
   },
   "outputs": [
    {
     "name": "stdout",
     "output_type": "stream",
     "text": [
      "else\n"
     ]
    }
   ],
   "source": [
    "a = 20\n",
    "if a >= 22:\n",
    "    print(\"if\")\n",
    "elif a >= 21:\n",
    "    print(\"elif\")\n",
    "else:\n",
    "    print(\"else\")\n",
    "    "
   ]
  },
  {
   "cell_type": "markdown",
   "metadata": {
    "nbpresent": {
     "id": "01394513-e640-43e3-969c-369000c0daa7"
    },
    "slideshow": {
     "slide_type": "slide"
    }
   },
   "source": [
    "+ 在处理异常时有 try/except条件，运行try中的语句，如果出错，则运行except中的语句。"
   ]
  },
  {
   "cell_type": "code",
   "execution_count": 66,
   "metadata": {
    "collapsed": false,
    "nbpresent": {
     "id": "be717444-0773-44c8-9c8b-14be3642fbc8"
    },
    "slideshow": {
     "slide_type": "-"
    }
   },
   "outputs": [
    {
     "name": "stdout",
     "output_type": "stream",
     "text": [
      "1  is not a number\n"
     ]
    }
   ],
   "source": [
    "a = \"1\"\n",
    "try:\n",
    "    b = a + 2\n",
    "except:\n",
    "    print(a, \" is not a number\")"
   ]
  },
  {
   "cell_type": "markdown",
   "metadata": {
    "nbpresent": {
     "id": "70c858b3-077c-43f2-8681-de58b05cef73"
    },
    "slideshow": {
     "slide_type": "slide"
    }
   },
   "source": [
    "+ 另外，try/except后面还可以跟 else和finally。 else的代码在try成功后运行，finally后代码不管成功与否都运行。"
   ]
  },
  {
   "cell_type": "code",
   "execution_count": 67,
   "metadata": {
    "collapsed": false,
    "nbpresent": {
     "id": "77ee7f5f-63e7-4939-8c4d-8ae1e2f4377e"
    },
    "slideshow": {
     "slide_type": "-"
    }
   },
   "outputs": [
    {
     "name": "stdout",
     "output_type": "stream",
     "text": [
      "1  is not a number\n",
      "done\n"
     ]
    }
   ],
   "source": [
    "a = \"1\"\n",
    "try:\n",
    "    b = a + 2\n",
    "except:\n",
    "    print(a, \" is not a number\")\n",
    "else:\n",
    "    print(a, \"is a number\")\n",
    "finally:\n",
    "    print(\"done\")\n",
    "          "
   ]
  },
  {
   "cell_type": "markdown",
   "metadata": {
    "nbpresent": {
     "id": "adb75064-005e-4ba2-a9ac-a0fd34f69313"
    },
    "slideshow": {
     "slide_type": "slide"
    }
   },
   "source": [
    "## 函数\n",
    "\n",
    "+ 内建函数"
   ]
  },
  {
   "cell_type": "code",
   "execution_count": 68,
   "metadata": {
    "collapsed": false,
    "nbpresent": {
     "id": "ef5889a4-5a74-4017-bfef-98e995f54ef9"
    },
    "scrolled": true,
    "slideshow": {
     "slide_type": "-"
    }
   },
   "outputs": [
    {
     "name": "stdout",
     "output_type": "stream",
     "text": [
      "1。2。3。4。5。6 [1, 2, 3, 4, 5, 6, 7, 8, 9]\n"
     ]
    }
   ],
   "source": [
    "print(1,2,3,4,5,6,sep=\"。\",end=\" \")\n",
    "print([i for i in range(1,10,1)])"
   ]
  },
  {
   "cell_type": "markdown",
   "metadata": {
    "nbpresent": {
     "id": "c2442e41-a324-491e-88d8-4a6b95d2c135"
    },
    "slideshow": {
     "slide_type": "slide"
    }
   },
   "source": [
    "+ 函数的定义\n",
    "\n",
    "```\n",
    "def 函数名(参数列表): \n",
    "  \"\"\"文档字符串\"\"\"\n",
    "  函数体 \n",
    "  return [expression] \n",
    "```"
   ]
  },
  {
   "cell_type": "code",
   "execution_count": 69,
   "metadata": {
    "collapsed": false,
    "nbpresent": {
     "id": "265d0b24-15ba-4d77-a208-330300c2b39a"
    },
    "slideshow": {
     "slide_type": "-"
    }
   },
   "outputs": [
    {
     "name": "stdout",
     "output_type": "stream",
     "text": [
      "1 1 2 3 5 8 13 21 34 55 89 144 233 377 610 987 1597 \n",
      "1 1 2 3 5 8 13 21 34 55 89 144 233 377 610 987 1597 \n"
     ]
    }
   ],
   "source": [
    "def fib(n): \n",
    "    \"\"\"Print a Fibonacci series\"\"\"\n",
    "    a, b = 0, 1\n",
    "    while b < n:     \n",
    "        print(b, end=' ') \n",
    "        a, b = b, a+b \n",
    "    print() \n",
    "    \n",
    "fib(2000) # call \n",
    "f = fib  # assignment \n",
    "f(2000) "
   ]
  },
  {
   "cell_type": "markdown",
   "metadata": {
    "nbpresent": {
     "id": "151253b3-9bf7-47e8-9ecb-8ab15b8a8ccf"
    },
    "slideshow": {
     "slide_type": "slide"
    }
   },
   "source": [
    "+ lambda表达式"
   ]
  },
  {
   "cell_type": "code",
   "execution_count": 70,
   "metadata": {
    "collapsed": false,
    "nbpresent": {
     "id": "4032085f-c508-40b4-aa25-1d815ea02a7a"
    },
    "scrolled": true,
    "slideshow": {
     "slide_type": "-"
    }
   },
   "outputs": [
    {
     "name": "stdout",
     "output_type": "stream",
     "text": [
      "30\n",
      "20\n"
     ]
    }
   ],
   "source": [
    "f = lambda x, y: x+y \n",
    "print(f(10, 20)) \n",
    " \n",
    "def make_fun(n): \n",
    "    return lambda x: x+n \n",
    "  \n",
    "f = make_fun(15) \n",
    "print(f(5)) "
   ]
  },
  {
   "cell_type": "markdown",
   "metadata": {
    "nbpresent": {
     "id": "022ce198-e817-4c01-bb3d-26c3434a2cae"
    },
    "slideshow": {
     "slide_type": "slide"
    }
   },
   "source": [
    "## 字符串\n",
    "\n",
    "+ Python 处理字符串非常简单， 参考 http://www.tutorialspoint.com/python/python_strings.htm，   下面给几个例子"
   ]
  },
  {
   "cell_type": "code",
   "execution_count": 1,
   "metadata": {
    "collapsed": false,
    "nbpresent": {
     "id": "2c6f825c-8c23-47f4-9811-7a9772e7e42f"
    },
    "slideshow": {
     "slide_type": "-"
    }
   },
   "outputs": [
    {
     "name": "stdout",
     "output_type": "stream",
     "text": [
      "Introduction to financial data analysis  V 2016.00\n",
      " newline\n",
      "金融数据分析导论\n",
      "مقدمة في تحليل البيانات  المالية \n",
      "金融資料分析導論\n"
     ]
    }
   ],
   "source": [
    "a = \"Introduction to financial data analysis \"\n",
    "b=2016\n",
    "newstring = a + \" V %.2f\\n newline\"\n",
    "print(newstring %b)\n",
    "print(\"金融数据分析导论\") \n",
    "print(\"مقدمة في تحليل البيانات  المالية \")\n",
    "print(\"金融資料分析導論\")"
   ]
  },
  {
   "cell_type": "markdown",
   "metadata": {
    "nbpresent": {
     "id": "755f1a1d-7559-4975-9dd4-a263ea088f2a"
    },
    "slideshow": {
     "slide_type": "slide"
    }
   },
   "source": [
    "+ 字符串的引用"
   ]
  },
  {
   "cell_type": "code",
   "execution_count": 17,
   "metadata": {
    "collapsed": false,
    "nbpresent": {
     "id": "aa55681a-b9ad-4057-ab8f-9a9dd1976d7c"
    },
    "slideshow": {
     "slide_type": "-"
    }
   },
   "outputs": [
    {
     "name": "stdout",
     "output_type": "stream",
     "text": [
      "A\n",
      "大\n"
     ]
    }
   ],
   "source": [
    "a = \"ABC DEFG\"\n",
    "jstring=\"大家好\"\n",
    "print(a[0])\n",
    "print(jstring[0])"
   ]
  },
  {
   "cell_type": "markdown",
   "metadata": {
    "nbpresent": {
     "id": "0e29a865-ae73-4ec9-bced-857026abd25d"
    },
    "slideshow": {
     "slide_type": "slide"
    }
   },
   "source": [
    "+ 字符串运算"
   ]
  },
  {
   "cell_type": "code",
   "execution_count": 20,
   "metadata": {
    "collapsed": false,
    "nbpresent": {
     "id": "7365c001-5279-40b1-abdf-5de15b2b2e7c"
    },
    "slideshow": {
     "slide_type": "-"
    }
   },
   "outputs": [
    {
     "name": "stdout",
     "output_type": "stream",
     "text": [
      "abc defgde\n",
      "ABC DEFGDE\n",
      "4\n",
      "ABC afga\n",
      "ABC defgde\n",
      "ABC aaagde\n",
      "0\n"
     ]
    }
   ],
   "source": [
    "a = \"ABC defgde\"\n",
    "print(a.lower())\n",
    "print(a.upper())\n",
    "print(a.find('d'))\n",
    "print(a.replace('de','a'))\n",
    "print(a)\n",
    "b = a.replace('def','aaa')\n",
    "print(b)\n",
    "print(b.count('c'))"
   ]
  },
  {
   "cell_type": "markdown",
   "metadata": {
    "nbpresent": {
     "id": "f29f08ab-a16e-4d79-bf0c-c6ad3ac465a4"
    },
    "slideshow": {
     "slide_type": "slide"
    }
   },
   "source": [
    "## 列表， 元组 和字典\n",
    "\n",
    "列表就是一些对象的列表，这些对象可以是任何类型；元组和列表类似，但其值不可改变；"
   ]
  },
  {
   "cell_type": "code",
   "execution_count": 74,
   "metadata": {
    "collapsed": false,
    "nbpresent": {
     "id": "1184750e-815f-4512-9a91-fae38564609a"
    },
    "slideshow": {
     "slide_type": "-"
    }
   },
   "outputs": [
    {
     "name": "stdout",
     "output_type": "stream",
     "text": [
      "['A', 'B', 'F', 'G', 'd', 'x', 'c', [1, 2, 3, 'this is a string', 5.3], 3]\n"
     ]
    }
   ],
   "source": [
    "a_list = [1,2,3,\"this is a string\",5.3]\n",
    "b_list = [\"A\",\"B\",\"F\",\"G\",\"d\",\"x\",\"c\",a_list,3]\n",
    "print(b_list)\n",
    "\n",
    "##list 用【】"
   ]
  },
  {
   "cell_type": "code",
   "execution_count": 75,
   "metadata": {
    "collapsed": false,
    "nbpresent": {
     "id": "5d082b18-5871-42da-86ea-c128689dcf45"
    },
    "slideshow": {
     "slide_type": "-"
    }
   },
   "outputs": [
    {
     "name": "stdout",
     "output_type": "stream",
     "text": [
      "[[1, 2, 3, 'this is a string', 5.3], 3]\n"
     ]
    }
   ],
   "source": [
    "print(b_list[7:9])"
   ]
  },
  {
   "cell_type": "markdown",
   "metadata": {
    "nbpresent": {
     "id": "365e1f5a-278f-466f-9127-d2e0fc99b60a"
    },
    "slideshow": {
     "slide_type": "slide"
    }
   },
   "source": [
    "+ 列表的方法"
   ]
  },
  {
   "cell_type": "code",
   "execution_count": 4,
   "metadata": {
    "collapsed": false,
    "nbpresent": {
     "id": "fabe4d49-4df2-4ac7-bb69-6a0524ece132"
    },
    "slideshow": {
     "slide_type": "-"
    }
   },
   "outputs": [
    {
     "name": "stdout",
     "output_type": "stream",
     "text": [
      "[0, 1, 2, 3, 4, 5, 6, 7]\n"
     ]
    }
   ],
   "source": [
    "a = [1,2,3,4,5,6,7]\n",
    "a.insert(0,0)\n",
    "print(a)"
   ]
  },
  {
   "cell_type": "code",
   "execution_count": 6,
   "metadata": {
    "collapsed": false,
    "nbpresent": {
     "id": "f2ece6a0-b98b-420c-85ac-bd610ce7df9b"
    },
    "slideshow": {
     "slide_type": "-"
    }
   },
   "outputs": [
    {
     "name": "stdout",
     "output_type": "stream",
     "text": [
      "[0, 1, 2, 3, 4, 5, 6, 7, 0, [1, 2]]\n"
     ]
    }
   ],
   "source": [
    "a.append([1,2])\n",
    "print(a)\n",
    "##a.extend"
   ]
  },
  {
   "cell_type": "code",
   "execution_count": 78,
   "metadata": {
    "collapsed": false,
    "nbpresent": {
     "id": "c8306ede-5460-4aa7-97dc-7bf4dd11626b"
    },
    "slideshow": {
     "slide_type": "-"
    }
   },
   "outputs": [
    {
     "name": "stdout",
     "output_type": "stream",
     "text": [
      "[8, 7, 6, 5, 4, 3, 2, 1, 0]\n"
     ]
    }
   ],
   "source": [
    "a.reverse()\n",
    "print(a)"
   ]
  },
  {
   "cell_type": "code",
   "execution_count": 79,
   "metadata": {
    "collapsed": false,
    "nbpresent": {
     "id": "4e9895c9-2805-417c-8224-52616fd0ccc8"
    },
    "slideshow": {
     "slide_type": "-"
    }
   },
   "outputs": [
    {
     "name": "stdout",
     "output_type": "stream",
     "text": [
      "[0, 1, 2, 3, 4, 5, 6, 7, 8]\n"
     ]
    }
   ],
   "source": [
    "a.sort()\n",
    "print(a)"
   ]
  },
  {
   "cell_type": "code",
   "execution_count": 9,
   "metadata": {
    "collapsed": false,
    "nbpresent": {
     "id": "32bcf986-79ae-418d-bcac-e55d1167085a"
    },
    "slideshow": {
     "slide_type": "-"
    }
   },
   "outputs": [
    {
     "name": "stdout",
     "output_type": "stream",
     "text": [
      "7\n"
     ]
    }
   ],
   "source": [
    "x=a.pop()\n",
    "##取出最后一个\n",
    "print(x)"
   ]
  },
  {
   "cell_type": "code",
   "execution_count": 81,
   "metadata": {
    "collapsed": false,
    "nbpresent": {
     "id": "c1917a23-9a2c-477b-a26e-5e7e45c6a59f"
    },
    "slideshow": {
     "slide_type": "-"
    }
   },
   "outputs": [
    {
     "name": "stdout",
     "output_type": "stream",
     "text": [
      "[0, 1, 2, 4, 5, 6, 7]\n"
     ]
    }
   ],
   "source": [
    "a.remove(3)\n",
    "print(a)"
   ]
  },
  {
   "cell_type": "code",
   "execution_count": 82,
   "metadata": {
    "collapsed": false,
    "nbpresent": {
     "id": "9b772998-51c4-44d4-ade0-6f626dd472f7"
    },
    "slideshow": {
     "slide_type": "-"
    }
   },
   "outputs": [
    {
     "name": "stdout",
     "output_type": "stream",
     "text": [
      "[0, 1, 2, 4, 6, 7]\n"
     ]
    }
   ],
   "source": [
    "a.remove(a[4])\n",
    "print(a)"
   ]
  },
  {
   "cell_type": "markdown",
   "metadata": {
    "nbpresent": {
     "id": "880c780c-005b-4fe0-8ea9-cd8c125e29c0"
    },
    "slideshow": {
     "slide_type": "slide"
    }
   },
   "source": [
    "+ map 函数可以将一个函数应用到一个列表的每一个元素"
   ]
  },
  {
   "cell_type": "code",
   "execution_count": 83,
   "metadata": {
    "collapsed": false,
    "nbpresent": {
     "id": "d754ea34-5129-470a-96bd-1741e3e24272"
    },
    "slideshow": {
     "slide_type": "-"
    }
   },
   "outputs": [
    {
     "name": "stdout",
     "output_type": "stream",
     "text": [
      "[4, 9, 16]\n",
      "<map object at 0x0000022202849EF0>\n",
      "[1024, 243, 64]\n"
     ]
    }
   ],
   "source": [
    "def sqr(x): return(x ** 2)\n",
    "a = [2,3,4]\n",
    "b = [10,5,3]\n",
    "c = map(sqr,a)\n",
    "\n",
    "print(list(c))\n",
    "d = map(pow,a,b)\n",
    "\n",
    "print(d)\n",
    "print(list(d))"
   ]
  },
  {
   "cell_type": "markdown",
   "metadata": {
    "nbpresent": {
     "id": "83c621d0-f877-4dd6-8a51-528d46fed5e9"
    },
    "slideshow": {
     "slide_type": "slide"
    }
   },
   "source": [
    "+ tuple 元组"
   ]
  },
  {
   "cell_type": "code",
   "execution_count": 21,
   "metadata": {
    "collapsed": false,
    "nbpresent": {
     "id": "f3414963-5c58-4b60-93db-f955aec4a86f"
    },
    "slideshow": {
     "slide_type": "-"
    }
   },
   "outputs": [
    {
     "name": "stdout",
     "output_type": "stream",
     "text": [
      "(1, 2, 3, 4)\n"
     ]
    },
    {
     "ename": "TypeError",
     "evalue": "'tuple' object does not support item assignment",
     "output_type": "error",
     "traceback": [
      "\u001b[1;31m---------------------------------------------------------------------------\u001b[0m",
      "\u001b[1;31mTypeError\u001b[0m                                 Traceback (most recent call last)",
      "\u001b[1;32m<ipython-input-21-21e3bec09c9e>\u001b[0m in \u001b[0;36m<module>\u001b[1;34m()\u001b[0m\n\u001b[0;32m      2\u001b[0m \u001b[0mprint\u001b[0m\u001b[1;33m(\u001b[0m\u001b[0ma\u001b[0m\u001b[1;33m)\u001b[0m\u001b[1;33m\u001b[0m\u001b[0m\n\u001b[0;32m      3\u001b[0m \u001b[1;31m#元组值不能改变\u001b[0m\u001b[1;33m\u001b[0m\u001b[1;33m\u001b[0m\u001b[0m\n\u001b[1;32m----> 4\u001b[1;33m \u001b[0ma\u001b[0m\u001b[1;33m[\u001b[0m\u001b[1;36m1\u001b[0m\u001b[1;33m]\u001b[0m \u001b[1;33m=\u001b[0m \u001b[1;36m2\u001b[0m\u001b[1;33m\u001b[0m\u001b[0m\n\u001b[0m",
      "\u001b[1;31mTypeError\u001b[0m: 'tuple' object does not support item assignment"
     ]
    }
   ],
   "source": [
    "a = (1,2,3,4)\n",
    "print(a)\n",
    "#元组值不能改变\n",
    "a[1] = 2\n",
    "\n",
    "##元组用（）"
   ]
  },
  {
   "cell_type": "markdown",
   "metadata": {
    "nbpresent": {
     "id": "9267745a-34cd-4e48-9709-3c8935ff760b"
    },
    "slideshow": {
     "slide_type": "slide"
    }
   },
   "source": [
    "+ 字典是有关键字索引的数据类型，其各元素之间没有顺序，不能用顺序索引，只能用关键字索引；"
   ]
  },
  {
   "cell_type": "code",
   "execution_count": 85,
   "metadata": {
    "collapsed": false,
    "nbpresent": {
     "id": "b62f968c-b964-41b4-a983-a902aded9bea"
    },
    "slideshow": {
     "slide_type": "-"
    }
   },
   "outputs": [
    {
     "name": "stdout",
     "output_type": "stream",
     "text": [
      "A\n"
     ]
    }
   ],
   "source": [
    "a = {'anItem': \"A\", 'anotherItem': \"B\",'athirdItem':\"C\",'afourthItem':\"D\"} # dictionary example\n",
    "print(a['anItem'])\n",
    "##字典用{}定义"
   ]
  },
  {
   "cell_type": "code",
   "execution_count": 86,
   "metadata": {
    "collapsed": false,
    "nbpresent": {
     "id": "a5482f1b-599a-49c5-8c51-5e4f0e05a410"
    },
    "slideshow": {
     "slide_type": "-"
    }
   },
   "outputs": [
    {
     "ename": "KeyError",
     "evalue": "1",
     "output_type": "error",
     "traceback": [
      "\u001b[1;31m---------------------------------------------------------------------------\u001b[0m",
      "\u001b[1;31mKeyError\u001b[0m                                  Traceback (most recent call last)",
      "\u001b[1;32m<ipython-input-86-d51d4802a016>\u001b[0m in \u001b[0;36m<module>\u001b[1;34m()\u001b[0m\n\u001b[1;32m----> 1\u001b[1;33m \u001b[0mprint\u001b[0m\u001b[1;33m(\u001b[0m\u001b[0ma\u001b[0m\u001b[1;33m[\u001b[0m\u001b[1;36m1\u001b[0m\u001b[1;33m]\u001b[0m\u001b[1;33m)\u001b[0m\u001b[1;33m\u001b[0m\u001b[0m\n\u001b[0m",
      "\u001b[1;31mKeyError\u001b[0m: 1"
     ]
    }
   ],
   "source": [
    "print(a[1])"
   ]
  },
  {
   "cell_type": "markdown",
   "metadata": {
    "nbpresent": {
     "id": "0b5f10f7-27c4-43bd-ad1e-852df7fe0a97"
    },
    "slideshow": {
     "slide_type": "slide"
    }
   },
   "source": [
    "+ 元组可能作为字典的索引，而列表不能。"
   ]
  },
  {
   "cell_type": "code",
   "execution_count": 87,
   "metadata": {
    "collapsed": false,
    "nbpresent": {
     "id": "c316b102-c259-407c-a54c-9c0177a08d9c"
    },
    "slideshow": {
     "slide_type": "-"
    }
   },
   "outputs": [
    {
     "data": {
      "text/plain": [
       "dict_keys([(1, 2), (1, 3)])"
      ]
     },
     "execution_count": 87,
     "metadata": {},
     "output_type": "execute_result"
    }
   ],
   "source": [
    "a={(1,2):3,(1,3):4}\n",
    "a.keys()"
   ]
  },
  {
   "cell_type": "code",
   "execution_count": 88,
   "metadata": {
    "collapsed": false,
    "nbpresent": {
     "id": "5717e19c-02d8-4f74-8bab-5e0306dead4b"
    },
    "slideshow": {
     "slide_type": "-"
    }
   },
   "outputs": [
    {
     "ename": "TypeError",
     "evalue": "unhashable type: 'list'",
     "output_type": "error",
     "traceback": [
      "\u001b[1;31m---------------------------------------------------------------------------\u001b[0m",
      "\u001b[1;31mTypeError\u001b[0m                                 Traceback (most recent call last)",
      "\u001b[1;32m<ipython-input-88-ea2fcdfa962d>\u001b[0m in \u001b[0;36m<module>\u001b[1;34m()\u001b[0m\n\u001b[1;32m----> 1\u001b[1;33m \u001b[0ma\u001b[0m\u001b[1;33m=\u001b[0m\u001b[1;33m{\u001b[0m\u001b[1;33m[\u001b[0m\u001b[1;36m1\u001b[0m\u001b[1;33m,\u001b[0m\u001b[1;36m2\u001b[0m\u001b[1;33m]\u001b[0m\u001b[1;33m:\u001b[0m\u001b[1;36m3\u001b[0m\u001b[1;33m,\u001b[0m\u001b[1;33m[\u001b[0m\u001b[1;36m1\u001b[0m\u001b[1;33m,\u001b[0m\u001b[1;36m3\u001b[0m\u001b[1;33m]\u001b[0m\u001b[1;33m:\u001b[0m\u001b[1;36m4\u001b[0m\u001b[1;33m}\u001b[0m\u001b[1;33m\u001b[0m\u001b[0m\n\u001b[0m",
      "\u001b[1;31mTypeError\u001b[0m: unhashable type: 'list'"
     ]
    }
   ],
   "source": [
    "a={[1,2]:3,[1,3]:4}"
   ]
  },
  {
   "cell_type": "markdown",
   "metadata": {
    "nbpresent": {
     "id": "be9f1578-5cca-472b-aa5f-7750c190b5c1"
    },
    "slideshow": {
     "slide_type": "slide"
    }
   },
   "source": [
    "## 集合 set\n",
    "\n",
    "+ set是无顺序的，元素唯一的。"
   ]
  },
  {
   "cell_type": "code",
   "execution_count": 10,
   "metadata": {
    "collapsed": false,
    "nbpresent": {
     "id": "7669f0dd-766a-46fa-98f3-43a7b303b27d"
    }
   },
   "outputs": [
    {
     "name": "stdout",
     "output_type": "stream",
     "text": [
      "set(['oranges', 'limes'])\n"
     ]
    }
   ],
   "source": [
    "fruits = set([\"apples\",\"oranges\",\"grapes\",\"bananas\",\"limes\"])\n",
    "citrus = set([\"lemons\",\"oranges\",\"limes\",\"grapefruits\",\"clementines\"])\n",
    "citrus_in_fruits = fruits & citrus   #intersection\n",
    "print(citrus_in_fruits)"
   ]
  },
  {
   "cell_type": "code",
   "execution_count": 90,
   "metadata": {
    "collapsed": false,
    "nbpresent": {
     "id": "2be0344e-5299-441b-9477-86d3e615805d"
    }
   },
   "outputs": [
    {
     "name": "stdout",
     "output_type": "stream",
     "text": [
      "{'apples', 'grapes', 'bananas'}\n"
     ]
    }
   ],
   "source": [
    "diff_fruits = fruits - citrus        # set difference\n",
    "print(diff_fruits)"
   ]
  },
  {
   "cell_type": "code",
   "execution_count": 91,
   "metadata": {
    "collapsed": false,
    "nbpresent": {
     "id": "818fec46-dc20-4a65-ad34-2a217b15066c"
    }
   },
   "outputs": [
    {
     "name": "stdout",
     "output_type": "stream",
     "text": [
      "{'limes', 'grapefruits', 'lemons', 'clementines'}\n"
     ]
    }
   ],
   "source": [
    "diff_fruits_reverse = citrus - fruits  # set difference\n",
    "print(diff_fruits_reverse)"
   ]
  },
  {
   "cell_type": "code",
   "execution_count": 92,
   "metadata": {
    "collapsed": false,
    "nbpresent": {
     "id": "ed2c6a3c-6c5a-4cf5-a1a7-255d3661cecf"
    },
    "slideshow": {
     "slide_type": "-"
    }
   },
   "outputs": [
    {
     "name": "stdout",
     "output_type": "stream",
     "text": [
      "{'apples', 'bananas', 'limes', 'clementines', 'grapefruits', 'lemons', 'grapes', 'oranges'}\n"
     ]
    }
   ],
   "source": [
    "citrus_or_fruits = citrus | fruits     # set union\n",
    "print(citrus_or_fruits)"
   ]
  },
  {
   "cell_type": "code",
   "execution_count": 93,
   "metadata": {
    "collapsed": false,
    "nbpresent": {
     "id": "aff741a2-4186-4ab0-8688-2692853b32f5"
    },
    "slideshow": {
     "slide_type": "slide"
    }
   },
   "outputs": [
    {
     "name": "stdout",
     "output_type": "stream",
     "text": [
      "['a', 'a', 'a', 'b', 1, 2, 3, 'd', 1]\n"
     ]
    }
   ],
   "source": [
    "a_list = [\"a\", \"a\",\"a\", \"b\",1,2,3,\"d\",1]\n",
    "print(a_list)"
   ]
  },
  {
   "cell_type": "code",
   "execution_count": 94,
   "metadata": {
    "collapsed": false,
    "nbpresent": {
     "id": "3c46c92c-98f7-4744-96ef-35e7b0a06a87"
    },
    "slideshow": {
     "slide_type": "-"
    }
   },
   "outputs": [
    {
     "name": "stdout",
     "output_type": "stream",
     "text": [
      "{'b', 1, 2, 3, 'd', 'a'}\n"
     ]
    }
   ],
   "source": [
    "a_set = set(a_list)  # Convert list to set\n",
    "print(a_set)     "
   ]
  },
  {
   "cell_type": "code",
   "execution_count": 95,
   "metadata": {
    "collapsed": false,
    "nbpresent": {
     "id": "83b51b2f-08bc-483e-8344-314128dea779"
    },
    "slideshow": {
     "slide_type": "-"
    }
   },
   "outputs": [
    {
     "name": "stdout",
     "output_type": "stream",
     "text": [
      "['b', 1, 2, 3, 'd', 'a']\n"
     ]
    }
   ],
   "source": [
    "    # Creates a set with unique elements\n",
    "new_list = list(a_set) # Convert set to list\n",
    "print(new_list)        # Obtain a list with unique elements"
   ]
  },
  {
   "cell_type": "markdown",
   "metadata": {
    "nbpresent": {
     "id": "e6026f0c-cb0c-493c-90a9-5c998e0c38ad"
    },
    "slideshow": {
     "slide_type": "slide"
    }
   },
   "source": [
    "## class 类 和 模块包\n",
    "\n",
    "类将数据（对象）和函数（方法）包裹在一起。很多代码可以做成一个模块（或打成一个包），模型中包含很多函数。我们从某个模块导入函数用import方法\n"
   ]
  },
  {
   "cell_type": "code",
   "execution_count": 3,
   "metadata": {
    "collapsed": true,
    "nbpresent": {
     "id": "695e5b31-487b-4494-88f5-d666ba952a72"
    },
    "slideshow": {
     "slide_type": "-"
    }
   },
   "outputs": [],
   "source": [
    "import numpy\n",
    "import numpy as np # using an alias\n",
    "import numpy.linalg as la # modules can have submodules\n",
    "from numpy import sin, cos, tan # bring trig functions into global namespace\n",
    "from numpy import * # frowned upon because it pollutes the namespace\n"
   ]
  },
  {
   "cell_type": "markdown",
   "metadata": {
    "nbpresent": {
     "id": "de842799-2c2f-4b8f-bb87-2527316c3874"
    },
    "slideshow": {
     "slide_type": "slide"
    }
   },
   "source": [
    "\n",
    "## ipython 进一步学习\n",
    "\n",
    "+ Python 有严格的缩进格式，一般的运行平台上不能成段copy代码运行，而ipython 中可以成段拷贝代码，其缩进保持不变，可以运行。如果被拷贝到代码中间有空行，需要用用%paste 来运行\n",
    "\n",
    "+ Tab 键自动完成，ipython中会自动给出提示，*变量名*， 对象对应的方法，模块中的函数。反正但我们某些名称记不清时，可以试着用一下Tab键，看看是否有提示。\n",
    "\n",
    "+ ?\n",
    " 在变量或者函数前后使用问号可以提供帮助,??可以显示函数代码？和通配符*一起使用可以时可以实现查询功能\n",
    " \n",
    "+ ! 后面可以运行dos命令行 "
   ]
  },
  {
   "cell_type": "code",
   "execution_count": 12,
   "metadata": {
    "collapsed": false,
    "nbpresent": {
     "id": "feda86b6-5378-4fb6-ae26-ed721707b358"
    },
    "slideshow": {
     "slide_type": "slide"
    }
   },
   "outputs": [],
   "source": [
    "a=[1,2,3]\n",
    "\n",
    "a?\n"
   ]
  },
  {
   "cell_type": "code",
   "execution_count": 5,
   "metadata": {
    "collapsed": true,
    "nbpresent": {
     "id": "67839a6b-9c31-4056-9d5c-66269fb8ae32"
    },
    "slideshow": {
     "slide_type": "-"
    }
   },
   "outputs": [],
   "source": [
    "def add_number(a,b):\n",
    "    \"\"\" Add two numbers togeter\n",
    "    \"\"\"\n",
    "    return a+b\n",
    "add_number?"
   ]
  },
  {
   "cell_type": "code",
   "execution_count": 6,
   "metadata": {
    "collapsed": false,
    "nbpresent": {
     "id": "618e1b36-8576-4b89-9191-b0a1f2b60ad9"
    },
    "slideshow": {
     "slide_type": "-"
    }
   },
   "outputs": [],
   "source": [
    "add_number??"
   ]
  },
  {
   "cell_type": "code",
   "execution_count": 15,
   "metadata": {
    "collapsed": false,
    "nbpresent": {
     "id": "a8a1d9d1-3bb9-4451-a290-86fdb635c5f8"
    },
    "slideshow": {
     "slide_type": "-"
    }
   },
   "outputs": [],
   "source": [
    "*add*?"
   ]
  },
  {
   "cell_type": "code",
   "execution_count": 17,
   "metadata": {
    "collapsed": false,
    "nbpresent": {
     "id": "ad672df9-02ff-468c-94ac-33bb383add6e"
    },
    "slideshow": {
     "slide_type": "slide"
    }
   },
   "outputs": [
    {
     "name": "stdout",
     "output_type": "stream",
     "text": [
      "/bin/sh: dir: command not found\r\n"
     ]
    }
   ],
   "source": [
    "!dir *get*.py"
   ]
  },
  {
   "cell_type": "markdown",
   "metadata": {
    "nbpresent": {
     "id": "0179dfbf-afda-4809-a3dc-bd9370103547"
    },
    "slideshow": {
     "slide_type": "slide"
    }
   },
   "source": [
    "+ ipython 有相当多的魔术命令，比如可以用%run 运行文件夹中的文件，%timeit进行程序效率分析"
   ]
  },
  {
   "cell_type": "markdown",
   "metadata": {
    "nbpresent": {
     "id": "56011350-2aed-43f6-a4d4-ee9f88f13212"
    },
    "slideshow": {
     "slide_type": "-"
    }
   },
   "source": [
    "+ %run 命令\n",
    "\n",
    "IPython 会话环境中，所有的文件都可以通过%run来运行\n",
    "\n",
    "如何在 ipython_script_test1.py 中包含\n",
    "\n",
    "```\n",
    "def f(x,y,z):\n",
    "   return x+y+z\n",
    "a=5\n",
    "b=6\n",
    "c=7\n",
    "result=f(a,b,c)\n",
    "```\n",
    "那么，运行%run ipython_script_test1.py，该文件中的脚本就运行了。如果需要中断，则直接用Ctrl-C"
   ]
  },
  {
   "cell_type": "code",
   "execution_count": 16,
   "metadata": {
    "collapsed": false,
    "nbpresent": {
     "id": "a19650cb-e06a-4014-8b48-467a17d07028"
    },
    "slideshow": {
     "slide_type": "-"
    }
   },
   "outputs": [
    {
     "name": "stderr",
     "output_type": "stream",
     "text": [
      "ERROR: File `u'ipython_script_test1.py'` not found.\n"
     ]
    }
   ],
   "source": [
    "%run ipython_script_test1.py"
   ]
  },
  {
   "cell_type": "code",
   "execution_count": 103,
   "metadata": {
    "collapsed": false,
    "nbpresent": {
     "id": "50d6f24a-b071-4fcb-b8c6-919b6e1c80b3"
    },
    "slideshow": {
     "slide_type": "-"
    }
   },
   "outputs": [
    {
     "data": {
      "text/plain": [
       "18"
      ]
     },
     "execution_count": 103,
     "metadata": {},
     "output_type": "execute_result"
    }
   ],
   "source": [
    "result"
   ]
  },
  {
   "cell_type": "markdown",
   "metadata": {
    "nbpresent": {
     "id": "31853216-de33-4f9a-80cd-aa2060f3f576"
    },
    "slideshow": {
     "slide_type": "slide"
    }
   },
   "source": [
    "+ %time statement 报告statement的执行时间\n",
    "+ %timeit statement 重复多次，报告statement的平均执行时间"
   ]
  },
  {
   "cell_type": "code",
   "execution_count": 1,
   "metadata": {
    "collapsed": false,
    "nbpresent": {
     "id": "9d2cddb2-9cf9-4f21-8165-128dbf908267"
    },
    "slideshow": {
     "slide_type": "-"
    }
   },
   "outputs": [
    {
     "name": "stdout",
     "output_type": "stream",
     "text": [
      "CPU times: user 273 ms, sys: 19.1 ms, total: 293 ms\n",
      "Wall time: 288 ms\n"
     ]
    }
   ],
   "source": [
    "%time a=[x for x in range(1000000) if x%9==3]"
   ]
  },
  {
   "cell_type": "code",
   "execution_count": 2,
   "metadata": {
    "collapsed": false,
    "nbpresent": {
     "id": "c225c631-d23f-431a-8d09-9667b45a47fa"
    },
    "slideshow": {
     "slide_type": "-"
    }
   },
   "outputs": [
    {
     "name": "stdout",
     "output_type": "stream",
     "text": [
      "1 loop, best of 3: 200 ms per loop\n"
     ]
    }
   ],
   "source": [
    "%timeit a=[x for x in range(1000000) if x%9==3]"
   ]
  },
  {
   "cell_type": "markdown",
   "metadata": {
    "nbpresent": {
     "id": "c78b1ff4-fc45-4528-a071-9532660288ac"
    },
    "slideshow": {
     "slide_type": "slide"
    }
   },
   "source": [
    "# 作业\n",
    "\n",
    "编辑自己的第一个notebook文件，其中包括：\n",
    "\n",
    "1. 安装和更新python及其包，包括，NumPy、SciPy、matplotlib、ipython、pandas、statsmodels、 line_profiler等包或库\n",
    "\n",
    "2. 说明自己安装python， ipython notebook 的过程，其中遇到哪些困难，最后如何解决的。\n",
    "\n",
    "3. 编辑函数计算n!，其中n为整数。一个函数用for或者while循环方法计算n!，另一个函数用递归的方法计算n!, 使用%timeit分析两种方法的性能。\n"
   ]
  }
 ],
 "metadata": {
  "anaconda-cloud": {},
  "celltoolbar": "Slideshow",
  "kernelspec": {
   "display_name": "Python [conda root]",
   "language": "python",
   "name": "conda-root-py"
  },
  "language_info": {
   "codemirror_mode": {
    "name": "ipython",
    "version": 3
   },
   "file_extension": ".py",
   "mimetype": "text/x-python",
   "name": "python",
   "nbconvert_exporter": "python",
   "pygments_lexer": "ipython3",
   "version": "3.5.2"
  },
  "nbpresent": {
   "slides": {
    "0184da70-a076-4861-ad2f-afb27c1e30dc": {
     "id": "0184da70-a076-4861-ad2f-afb27c1e30dc",
     "prev": "35c3cdd7-575f-405d-a5ba-f53ef4469beb",
     "regions": {
      "396449f4-de56-49ad-a8eb-9f934e355519": {
       "attrs": {
        "height": 0.8,
        "width": 0.8,
        "x": 0.1,
        "y": 0.1
       },
       "content": {
        "cell": "7046518a-b429-43ae-a295-ad2977e2098c",
        "part": "whole"
       },
       "id": "396449f4-de56-49ad-a8eb-9f934e355519"
      },
      "a90ddad5-a1dc-44f3-95d1-847e8e86e4e4": {
       "attrs": {
        "height": 0.4,
        "width": 0.8,
        "x": 0.1,
        "y": 0.5
       },
       "content": {
        "cell": "d01e4a72-bdd3-4373-9098-e9cc387a3cd0",
        "part": "whole"
       },
       "id": "a90ddad5-a1dc-44f3-95d1-847e8e86e4e4"
      }
     }
    },
    "0a97bdc7-850e-4cf7-a663-e5fa37c8f9cd": {
     "id": "0a97bdc7-850e-4cf7-a663-e5fa37c8f9cd",
     "prev": "3a835437-46ee-42ca-a7f7-fd4418c7418d",
     "regions": {
      "540a238c-f2dd-4ac4-be7a-2210c41ee824": {
       "attrs": {
        "height": 0.4,
        "width": 0.8,
        "x": 0.1,
        "y": 0.5
       },
       "content": {
        "cell": "2c6f825c-8c23-47f4-9811-7a9772e7e42f",
        "part": "whole"
       },
       "id": "540a238c-f2dd-4ac4-be7a-2210c41ee824"
      },
      "99d4157c-4755-4604-ab65-f6554e0ec181": {
       "attrs": {
        "height": 0.8,
        "width": 0.8,
        "x": 0.1,
        "y": 0.1
       },
       "content": {
        "cell": "022ce198-e817-4c01-bb3d-26c3434a2cae",
        "part": "whole"
       },
       "id": "99d4157c-4755-4604-ab65-f6554e0ec181"
      }
     }
    },
    "12171308-a555-4552-9cbb-5c1b180ec08c": {
     "id": "12171308-a555-4552-9cbb-5c1b180ec08c",
     "prev": "64bf14c6-d08f-4550-b36f-9ed36304af64",
     "regions": {
      "7d0e3790-b31f-419b-ab5d-b47763d0ed9f": {
       "attrs": {
        "height": 0.8,
        "width": 0.8,
        "x": 0.1,
        "y": 0.1
       },
       "content": {
        "cell": "6a60ee37-c67f-42fe-91cf-589bd3199fa2",
        "part": "whole"
       },
       "id": "7d0e3790-b31f-419b-ab5d-b47763d0ed9f"
      }
     }
    },
    "1a477da2-ac07-4499-a0c8-518151ea1339": {
     "id": "1a477da2-ac07-4499-a0c8-518151ea1339",
     "prev": "0184da70-a076-4861-ad2f-afb27c1e30dc",
     "regions": {
      "4eab039f-0da5-4522-bc17-4ba904451bf6": {
       "attrs": {
        "height": 0.8,
        "width": 0.8,
        "x": 0.1,
        "y": 0.1
       },
       "content": {
        "cell": "013bfa65-baa2-48ab-840b-748029f4f949",
        "part": "whole"
       },
       "id": "4eab039f-0da5-4522-bc17-4ba904451bf6"
      },
      "88ccc64b-84d2-4de5-aedc-686257a6dd46": {
       "attrs": {
        "height": 0.4,
        "width": 0.8,
        "x": 0.1,
        "y": 0.5
       },
       "content": {
        "cell": "aab7f67e-510f-4d85-afcf-8ae64859015b",
        "part": "whole"
       },
       "id": "88ccc64b-84d2-4de5-aedc-686257a6dd46"
      }
     }
    },
    "1d038d24-851a-49c2-9741-da8aa4af39af": {
     "id": "1d038d24-851a-49c2-9741-da8aa4af39af",
     "prev": "4cf5fd64-b4ef-48ea-bac8-62c72baacb50",
     "regions": {
      "25256c91-7711-49ca-ae94-3d45db40a798": {
       "attrs": {
        "height": 0.8,
        "width": 0.8,
        "x": 0.1,
        "y": 0.1
       },
       "content": {
        "cell": "de842799-2c2f-4b8f-bb87-2527316c3874",
        "part": "whole"
       },
       "id": "25256c91-7711-49ca-ae94-3d45db40a798"
      }
     }
    },
    "2a228b09-b0fe-43ea-9bb9-4d3d3611003f": {
     "id": "2a228b09-b0fe-43ea-9bb9-4d3d3611003f",
     "prev": "1d038d24-851a-49c2-9741-da8aa4af39af",
     "regions": {
      "1a363f26-626d-4ecf-8f6b-3948199ba8b2": {
       "attrs": {
        "height": 0.8,
        "width": 0.8,
        "x": 0.1,
        "y": 0.1
       },
       "content": {
        "cell": "feda86b6-5378-4fb6-ae26-ed721707b358",
        "part": "whole"
       },
       "id": "1a363f26-626d-4ecf-8f6b-3948199ba8b2"
      },
      "2163f10d-81e0-475b-b3d4-8164d36a4eee": {
       "attrs": {
        "height": 0.4,
        "width": 0.8,
        "x": 0.1,
        "y": 0.5
       },
       "content": {
        "cell": "618e1b36-8576-4b89-9191-b0a1f2b60ad9",
        "part": "whole"
       },
       "id": "2163f10d-81e0-475b-b3d4-8164d36a4eee"
      },
      "c584c340-0135-41e2-a68e-e2bf089a51b3": {
       "attrs": {
        "height": 0.4,
        "width": 0.8,
        "x": 0.1,
        "y": 0.5
       },
       "content": {
        "cell": "67839a6b-9c31-4056-9d5c-66269fb8ae32",
        "part": "whole"
       },
       "id": "c584c340-0135-41e2-a68e-e2bf089a51b3"
      },
      "d835d0c4-44f3-4a63-993a-a2d9731fec5c": {
       "attrs": {
        "height": 0.4,
        "width": 0.8,
        "x": 0.1,
        "y": 0.5
       },
       "content": {
        "cell": "a8a1d9d1-3bb9-4451-a290-86fdb635c5f8",
        "part": "whole"
       },
       "id": "d835d0c4-44f3-4a63-993a-a2d9731fec5c"
      }
     }
    },
    "2f09733d-25ae-4a6e-a1fb-350a374e95d3": {
     "id": "2f09733d-25ae-4a6e-a1fb-350a374e95d3",
     "prev": "0a97bdc7-850e-4cf7-a663-e5fa37c8f9cd",
     "regions": {
      "4662cb76-164e-4aea-8818-88e390c21d59": {
       "attrs": {
        "height": 0.8,
        "width": 0.8,
        "x": 0.1,
        "y": 0.1
       },
       "content": {
        "cell": "755f1a1d-7559-4975-9dd4-a263ea088f2a",
        "part": "whole"
       },
       "id": "4662cb76-164e-4aea-8818-88e390c21d59"
      },
      "6fa03195-815c-4e13-833e-e7cc2efd60a9": {
       "attrs": {
        "height": 0.4,
        "width": 0.8,
        "x": 0.1,
        "y": 0.5
       },
       "content": {
        "cell": "aa55681a-b9ad-4057-ab8f-9a9dd1976d7c",
        "part": "whole"
       },
       "id": "6fa03195-815c-4e13-833e-e7cc2efd60a9"
      }
     }
    },
    "32465745-98d8-4aee-a12c-b4ed10c77149": {
     "id": "32465745-98d8-4aee-a12c-b4ed10c77149",
     "prev": "5503b66b-6630-4d36-a59a-1a7f26693ff3",
     "regions": {
      "6e364ab5-8483-4da6-b871-8c0713dd74e5": {
       "attrs": {
        "height": 0.8,
        "width": 0.8,
        "x": 0.1,
        "y": 0.1
       },
       "content": {
        "cell": "83c621d0-f877-4dd6-8a51-528d46fed5e9",
        "part": "whole"
       },
       "id": "6e364ab5-8483-4da6-b871-8c0713dd74e5"
      },
      "8a703521-9cbb-4829-92a6-c27813a36c48": {
       "attrs": {
        "height": 0.4,
        "width": 0.8,
        "x": 0.1,
        "y": 0.5
       },
       "content": {
        "cell": "f3414963-5c58-4b60-93db-f955aec4a86f",
        "part": "whole"
       },
       "id": "8a703521-9cbb-4829-92a6-c27813a36c48"
      }
     }
    },
    "35c015d5-1301-4831-bd22-ccf7ade50a4d": {
     "id": "35c015d5-1301-4831-bd22-ccf7ade50a4d",
     "prev": "2a228b09-b0fe-43ea-9bb9-4d3d3611003f",
     "regions": {
      "a3038426-2236-47f2-97cb-de00ee1d1938": {
       "attrs": {
        "height": 0.8,
        "width": 0.8,
        "x": 0.1,
        "y": 0.1
       },
       "content": {
        "cell": "ad672df9-02ff-468c-94ac-33bb383add6e",
        "part": "whole"
       },
       "id": "a3038426-2236-47f2-97cb-de00ee1d1938"
      }
     }
    },
    "35c3cdd7-575f-405d-a5ba-f53ef4469beb": {
     "id": "35c3cdd7-575f-405d-a5ba-f53ef4469beb",
     "prev": "6eefe367-1c2e-4716-9f5f-1bac6acfe047",
     "regions": {
      "7b2e8127-eec2-4bbd-a48b-6ef8a8cdf9b3": {
       "attrs": {
        "height": 0.8,
        "width": 0.8,
        "x": 0.1,
        "y": 0.1
       },
       "content": {
        "cell": "c99a448e-4ab3-4ff1-a970-32ee8b256f51",
        "part": "whole"
       },
       "id": "7b2e8127-eec2-4bbd-a48b-6ef8a8cdf9b3"
      },
      "bd38198c-68b4-4b3b-960b-3dee11a56e84": {
       "attrs": {
        "height": 0.4,
        "width": 0.8,
        "x": 0.1,
        "y": 0.5
       },
       "content": {
        "cell": "e5f5e4c9-a8b1-4be2-aee1-d9fe4e0442b7",
        "part": "whole"
       },
       "id": "bd38198c-68b4-4b3b-960b-3dee11a56e84"
      }
     }
    },
    "3632e460-c739-4647-a247-5905fce0c881": {
     "id": "3632e460-c739-4647-a247-5905fce0c881",
     "prev": "7ed23d76-95aa-4614-b885-8d4e264d02eb",
     "regions": {
      "010602b1-55ad-43ba-a2f7-7b73fe9b504e": {
       "attrs": {
        "height": 0.8,
        "width": 0.8,
        "x": 0.1,
        "y": 0.1
       },
       "content": {
        "cell": "aff741a2-4186-4ab0-8688-2692853b32f5",
        "part": "whole"
       },
       "id": "010602b1-55ad-43ba-a2f7-7b73fe9b504e"
      },
      "1e8c801e-b028-4245-9fa6-c70f29370f89": {
       "attrs": {
        "height": 0.4,
        "width": 0.8,
        "x": 0.1,
        "y": 0.5
       },
       "content": {
        "cell": "83b51b2f-08bc-483e-8344-314128dea779",
        "part": "whole"
       },
       "id": "1e8c801e-b028-4245-9fa6-c70f29370f89"
      },
      "d4c98515-a60f-43f0-802a-8bd3d8a0029e": {
       "attrs": {
        "height": 0.4,
        "width": 0.8,
        "x": 0.1,
        "y": 0.5
       },
       "content": {
        "cell": "3c46c92c-98f7-4744-96ef-35e7b0a06a87",
        "part": "whole"
       },
       "id": "d4c98515-a60f-43f0-802a-8bd3d8a0029e"
      }
     }
    },
    "39e32693-86ae-40bc-8471-a44819ba3e82": {
     "id": "39e32693-86ae-40bc-8471-a44819ba3e82",
     "prev": "1a477da2-ac07-4499-a0c8-518151ea1339",
     "regions": {
      "00f7ea06-52a1-48fd-b085-1af463cffbdb": {
       "attrs": {
        "height": 0.4,
        "width": 0.8,
        "x": 0.1,
        "y": 0.5
       },
       "content": {
        "cell": "be717444-0773-44c8-9c8b-14be3642fbc8",
        "part": "whole"
       },
       "id": "00f7ea06-52a1-48fd-b085-1af463cffbdb"
      },
      "5e592dc1-7f85-47a5-a205-742f7f282c9a": {
       "attrs": {
        "height": 0.8,
        "width": 0.8,
        "x": 0.1,
        "y": 0.1
       },
       "content": {
        "cell": "01394513-e640-43e3-969c-369000c0daa7",
        "part": "whole"
       },
       "id": "5e592dc1-7f85-47a5-a205-742f7f282c9a"
      }
     }
    },
    "3a835437-46ee-42ca-a7f7-fd4418c7418d": {
     "id": "3a835437-46ee-42ca-a7f7-fd4418c7418d",
     "prev": "83c5d5e2-8be2-4280-a8c1-1b57db5f2bbf",
     "regions": {
      "09985603-359a-4ee6-88ca-888ef1b9817f": {
       "attrs": {
        "height": 0.4,
        "width": 0.8,
        "x": 0.1,
        "y": 0.5
       },
       "content": {
        "cell": "4032085f-c508-40b4-aa25-1d815ea02a7a",
        "part": "whole"
       },
       "id": "09985603-359a-4ee6-88ca-888ef1b9817f"
      },
      "1179e60d-7165-4fc8-a880-5fddc2745cd0": {
       "attrs": {
        "height": 0.8,
        "width": 0.8,
        "x": 0.1,
        "y": 0.1
       },
       "content": {
        "cell": "151253b3-9bf7-47e8-9ecb-8ab15b8a8ccf",
        "part": "whole"
       },
       "id": "1179e60d-7165-4fc8-a880-5fddc2745cd0"
      }
     }
    },
    "418328ef-fbc5-4720-b1a5-adf917b27c70": {
     "id": "418328ef-fbc5-4720-b1a5-adf917b27c70",
     "prev": "32465745-98d8-4aee-a12c-b4ed10c77149",
     "regions": {
      "0356d682-3fcf-443b-a132-9d8606779791": {
       "attrs": {
        "height": 0.8,
        "width": 0.8,
        "x": 0.1,
        "y": 0.1
       },
       "content": {
        "cell": "9267745a-34cd-4e48-9709-3c8935ff760b",
        "part": "whole"
       },
       "id": "0356d682-3fcf-443b-a132-9d8606779791"
      },
      "4db780c8-7ffb-4a70-afac-88249798d3fb": {
       "attrs": {
        "height": 0.4,
        "width": 0.8,
        "x": 0.1,
        "y": 0.5
       },
       "content": {
        "cell": "b62f968c-b964-41b4-a983-a902aded9bea",
        "part": "whole"
       },
       "id": "4db780c8-7ffb-4a70-afac-88249798d3fb"
      },
      "6b19e33b-7dd3-4f2b-821c-fef5935fccc2": {
       "attrs": {
        "height": 0.4,
        "width": 0.8,
        "x": 0.1,
        "y": 0.5
       },
       "content": {
        "cell": "a5482f1b-599a-49c5-8c51-5e4f0e05a410",
        "part": "whole"
       },
       "id": "6b19e33b-7dd3-4f2b-821c-fef5935fccc2"
      }
     }
    },
    "46a858c1-3ffc-4222-896d-a0d2115df20b": {
     "id": "46a858c1-3ffc-4222-896d-a0d2115df20b",
     "prev": "39e32693-86ae-40bc-8471-a44819ba3e82",
     "regions": {
      "de927cfc-50c2-49b4-9413-09f465572117": {
       "attrs": {
        "height": 0.8,
        "width": 0.8,
        "x": 0.1,
        "y": 0.1
       },
       "content": {
        "cell": "70c858b3-077c-43f2-8681-de58b05cef73",
        "part": "whole"
       },
       "id": "de927cfc-50c2-49b4-9413-09f465572117"
      },
      "fcca5033-ac64-4c75-9b3b-c6b5234074bb": {
       "attrs": {
        "height": 0.4,
        "width": 0.8,
        "x": 0.1,
        "y": 0.5
       },
       "content": {
        "cell": "77ee7f5f-63e7-4939-8c4d-8ae1e2f4377e",
        "part": "whole"
       },
       "id": "fcca5033-ac64-4c75-9b3b-c6b5234074bb"
      }
     }
    },
    "4cf5fd64-b4ef-48ea-bac8-62c72baacb50": {
     "id": "4cf5fd64-b4ef-48ea-bac8-62c72baacb50",
     "prev": "3632e460-c739-4647-a247-5905fce0c881",
     "regions": {
      "66bb7cb0-972a-44c6-ae21-44096635c266": {
       "attrs": {
        "height": 0.4,
        "width": 0.8,
        "x": 0.1,
        "y": 0.5
       },
       "content": {
        "cell": "695e5b31-487b-4494-88f5-d666ba952a72",
        "part": "whole"
       },
       "id": "66bb7cb0-972a-44c6-ae21-44096635c266"
      },
      "77e798a4-9871-4e33-8e7a-332a895a1eff": {
       "attrs": {
        "height": 0.8,
        "width": 0.8,
        "x": 0.1,
        "y": 0.1
       },
       "content": {
        "cell": "e6026f0c-cb0c-493c-90a9-5c998e0c38ad",
        "part": "whole"
       },
       "id": "77e798a4-9871-4e33-8e7a-332a895a1eff"
      }
     }
    },
    "5304f419-1b65-4293-a292-77e66dfba161": {
     "id": "5304f419-1b65-4293-a292-77e66dfba161",
     "prev": "86a9c50f-de50-4e24-b062-3582a639a963",
     "regions": {
      "49de6802-de03-4042-be9c-1abf4a37f32c": {
       "attrs": {
        "height": 0.8,
        "width": 0.8,
        "x": 0.1,
        "y": 0.1
       },
       "content": {
        "cell": "0eb808e6-c475-4078-b6e2-86e4e8606621",
        "part": "whole"
       },
       "id": "49de6802-de03-4042-be9c-1abf4a37f32c"
      }
     }
    },
    "5503b66b-6630-4d36-a59a-1a7f26693ff3": {
     "id": "5503b66b-6630-4d36-a59a-1a7f26693ff3",
     "prev": "e275a82d-dd83-4eca-9604-bac9c8f8ebfe",
     "regions": {
      "63aacb69-0fd5-417a-ac5e-8496ca97a798": {
       "attrs": {
        "height": 0.4,
        "width": 0.8,
        "x": 0.1,
        "y": 0.5
       },
       "content": {
        "cell": "d754ea34-5129-470a-96bd-1741e3e24272",
        "part": "whole"
       },
       "id": "63aacb69-0fd5-417a-ac5e-8496ca97a798"
      },
      "cea8d1c6-38ae-4761-b965-9b112c4f1f34": {
       "attrs": {
        "height": 0.8,
        "width": 0.8,
        "x": 0.1,
        "y": 0.1
       },
       "content": {
        "cell": "880c780c-005b-4fe0-8ea9-cd8c125e29c0",
        "part": "whole"
       },
       "id": "cea8d1c6-38ae-4761-b965-9b112c4f1f34"
      }
     }
    },
    "615d14c3-0284-41d9-ba63-97ed3528b75f": {
     "id": "615d14c3-0284-41d9-ba63-97ed3528b75f",
     "prev": "35c015d5-1301-4831-bd22-ccf7ade50a4d",
     "regions": {
      "49aa5c19-86f5-48de-b907-58d27fc21f7e": {
       "attrs": {
        "height": 0.4,
        "width": 0.8,
        "x": 0.1,
        "y": 0.5
       },
       "content": {
        "cell": "a19650cb-e06a-4014-8b48-467a17d07028",
        "part": "whole"
       },
       "id": "49aa5c19-86f5-48de-b907-58d27fc21f7e"
      },
      "a84126e9-8b06-41de-a616-71535cdee0df": {
       "attrs": {
        "height": 0.4,
        "width": 0.8,
        "x": 0.1,
        "y": 0.5
       },
       "content": {
        "cell": "56011350-2aed-43f6-a4d4-ee9f88f13212",
        "part": "whole"
       },
       "id": "a84126e9-8b06-41de-a616-71535cdee0df"
      },
      "c2826e33-5492-4258-a6fb-75f5d9a2f204": {
       "attrs": {
        "height": 0.8,
        "width": 0.8,
        "x": 0.1,
        "y": 0.1
       },
       "content": {
        "cell": "0179dfbf-afda-4809-a3dc-bd9370103547",
        "part": "whole"
       },
       "id": "c2826e33-5492-4258-a6fb-75f5d9a2f204"
      },
      "fad6435d-2bfa-4a76-9116-52e12fdd3d35": {
       "attrs": {
        "height": 0.4,
        "width": 0.8,
        "x": 0.1,
        "y": 0.5
       },
       "content": {
        "cell": "50d6f24a-b071-4fcb-b8c6-919b6e1c80b3",
        "part": "whole"
       },
       "id": "fad6435d-2bfa-4a76-9116-52e12fdd3d35"
      }
     }
    },
    "62d3d4ce-17ef-4cc3-9d0c-40146dece406": {
     "id": "62d3d4ce-17ef-4cc3-9d0c-40146dece406",
     "layout": "manual",
     "prev": null,
     "regions": {
      "4862514d-ece1-4126-8bb8-33b342958cc4": {
       "attrs": {
        "height": 1,
        "pad": 0.01,
        "treemap:weight": 1,
        "width": 1,
        "x": 0,
        "y": 0
       },
       "content": {
        "cell": "05817e12-7b2e-4637-9713-495001ef531d",
        "part": "whole"
       },
       "id": "4862514d-ece1-4126-8bb8-33b342958cc4"
      }
     }
    },
    "6373a6f3-c7ee-4515-9f36-1faf329830f1": {
     "id": "6373a6f3-c7ee-4515-9f36-1faf329830f1",
     "prev": "615d14c3-0284-41d9-ba63-97ed3528b75f",
     "regions": {
      "9b1ea39c-cbaf-4a97-9a78-efe5e21f7137": {
       "attrs": {
        "height": 0.4,
        "width": 0.8,
        "x": 0.1,
        "y": 0.5
       },
       "content": {
        "cell": "9d2cddb2-9cf9-4f21-8165-128dbf908267",
        "part": "whole"
       },
       "id": "9b1ea39c-cbaf-4a97-9a78-efe5e21f7137"
      },
      "a6931195-771f-4995-bf0f-2eb3f14bc1ba": {
       "attrs": {
        "height": 0.4,
        "width": 0.8,
        "x": 0.1,
        "y": 0.5
       },
       "content": {
        "cell": "c225c631-d23f-431a-8d09-9667b45a47fa",
        "part": "whole"
       },
       "id": "a6931195-771f-4995-bf0f-2eb3f14bc1ba"
      },
      "e2ed960c-f615-49cc-b1b7-79bd84dea308": {
       "attrs": {
        "height": 0.8,
        "width": 0.8,
        "x": 0.1,
        "y": 0.1
       },
       "content": {
        "cell": "31853216-de33-4f9a-80cd-aa2060f3f576",
        "part": "whole"
       },
       "id": "e2ed960c-f615-49cc-b1b7-79bd84dea308"
      }
     }
    },
    "64bf14c6-d08f-4550-b36f-9ed36304af64": {
     "id": "64bf14c6-d08f-4550-b36f-9ed36304af64",
     "prev": "5304f419-1b65-4293-a292-77e66dfba161",
     "regions": {
      "605b7d5c-749c-4886-a74c-4566c1c59b42": {
       "attrs": {
        "height": 0.8,
        "width": 0.8,
        "x": 0.1,
        "y": 0.1
       },
       "content": {
        "cell": "6d522373-add8-4b8d-bdb2-1e9f3737e3b6",
        "part": "whole"
       },
       "id": "605b7d5c-749c-4886-a74c-4566c1c59b42"
      }
     }
    },
    "6eefe367-1c2e-4716-9f5f-1bac6acfe047": {
     "id": "6eefe367-1c2e-4716-9f5f-1bac6acfe047",
     "prev": "ae483175-d7d1-4fd7-9fea-a059d8b4eb57",
     "regions": {
      "6126a28a-aa07-42a0-a8c5-170b0c0d665e": {
       "attrs": {
        "height": 0.8,
        "width": 0.8,
        "x": 0.1,
        "y": 0.1
       },
       "content": {
        "cell": "c64b1f05-9b19-4a7c-a303-b709dba15a3c",
        "part": "whole"
       },
       "id": "6126a28a-aa07-42a0-a8c5-170b0c0d665e"
      },
      "63e12244-319b-4e88-a0af-74fd4f1ce557": {
       "attrs": {
        "height": 0.4,
        "width": 0.8,
        "x": 0.1,
        "y": 0.5
       },
       "content": {
        "cell": "367d5f03-f8d8-4a54-9619-67f79ba5e7bd",
        "part": "whole"
       },
       "id": "63e12244-319b-4e88-a0af-74fd4f1ce557"
      }
     }
    },
    "7ed23d76-95aa-4614-b885-8d4e264d02eb": {
     "id": "7ed23d76-95aa-4614-b885-8d4e264d02eb",
     "prev": "df49fce6-e20b-4897-8776-429c11282ec1",
     "regions": {
      "08e09a9b-c510-4840-bf6e-b5485fcc9842": {
       "attrs": {
        "height": 0.4,
        "width": 0.8,
        "x": 0.1,
        "y": 0.5
       },
       "content": {
        "cell": "818fec46-dc20-4a65-ad34-2a217b15066c",
        "part": "whole"
       },
       "id": "08e09a9b-c510-4840-bf6e-b5485fcc9842"
      },
      "123cddd0-4cc9-4ff4-9713-fcd9519fe033": {
       "attrs": {
        "height": 0.8,
        "width": 0.8,
        "x": 0.1,
        "y": 0.1
       },
       "content": {
        "cell": "be9f1578-5cca-472b-aa5f-7750c190b5c1",
        "part": "whole"
       },
       "id": "123cddd0-4cc9-4ff4-9713-fcd9519fe033"
      },
      "63d1134a-d8d6-4ffb-a4ca-d227448f22c5": {
       "attrs": {
        "height": 0.4,
        "width": 0.8,
        "x": 0.1,
        "y": 0.5
       },
       "content": {
        "cell": "7669f0dd-766a-46fa-98f3-43a7b303b27d",
        "part": "whole"
       },
       "id": "63d1134a-d8d6-4ffb-a4ca-d227448f22c5"
      },
      "ccd9eb9d-db5f-4d06-97c3-38228ba0f9c5": {
       "attrs": {
        "height": 0.4,
        "width": 0.8,
        "x": 0.1,
        "y": 0.5
       },
       "content": {
        "cell": "2be0344e-5299-441b-9477-86d3e615805d",
        "part": "whole"
       },
       "id": "ccd9eb9d-db5f-4d06-97c3-38228ba0f9c5"
      },
      "f500c8bf-f71e-4142-9971-0149ee38c48a": {
       "attrs": {
        "height": 0.4,
        "width": 0.8,
        "x": 0.1,
        "y": 0.5
       },
       "content": {
        "cell": "ed2c6a3c-6c5a-4cf5-a1a7-255d3661cecf",
        "part": "whole"
       },
       "id": "f500c8bf-f71e-4142-9971-0149ee38c48a"
      }
     }
    },
    "83c5d5e2-8be2-4280-a8c1-1b57db5f2bbf": {
     "id": "83c5d5e2-8be2-4280-a8c1-1b57db5f2bbf",
     "prev": "dc6782c1-9542-42f8-bcb1-35945a1ac133",
     "regions": {
      "7ed231b1-8f0b-4b3f-b044-93b633681ae2": {
       "attrs": {
        "height": 0.4,
        "width": 0.8,
        "x": 0.1,
        "y": 0.5
       },
       "content": {
        "cell": "265d0b24-15ba-4d77-a208-330300c2b39a",
        "part": "whole"
       },
       "id": "7ed231b1-8f0b-4b3f-b044-93b633681ae2"
      },
      "99664890-47ce-40f9-b0a4-1dfb495d5c43": {
       "attrs": {
        "height": 0.8,
        "width": 0.8,
        "x": 0.1,
        "y": 0.1
       },
       "content": {
        "cell": "c2442e41-a324-491e-88d8-4a6b95d2c135",
        "part": "whole"
       },
       "id": "99664890-47ce-40f9-b0a4-1dfb495d5c43"
      }
     }
    },
    "86a9c50f-de50-4e24-b062-3582a639a963": {
     "id": "86a9c50f-de50-4e24-b062-3582a639a963",
     "prev": "ff1183c4-588a-47a2-bb82-cd929f83b0c1",
     "regions": {
      "47706a13-b483-4417-9467-31e7601a0caa": {
       "attrs": {
        "height": 0.8,
        "width": 0.8,
        "x": 0.1,
        "y": 0.1
       },
       "content": {
        "cell": "2707ceae-7166-48a7-a050-5f9c2b3b7de8",
        "part": "whole"
       },
       "id": "47706a13-b483-4417-9467-31e7601a0caa"
      }
     }
    },
    "8f7597fc-c852-4096-bd4b-01b0b0b4ed16": {
     "id": "8f7597fc-c852-4096-bd4b-01b0b0b4ed16",
     "prev": "bac158ad-2e4d-4c5f-a33b-5d75dac1bdf9",
     "regions": {
      "3fe17dc7-582a-437c-9407-ad48ee33fef8": {
       "attrs": {
        "height": 0.8,
        "width": 0.8,
        "x": 0.1,
        "y": 0.1
       },
       "content": {
        "cell": "48caabea-dc91-482d-a49d-8b8fc13d3e8e",
        "part": "whole"
       },
       "id": "3fe17dc7-582a-437c-9407-ad48ee33fef8"
      },
      "fdaf792c-7ddc-48fa-b611-28ee8a135746": {
       "attrs": {
        "height": 0.4,
        "width": 0.8,
        "x": 0.1,
        "y": 0.5
       },
       "content": {
        "cell": "a63f16bc-37a0-4558-b135-2c3dc46c4817",
        "part": "whole"
       },
       "id": "fdaf792c-7ddc-48fa-b611-28ee8a135746"
      }
     }
    },
    "97aa66e1-3196-4d09-ae06-88677daebd42": {
     "id": "97aa66e1-3196-4d09-ae06-88677daebd42",
     "prev": "62d3d4ce-17ef-4cc3-9d0c-40146dece406",
     "regions": {
      "0f53f22b-c163-4854-a8c5-73b9999867d2": {
       "attrs": {
        "height": 0.8,
        "width": 0.2,
        "x": 0.7,
        "y": 0.1
       },
       "id": "0f53f22b-c163-4854-a8c5-73b9999867d2"
      },
      "78552e45-29e9-41aa-9a8d-7ade1fb753d6": {
       "attrs": {
        "height": 0.8,
        "width": 0.2,
        "x": 0.1,
        "y": 0.1
       },
       "id": "78552e45-29e9-41aa-9a8d-7ade1fb753d6"
      },
      "84d66d8d-8d70-4405-949e-4ba43653fa49": {
       "attrs": {
        "height": 0.8,
        "width": 0.2,
        "x": 0.4,
        "y": 0.1
       },
       "id": "84d66d8d-8d70-4405-949e-4ba43653fa49"
      }
     }
    },
    "9dde4b6d-d45e-4ec9-9a17-49432e2a2e7d": {
     "id": "9dde4b6d-d45e-4ec9-9a17-49432e2a2e7d",
     "prev": "e602d4da-7c4b-4ddd-8161-4d687823c81a",
     "regions": {
      "70bf4e9d-7331-4a09-9804-633fb35db14b": {
       "attrs": {
        "height": 0.8,
        "width": 0.8,
        "x": 0.1,
        "y": 0.1
       },
       "content": {
        "cell": "83e2bb3c-5ddf-401c-8611-0bb4d6eaf43f",
        "part": "whole"
       },
       "id": "70bf4e9d-7331-4a09-9804-633fb35db14b"
      }
     }
    },
    "a3321a61-d41c-481b-8804-95abe06d0605": {
     "id": "a3321a61-d41c-481b-8804-95abe06d0605",
     "prev": "2f09733d-25ae-4a6e-a1fb-350a374e95d3",
     "regions": {
      "7510e53a-5c65-45a7-ab6d-d23d21427dfc": {
       "attrs": {
        "height": 0.4,
        "width": 0.8,
        "x": 0.1,
        "y": 0.5
       },
       "content": {
        "cell": "7365c001-5279-40b1-abdf-5de15b2b2e7c",
        "part": "whole"
       },
       "id": "7510e53a-5c65-45a7-ab6d-d23d21427dfc"
      },
      "be6ae288-b810-4e1d-b700-2b7ae04d35df": {
       "attrs": {
        "height": 0.8,
        "width": 0.8,
        "x": 0.1,
        "y": 0.1
       },
       "content": {
        "cell": "0e29a865-ae73-4ec9-bced-857026abd25d",
        "part": "whole"
       },
       "id": "be6ae288-b810-4e1d-b700-2b7ae04d35df"
      }
     }
    },
    "a683375d-69db-4d1b-af5a-1202a8898872": {
     "id": "a683375d-69db-4d1b-af5a-1202a8898872",
     "prev": "6373a6f3-c7ee-4515-9f36-1faf329830f1",
     "regions": {
      "bab7ccca-4449-445c-81c1-0e09c73abe32": {
       "attrs": {
        "height": 0.8,
        "width": 0.8,
        "x": 0.1,
        "y": 0.1
       },
       "content": {
        "cell": "c78b1ff4-fc45-4528-a071-9532660288ac",
        "part": "whole"
       },
       "id": "bab7ccca-4449-445c-81c1-0e09c73abe32"
      }
     }
    },
    "a8c800c3-5408-47d5-8a58-73ed496d3e66": {
     "id": "a8c800c3-5408-47d5-8a58-73ed496d3e66",
     "prev": "9dde4b6d-d45e-4ec9-9a17-49432e2a2e7d",
     "regions": {
      "35bd386f-31cc-4556-bfc3-b35dac03fcaf": {
       "attrs": {
        "height": 0.4,
        "width": 0.8,
        "x": 0.1,
        "y": 0.5
       },
       "content": {
        "cell": "ac6d1a3c-c61c-4852-9107-8afb1b905b3a",
        "part": "whole"
       },
       "id": "35bd386f-31cc-4556-bfc3-b35dac03fcaf"
      },
      "acea6d6a-7016-49b7-9d57-8cb083add9fb": {
       "attrs": {
        "height": 0.8,
        "width": 0.8,
        "x": 0.1,
        "y": 0.1
       },
       "content": {
        "cell": "f1d01056-9c47-4be9-bc25-060933b39810",
        "part": "whole"
       },
       "id": "acea6d6a-7016-49b7-9d57-8cb083add9fb"
      }
     }
    },
    "ae483175-d7d1-4fd7-9fea-a059d8b4eb57": {
     "id": "ae483175-d7d1-4fd7-9fea-a059d8b4eb57",
     "prev": "8f7597fc-c852-4096-bd4b-01b0b0b4ed16",
     "regions": {
      "35d1aadf-d52f-451c-a798-a7d3fe26e5fe": {
       "attrs": {
        "height": 0.8,
        "width": 0.8,
        "x": 0.1,
        "y": 0.1
       },
       "content": {
        "cell": "4c6a9b0e-5365-4370-a951-d9db3a01ba5d",
        "part": "whole"
       },
       "id": "35d1aadf-d52f-451c-a798-a7d3fe26e5fe"
      },
      "68d7287b-f96b-47b0-895e-8b22559ef8dc": {
       "attrs": {
        "height": 0.4,
        "width": 0.8,
        "x": 0.1,
        "y": 0.5
       },
       "content": {
        "cell": "a6d2976d-9ede-4bee-a964-2ff36de32e57",
        "part": "whole"
       },
       "id": "68d7287b-f96b-47b0-895e-8b22559ef8dc"
      },
      "be0e7970-fd99-4424-83e1-ec7232c46c8e": {
       "attrs": {
        "height": 0.4,
        "width": 0.8,
        "x": 0.1,
        "y": 0.5
       },
       "content": {
        "cell": "e27cc1e3-61e2-481e-a01c-72f71faafd79",
        "part": "whole"
       },
       "id": "be0e7970-fd99-4424-83e1-ec7232c46c8e"
      }
     }
    },
    "b5bb3e17-cbf7-4620-9f25-f963e21337d8": {
     "id": "b5bb3e17-cbf7-4620-9f25-f963e21337d8",
     "prev": "a3321a61-d41c-481b-8804-95abe06d0605",
     "regions": {
      "06c14187-d743-4c2a-b5f1-d76792cd6f8a": {
       "attrs": {
        "height": 0.4,
        "width": 0.8,
        "x": 0.1,
        "y": 0.5
       },
       "content": {
        "cell": "1184750e-815f-4512-9a91-fae38564609a",
        "part": "whole"
       },
       "id": "06c14187-d743-4c2a-b5f1-d76792cd6f8a"
      },
      "ad13867c-a98d-455c-b356-60f9269825fa": {
       "attrs": {
        "height": 0.8,
        "width": 0.8,
        "x": 0.1,
        "y": 0.1
       },
       "content": {
        "cell": "f29f08ab-a16e-4d79-bf0c-c6ad3ac465a4",
        "part": "whole"
       },
       "id": "ad13867c-a98d-455c-b356-60f9269825fa"
      },
      "d6f62a0e-4ccc-4712-85ab-379038b73020": {
       "attrs": {
        "height": 0.4,
        "width": 0.8,
        "x": 0.1,
        "y": 0.5
       },
       "content": {
        "cell": "5d082b18-5871-42da-86ea-c128689dcf45",
        "part": "whole"
       },
       "id": "d6f62a0e-4ccc-4712-85ab-379038b73020"
      }
     }
    },
    "bac158ad-2e4d-4c5f-a33b-5d75dac1bdf9": {
     "id": "bac158ad-2e4d-4c5f-a33b-5d75dac1bdf9",
     "prev": "a8c800c3-5408-47d5-8a58-73ed496d3e66",
     "regions": {
      "4eebd88c-3847-4ac3-bb78-863c229eb743": {
       "attrs": {
        "height": 0.8,
        "width": 0.8,
        "x": 0.1,
        "y": 0.1
       },
       "content": {
        "cell": "dc05f490-b3b0-4c17-bad1-eaf578b7422c",
        "part": "whole"
       },
       "id": "4eebd88c-3847-4ac3-bb78-863c229eb743"
      }
     }
    },
    "dc6782c1-9542-42f8-bcb1-35945a1ac133": {
     "id": "dc6782c1-9542-42f8-bcb1-35945a1ac133",
     "prev": "46a858c1-3ffc-4222-896d-a0d2115df20b",
     "regions": {
      "1d8465ec-2b66-4eff-9cd9-c0feb6e9f25f": {
       "attrs": {
        "height": 0.4,
        "width": 0.8,
        "x": 0.1,
        "y": 0.5
       },
       "content": {
        "cell": "ef5889a4-5a74-4017-bfef-98e995f54ef9",
        "part": "whole"
       },
       "id": "1d8465ec-2b66-4eff-9cd9-c0feb6e9f25f"
      },
      "982caef1-87e4-404c-8cc6-5461bd2a6562": {
       "attrs": {
        "height": 0.8,
        "width": 0.8,
        "x": 0.1,
        "y": 0.1
       },
       "content": {
        "cell": "adb75064-005e-4ba2-a9ac-a0fd34f69313",
        "part": "whole"
       },
       "id": "982caef1-87e4-404c-8cc6-5461bd2a6562"
      }
     }
    },
    "df49fce6-e20b-4897-8776-429c11282ec1": {
     "id": "df49fce6-e20b-4897-8776-429c11282ec1",
     "prev": "418328ef-fbc5-4720-b1a5-adf917b27c70",
     "regions": {
      "4416ce59-66fc-42d9-a293-dcdf0c863f52": {
       "attrs": {
        "height": 0.4,
        "width": 0.8,
        "x": 0.1,
        "y": 0.5
       },
       "content": {
        "cell": "c316b102-c259-407c-a54c-9c0177a08d9c",
        "part": "whole"
       },
       "id": "4416ce59-66fc-42d9-a293-dcdf0c863f52"
      },
      "61adc136-b954-4dde-8a0d-e2df162e9163": {
       "attrs": {
        "height": 0.8,
        "width": 0.8,
        "x": 0.1,
        "y": 0.1
       },
       "content": {
        "cell": "0b5f10f7-27c4-43bd-ad1e-852df7fe0a97",
        "part": "whole"
       },
       "id": "61adc136-b954-4dde-8a0d-e2df162e9163"
      },
      "b231fd73-ef33-41f5-ae7c-1681d63a56be": {
       "attrs": {
        "height": 0.4,
        "width": 0.8,
        "x": 0.1,
        "y": 0.5
       },
       "content": {
        "cell": "5717e19c-02d8-4f74-8bab-5e0306dead4b",
        "part": "whole"
       },
       "id": "b231fd73-ef33-41f5-ae7c-1681d63a56be"
      }
     }
    },
    "e275a82d-dd83-4eca-9604-bac9c8f8ebfe": {
     "id": "e275a82d-dd83-4eca-9604-bac9c8f8ebfe",
     "prev": "b5bb3e17-cbf7-4620-9f25-f963e21337d8",
     "regions": {
      "4c4f8eb1-36dc-4106-83d1-834944c73639": {
       "attrs": {
        "height": 0.4,
        "width": 0.8,
        "x": 0.1,
        "y": 0.5
       },
       "content": {
        "cell": "c1917a23-9a2c-477b-a26e-5e7e45c6a59f",
        "part": "whole"
       },
       "id": "4c4f8eb1-36dc-4106-83d1-834944c73639"
      },
      "552725d9-c85c-44ea-be7e-33fb1a55398c": {
       "attrs": {
        "height": 0.4,
        "width": 0.8,
        "x": 0.1,
        "y": 0.5
       },
       "content": {
        "cell": "32bcf986-79ae-418d-bcac-e55d1167085a",
        "part": "whole"
       },
       "id": "552725d9-c85c-44ea-be7e-33fb1a55398c"
      },
      "5d9384d5-aefd-4674-90a9-dd03138abc5c": {
       "attrs": {
        "height": 0.8,
        "width": 0.8,
        "x": 0.1,
        "y": 0.1
       },
       "content": {
        "cell": "365e1f5a-278f-466f-9127-d2e0fc99b60a",
        "part": "whole"
       },
       "id": "5d9384d5-aefd-4674-90a9-dd03138abc5c"
      },
      "84e4bfe6-d175-4b7b-814b-74737b295f77": {
       "attrs": {
        "height": 0.4,
        "width": 0.8,
        "x": 0.1,
        "y": 0.5
       },
       "content": {
        "cell": "fabe4d49-4df2-4ac7-bb69-6a0524ece132",
        "part": "whole"
       },
       "id": "84e4bfe6-d175-4b7b-814b-74737b295f77"
      },
      "860e20c5-e1b3-43d7-9307-96de8a83eaab": {
       "attrs": {
        "height": 0.4,
        "width": 0.8,
        "x": 0.1,
        "y": 0.5
       },
       "content": {
        "cell": "c8306ede-5460-4aa7-97dc-7bf4dd11626b",
        "part": "whole"
       },
       "id": "860e20c5-e1b3-43d7-9307-96de8a83eaab"
      },
      "d0ca26ca-71b2-4b6b-8855-b43af44a3a09": {
       "attrs": {
        "height": 0.4,
        "width": 0.8,
        "x": 0.1,
        "y": 0.5
       },
       "content": {
        "cell": "9b772998-51c4-44d4-ade0-6f626dd472f7",
        "part": "whole"
       },
       "id": "d0ca26ca-71b2-4b6b-8855-b43af44a3a09"
      },
      "e5b008f7-b63f-4fe1-88f4-50a4dfce7a9f": {
       "attrs": {
        "height": 0.4,
        "width": 0.8,
        "x": 0.1,
        "y": 0.5
       },
       "content": {
        "cell": "4e9895c9-2805-417c-8224-52616fd0ccc8",
        "part": "whole"
       },
       "id": "e5b008f7-b63f-4fe1-88f4-50a4dfce7a9f"
      },
      "ff8a6a84-4d9f-424b-a9b9-46c315495397": {
       "attrs": {
        "height": 0.4,
        "width": 0.8,
        "x": 0.1,
        "y": 0.5
       },
       "content": {
        "cell": "f2ece6a0-b98b-420c-85ac-bd610ce7df9b",
        "part": "whole"
       },
       "id": "ff8a6a84-4d9f-424b-a9b9-46c315495397"
      }
     }
    },
    "e602d4da-7c4b-4ddd-8161-4d687823c81a": {
     "id": "e602d4da-7c4b-4ddd-8161-4d687823c81a",
     "prev": "12171308-a555-4552-9cbb-5c1b180ec08c",
     "regions": {
      "06c88c8e-304f-4e52-91c2-f71989302772": {
       "attrs": {
        "height": 0.8,
        "width": 0.8,
        "x": 0.1,
        "y": 0.1
       },
       "content": {
        "cell": "6c13d58a-f38a-4450-b16a-fe2f21357fa0",
        "part": "whole"
       },
       "id": "06c88c8e-304f-4e52-91c2-f71989302772"
      }
     }
    },
    "ff1183c4-588a-47a2-bb82-cd929f83b0c1": {
     "id": "ff1183c4-588a-47a2-bb82-cd929f83b0c1",
     "prev": "97aa66e1-3196-4d09-ae06-88677daebd42",
     "regions": {
      "01d03b3d-99b8-4f49-809d-a903f964cbae": {
       "attrs": {
        "height": 0.8,
        "width": 0.8,
        "x": 0.1,
        "y": 0.1
       },
       "content": {
        "cell": "bf8c0f8e-38c7-4a9f-98c8-1f906ca575f6",
        "part": "whole"
       },
       "id": "01d03b3d-99b8-4f49-809d-a903f964cbae"
      }
     }
    }
   },
   "themes": {
    "default": "c707afac-cd71-4491-b333-d8fde4ca14ed",
    "theme": {
     "82e8a97f-c925-4741-9073-ac8c5f67d356": {
      "id": "82e8a97f-c925-4741-9073-ac8c5f67d356",
      "palette": {
       "19cc588f-0593-49c9-9f4b-e4d7cc113b1c": {
        "id": "19cc588f-0593-49c9-9f4b-e4d7cc113b1c",
        "rgb": [
         252,
         252,
         252
        ]
       },
       "31af15d2-7e15-44c5-ab5e-e04b16a89eff": {
        "id": "31af15d2-7e15-44c5-ab5e-e04b16a89eff",
        "rgb": [
         68,
         68,
         68
        ]
       },
       "50f92c45-a630-455b-aec3-788680ec7410": {
        "id": "50f92c45-a630-455b-aec3-788680ec7410",
        "rgb": [
         155,
         177,
         192
        ]
       },
       "c5cc3653-2ee1-402a-aba2-7caae1da4f6c": {
        "id": "c5cc3653-2ee1-402a-aba2-7caae1da4f6c",
        "rgb": [
         43,
         126,
         184
        ]
       },
       "efa7f048-9acb-414c-8b04-a26811511a21": {
        "id": "efa7f048-9acb-414c-8b04-a26811511a21",
        "rgb": [
         25.118061674008803,
         73.60176211453744,
         107.4819383259912
        ]
       }
      },
      "rules": {
       "blockquote": {
        "color": "50f92c45-a630-455b-aec3-788680ec7410"
       },
       "code": {
        "font-family": "Anonymous Pro"
       },
       "h1": {
        "color": "c5cc3653-2ee1-402a-aba2-7caae1da4f6c",
        "font-family": "Lato",
        "font-size": 8
       },
       "h2": {
        "color": "c5cc3653-2ee1-402a-aba2-7caae1da4f6c",
        "font-family": "Lato",
        "font-size": 6
       },
       "h3": {
        "color": "50f92c45-a630-455b-aec3-788680ec7410",
        "font-family": "Lato",
        "font-size": 5.5
       },
       "h4": {
        "color": "c5cc3653-2ee1-402a-aba2-7caae1da4f6c",
        "font-family": "Lato",
        "font-size": 5
       },
       "h5": {
        "font-family": "Lato"
       },
       "h6": {
        "font-family": "Lato"
       },
       "h7": {
        "font-family": "Lato"
       },
       "pre": {
        "font-family": "Anonymous Pro",
        "font-size": 4
       }
      },
      "text-base": {
       "font-family": "Merriweather",
       "font-size": 4
      }
     },
     "c707afac-cd71-4491-b333-d8fde4ca14ed": {
      "backgrounds": {
       "backgroundColor": {
        "background-color": "backgroundColor",
        "id": "backgroundColor"
       }
      },
      "id": "c707afac-cd71-4491-b333-d8fde4ca14ed",
      "palette": {
       "backgroundColor": {
        "id": "backgroundColor",
        "rgb": [
         256,
         256,
         256
        ]
       },
       "headingColor": {
        "id": "headingColor",
        "rgb": [
         0,
         0,
         0
        ]
       },
       "linkColor": {
        "id": "linkColor",
        "rgb": [
         0,
         0,
         139
        ]
       },
       "mainColor": {
        "id": "mainColor",
        "rgb": [
         0,
         0,
         0
        ]
       }
      },
      "rules": {
       "a": {
        "color": "linkColor"
       },
       "h1": {
        "color": "headingColor",
        "font-family": "News Cycle",
        "font-size": 7
       },
       "h2": {
        "color": "headingColor",
        "font-family": "News Cycle",
        "font-size": 5
       },
       "h3": {
        "color": "headingColor",
        "font-family": "News Cycle",
        "font-size": 3.75
       },
       "h4": {
        "color": "headingColor",
        "font-family": "News Cycle",
        "font-size": 3
       },
       "h5": {
        "color": "headingColor",
        "font-family": "News Cycle"
       },
       "h6": {
        "color": "headingColor",
        "font-family": "News Cycle"
       },
       "h7": {
        "color": "headingColor",
        "font-family": "News Cycle"
       },
       "li": {
        "color": "mainColor",
        "font-family": "Lato",
        "font-size": 5
       },
       "p": {
        "color": "mainColor",
        "font-family": "Lato",
        "font-size": 5
       }
      },
      "text-base": {
       "color": "mainColor",
       "font-family": "Lato",
       "font-size": 5
      }
     }
    }
   }
  }
 },
 "nbformat": 4,
 "nbformat_minor": 0
}
