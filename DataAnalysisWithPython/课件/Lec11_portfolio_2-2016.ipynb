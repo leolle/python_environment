{
 "cells": [
  {
   "cell_type": "markdown",
   "metadata": {
    "slideshow": {
     "slide_type": "slide"
    }
   },
   "source": [
    "# $N$ 个风险资产的投资组合"
   ]
  },
  {
   "cell_type": "markdown",
   "metadata": {
    "slideshow": {
     "slide_type": "slide"
    }
   },
   "source": [
    "+ 假设我们有$N$个风险资产，第$i$个资产的收益率用$R_i$表示，其期望为$\\mu_i$。定义\n",
    "\n",
    " $${\\bf R}=\\left( \\begin{array}{c}R_1\\\\ \\vdots\\\\R_N\\end{array}\\right)$$\n",
    " \n",
    " 则有：\n",
    " \n",
    "  $$E({\\bf R})={\\bf\\mu}=\\left( \\begin{array}{c} R_1\\\\ \\vdots\\\\R_N\\end{array}\\right)$$\n",
    "+ 设 $\\Omega_{ij}$ 是$R_i$和 $R_j$的协方差，即$\\Omega_{ij}=\\mbox{COV}(R_i,R_j)$, $\\sigma_i=\\sqrt{\\Omega_{ii}}$ 是 $R_i$的标准差。则$\\bf R$的协方差矩阵如下\n",
    "$$\\varOmega=\\mbox{COV}({\\bf R})$$"
   ]
  },
  {
   "cell_type": "markdown",
   "metadata": {
    "slideshow": {
     "slide_type": "slide"
    }
   },
   "source": [
    "+ 设$w_i$为投资在$R_i$资产中的权重，投资组合的权重向量为：\n",
    "  $$\\bf \\omega==\\left( \\begin{array}{c}\\omega_1\\\\ \\vdots\\\\ \\omega_N\\end{array}\\right)$$\n",
    "+ 记$\\bf 1$为$N$个1的向量\n",
    "$${\\bf 1}=\\left( \\begin{array}{c}1\\\\ \\vdots\\\\ 1\\end{array}\\right)$$\n",
    "\n",
    "+ 通常有假设 $\\omega_1+\\cdots+\\omega_N={\\bf 1} ^T {\\bf \\omega}=1$，注意，这里没有权重必须在区间$[0,1]$的限制。\n",
    "+ 权重为$\\bf \\omega$的投资组合的预期收益率为：\n",
    "  $$\\sum_{i=1}^{N}\\omega_i\\mu_i={\\bf \\omega}^T{\\bf \\mu}$$"
   ]
  },
  {
   "cell_type": "markdown",
   "metadata": {
    "slideshow": {
     "slide_type": "slide"
    }
   },
   "source": [
    "+ 若上述投资组合收益率的目标值为$\\mu_P$. \n",
    "+ 当$N=2$时，我们知道，只有一个组合(权重为$\\omega_1$)满足条件， $\\mu_P=\\mu_2+\\omega_1(\\mu_1-\\mu_2)$\n",
    "+ 当$N\\geq 3$时，有无穷个组合满足该条件，显然，只有最少方差的组合才是有效的。我们的目标即是找到该组合\n"
   ]
  },
  {
   "cell_type": "markdown",
   "metadata": {
    "slideshow": {
     "slide_type": "slide"
    }
   },
   "source": [
    "**有效组合**\n",
    "+ 权重为$\\bf \\omega$的组合的方差为：\n",
    "$$\\sum_{i=1}^{N}\\sum_{j=1}^{N}\\omega_i\\omega_j\\Omega_{i,j}={\\bf \\omega}^T\\varOmega{\\bf \\omega}$$\n",
    "+ 给定 预期收益率目标$\\mu_P$, 有效组合极小化上述方差，并且满足下面两个限制条件\n",
    "$$\\omega^T\\mu=\\mu_P$$\n",
    "和\n",
    "$${\\omega^T \\bf 1}=1$$\n",
    "+ 记该有效组合的权重向量为$\\omega_{\\mu P}$,如何计算 $\\omega_{\\mu P}$?"
   ]
  },
  {
   "cell_type": "markdown",
   "metadata": {
    "slideshow": {
     "slide_type": "slide"
    }
   },
   "source": [
    "## 拉格朗日乘子法 \n",
    "  \n",
    "+ 优化下列目标函数\n",
    " \n",
    " $$L(\\omega,\\delta_1,\\delta_2)=\\omega^T\\varOmega \\omega+\\delta_1(\\mu_P-\\omega_{\\mu_P}^T\\mu)+\\delta_2(1-\\omega^T{\\bf 1})$$\n",
    " \n",
    " 其中$\\delta_1,\\delta_2$是拉格朗日乘子.\n",
    "+ 解下面方程\n",
    "\n",
    "$$0=\\frac{\\partial}{\\partial \\omega}L(\\omega,\\delta_1,\\delta_2)=2\\varOmega\\omega_{\\mu_P}-\\delta_1\\mu-\\delta_2 {\\bf 1}$$\n",
    "\n",
    "+ 可得 \n",
    "\n",
    "$$\\omega_{\\mu_P}=\\frac{1}{2}\\varOmega^{-1}(\\delta_1\\mu+\\delta_2{\\bf 1})=\\varOmega^{-1}(\\lambda_1 \\mu+\\lambda_2{\\bf 1})$$\n",
    "\n",
    "其中，$\\lambda_1=1/2\\delta_1,\\lambda_2=1/2\\delta_2$\n"
   ]
  },
  {
   "cell_type": "markdown",
   "metadata": {
    "slideshow": {
     "slide_type": "slide"
    }
   },
   "source": [
    "**求$\\lambda_1,\\lambda_2$**\n",
    "\n",
    "+ 我们将上面解方程得到的权重代入两个限制条件，即可解出有效组合权重和其预期收益率的关系\n",
    "\n",
    "$$\\mu_P=\\mu^T\\omega_{\\mu_P}=\\lambda_1\\mu^T\\varOmega^{-1}\\mu+\\lambda_2\\mu^T\\varOmega^{-1}{\\bf 1}$$\n",
    "和\n",
    "$$1={\\bf 1}\\omega_{\\mu_P}=\\lambda_1 {\\bf 1}^T \\varOmega^{-1} \\mu +\\lambda_2{\\bf 1}^T \\varOmega^{-1} {\\bf 1} $$\n",
    "+ 引入相应的记号，上述公式变化为：\n",
    " \n",
    " $$\\mu_P=B\\lambda_1+A\\lambda_2,\\mbox{其中} A=\\mu^T\\varOmega^{-1}{\\bf 1},B=\\mu^T\\varOmega^{-1}\\mu$$\n",
    "和\n",
    "$$1=A \\lambda_1   +B\\lambda_2,\\mbox{其中} C={\\bf 1}^T \\varOmega^{-1} {\\bf 1} $$"
   ]
  },
  {
   "cell_type": "markdown",
   "metadata": {
    "slideshow": {
     "slide_type": "slide"
    }
   },
   "source": [
    "+ 进一步设 \n",
    "$$D=BC-A^2$$\n",
    "我们可以解得$\\lambda_1,\\lambda_2$\n",
    "$$\\lambda_1=\\frac{-A+C\\mu_P}{D},\\quad \\lambda_2=\\frac{B-A\\mu_P}{D}$$\n",
    "+ 带入拉格朗日乘子法得到的方程，得\n",
    "\n",
    "$$\\omega_{\\mu_P}={\\bf g} + \\mu_P {\\bf h}$$\n",
    "\n",
    "其中 \n",
    "$${\\bf g}=\\frac{B}{D}\\varOmega^{-1}{\\bf 1}-\\frac{A}{D}\\varOmega^{-1}\\mu$$\n",
    "$${\\bf h}=\\frac{C}{D}\\varOmega^{-1}{\\mu}-\\frac{A}{D}\\varOmega^{-1}{\\bf 1}$$"
   ]
  },
  {
   "cell_type": "markdown",
   "metadata": {
    "slideshow": {
     "slide_type": "slide"
    }
   },
   "source": [
    "## 有效前沿 \n",
    "\n",
    "+ 当目标收益率$\\mu_P$在一定范围内变化时，相应的有效组合构成了有效前沿，通常用如下方法得到：\n",
    "\n",
    "1. 给定$\\mu_P$，计算$\\sigma_{\\mu_P}$\n",
    "\n",
    "  (a). 计算$\\omega_{\\mu_P}={\\bf g} + \\mu_P {\\bf h}$\n",
    "  \n",
    "  (b). 计算$\\sigma_{\\mu_P}=\\sqrt{\\omega_{\\mu_P}^T\\varOmega \\omega_{\\mu_P}}$\n",
    "  \n",
    "2. 画出$\\sigma_{\\mu_P},\\mu_P$图形。\n",
    "\n",
    "+ 和两个风险资产的情形一样，存在一个最小方差组合，该组合的预期收益率为最低可接受的收益率，记为$\\mu_{min}$。$\\sigma_{\\mu_P},\\mu_P$曲线$\\mu_P\\geq \\mu_{min}$的部分是有效前沿，而有效前沿下方组合式无效的。"
   ]
  },
  {
   "cell_type": "markdown",
   "metadata": {
    "slideshow": {
     "slide_type": "slide"
    }
   },
   "source": [
    "## 最小方差组合\n",
    "\n",
    "我们前面得到了有效投资组合的权重和预期收益率的关系如下：\n",
    "\n",
    "$$\\omega_{\\mu_P}={\\bf g} + \\mu_P {\\bf h}$$\n",
    "\n",
    "并且我们能计算该组合收益率的方差\n",
    "\n",
    "$$\\begin{array}{rl}\\mbox{Var}(R_{\\omega_{\\mu_P}})=&\\omega_{\\mu_P}^T\\varOmega \\omega_{\\mu_P}\\\\\n",
    "=&({\\bf g} + \\mu_P {\\bf h})^T \\varOmega ({\\bf g} + \\mu_P {\\bf h})\\\\\n",
    "=&{\\bf g}^T\\varOmega {\\bf g}+2{\\bf g}^T\\varOmega{\\bf h} {\\mu_P}+{\\bf h}^T\\varOmega {\\bf h} \\mu_P^2 \\end{array}$$\n",
    "+ 可以看出，方差仍然是 预期收益率$\\mu_P$的二次多项式。"
   ]
  },
  {
   "cell_type": "markdown",
   "metadata": {
    "slideshow": {
     "slide_type": "slide"
    }
   },
   "source": [
    "+ 显然，当预期收益 为\n",
    "$$\\mu_{\\mbox{min}}=-\\frac{{\\bf g}^T \\varOmega {\\bf h}}{{\\bf h}^T\\varOmega {\\bf h}}$$\n",
    "时，组合的方差达到最小。 \n",
    " \n",
    "+  对应的最小方差为\n",
    "  $$\\mbox{min}(\\mbox{Var}(R_{\\omega_{\\mu_P}}))={\\bf g}^T \\varOmega {\\bf g}-\\frac{({\\bf g}^T \\varOmega {\\bf h})^2}{{\\bf h}^T\\varOmega {\\bf h}}$$"
   ]
  },
  {
   "cell_type": "markdown",
   "metadata": {
    "slideshow": {
     "slide_type": "subslide"
    }
   },
   "source": [
    "+ 注意这里的最小方差组合是在没有卖空限制的条件下给出的，即$\\omega_i$不必在0和1之间。\n",
    "+ 如添加这个限制，我们就不能得到有效组合权重的形式解，也不能得到最小方差组合的形式解（不能基于拉格朗日乘子法）\n",
    "+ 需要借助 二次规划算法。"
   ]
  },
  {
   "cell_type": "markdown",
   "metadata": {
    "slideshow": {
     "slide_type": "slide"
    }
   },
   "source": [
    "## 切线组合\n",
    "\n",
    "+ 如图，当组合中包含无风险资产时，我们需要考虑切线组合，下面介绍切线组合$T$的计算公式\n",
    "\n",
    "<img src=\"efficientf.png\" width = \"500\" height = \"300\" alt=\"R_Py\" align=center />\n"
   ]
  },
  {
   "cell_type": "markdown",
   "metadata": {
    "slideshow": {
     "slide_type": "slide"
    }
   },
   "source": [
    "+ 我们去掉$\\omega^T{\\bf 1}=1$的限制，设定$1-\\omega^T{\\bf 1}$为投资于无风险资产的量，\n",
    "+ 则期望收益为：\n",
    " $$ \\omega^T \\mu +(1-\\omega^T {\\bf 1})\\mu_f$$\n",
    "+ 预期收益率$\\mu_P$,则最小化方差的目标函数为：\n",
    "$$L=\\omega^T\\varOmega\\omega+\\delta\\{\\mu_P-\\omega^T\\mu-(1-\\omega^T {\\bf 1})\\mu_f\\}$$\n",
    "其中$\\delta$为拉格朗日乘子\n",
    " "
   ]
  },
  {
   "cell_type": "markdown",
   "metadata": {
    "slideshow": {
     "slide_type": "slide"
    }
   },
   "source": [
    "+ L对$\\omega$求导得$$2\\varOmega\\omega+\\delta\\{-\\mu+\\mu_f{\\bf 1}\\}=0$$\n",
    " 并且\n",
    "  $$\\mu_P= \\omega^T \\mu +(1-\\omega^T {\\bf 1})\\mu_f=\\omega^T(\\mu-\\mu_f{\\bf 1})+\\mu_f$$"
   ]
  },
  {
   "cell_type": "markdown",
   "metadata": {
    "slideshow": {
     "slide_type": "slide"
    }
   },
   "source": [
    "+ 通过第一个式子解出$\\omega$，并代入第二个式子，可以得到$\\delta$表达式：\n",
    "$$\\delta=\\frac{\\mu_P-\\mu_f}{(\\mu-\\mu_f)^T\\varOmega^{-1}(\\mu-\\mu_f)}$$\n",
    " \n",
    "+ 然后再代入$\\omega$表达式即可求得：\n",
    "\n",
    "$$\\omega_{\\mu_P}=\\delta\\bar{\\omega}$$\n",
    "\n",
    "其中\n",
    " \n",
    "$$\\bar{\\omega}=\\varOmega^{-1}(\\mu-\\mu_f)$$"
   ]
  },
  {
   "cell_type": "markdown",
   "metadata": {
    "slideshow": {
     "slide_type": "slide"
    }
   },
   "source": [
    "+ 显然， $\\omega_{\\mu_P}$是投资于各风险资产的量，并不是权重，而投资于无风险资产的量为$1-\\omega^T{\\bf 1}=1-\\delta\\bar{\\omega}^T{\\bf 1}$\n",
    "+ 考虑投资于风险资产的资金中，投资于各风险资产的权重为：\n",
    " $$\\omega^T=\\frac{\\bar{\\omega}}{{\\bf 1}^T\\bar{\\omega} }$$\n",
    "+ 该权重即为**切线组合的权重**"
   ]
  },
  {
   "cell_type": "markdown",
   "metadata": {
    "slideshow": {
     "slide_type": "slide"
    }
   },
   "source": [
    "# 总结：投资组合，有效前沿的相关计算\n",
    "\n",
    "需要计算的内容：\n",
    "  1. $\\mu_P,\\sigma_{\\mu_P}$曲线 ，即给定收益率期望$\\mu_P$，风险最低的投资组合的标准差$\\sigma_{\\mu_P}$\n",
    "  2. 计算最小方差组合（风险最低组合）\n",
    "  3. 给定无风险资产，计算切线组合\n",
    "  4. 将上述内容在图形上呈现\n",
    "  "
   ]
  },
  {
   "cell_type": "markdown",
   "metadata": {
    "slideshow": {
     "slide_type": "slide"
    }
   },
   "source": [
    "\n",
    "做上述计算，考虑两种情形：\n",
    "\n",
    " 1. 没有 投资权重非负限制，即可以进行卖空操作，这种情形有形式解。\n",
    " 2. 不能卖空，所有权重在0和1 之间。\n",
    " \n",
    "首先考虑第一种情形"
   ]
  },
  {
   "cell_type": "markdown",
   "metadata": {
    "slideshow": {
     "slide_type": "slide"
    }
   },
   "source": [
    "\n",
    " 1. $(\\mu_P,\\sigma_{\\mu_P})$ 曲线相关公式\n",
    "   +  设考虑$N$种资产的投资组合，收益率${\\bf R}$的期望和协方差矩阵分别为\n",
    "   $$(\\mu_1,\\cdots,\\mu_N)^T,\\varOmega=\\mbox{COV}({\\bf R})$$  \n",
    "   记\n",
    " $$ A=\\mu^T\\varOmega^{-1}{\\bf 1},B=\\mu^T\\varOmega^{-1}\\mu, C={\\bf 1}^T \\varOmega^{-1} {\\bf 1}, D=BC-A^2 $$\n",
    "$${\\bf g}=\\frac{B}{D}\\varOmega^{-1}{\\bf 1}-\\frac{A}{D}\\varOmega^{-1}\\mu$$\n",
    "$${\\bf h}=\\frac{C}{D}\\varOmega^{-1}{\\mu}-\\frac{A}{D}\\varOmega^{-1}{\\bf 1}$$\n",
    "则有\n",
    "  $$\\omega_{\\mu_P}={\\bf g} + \\mu_P {\\bf h}$$\n",
    "$$\\sigma_{\\mu_P}=\\sqrt{\\omega_{\\mu_P}^T\\varOmega \\omega_{\\mu_P}}$$\n"
   ]
  },
  {
   "cell_type": "markdown",
   "metadata": {
    "slideshow": {
     "slide_type": "slide"
    }
   },
   "source": [
    "2 . 最小方差组合\n",
    "\n",
    "   + 可得最小方差组合的预期收益 为\n",
    "  $$\\mu_{\\mbox{min}}=-\\frac{{\\bf g}^T \\varOmega {\\bf h}}{{\\bf h}^T\\varOmega {\\bf h}}$$\n",
    "  +  相应地，最小方差为\n",
    "  $$\\mbox{Var}(\\mu_{\\mbox{min}})={\\bf g}^T \\varOmega {\\bf g}-\\frac{({\\bf g}^T \\varOmega {\\bf h})^2}{{\\bf h}^T\\varOmega {\\bf h}}$$"
   ]
  },
  {
   "cell_type": "markdown",
   "metadata": {
    "slideshow": {
     "slide_type": "slide"
    }
   },
   "source": [
    "## 数据及计算"
   ]
  },
  {
   "cell_type": "code",
   "execution_count": 1,
   "metadata": {
    "collapsed": false
   },
   "outputs": [
    {
     "ename": "FileNotFoundError",
     "evalue": "[Errno 2] No such file or directory: 'E:\\\\kuaipan\\\\2016aut\\\\notebook'",
     "output_type": "error",
     "traceback": [
      "\u001b[0;31m---------------------------------------------------------------------------\u001b[0m",
      "\u001b[0;31mFileNotFoundError\u001b[0m                         Traceback (most recent call last)",
      "\u001b[0;32m<ipython-input-1-0d18ccd4d9fb>\u001b[0m in \u001b[0;36m<module>\u001b[0;34m()\u001b[0m\n\u001b[1;32m      1\u001b[0m \u001b[0;32mimport\u001b[0m \u001b[0mos\u001b[0m\u001b[0;34m\u001b[0m\u001b[0m\n\u001b[0;32m----> 2\u001b[0;31m \u001b[0mos\u001b[0m\u001b[0;34m.\u001b[0m\u001b[0mchdir\u001b[0m\u001b[0;34m(\u001b[0m\u001b[0;34m'E:\\\\kuaipan\\\\2016aut\\\\notebook'\u001b[0m\u001b[0;34m)\u001b[0m\u001b[0;34m\u001b[0m\u001b[0m\n\u001b[0m\u001b[1;32m      3\u001b[0m \u001b[0;32mimport\u001b[0m \u001b[0mpandas\u001b[0m \u001b[0;32mas\u001b[0m \u001b[0mpd\u001b[0m\u001b[0;34m\u001b[0m\u001b[0m\n\u001b[1;32m      4\u001b[0m \u001b[0;32mfrom\u001b[0m \u001b[0mgetsinadata\u001b[0m \u001b[0;32mimport\u001b[0m \u001b[0mget_sina_stock\u001b[0m\u001b[0;34m\u001b[0m\u001b[0m\n\u001b[1;32m      5\u001b[0m \u001b[0midstock\u001b[0m\u001b[0;34m=\u001b[0m\u001b[0;34m[\u001b[0m\u001b[0;34m\"600352\"\u001b[0m\u001b[0;34m,\u001b[0m\u001b[0;34m\"600109\"\u001b[0m\u001b[0;34m,\u001b[0m\u001b[0;34m\"601939\"\u001b[0m\u001b[0;34m]\u001b[0m\u001b[0;34m\u001b[0m\u001b[0m\n",
      "\u001b[0;31mFileNotFoundError\u001b[0m: [Errno 2] No such file or directory: 'E:\\\\kuaipan\\\\2016aut\\\\notebook'"
     ]
    }
   ],
   "source": [
    "import os\n",
    "os.chdir('E:\\\\kuaipan\\\\2016aut\\\\notebook')\n",
    "import pandas as pd\n",
    "from getsinadata import get_sina_stock\n",
    "idstock=[\"600352\",\"600109\",\"601939\"]\n",
    "start=\"2012-1-1\"\n",
    "end=\"2015-1-1\"\n",
    "freq=\"W-FRI\"\n",
    "for i in range(len(idstock)):    \n",
    "    datat=get_sina_stock(idstock[i],start,end)\n",
    "    close=datat[\"close\"]\n",
    "    closew=close.resample(freq).last()\n",
    "    ret1=closew.pct_change()\n",
    "    ret1.name=idstock[i]\n",
    "    if i==0:\n",
    "        data=ret1.copy()\n",
    "    else:\n",
    "        data=pd.concat([data,ret1],axis=1)  \n",
    "\n",
    "data=data.dropna(how=\"any\")"
   ]
  },
  {
   "cell_type": "code",
   "execution_count": 2,
   "metadata": {
    "collapsed": false,
    "slideshow": {
     "slide_type": "slide"
    }
   },
   "outputs": [
    {
     "name": "stdout",
     "output_type": "stream",
     "text": [
      "           600352      600109      601939\n",
      "count  151.000000  151.000000  151.000000\n",
      "mean     0.009729    0.011263    0.004274\n",
      "std      0.057782    0.069604    0.032030\n",
      "min     -0.119219   -0.170586   -0.083260\n",
      "25%     -0.028142   -0.029866   -0.010812\n",
      "50%      0.004763    0.006195    0.000000\n",
      "75%      0.038172    0.049198    0.015850\n",
      "max      0.184978    0.297012    0.212756\n"
     ]
    },
    {
     "data": {
      "image/png": "[encoded data removed]",
      "text/plain": [
       "<matplotlib.figure.Figure at 0x1223da00630>"
      ]
     },
     "metadata": {},
     "output_type": "display_data"
    }
   ],
   "source": [
    "%matplotlib inline\n",
    "data=data.dropna(how=\"any\")\n",
    "print(data.describe())\n",
    "tem=data.hist(sharex=True,layout=(1,3),figsize=(12,3))"
   ]
  },
  {
   "cell_type": "markdown",
   "metadata": {
    "slideshow": {
     "slide_type": "slide"
    }
   },
   "source": [
    "+ 我们需要计算均值和协方差矩阵\n",
    "+ 记每列收益率变量用$x_j$表示，观察数据为：$x_{1,j},\\cdots,x_{n,j}$，3列n行数据用矩阵 $X$ 表示\n",
    "+ 均值$\\mu=(\\mu_1,\\mu_2,\\mu_3)$\n",
    "   $$\\mu_j=\\frac{1}{n}\\sum_{i=1}^{n}x_{i,j}$$\n",
    "+ 协方差矩阵\n",
    "    - $X-\\mu$ 表示中心化的数据，即每列都减去对应的均值\n",
    "    - $x_k,x_j$的协方差计算，$$\\varOmega_{k,j}=cov(x_k,x_j)$$\n",
    "    - 因此，协方差可按下式计算：\n",
    "    $$\\Omega=\\frac{1}{n-1}(X-\\mu)^T (X-\\mu)$$\n",
    "   \n"
   ]
  },
  {
   "cell_type": "markdown",
   "metadata": {
    "slideshow": {
     "slide_type": "slide"
    }
   },
   "source": [
    "+ 可以直接使用data的方法mean和cov实现计算"
   ]
  },
  {
   "cell_type": "code",
   "execution_count": 3,
   "metadata": {
    "collapsed": false,
    "slideshow": {
     "slide_type": "-"
    }
   },
   "outputs": [
    {
     "name": "stdout",
     "output_type": "stream",
     "text": [
      "[[ 0.00972853]\n",
      " [ 0.01126294]\n",
      " [ 0.00427441]]\n"
     ]
    },
    {
     "data": {
      "text/html": [
       "<div>\n",
       "<table border=\"1\" class=\"dataframe\">\n",
       "  <thead>\n",
       "    <tr style=\"text-align: right;\">\n",
       "      <th></th>\n",
       "      <th>600352</th>\n",
       "      <th>600109</th>\n",
       "      <th>601939</th>\n",
       "    </tr>\n",
       "  </thead>\n",
       "  <tbody>\n",
       "    <tr>\n",
       "      <th>600352</th>\n",
       "      <td>0.003339</td>\n",
       "      <td>0.000970</td>\n",
       "      <td>0.000500</td>\n",
       "    </tr>\n",
       "    <tr>\n",
       "      <th>600109</th>\n",
       "      <td>0.000970</td>\n",
       "      <td>0.004845</td>\n",
       "      <td>0.001041</td>\n",
       "    </tr>\n",
       "    <tr>\n",
       "      <th>601939</th>\n",
       "      <td>0.000500</td>\n",
       "      <td>0.001041</td>\n",
       "      <td>0.001026</td>\n",
       "    </tr>\n",
       "  </tbody>\n",
       "</table>\n",
       "</div>"
      ],
      "text/plain": [
       "          600352    600109    601939\n",
       "600352  0.003339  0.000970  0.000500\n",
       "600109  0.000970  0.004845  0.001041\n",
       "601939  0.000500  0.001041  0.001026"
      ]
     },
     "execution_count": 3,
     "metadata": {},
     "output_type": "execute_result"
    }
   ],
   "source": [
    "Mu=data.mean().reshape((3,1))\n",
    "Sigma=data.cov()\n",
    "print(Mu)\n",
    "Sigma"
   ]
  },
  {
   "cell_type": "markdown",
   "metadata": {
    "slideshow": {
     "slide_type": "slide"
    }
   },
   "source": [
    "计算 $A,B,C,D,{\\bf g,h}$\n",
    "\n",
    " $ A=\\mu^T\\varOmega^{-1}{\\bf 1},B=\\mu^T\\varOmega^{-1}\\mu, C={\\bf 1}^T \\varOmega^{-1} {\\bf 1}, D=BC-A^2 $，\n",
    "${\\bf g}=\\frac{B}{D}\\varOmega^{-1}{\\bf 1}-\\frac{A}{D}\\varOmega^{-1}\\mu$，\n",
    "${\\bf h}=\\frac{C}{D}\\varOmega^{-1}{\\mu}-\\frac{A}{D}\\varOmega^{-1}{\\bf 1}$\n",
    "\n",
    "+ 注意，这里计算的时候需要转换为matrix类型，否则矩阵乘法的用np.dot,比较繁琐。\n",
    "+ 对于矩阵类的数据，直接用*表示矩阵乘法，.I 求逆 .T 转置"
   ]
  },
  {
   "cell_type": "code",
   "execution_count": 4,
   "metadata": {
    "collapsed": true,
    "slideshow": {
     "slide_type": "slide"
    }
   },
   "outputs": [],
   "source": [
    "import numpy as np\n",
    "Sigma=np.matrix(Sigma)\n",
    "N=len(Mu)\n",
    "Mu=np.matrix(Mu.reshape(N,1))\n",
    "onesv=np.matrix(np.ones((N,1)))\n",
    "SI=Sigma.I"
   ]
  },
  {
   "cell_type": "code",
   "execution_count": 5,
   "metadata": {
    "collapsed": false,
    "slideshow": {
     "slide_type": "slide"
    }
   },
   "outputs": [],
   "source": [
    "A=Mu.T*SI*onesv; A=A[0,0]\n",
    "B=Mu.T*SI*Mu; B=B[0,0]\n",
    "C=onesv.T*SI*onesv; C=C[0,0]\n",
    "D=B*C-A**2\n",
    "g=SI*onesv*B/D-SI*Mu*A/D\n",
    "h=SI*Mu*C/D-SI*onesv*A/D"
   ]
  },
  {
   "cell_type": "markdown",
   "metadata": {
    "slideshow": {
     "slide_type": "slide"
    }
   },
   "source": [
    "我们计算权重\n",
    "$$\\omega_{\\mu_P}={\\bf g} + \\mu_P {\\bf h}$$\n",
    "$$\\sigma_{\\mu_P}=\\sqrt{\\omega_{\\mu_P}^T\\varOmega \\omega_{\\mu_P}}$$\n",
    "\n",
    "其中 $\\min\\mu_j \\leq \\mu_P \\leq \\max \\mu_j$"
   ]
  },
  {
   "cell_type": "code",
   "execution_count": 6,
   "metadata": {
    "collapsed": false,
    "slideshow": {
     "slide_type": "slide"
    }
   },
   "outputs": [],
   "source": [
    "mmin=np.min(Mu)\n",
    "mmax=np.max(Mu)\n",
    "meanv=np.linspace(mmin,mmax,100)\n",
    "wv=list(map(lambda x: g+x*h,meanv))\n",
    "sigmav=list(map(lambda x: np.sqrt(x.T*Sigma*x)[0,0],wv))"
   ]
  },
  {
   "cell_type": "markdown",
   "metadata": {
    "slideshow": {
     "slide_type": "slide"
    }
   },
   "source": [
    "+ 计算最小方差组合\n",
    "\n",
    "  $$\\mu_{\\mbox{min}}=-\\frac{{\\bf g}^T \\varOmega {\\bf h}}{{\\bf h}^T\\varOmega {\\bf h}}$$\n",
    "  $$\\mbox{Var}(\\mu_{\\mbox{min}})={\\bf g}^T \\varOmega {\\bf g}-\\frac{({\\bf g}^T \\varOmega {\\bf h})^2}{{\\bf h}^T\\varOmega {\\bf h}}$$"
   ]
  },
  {
   "cell_type": "code",
   "execution_count": 7,
   "metadata": {
    "collapsed": true,
    "slideshow": {
     "slide_type": "slide"
    }
   },
   "outputs": [],
   "source": [
    "mumin=-g.T*Sigma*h/(h.T*Sigma*h)\n",
    "sigmamin=np.sqrt(g.T*Sigma*g-(g.T*Sigma*h)**2/(h.T*Sigma*h))"
   ]
  },
  {
   "cell_type": "markdown",
   "metadata": {
    "slideshow": {
     "slide_type": "slide"
    }
   },
   "source": [
    "+ 给定无风险资产的收益，确定切线组合$\\omega$\n",
    "\n",
    "$$\\bar{\\omega}=\\varOmega^{-1}(\\mu-\\mu_f{\\bf 1})$$\n",
    "$$\\omega=\\frac{\\bar{\\omega}}{{\\bf 1}^T\\bar{\\omega} }$$\n",
    "+ 对应的预期收益率和方差为：\n",
    "\n",
    "$$\\mu_t=\\omega^T\\mu$$\n",
    "$$\\sigma_{t}=\\sqrt{\\omega_{t}^T\\varOmega \\omega_{t}}$$"
   ]
  },
  {
   "cell_type": "code",
   "execution_count": 8,
   "metadata": {
    "collapsed": false,
    "slideshow": {
     "slide_type": "slide"
    }
   },
   "outputs": [],
   "source": [
    "muf=0.001\n",
    "wt=SI*(Mu-muf)\n",
    "wt=wt/(onesv.T*wt)\n",
    "mut=wt.T*Mu\n",
    "sigmat=np.sqrt(wt.T*Sigma*wt)"
   ]
  },
  {
   "cell_type": "markdown",
   "metadata": {
    "slideshow": {
     "slide_type": "slide"
    }
   },
   "source": [
    "+ 可以画出有效前沿，最小方差组合，切线组合，所有资产的位置"
   ]
  },
  {
   "cell_type": "code",
   "execution_count": 9,
   "metadata": {
    "collapsed": false,
    "scrolled": true,
    "slideshow": {
     "slide_type": "subslide"
    }
   },
   "outputs": [
    {
     "data": {
      "text/plain": [
       "(0, 0.013)"
      ]
     },
     "execution_count": 9,
     "metadata": {},
     "output_type": "execute_result"
    },
    {
     "data": {
      "image/png": "[encoded data removed]",
      "text/plain": [
       "<matplotlib.figure.Figure at 0x1223de86c18>"
      ]
     },
     "metadata": {},
     "output_type": "display_data"
    }
   ],
   "source": [
    "import matplotlib.pyplot as plt\n",
    "%matplotlib inline\n",
    "#曲线\n",
    "\n",
    "Sig=data.std()\n",
    "plt.plot(sigmav,meanv)\n",
    "plt.plot(Sig,Mu,\"bo\")\n",
    "plt.plot(sigmamin,mumin,\"ro\")\n",
    "\n",
    "\n",
    "plt.plot([0,sigmat.item(0)],[muf,mut.item(0)],\"yo--\")\n",
    "\n",
    "\n",
    "plt.xlim([-0.005,0.073]) \n",
    "plt.ylim([0,0.013])"
   ]
  },
  {
   "cell_type": "code",
   "execution_count": 10,
   "metadata": {
    "collapsed": false,
    "slideshow": {
     "slide_type": "slide"
    }
   },
   "outputs": [
    {
     "data": {
      "text/plain": [
       "<matplotlib.text.Text at 0x1223f488198>"
      ]
     },
     "execution_count": 10,
     "metadata": {},
     "output_type": "execute_result"
    },
    {
     "data": {
      "image/png": "[encoded data removed]",
      "text/plain": [
       "<matplotlib.figure.Figure at 0x1223f462780>"
      ]
     },
     "metadata": {},
     "output_type": "display_data"
    }
   ],
   "source": [
    "weightm=np.array([[x.item(0),x.item(1),x.item(2)] for x in wv])\n",
    "for i in range(3):\n",
    "    plt.plot(meanv,weightm[:,i],label=i)\n",
    "plt.legend(loc=\"best\")\n",
    "plt.title(\"weighs for assets 1,2,3 as function of $\\mu_p$\")"
   ]
  }
 ],
 "metadata": {
  "anaconda-cloud": {},
  "celltoolbar": "Slideshow",
  "kernelspec": {
   "display_name": "Python [conda root]",
   "language": "python",
   "name": "conda-root-py"
  },
  "language_info": {
   "codemirror_mode": {
    "name": "ipython",
    "version": 3
   },
   "file_extension": ".py",
   "mimetype": "text/x-python",
   "name": "python",
   "nbconvert_exporter": "python",
   "pygments_lexer": "ipython3",
   "version": "3.5.2"
  }
 },
 "nbformat": 4,
 "nbformat_minor": 0
}
