{
 "cells": [
  {
   "cell_type": "markdown",
   "metadata": {
    "slideshow": {
     "slide_type": "slide"
    }
   },
   "source": [
    "# 一： 时间序列数据分析-介绍\n",
    "\n",
    "我们介绍了风险资产收益率的最大特征其的不可预测性，即认为股票价格实际上是一种随机游走，价格的变化是相互独立的。前面介绍的投资组合计算也不对收益率进行预测。 解释这种相互独立性的经济理论是 市场的有效性理论。\n",
    "\n",
    "**关于有效性的观点:**\n",
    "\n",
    "**弱有效**，**半强有效**和**强有效性**分别界定了几种市场有效性的程度。在弱有效中，利用历史股票价格和交易量数据不能预测未来股价；在半强有效市场中，利用公开信息不能预测未来股价；在强有效市场中，即使内幕信息也不能对未来的股价预测带来哪怕丁点的帮助。"
   ]
  },
  {
   "cell_type": "markdown",
   "metadata": {
    "slideshow": {
     "slide_type": "slide"
    }
   },
   "source": [
    "**关于资产收益率(价格)的预测**\n",
    "\n",
    "市场专业人士和大部分投资者都不认为市场完全有效，一般都相信历史提供了对未来预测的有用信息。\n",
    "\n",
    "也许市场存在有效预测未来股价（收益率）的机会。但这种机会转瞬即逝，既不是持久的，也不是普遍的。\n",
    "\n",
    "一方面市场是变化的，一个有效的预测模式可能在其公布后就消失了。即使没有公布，但当市场因素发生变化，预测模式就失效了。另一方面，市场有众多的资产，其价格模式可能是多样的，对一种资产有效的预测模式可能对别的资产无效。\n",
    "\n",
    "不过市场哪怕细微的失效也会给收益率预测带来机会，给人们提供了发掘有效模式预测资产未来价格，并获得超额收益的的希望。"
   ]
  },
  {
   "cell_type": "markdown",
   "metadata": {
    "slideshow": {
     "slide_type": "slide"
    }
   },
   "source": [
    "**时间序列分析--预测及其它应用**\n",
    "\n",
    "基本面分析和技术分析是对未来收益率预测的两种方法。不管那种方法，都是对历史资料进行分析处理，然后给出未来证券价格的预测。如果处理的数据有时间坐标，通常就被称为时间序列模型。时间序列模型对时间序列数据进行分析，以期发现预测未来收益率的有效模式。\n",
    " \n",
    "\n",
    "另外，从技术分析的角度看，还有很多千奇百怪的预测收益率的方式，它们利用各种可能的和股票价格的相关关系来预测股价。比如我们前面介绍的超级碗方法，以及曾经流行的女士裙长的方法，利用气温的方法等。 \n",
    "\n",
    "时间序列方法是预测未来收益率的重要工具。有非常多的技术可以利用。其中最简单是线性时间序列模型。\n",
    "\n",
    "另外， 相比预测收益率，线性时间序列方法更多地用来分析宏观经济数据。"
   ]
  },
  {
   "cell_type": "markdown",
   "metadata": {
    "slideshow": {
     "slide_type": "slide"
    }
   },
   "source": [
    "## 二： 平稳性\n",
    "\n",
    "时间序列是指按时间次序排列的随机变量序列。比如风险资产的日收益率序列，${r_t}$ 表示第 $t$ 日的收益率，则${r_{\\rm{1}}}, \\cdots ,{r_N}$ 给出了从第1日到第 $N$ 日的证券收益率。我们视对应的实际数据为该事件序列的一次实现，在不导致混淆的情况下，我们也记其为${r_{\\rm{1}}}, \\cdots ,{r_N}$ 。一般来说，在一个时间点上，都只有一次观测察，因此长度为$N$ 的时间序列有$N$ 个随机变量，一般只有$N$ 个观测。 $\\left\\{ {{r_{\\rm{1}}}, \\cdots ,{r_N}} \\right\\}$的联合分布称为时间序列$\\left\\{ {{X_t}} \\right\\}$ 的一个有限维分布。"
   ]
  },
  {
   "cell_type": "markdown",
   "metadata": {
    "slideshow": {
     "slide_type": "slide"
    }
   },
   "source": [
    "**线性相关的度量-协方差函数**\n",
    "\n",
    " 两个变量之间的线性关系可以用协方差函数或相关系数描述。变量X，Y的协方差函数定义如下：\n",
    " $${\\mathop{\\rm cov}} \\left( {X,Y} \\right) = E\\left( {X - {\\mu _x}} \\right)\\left( {Y - {\\mu _y}} \\right) = E\\left( {XY} \\right) - E\\left( X \\right)E\\left( Y \\right)$$\n",
    " \n",
    " 虽然协方差函数可以表述两个变量的线性关系，但因为其和两个变量自身的方差有关，在不同变量之间的协方差函数，并不能用来衡量变量之间线性关系的大小。如果两个变量完全线性相关，但如果它们的方差很小，其协方差函数也可能很小。反之，低线性关系的变量如果方差很大，其协方差也可能较大。因此，衡量线性关系大小的度量应该去掉每个变量方差的影响。"
   ]
  },
  {
   "cell_type": "markdown",
   "metadata": {
    "slideshow": {
     "slide_type": "slide"
    }
   },
   "source": [
    "**相关系数**\n",
    "\n",
    "我们用相关系数描述。两个随机变量$X,Y$ 的相关系数定义为\n",
    " \n",
    " $${\\rho _{x,y}} = \\frac{{{\\mathop{\\rm cov}} \\left( {X,Y} \\right)}}{{\\sqrt {{\\mathop{\\rm var}} \\left( X \\right){\\mathop{\\rm var}} \\left( Y \\right)} }} = \\frac{{E\\left( {X - {\\mu _x}} \\right)\\left( {Y - {\\mu _y}} \\right)}}{{\\sqrt {E{{\\left( {X - {\\mu _x}} \\right)}^2}E{{\\left( {Y - {\\mu _y}} \\right)}^2}} }}$$\n",
    " \n",
    " 其中${\\mu _x},{\\mu _y}$ 分别为$X,Y$ 的期望。 ${\\rho _{x,y}}$是-1和1之间的数， ${\\rho _{x,y}} = 1$表示两个随机变量完全正相关， ${\\rho _{x,y}} =  - 1$表示两个随机变量完全负相关， ${\\rho _{x,y}} = 0$表示没有线性关系。如果$X,Y$ 同为正态分布，则${\\rho _{x,y}} = 0$ 也表示两个随机变量独立。\n",
    " "
   ]
  },
  {
   "cell_type": "markdown",
   "metadata": {
    "slideshow": {
     "slide_type": "slide"
    }
   },
   "source": [
    "### \t线性相关的度量-样本相关系数\n",
    "如果得到$X,Y$ 的观测，$\\left\\{ {{x_1}, \\cdots ,{x_n}} \\right\\},\\left\\{ {{y_1}, \\cdots ,{y_n}} \\right\\}$，协方差函数可以用样本协方差函数估计。\n",
    " \n",
    " $$\\hat{\\sigma}^2_{XY} = \\frac{1}{n}\\sum\\limits_{i = 1}^n {\\left( {{x_i} - \\bar x} \\right)\\left( {{y_i} - \\bar y} \\right)} $$\n",
    " \n",
    "则相关系数可以用样本相关系数估计，定义为\n",
    " \n",
    " $${\\hat \\rho _{x,y}} = \\frac{{\\sum\\limits_{i = 1}^n {\\left( {{x_i} - \\bar x} \\right)\\left( {{y_i} - \\bar y} \\right)} }}{{\\sqrt {\\sum\\limits_{i = 1}^n {{{\\left( {{x_i} - \\bar x} \\right)}^2}} \\sum\\limits_{i = 1}^n {{{\\left( {{y_i} - \\bar y} \\right)}^2}} } }}$$\n",
    " \n",
    "其中$\\bar x = \\sum\\limits_{i = 1}^n {{x_i}} $ ，$\\bar y = \\sum\\limits_{i = 1}^n {{y_i}} $ 为样本均值。\n"
   ]
  },
  {
   "cell_type": "markdown",
   "metadata": {
    "slideshow": {
     "slide_type": "slide"
    }
   },
   "source": [
    "### \t时间序列线性相关的度量-自相关函数\n",
    "\n",
    "时间序列是按时间次序排列的随机变量，不同时间点上的随机变量之间可能有线性关系，我们可以用它们自己的协方差函数和相关系数描述。我们称之为自协方差函数和自相关函数。\n",
    "\n",
    "定义t时刻随机变量${r_t}$ 和s时刻随机变量${r_s}$ 的自协方差函数为\n",
    " $${\\gamma _r}\\left( {t,s} \\right) = {\\mathop{\\rm cov}} \\left( {{r_t},{r_s}} \\right)$$\n",
    "\n",
    "定义t时刻随机变量${r_t}$ 和s时刻随机变量${r_s}$ 的自相关函数为\n",
    "$${\\rho _r}\\left( {t,s} \\right) = \\frac{{{\\mathop{\\rm cov}} \\left( {{r_t},{r_s}} \\right)}}{{\\sqrt {{\\mathop{\\rm var}} \\left( {{r_t}} \\right){\\mathop{\\rm var}} \\left( {{r_s}} \\right)} }} = \\frac{{{\\gamma _r}\\left( {t,s} \\right)}}{{\\sqrt {{\\gamma _r}\\left( {t,t} \\right){\\gamma _r}\\left( {s,s} \\right)} }}$$\n",
    "\n"
   ]
  },
  {
   "cell_type": "markdown",
   "metadata": {
    "slideshow": {
     "slide_type": "slide"
    }
   },
   "source": [
    "如果时间序列的各自相关系数都为0（除了${\\rho _r}\\left( {t,t} \\right) = 1$ ），则时间序列${r_t}$ 为前后不相关序列。按照弱有效市场的假设，风险资产的收益率序列应该是前后不相关序列。"
   ]
  },
  {
   "cell_type": "markdown",
   "metadata": {
    "slideshow": {
     "slide_type": "slide"
    }
   },
   "source": [
    "###  平稳定义\n",
    " \n",
    " \n",
    " 为了分析时间序列的统计特性，我们通常需要平稳性假设。我们介绍两种平稳设定：严平稳和弱平稳。"
   ]
  },
  {
   "cell_type": "markdown",
   "metadata": {},
   "source": [
    " \n",
    "平稳性有两种定义，一种针对时间序列的联合分布。如果时间序列$\\left\\{ {{r_t}} \\right\\}$ 的任意有限维联合分布不随时间的平移而变化，则称其为**严平稳**的时间序列。即\n",
    "\n",
    " 如果 $\\forall t,k$ ，$\\left\\{ {{r_1}, \\cdots ,{r_t}} \\right\\}$ 的联合分布都和 $\\left\\{ {{r_{1 + k}}, \\cdots ,{r_{t + k}}} \\right\\}$ 的联合分布相同，则称$\\left\\{ {{r_t}} \\right\\}$ 为严平稳时间序列.\n",
    "\n",
    "独立同分布的序列就是严平稳的。严平稳的条件非常的强，一般难以用检验进行准确的检验。"
   ]
  },
  {
   "cell_type": "markdown",
   "metadata": {
    "slideshow": {
     "slide_type": "slide"
    }
   },
   "source": [
    "在时间序列分析中使用最多的是另一种平稳性假定：**弱平稳**。它对时间序列的距进行设定，并且只针对一阶距和二阶矩。如果时间序列的一阶距和二阶矩都具有时间平移不变性，这称序列的弱平稳的。即如果\n",
    "\n",
    "+  $E\\left( {{r_t}} \\right) = \\mu $，其中$\\mu $ 为常数；\n",
    "+ ${\\mathop{\\rm cov}} \\left( {{r_t},{r_{t - k}}} \\right) = {\\gamma _k}$,并且${\\gamma _k}$ 只依赖于$k$ 且有界，则称该时间序列是弱平稳的，也称为平稳的，其中$\\mu $ 称为时间序列的期望， ${\\gamma _k}$称为时间序列的$k$ 阶自协方差函数，也称$k$ 为时滞。"
   ]
  },
  {
   "cell_type": "markdown",
   "metadata": {
    "slideshow": {
     "slide_type": "slide"
    }
   },
   "source": [
    "**严、弱平稳关系**\n",
    "\n",
    "+ 严平稳的条件在距上的假设比弱平稳强，如果序列严平稳，则其各阶距都是时间平移不变的。因此如果严平稳序列的方差有限，则其一定是弱平稳序列。\n",
    "+ 对正态分布来说，因为其联合分布由一阶距和二阶矩确定，因此，严平稳和弱平稳是等价的。"
   ]
  },
  {
   "cell_type": "markdown",
   "metadata": {
    "slideshow": {
     "slide_type": "slide"
    }
   },
   "source": [
    "**自相关系数的估计 **\n",
    "\n",
    "在时间序列研究中，常常只能有一个实现，即一列观察，对每个时间点上的随机变量，只有一个观察。显然，t时刻和s时刻的随机变量的自协方差函数${\\gamma _r}\\left( {t,s} \\right)$ 是不能有两个数据计算出来的。但如果序列是平稳序列，因为其不同时滞的距是平移不变量的，我们有\n",
    "\n",
    "$${\\gamma _k} = \\gamma \\left( {1,k + 1} \\right) =  \\cdots  = \\gamma \\left( {n - k,n} \\right)$$\n",
    "\n"
   ]
  },
  {
   "cell_type": "markdown",
   "metadata": {
    "slideshow": {
     "slide_type": "slide"
    }
   },
   "source": [
    "因此可以用$\\left\\{ {{r_1},{r_{1 + k}}} \\right\\}$,$\\left\\{ {{r_2},{r_{2 + k}}} \\right\\}$,$ \\cdots $,$\\left\\{ {{r_{n - k}},{r_n}} \\right\\}$计算上述协方差函数\n",
    "\n",
    "$${\\hat \\gamma _k} = \\frac{1}{n}\\sum\\limits_{i = 1}^{n - k} {\\left( {{r_i} - \\bar r} \\right)\\left( {{r_{i + k}} - \\bar r} \\right)} $$\n",
    "\n",
    "同样，样本自相关系数。\n",
    "\n",
    "$${\\hat \\rho _k} = \\frac{{\\sum\\limits_{i = 1}^{n - k} {\\left( {{r_i} - \\bar r} \\right)\\left( {{r_{i + k}} - \\bar r} \\right)} }}{{\\sum\\limits_{i = 1}^n {{{\\left( {{r_i} - \\bar r} \\right)}^2}} }}$$\n",
    "\n",
    "注意，随着k的增大，所用的样本数据减少，因此，k增大时，计算的精度会降低。\n"
   ]
  },
  {
   "cell_type": "code",
   "execution_count": 7,
   "metadata": {
    "collapsed": false,
    "slideshow": {
     "slide_type": "slide"
    }
   },
   "outputs": [
    {
     "data": {
      "text/plain": [
       "[1.0000, -0.0107, -0.0271, -0.0026, 0.0060, -0.0318]"
      ]
     },
     "execution_count": 7,
     "metadata": {},
     "output_type": "execute_result"
    }
   ],
   "source": [
    "#相关系数的计算\n",
    "#导入 包\n",
    "import pandas as pd\n",
    "import numpy as np\n",
    "import matplotlib.pylab as plt\n",
    "%matplotlib inline\n",
    "%precision 4\n",
    "n=1000\n",
    "#产生随机数,n为样本量\n",
    "data=np.random.normal(size=n)\n",
    "#plt.plot(data)\n",
    "# 编制计算k阶自相关系数的函数\n",
    "def autocoef(data,k):\n",
    "    meanw=np.mean(data)\n",
    "    n=len(data)    \n",
    "    return np.nansum((data[:(n-k)]-meanw)*(data[k:]-meanw))*n/np.nansum((data-meanw)**2)/(n-k)\n",
    "# 生成前k阶的自相关系数\n",
    "\n",
    "[autocoef(data,i) for i in range(6)]"
   ]
  },
  {
   "cell_type": "code",
   "execution_count": 8,
   "metadata": {
    "collapsed": false,
    "slideshow": {
     "slide_type": "slide"
    }
   },
   "outputs": [
    {
     "data": {
      "text/plain": [
       "array([ 1.    , -0.0107, -0.0271, -0.0026,  0.006 , -0.0317])"
      ]
     },
     "execution_count": 8,
     "metadata": {},
     "output_type": "execute_result"
    }
   ],
   "source": [
    "# statsmodels 包中的函数\n",
    "from statsmodels.tsa.stattools import acf\n",
    "acf(data,nlags=5)\n",
    "\n",
    "#也可以用如下的包和命令产生随机数\n",
    "#from scipy.stats import  norm\n",
    "#data=norm.rvs(1000)"
   ]
  },
  {
   "cell_type": "markdown",
   "metadata": {
    "slideshow": {
     "slide_type": "slide"
    }
   },
   "source": [
    "## 三： 白噪声\n",
    "\n",
    "在时间序列的分析中，最简单的当属独立同分布的时间序列了。这是不需要时间序列分析技术就可以处理这样的数据。在本章中，我们讨论平稳时间序列的线性关系，最简单的情形是它们之间没有线性关系。我们称这种前后不相关的平稳时间序列为白噪声序列。若${\\varepsilon _t}$ 为白噪声序列，则有\n",
    "$${\\mathop{\\rm cov}} \\left( {{\\varepsilon _t},{\\varepsilon _{t - k}}} \\right) = \\left\\{ {\\begin{array}{*{20}{c}}\n",
    "0&{k \\ne 0}\\\\\n",
    "{{\\sigma ^2}}&{k = 0}\n",
    "\\end{array}} \\right.$$\n",
    "\n",
    "若$\\mu  = 0,\\sigma  = 1$ ，则相应白噪声称为标准白噪声；若白噪声序列为正态序列，则称为正态白噪声。"
   ]
  },
  {
   "cell_type": "markdown",
   "metadata": {
    "slideshow": {
     "slide_type": "slide"
    }
   },
   "source": [
    "**白噪声与新息**\n",
    "\n",
    "在证券市场中，每天都有新信息，新信息会影响收益率。我们可以假设t天的新信息对收益率的影响为${\\varepsilon _t}$ ，因为新信息的出现是不相关的（独立的），因此可以认为每天新信息收益率影响序列${\\varepsilon _t}$ 也是不相关的，如果它们还是平稳序列，则该序列就是白噪声序列。如果市场有效，新信息会被市场瞬间完全消化，收益率序列只和${\\varepsilon _t}$ 有关，因此也是独立的序列，当然也是白噪声序列。"
   ]
  },
  {
   "cell_type": "markdown",
   "metadata": {
    "slideshow": {
     "slide_type": "slide"
    }
   },
   "source": [
    "**白噪声的检验**\n",
    "\n",
    "如何通过观察数据判断个序列是否是白噪声序列呢？我们需要借助于白噪声序列的性质设计假设检验方法。\n",
    "\n",
    "如果得到收益率时间序列的一个实现$\\left\\{ {{r_1}, \\cdots ,{r_n}} \\right\\}$ ，若其是平稳序列，则可以计算样本k阶自相关系数为\n",
    "\n",
    "$${\\hat \\rho _k} = \\frac{{\\sum\\limits_{i = 1}^{n - k} {\\left( {{r_i} - \\bar r} \\right)\\left( {{r_{i + k}} - \\bar r} \\right)} }}{{\\sum\\limits_{i = 1}^n {{{\\left( {{r_i} - \\bar r} \\right)}^2}} }}$$"
   ]
  },
  {
   "cell_type": "markdown",
   "metadata": {
    "slideshow": {
     "slide_type": "slide"
    }
   },
   "source": [
    "若序列 $\\left\\{ {{r_t}} \\right\\}$ 为独立同分布的序列，并且$E\\left( {r_t^2} \\right) < \\infty $ ，则${\\hat \\rho _k}$ 近似服从均值为0，方差为$1/n$ 的正态分布。同样，如果$\\left\\{ {{r_t}} \\right\\}$ 为一般平稳序列，样本自相关系数也有其极限分布.\n",
    "\n",
    "\n",
    " 利用 ${\\hat \\rho _k}$的极限分布的结论，可以构造白噪声检验统计量。这里介绍两个简单的检验方法。"
   ]
  },
  {
   "cell_type": "markdown",
   "metadata": {
    "slideshow": {
     "slide_type": "slide"
    }
   },
   "source": [
    "**正态检验法**\n",
    "\n",
    "因为在$\\left\\{ {{r_t}} \\right\\}$ 为独立同分布的序列的假设下，$\\left\\{ {{{\\hat \\rho }_1}, \\cdots ,{{\\hat \\rho }_m}} \\right\\}$ 的极限分布都为均值为0，方差为$1/n$ 的正态分布，因此，给定置信度$1 - \\alpha $ ， 比方95%，可以给出${\\hat \\rho _k}$ 的区间估计$\\left[ { - 1.96/\\sqrt n ,1.96/\\sqrt n } \\right]$ 。在考察的自相关系函数中，如果超过5%的自协方差函数不在该区间，则可以拒绝白噪声假定。为了直观地观察自相关函数是否在置信区间内，在给出自相关函数图形时可以给出两条临界线$y =  - 1.96/\\sqrt n ,y = 1.96/\\sqrt n $ 。"
   ]
  },
  {
   "cell_type": "code",
   "execution_count": 3,
   "metadata": {
    "collapsed": false,
    "scrolled": false,
    "slideshow": {
     "slide_type": "slide"
    }
   },
   "outputs": [
    {
     "data": {
      "text/plain": [
       "[<matplotlib.lines.Line2D at 0x1f447be0>,\n",
       " <matplotlib.lines.Line2D at 0x1f447e10>,\n",
       " <matplotlib.lines.Line2D at 0x1f45c438>]"
      ]
     },
     "execution_count": 3,
     "metadata": {},
     "output_type": "execute_result"
    },
    {
     "data": {
      "image/png": "[encoded data removed]",
      "text/plain": [
       "<matplotlib.figure.Figure at 0x3a21c50>"
      ]
     },
     "metadata": {},
     "output_type": "display_data"
    }
   ],
   "source": [
    "\n",
    "k=10\n",
    "autoco=[  autocoef(data,j) for j in range(k+1)]\n",
    "#可以画出自相关系数和95%的置信区间观察序列是否为白噪声\n",
    "plt.figure(figsize=(6,5))\n",
    "plt.plot(range(1,k+1),autoco[1:],\"b*\",[0,k],[1.96/np.sqrt(n)]*2,\"r--\",[0,k],[-1.96/np.sqrt(n)]*2,\"r--\")\n"
   ]
  },
  {
   "cell_type": "markdown",
   "metadata": {
    "slideshow": {
     "slide_type": "slide"
    }
   },
   "source": [
    "**卡方分布的方法**。\n",
    "\n",
    "在满足一定距条件下，\n",
    "$$Q\\left( m \\right) = n\\sum\\limits_{k = 1}^m {\\hat \\rho _k^2} $$\n",
    "的渐进分布为自由度为m的卡方分布。其中m为计算样本相关系数的最大时滞，n为时间序列数据量。因此，利用上述检验统计量可以用来检验假设\n",
    "\n",
    "$$\\hat \\rho _1^2 =  \\cdots  = \\hat \\rho _m^2 = 0$$\n",
    "\n",
    "对给定的$\\alpha $ ，比如$\\alpha  = 0.05$ ，如果$Q\\left( m \\right) > \\chi _\\alpha ^2\\left( m \\right)$ ，我们可以以95%的置信度拒绝白噪声检验。"
   ]
  },
  {
   "cell_type": "markdown",
   "metadata": {
    "slideshow": {
     "slide_type": "slide"
    }
   },
   "source": [
    "**m的选择**\n",
    "\n",
    "在利用卡方进行检验时，m的选择非常重要。不同的m可能导致不同的检验结果，因此好的检验办法是对m从小到大分别检验，如果统统都通过，则不拒绝白噪声假设。当然，数据量较少时，m不能选择过大（因为此时对应的样本自相关函数可能会带来较大的偏差），模拟研究检验取$m = \\ln \\left( n \\right)$ 时有较好的功效。一般情况下选择5（$\\exp \\left( 5 \\right) \\approx 148$ ）到10（$\\exp \\left( {10} \\right) \\approx 22026$ ）就可以了。"
   ]
  },
  {
   "cell_type": "code",
   "execution_count": 4,
   "metadata": {
    "collapsed": false,
    "slideshow": {
     "slide_type": "slide"
    }
   },
   "outputs": [
    {
     "data": {
      "text/plain": [
       "(array([  2.29054369e-02,   8.27925795e+00,   8.32300151e+00,\n",
       "          2.91548738e+01,   3.02567143e+01,   3.12046445e+01]),\n",
       " array([  8.79703240e-01,   1.59287604e-02,   3.97872495e-02,\n",
       "          7.27102431e-06,   1.31280694e-05,   2.31674357e-05]))"
      ]
     },
     "execution_count": 4,
     "metadata": {},
     "output_type": "execute_result"
    }
   ],
   "source": [
    "from statsmodels.tsa.stattools import q_stat\n",
    "q_stat(autoco[1:],len(data))\n",
    "#注意这里不要包括第一个数“1”"
   ]
  },
  {
   "cell_type": "markdown",
   "metadata": {
    "slideshow": {
     "slide_type": "slide"
    }
   },
   "source": [
    "下面我们随机地看一下中国市场中的收益率序列"
   ]
  },
  {
   "cell_type": "code",
   "execution_count": 18,
   "metadata": {
    "collapsed": false,
    "scrolled": true,
    "slideshow": {
     "slide_type": "slide"
    }
   },
   "outputs": [
    {
     "name": "stdout",
     "output_type": "stream",
     "text": [
      "1\n",
      "('m=', 6)\n",
      "(array([ 0.05722843,  0.64580782,  0.65281153,  1.22213378,  2.24254908,\n",
      "        3.71288409]), array([ 0.81093139,  0.72404342,  0.88424291,  0.87444116,  0.81466676,\n",
      "        0.7154642 ]))\n"
     ]
    }
   ],
   "source": [
    "%run getsinadata.py\n",
    "stockid=str(input())\n",
    "stock=get_sina_stock(stockid,\"2012-1-1\",\"2014-12-31\")\n",
    "ret=stock[\"close\"].pct_change()\n",
    "logret=(1+ret).map(np.math.log)\n",
    "m=int(np.log(len(logret)))\n",
    "print(\"m=\",m)\n",
    "autoco=[ autocoef(logret.values[1:],j) for j in range(m+1)]\n",
    "qres=q_stat(autoco[1:],len(logret))\n",
    "print(qres)\n",
    "if min(qres[1])<0.05:\n",
    "    print (autoco)"
   ]
  },
  {
   "cell_type": "code",
   "execution_count": 17,
   "metadata": {
    "collapsed": false
   },
   "outputs": [
    {
     "data": {
      "text/plain": [
       "(724, 7)"
      ]
     },
     "execution_count": 17,
     "metadata": {},
     "output_type": "execute_result"
    }
   ],
   "source": [
    "stock.shape"
   ]
  },
  {
   "cell_type": "markdown",
   "metadata": {
    "slideshow": {
     "slide_type": "slide"
    }
   },
   "source": [
    "**白噪声检验和相关性建模的必要性**\n",
    "\n",
    "在很多金融理论中，比方期权定价和资本资产定价模型，都是假设收益率序列没有相关性。并且这种相关性的检验也常被用来检验市场的有效性。\n",
    "\n",
    "从实际数据发现，资产收益率时间序列的自相关性一般没有，即使拒绝白噪声检验，其自相关系数也非常的小。而且，研究发现，股票价格的决定方式和指数收益率的计算方式可能导致收益率序列的相关性，特别是分析高频数据时。不过，在实际的收益率的分析中，有必要首先对收益率序列的前后相关性进行分析建模。下面介绍最简单的线性时间序列模型。"
   ]
  },
  {
   "cell_type": "markdown",
   "metadata": {
    "slideshow": {
     "slide_type": "slide"
    }
   },
   "source": [
    "### 四：线性时间序列"
   ]
  },
  {
   "cell_type": "markdown",
   "metadata": {
    "slideshow": {
     "slide_type": "slide"
    }
   },
   "source": [
    "**定义**\n",
    "\n",
    "我们前面介绍每日新信息收益率影响序列${\\varepsilon _t}$ 是白噪声序列，如果市场有效，每日的收益率就只和当日${\\varepsilon _t}$ 有关。但如果市场失效，可能历史信息仍然对未来的收益率有影响，如果我们认为这种影响是线性的，则每日收益率可以写成白噪声序列的线性组合（可能为级数）。我们称这样的时间序列为线性时间序列。即线性序列${r_t}$ 总可以表示为\n",
    " \n",
    " $${r_t} = \\mu  + \\sum\\limits_{i = 0}^\\infty  {{\\psi _i}{\\varepsilon _{t - i}}} $$\n",
    " \n",
    " 其中$\\mu $ 为序列的均值，${\\psi _0} = 1$ ，${\\varepsilon _t}$ 为白噪声序列$WN\\left( {0,{\\sigma ^2}} \\right)$ 。\n",
    " \n",
    " "
   ]
  },
  {
   "cell_type": "markdown",
   "metadata": {
    "slideshow": {
     "slide_type": "slide"
    }
   },
   "source": [
    "**期望，方差**\n",
    "\n",
    "在线性序列中${r_t} = \\mu  + \\sum\\limits_{i = 0}^\\infty  {{\\psi _i}{\\varepsilon _{t - i}}} $，${\\psi _i}$ 决定了序列的动态结构，它在文献中有很多称呼，比如${r_t}$ 的wold系数， ${r_t}$的$\\psi $ 权重，或者脉冲响应函数等，其表示i日前的新消息对当日收益率的影响系数。一般说来，这个系数是小于1，并且随i的增大衰减的。${\\psi _0} = 1$ 表示${\\varepsilon _t}$ 对当日的影响就是它本身，而随着时间相关越远，影响系数就越小。利用白噪声的性质可以计算序列的期望和方差\n",
    " $$E\\left( {{r_t}} \\right) = \\mu ,\\quad {\\mathop{\\rm var}} \\left( {{r_t}} \\right) = {\\sigma ^2}\\sum\\limits_{i = 0}^\\infty  {\\psi _i^2} $$"
   ]
  },
  {
   "cell_type": "markdown",
   "metadata": {
    "slideshow": {
     "slide_type": "slide"
    }
   },
   "source": [
    "**自协方差函数**\n",
    "\n",
    "同样，间隔为$k$ 的${r_t}$ 的自协方差函数为\n",
    " \n",
    " $$\\begin{array}{rl}\n",
    "{\\gamma _k} = {\\mathop{\\rm cov}} \\left( {{r_t},{r_{t - k}}} \\right) &= E\\left[ {\\left( {\\sum\\limits_{i = 0}^\\infty  {{\\psi _i}{\\varepsilon _{t - i}}} } \\right)\\left( {\\sum\\limits_{i = 0}^\\infty  {{\\psi _j}{\\varepsilon _{t - k - j}}} } \\right)} \\right]\\\\\n",
    " &= E\\left( {\\sum\\limits_{i,j = 0}^\\infty  {{\\psi _i}{\\psi _j}{\\varepsilon _{t - i}}{\\varepsilon _{t - k - j}}} } \\right)\\\\\n",
    " &= {\\sigma ^2}\\sum\\limits_{i = 0}^\\infty  {{\\psi _i}{\\psi _{i + k}}} \n",
    "\\end{array}$$\n",
    "\n",
    "对线性时间序列来说，估计wold系数非常关键。但白噪声是不可观察的，因此我们还需要借助时间序列的观察序列和其它模型才能估计出线性平稳序列的参数。我们接下来将介绍三种线性时间序列模型。它们分别是最回归模型，滑动平均模型以及自回归滑动平均模型。"
   ]
  }
 ],
 "metadata": {
  "anaconda-cloud": {},
  "celltoolbar": "Slideshow",
  "kernelspec": {
   "display_name": "Python [conda root]",
   "language": "python",
   "name": "conda-root-py"
  },
  "language_info": {
   "codemirror_mode": {
    "name": "ipython",
    "version": 3
   },
   "file_extension": ".py",
   "mimetype": "text/x-python",
   "name": "python",
   "nbconvert_exporter": "python",
   "pygments_lexer": "ipython3",
   "version": "3.5.2"
  }
 },
 "nbformat": 4,
 "nbformat_minor": 0
}
