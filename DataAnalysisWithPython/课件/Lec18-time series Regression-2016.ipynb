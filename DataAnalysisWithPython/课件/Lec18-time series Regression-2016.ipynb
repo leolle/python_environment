{
 "cells": [
  {
   "cell_type": "markdown",
   "metadata": {},
   "source": [
    "# 回归\n",
    "\n",
    "回归是使用非常广泛的统计方法。回归分析常常用来研究某一变量$Y$和其它变量，或者向量($\\bf X$)的关系。其中$Y$称为目标变量或响应变量，$X$为解释变量。通常认为它们之间可能具有某种关系，如：$$E(Y|\\bf X)=f(\\bf X)$$\n",
    "\n",
    "如果${\\bf X} = (X_1,\\cdots,X_p)$，并且$f$是线性函数，则这个关系可以写为\n",
    "\n",
    "$$E(Y|{\\bf X})=\\beta_0+\\beta_1 X_1+\\cdots+\\beta_p X_p$$\n",
    "\n",
    "考虑到随机性，通常加入噪声误差项,模型变为：\n",
    "\n",
    "$$Y=\\beta_0+\\beta_1 X_1+\\cdots+\\beta_p X_p+\\varepsilon$$\n",
    "\n",
    "另外，在实际的分析中，$Y$和$\\bf X$会有很多重复观察。记  若 $Y_i$ 和 $Y$独立同分布， ${{\\bf X}_i}= (X_{i,1},\\cdots,X_{i,p})$ 和$\\bf X$独立同分布，$\\varepsilon_i$和$\\varepsilon$独立同分布。上述模型进一步表示为：\n",
    "\n",
    "\n",
    "$$Y_i=\\beta_0+\\beta_1 X_{i,1}+\\cdots+\\beta_p X_{i,p}+\\varepsilon_i$$\n",
    "\n",
    "$\\beta_0$为截距项，刻画当所有$X_{i,j}$都是0时，$Y_i$的期望。$\\beta_1,\\cdots,\\beta_p$是回归系数，是回归直线的斜率。$\\beta_j$ 刻画 $X_{i,j}$变动一个单位时 $Y_i$的改变量。\n",
    "\n",
    "$\\varepsilon_i$通常假设是期望为0，方差为$\\sigma_\\varepsilon$的iid变量\n",
    "\n",
    "一般情形下，如果假设$\\bf X$ 是随机的，我们需要假设$\\varepsilon_1,\\cdots,\\varepsilon_n$ 和${\\bf X}_1,\\cdots,{\\bf X}_n$是独立的。"
   ]
  },
  {
   "cell_type": "markdown",
   "metadata": {},
   "source": [
    "## 回归模型的假设总结\n",
    "\n",
    "1. $E( Y_i| X_{i,1},\\cdots,X_{i,p})=\\beta_0+\\beta_1 X_{i,1}+\\cdots+\\beta_p X_{i,p}$, \n",
    "     等价于 $$Y_i=\\beta_0+\\beta_1 X_{i,1}+\\cdots+\\beta_p X_{i,p}+\\varepsilon_i; \\quad \\mbox{并且 }  E(\\varepsilon_i| X_{i,1},\\cdots,X_{i,p})=0$$ \n",
    "2. 误差项独立： $\\varepsilon_1,\\cdots,\\varepsilon_n$ 是独立的\n",
    "3. 误差项的方差是常数： $\\mbox{Var}(\\varepsilon_i)=\\sigma_\\epsilon^2$\n",
    "4. 高斯误差: $\\varepsilon_i\\sim N(0,\\sigma_\\epsilon^2)$"
   ]
  },
  {
   "cell_type": "markdown",
   "metadata": {},
   "source": [
    "由经典的线性模型的最小二乘估计：\n",
    "\n",
    "参数向量$\\vec{\\beta}=(\\beta_1,\\cdots,\\beta_p)^T$的估计为\n",
    "\n",
    "$$\\hat{\\vec{\\beta}}=({\\bf X}^T{\\bf X})^{-1}{\\bf X}^T{\\bf Y}$$\n",
    "\n",
    "其中 ${\\bf X} $ 是观察数据的设计矩阵\n",
    "\n",
    "**在上述假设下（2，3）**，我们有\n",
    "$$\\mbox{Var}(\\hat{\\vec{\\beta}})=({\\bf X}^T{\\bf X})^{-1}\\sigma_\\varepsilon^2$$\n",
    "\n",
    "再结合正态分布假设，我们就可以推断出$\\hat{\\vec{\\beta}}$其实服从多元正态分布，因而可以进行j显著性检验等统计推断。"
   ]
  },
  {
   "cell_type": "markdown",
   "metadata": {},
   "source": [
    "金融或经济数据中常常需要对时间序列进行回归。 比如不同期限的利率的回归，通过宏观经济指数预测市场指数等。这些都是时间序列的数据。因为时间序列数据可能具有自相关性，在回归时一定要做误差项的独立性检验，或者白噪声检验。 "
   ]
  },
  {
   "cell_type": "markdown",
   "metadata": {},
   "source": [
    "## 虚假的相关性及其解决"
   ]
  },
  {
   "cell_type": "markdown",
   "metadata": {},
   "source": [
    "![](timereg.png)"
   ]
  },
  {
   "cell_type": "markdown",
   "metadata": {},
   "source": [
    "![](timeregcomment.png)"
   ]
  },
  {
   "cell_type": "markdown",
   "metadata": {
    "collapsed": false
   },
   "source": [
    "下面我们做两个分析，第一个是指数和汽车产量，第二个是两个不同期限的债券收益率。"
   ]
  },
  {
   "cell_type": "code",
   "execution_count": 19,
   "metadata": {
    "collapsed": false
   },
   "outputs": [
    {
     "data": {
      "text/plain": [
       "[<matplotlib.lines.Line2D at 0xed584e0>]"
      ]
     },
     "execution_count": 19,
     "metadata": {},
     "output_type": "execute_result"
    },
    {
     "data": {
      "image/png": "[encoded data removed]",
      "text/plain": [
       "<matplotlib.figure.Figure at 0x105820b8>"
      ]
     },
     "metadata": {},
     "output_type": "display_data"
    }
   ],
   "source": [
    "import pandas as pd\n",
    "import numpy as np\n",
    "car=pd.read_excel(\"data\\caryearprod.xls\",index_col=0)\n",
    "car=np.log(car[\"1991\":])\n",
    "car.index.name=\"date\"\n",
    "shindex=pd.read_csv(\"data/000001.csv\",index_col=0,parse_dates=True)\n",
    "shindex=shindex.ix[\"1991\":\"2014\"][\"close\"].resample(\"A\",how=\"last\")\n",
    "shindex=np.log(shindex)\n",
    "import matplotlib.pylab as plt\n",
    "%matplotlib inline\n",
    "plt.plot(car)\n",
    "plt.plot(shindex)"
   ]
  },
  {
   "cell_type": "code",
   "execution_count": 17,
   "metadata": {
    "collapsed": false,
    "scrolled": true
   },
   "outputs": [
    {
     "data": {
      "text/plain": [
       "[<matplotlib.lines.Line2D at 0x1052cc88>]"
      ]
     },
     "execution_count": 17,
     "metadata": {},
     "output_type": "execute_result"
    },
    {
     "data": {
      "image/png": "[encoded data removed]",
      "text/plain": [
       "<matplotlib.figure.Figure at 0x10bd6518>"
      ]
     },
     "metadata": {},
     "output_type": "display_data"
    }
   ],
   "source": [
    "plt.plot(car,shindex)"
   ]
  },
  {
   "cell_type": "code",
   "execution_count": 39,
   "metadata": {
    "collapsed": false,
    "scrolled": true
   },
   "outputs": [
    {
     "data": {
      "text/html": [
       "<table class=\"simpletable\">\n",
       "<caption>OLS Regression Results</caption>\n",
       "<tr>\n",
       "  <th>Dep. Variable:</th>          <td>close</td>      <th>  R-squared:         </th> <td>   0.657</td>\n",
       "</tr>\n",
       "<tr>\n",
       "  <th>Model:</th>                   <td>OLS</td>       <th>  Adj. R-squared:    </th> <td>   0.642</td>\n",
       "</tr>\n",
       "<tr>\n",
       "  <th>Method:</th>             <td>Least Squares</td>  <th>  F-statistic:       </th> <td>   42.22</td>\n",
       "</tr>\n",
       "<tr>\n",
       "  <th>Date:</th>             <td>Fri, 18 Dec 2015</td> <th>  Prob (F-statistic):</th> <td>1.55e-06</td>\n",
       "</tr>\n",
       "<tr>\n",
       "  <th>Time:</th>                 <td>13:36:37</td>     <th>  Log-Likelihood:    </th> <td> -10.318</td>\n",
       "</tr>\n",
       "<tr>\n",
       "  <th>No. Observations:</th>      <td>    24</td>      <th>  AIC:               </th> <td>   24.64</td>\n",
       "</tr>\n",
       "<tr>\n",
       "  <th>Df Residuals:</th>          <td>    22</td>      <th>  BIC:               </th> <td>   26.99</td>\n",
       "</tr>\n",
       "<tr>\n",
       "  <th>Df Model:</th>              <td>     1</td>      <th>                     </th>     <td> </td>   \n",
       "</tr>\n",
       "<tr>\n",
       "  <th>Covariance Type:</th>      <td>nonrobust</td>    <th>                     </th>     <td> </td>   \n",
       "</tr>\n",
       "</table>\n",
       "<table class=\"simpletable\">\n",
       "<tr>\n",
       "    <td></td>       <th>coef</th>     <th>std err</th>      <th>t</th>      <th>P>|t|</th> <th>[95.0% Conf. Int.]</th> \n",
       "</tr>\n",
       "<tr>\n",
       "  <th>prod</th>  <td>    0.4698</td> <td>    0.072</td> <td>    6.497</td> <td> 0.000</td> <td>    0.320     0.620</td>\n",
       "</tr>\n",
       "<tr>\n",
       "  <th>const</th> <td>    0.1282</td> <td>    1.105</td> <td>    0.116</td> <td> 0.909</td> <td>   -2.164     2.420</td>\n",
       "</tr>\n",
       "</table>\n",
       "<table class=\"simpletable\">\n",
       "<tr>\n",
       "  <th>Omnibus:</th>       <td> 1.495</td> <th>  Durbin-Watson:     </th> <td>   1.197</td>\n",
       "</tr>\n",
       "<tr>\n",
       "  <th>Prob(Omnibus):</th> <td> 0.474</td> <th>  Jarque-Bera (JB):  </th> <td>   0.625</td>\n",
       "</tr>\n",
       "<tr>\n",
       "  <th>Skew:</th>          <td> 0.379</td> <th>  Prob(JB):          </th> <td>   0.732</td>\n",
       "</tr>\n",
       "<tr>\n",
       "  <th>Kurtosis:</th>      <td> 3.228</td> <th>  Cond. No.          </th> <td>    214.</td>\n",
       "</tr>\n",
       "</table>"
      ],
      "text/plain": [
       "<class 'statsmodels.iolib.summary.Summary'>\n",
       "\"\"\"\n",
       "                            OLS Regression Results                            \n",
       "==============================================================================\n",
       "Dep. Variable:                  close   R-squared:                       0.657\n",
       "Model:                            OLS   Adj. R-squared:                  0.642\n",
       "Method:                 Least Squares   F-statistic:                     42.22\n",
       "Date:                Fri, 18 Dec 2015   Prob (F-statistic):           1.55e-06\n",
       "Time:                        13:36:37   Log-Likelihood:                -10.318\n",
       "No. Observations:                  24   AIC:                             24.64\n",
       "Df Residuals:                      22   BIC:                             26.99\n",
       "Df Model:                           1                                         \n",
       "Covariance Type:            nonrobust                                         \n",
       "==============================================================================\n",
       "                 coef    std err          t      P>|t|      [95.0% Conf. Int.]\n",
       "------------------------------------------------------------------------------\n",
       "prod           0.4698      0.072      6.497      0.000         0.320     0.620\n",
       "const          0.1282      1.105      0.116      0.909        -2.164     2.420\n",
       "==============================================================================\n",
       "Omnibus:                        1.495   Durbin-Watson:                   1.197\n",
       "Prob(Omnibus):                  0.474   Jarque-Bera (JB):                0.625\n",
       "Skew:                           0.379   Prob(JB):                        0.732\n",
       "Kurtosis:                       3.228   Cond. No.                         214.\n",
       "==============================================================================\n",
       "\n",
       "Warnings:\n",
       "[1] Standard Errors assume that the covariance matrix of the errors is correctly specified.\n",
       "\"\"\""
      ]
     },
     "execution_count": 39,
     "metadata": {},
     "output_type": "execute_result"
    }
   ],
   "source": [
    "import statsmodels.api as sm\n",
    "\n",
    "#X = sm.add_constant(car, prepend=False)\n",
    "\n",
    "results = sm.OLS(shindex, X).fit()\n",
    "\n",
    "results.summary() "
   ]
  },
  {
   "cell_type": "markdown",
   "metadata": {},
   "source": [
    "下面关于残差的自相关系数分析说明上述模型的自回归系数0.4698是非常不可靠的.我们不能用它来解释两个变量之间的关系."
   ]
  },
  {
   "cell_type": "code",
   "execution_count": 63,
   "metadata": {
    "collapsed": false,
    "scrolled": true
   },
   "outputs": [
    {
     "name": "stdout",
     "output_type": "stream",
     "text": [
      "[ 1.          0.3102145   0.01847246  0.0268314  -0.12667895 -0.27510486\n",
      " -0.1567117   0.080385    0.06327573  0.01441997  0.02611726 -0.11800815\n",
      " -0.27808186 -0.13786777 -0.01831132 -0.1402852  -0.20699175  0.10043545\n",
      "  0.02819492  0.05013804  0.07146388  0.06465057  0.09754767  0.00589472]\n"
     ]
    },
    {
     "data": {
      "text/plain": [
       "(array([  16.4275305 ,   16.43196441,   16.43888301,   19.02010116,\n",
       "          26.43381229,   26.44686278,   28.74658873,   30.25351834,\n",
       "          34.42278614,   54.81609986,   62.01250491,   62.09598547,\n",
       "          62.10020616,   65.63113008,   75.66501427,   84.68585195,\n",
       "         160.61095814,  163.34423256,  170.69756172,  170.99593938,\n",
       "         188.72986379,  213.55128535,  321.86403401,           inf]),\n",
       " array([  5.05457605e-05,   2.70298892e-04,   9.21645103e-04,\n",
       "          7.78829362e-04,   7.35072405e-05,   1.83762511e-04,\n",
       "          1.60917118e-04,   1.90637232e-04,   7.52930734e-05,\n",
       "          3.41792796e-08,   3.91167863e-09,   9.33983427e-09,\n",
       "          2.20579675e-08,   1.18004492e-08,   4.29280770e-10,\n",
       "          2.35470149e-11,   2.01443442e-25,   1.84276476e-25,\n",
       "          2.07497393e-26,   5.54880985e-26,   5.88463395e-29,\n",
       "          2.48392998e-33,   1.70386992e-54,   0.00000000e+00]))"
      ]
     },
     "execution_count": 63,
     "metadata": {},
     "output_type": "execute_result"
    }
   ],
   "source": [
    "from  statsmodels.tsa.stattools import q_stat, acf\n",
    "print acf(results.resid) \n",
    "q_stat(results.resid,len(results.resid))"
   ]
  },
  {
   "cell_type": "markdown",
   "metadata": {},
   "source": [
    "下面的数据是来自wind的上海证券交易所债券到期收益率日数据,绿色为三年期收益率,蓝色为一年期收益率."
   ]
  },
  {
   "cell_type": "code",
   "execution_count": 59,
   "metadata": {
    "collapsed": false
   },
   "outputs": [
    {
     "data": {
      "text/plain": [
       "[<matplotlib.lines.Line2D at 0x1bccb198>,\n",
       " <matplotlib.lines.Line2D at 0x1bccb400>]"
      ]
     },
     "execution_count": 59,
     "metadata": {},
     "output_type": "execute_result"
    },
    {
     "data": {
      "image/png": "[encoded data removed]",
      "text/plain": [
       "<matplotlib.figure.Figure at 0x1bbb4828>"
      ]
     },
     "metadata": {},
     "output_type": "display_data"
    }
   ],
   "source": [
    "rates=pd.read_csv(\"data/bondyield.csv\",index_col=0,parse_dates=True) \n",
    "rates=rates.dropna()\n",
    "plt.plot(rates)\n"
   ]
  },
  {
   "cell_type": "markdown",
   "metadata": {},
   "source": [
    "显然有明显的正相关性"
   ]
  },
  {
   "cell_type": "code",
   "execution_count": 60,
   "metadata": {
    "collapsed": false,
    "scrolled": false
   },
   "outputs": [
    {
     "data": {
      "text/plain": [
       "[<matplotlib.lines.Line2D at 0x1f143470>]"
      ]
     },
     "execution_count": 60,
     "metadata": {},
     "output_type": "execute_result"
    },
    {
     "data": {
      "image/png": "[encoded data removed]",
      "text/plain": [
       "<matplotlib.figure.Figure at 0x1ecfa400>"
      ]
     },
     "metadata": {},
     "output_type": "display_data"
    }
   ],
   "source": [
    "plt.plot(rates[\"j1\"],rates[\"j3\"])"
   ]
  },
  {
   "cell_type": "markdown",
   "metadata": {},
   "source": [
    "用线性回归建模"
   ]
  },
  {
   "cell_type": "code",
   "execution_count": 61,
   "metadata": {
    "collapsed": false,
    "scrolled": true
   },
   "outputs": [
    {
     "data": {
      "text/html": [
       "<table class=\"simpletable\">\n",
       "<caption>OLS Regression Results</caption>\n",
       "<tr>\n",
       "  <th>Dep. Variable:</th>           <td>j3</td>        <th>  R-squared:         </th> <td>   0.504</td>\n",
       "</tr>\n",
       "<tr>\n",
       "  <th>Model:</th>                   <td>OLS</td>       <th>  Adj. R-squared:    </th> <td>   0.503</td>\n",
       "</tr>\n",
       "<tr>\n",
       "  <th>Method:</th>             <td>Least Squares</td>  <th>  F-statistic:       </th> <td>   2717.</td>\n",
       "</tr>\n",
       "<tr>\n",
       "  <th>Date:</th>             <td>Fri, 18 Dec 2015</td> <th>  Prob (F-statistic):</th>  <td>  0.00</td> \n",
       "</tr>\n",
       "<tr>\n",
       "  <th>Time:</th>                 <td>14:12:38</td>     <th>  Log-Likelihood:    </th> <td> -939.38</td>\n",
       "</tr>\n",
       "<tr>\n",
       "  <th>No. Observations:</th>      <td>  2681</td>      <th>  AIC:               </th> <td>   1883.</td>\n",
       "</tr>\n",
       "<tr>\n",
       "  <th>Df Residuals:</th>          <td>  2679</td>      <th>  BIC:               </th> <td>   1895.</td>\n",
       "</tr>\n",
       "<tr>\n",
       "  <th>Df Model:</th>              <td>     1</td>      <th>                     </th>     <td> </td>   \n",
       "</tr>\n",
       "<tr>\n",
       "  <th>Covariance Type:</th>      <td>nonrobust</td>    <th>                     </th>     <td> </td>   \n",
       "</tr>\n",
       "</table>\n",
       "<table class=\"simpletable\">\n",
       "<tr>\n",
       "    <td></td>       <th>coef</th>     <th>std err</th>      <th>t</th>      <th>P>|t|</th> <th>[95.0% Conf. Int.]</th> \n",
       "</tr>\n",
       "<tr>\n",
       "  <th>j1</th>    <td>    0.6173</td> <td>    0.012</td> <td>   52.126</td> <td> 0.000</td> <td>    0.594     0.641</td>\n",
       "</tr>\n",
       "<tr>\n",
       "  <th>const</th> <td>    1.5401</td> <td>    0.026</td> <td>   58.840</td> <td> 0.000</td> <td>    1.489     1.591</td>\n",
       "</tr>\n",
       "</table>\n",
       "<table class=\"simpletable\">\n",
       "<tr>\n",
       "  <th>Omnibus:</th>       <td>254.766</td> <th>  Durbin-Watson:     </th> <td>   0.046</td>\n",
       "</tr>\n",
       "<tr>\n",
       "  <th>Prob(Omnibus):</th> <td> 0.000</td>  <th>  Jarque-Bera (JB):  </th> <td> 293.013</td>\n",
       "</tr>\n",
       "<tr>\n",
       "  <th>Skew:</th>          <td> 0.777</td>  <th>  Prob(JB):          </th> <td>2.36e-64</td>\n",
       "</tr>\n",
       "<tr>\n",
       "  <th>Kurtosis:</th>      <td> 2.542</td>  <th>  Cond. No.          </th> <td>    10.4</td>\n",
       "</tr>\n",
       "</table>"
      ],
      "text/plain": [
       "<class 'statsmodels.iolib.summary.Summary'>\n",
       "\"\"\"\n",
       "                            OLS Regression Results                            \n",
       "==============================================================================\n",
       "Dep. Variable:                     j3   R-squared:                       0.504\n",
       "Model:                            OLS   Adj. R-squared:                  0.503\n",
       "Method:                 Least Squares   F-statistic:                     2717.\n",
       "Date:                Fri, 18 Dec 2015   Prob (F-statistic):               0.00\n",
       "Time:                        14:12:38   Log-Likelihood:                -939.38\n",
       "No. Observations:                2681   AIC:                             1883.\n",
       "Df Residuals:                    2679   BIC:                             1895.\n",
       "Df Model:                           1                                         \n",
       "Covariance Type:            nonrobust                                         \n",
       "==============================================================================\n",
       "                 coef    std err          t      P>|t|      [95.0% Conf. Int.]\n",
       "------------------------------------------------------------------------------\n",
       "j1             0.6173      0.012     52.126      0.000         0.594     0.641\n",
       "const          1.5401      0.026     58.840      0.000         1.489     1.591\n",
       "==============================================================================\n",
       "Omnibus:                      254.766   Durbin-Watson:                   0.046\n",
       "Prob(Omnibus):                  0.000   Jarque-Bera (JB):              293.013\n",
       "Skew:                           0.777   Prob(JB):                     2.36e-64\n",
       "Kurtosis:                       2.542   Cond. No.                         10.4\n",
       "==============================================================================\n",
       "\n",
       "Warnings:\n",
       "[1] Standard Errors assume that the covariance matrix of the errors is correctly specified.\n",
       "\"\"\""
      ]
     },
     "execution_count": 61,
     "metadata": {},
     "output_type": "execute_result"
    }
   ],
   "source": [
    "X = sm.add_constant(rates[\"j1\"], prepend=False)\n",
    "results2 = sm.OLS(rates[\"j3\"], X).fit()\n",
    "\n",
    "results2.summary() "
   ]
  },
  {
   "cell_type": "markdown",
   "metadata": {},
   "source": [
    "分析残差,发现其自相关性非常强烈,和单位根过程非常接近"
   ]
  },
  {
   "cell_type": "code",
   "execution_count": 65,
   "metadata": {
    "collapsed": false,
    "scrolled": true
   },
   "outputs": [
    {
     "data": {
      "text/plain": [
       "(array([ 17.25971909,  34.55119484,  50.17529307, ...,          inf,\n",
       "                 inf,          inf]),\n",
       " array([  3.26025555e-05,   3.14270320e-08,   7.33109839e-11, ...,\n",
       "          0.00000000e+00,   0.00000000e+00,   0.00000000e+00]))"
      ]
     },
     "execution_count": 65,
     "metadata": {},
     "output_type": "execute_result"
    },
    {
     "data": {
      "image/png": "[encoded data removed]",
      "text/plain": [
       "<matplotlib.figure.Figure at 0x1f153128>"
      ]
     },
     "metadata": {},
     "output_type": "display_data"
    }
   ],
   "source": [
    "plt.plot(acf(results2.resid.values) )\n",
    "q_stat(results2.resid,len(results.resid))"
   ]
  },
  {
   "cell_type": "markdown",
   "metadata": {},
   "source": [
    "残差差分后,发现有较大的低阶自相关性"
   ]
  },
  {
   "cell_type": "code",
   "execution_count": 93,
   "metadata": {
    "collapsed": false,
    "scrolled": true
   },
   "outputs": [
    {
     "name": "stdout",
     "output_type": "stream",
     "text": [
      "0.0386333704643\n"
     ]
    },
    {
     "data": {
      "image/png": "[encoded data removed]",
      "text/plain": [
       "<matplotlib.figure.Figure at 0x299537f0>"
      ]
     },
     "metadata": {},
     "output_type": "display_data"
    }
   ],
   "source": [
    "resi=results2.resid-results2.resid.shift(1)\n",
    "resi=resi.dropna()\n",
    "plt.plot(acf(resi),\"*\",[2/np.sqrt(len(resi))]*40,\"r-\",[-2/np.sqrt(len(resi))]*40,\"r-\")\n",
    "print 2/np.sqrt(len(resi))"
   ]
  },
  {
   "cell_type": "markdown",
   "metadata": {},
   "source": [
    "通过模型选择方法,可以选3阶滑动平均模型. 注意,这里是残差经过差分后的模型"
   ]
  },
  {
   "cell_type": "code",
   "execution_count": 78,
   "metadata": {
    "collapsed": false,
    "scrolled": true
   },
   "outputs": [
    {
     "name": "stdout",
     "output_type": "stream",
     "text": [
      "(0, 3) (0, 3)\n",
      "             0            1            2            3\n",
      "0          NaN -6810.358308 -6816.103249 -6824.952292\n",
      "1 -6717.493460 -6818.560582 -6820.101638 -6822.954261\n",
      "2 -6765.530342 -6822.746205 -6823.171100 -6821.596043\n",
      "3 -6801.318331 -6823.384873 -6821.893410 -6820.138989\n",
      "4 -6813.439586 -6821.749740 -6820.905263 -6820.221096\n",
      "             0            1            2            3\n",
      "0          NaN -6798.571164 -6798.422533 -6801.378004\n",
      "1 -6705.706316 -6800.879866 -6796.527349 -6793.486400\n",
      "2 -6747.849626 -6799.171916 -6793.703240 -6786.234611\n",
      "3 -6777.744043 -6793.917013 -6786.531978 -6778.883984\n",
      "4 -6783.971725 -6786.388308 -6779.650259 -6773.072519\n"
     ]
    }
   ],
   "source": [
    "es = sm.tsa.arma_order_select_ic(resi, ic=['aic', 'bic'], trend='nc',max_ar=4, max_ma=3)\n",
    "print es.aic_min_order,es.bic_min_order\n",
    "print es.aic\n",
    "print es.bic"
   ]
  },
  {
   "cell_type": "markdown",
   "metadata": {},
   "source": [
    "因此我们下面考虑模型\n",
    "\n",
    "$$(1-L)(y_t-X_t\\beta)=B(L)\\varepsilon_t$$\n",
    "\n",
    "\n",
    "其中$$B(L)=1+b_1L+b_2L^2+b_3L^3$$\n",
    "$\\beta$中可以包含截距项和回归项系数"
   ]
  },
  {
   "cell_type": "code",
   "execution_count": 97,
   "metadata": {
    "collapsed": false
   },
   "outputs": [
    {
     "data": {
      "text/html": [
       "<table class=\"simpletable\">\n",
       "<tr>\n",
       "        <td>Model:</td>              <td>ARIMA</td>         <td>Log-Likelihood:</td>     <td>4109.5</td>  \n",
       "</tr>\n",
       "<tr>\n",
       "  <td>Dependent Variable:</td>       <td>D.j3</td>              <td>Scale:</td>          <td>1.0000</td>  \n",
       "</tr>\n",
       "<tr>\n",
       "         <td>Date:</td>        <td>2015-12-18 14:53</td>        <td>Method:</td>         <td>css-mle</td> \n",
       "</tr>\n",
       "<tr>\n",
       "   <td>No. Observations:</td>        <td>2680</td>              <td>Sample:</td>       <td>01-05-2005</td>\n",
       "</tr>\n",
       "<tr>\n",
       "       <td>Df Model:</td>              <td>5</td>                  <td></td>           <td>12-17-2015</td>\n",
       "</tr>\n",
       "<tr>\n",
       "     <td>Df Residuals:</td>          <td>2675</td>       <td>S.D. of innovations:</td>    <td>0.052</td>  \n",
       "</tr>\n",
       "<tr>\n",
       "         <td>AIC:</td>            <td>-8206.9186</td>            <td>HQIC:</td>         <td>-8194.126</td>\n",
       "</tr>\n",
       "<tr>\n",
       "         <td>BIC:</td>            <td>-8171.5572</td>              <td></td>                <td></td>     \n",
       "</tr>\n",
       "</table>\n",
       "<table class=\"simpletable\">\n",
       "<tr>\n",
       "       <td></td>       <th>Coef.</th>  <th>Std.Err.</th>     <th>t</th>     <th>P>|t|</th> <th>[0.025</th>  <th>0.975]</th> \n",
       "</tr>\n",
       "<tr>\n",
       "  <th>j1</th>         <td>0.0028</td>   <td>0.0013</td>   <td>2.1642</td>  <td>0.0305</td> <td>0.0003</td>  <td>0.0053</td> \n",
       "</tr>\n",
       "<tr>\n",
       "  <th>const</th>      <td>-0.0064</td>  <td>0.0028</td>   <td>-2.2545</td> <td>0.0242</td> <td>-0.0120</td> <td>-0.0008</td>\n",
       "</tr>\n",
       "<tr>\n",
       "  <th>ma.L1.D.j3</th> <td>-0.3173</td>  <td>0.0194</td>  <td>-16.3203</td> <td>0.0000</td> <td>-0.3555</td> <td>-0.2792</td>\n",
       "</tr>\n",
       "<tr>\n",
       "  <th>ma.L2.D.j3</th> <td>0.0121</td>   <td>0.0196</td>   <td>0.6147</td>  <td>0.5388</td> <td>-0.0264</td> <td>0.0505</td> \n",
       "</tr>\n",
       "<tr>\n",
       "  <th>ma.L3.D.j3</th> <td>0.0058</td>   <td>0.0192</td>   <td>0.3024</td>  <td>0.7624</td> <td>-0.0319</td> <td>0.0435</td> \n",
       "</tr>\n",
       "</table>\n",
       "<table class=\"simpletable\">\n",
       "<tr>\n",
       "    <td></td>    <th>Real</th>   <th>Imaginary</th> <th>Modulus</th> <th>Frequency</th>\n",
       "</tr>\n",
       "<tr>\n",
       "  <th>MA.1</th> <td>3.7699</td>   <td>-1.9188</td>  <td>4.2301</td>   <td>-0.0749</td> \n",
       "</tr>\n",
       "<tr>\n",
       "  <th>MA.2</th> <td>3.7699</td>   <td>1.9188</td>   <td>4.2301</td>   <td>0.0749</td>  \n",
       "</tr>\n",
       "<tr>\n",
       "  <th>MA.3</th> <td>-9.6141</td>  <td>-0.0000</td>  <td>9.6141</td>   <td>-0.5000</td> \n",
       "</tr>\n",
       "</table>"
      ],
      "text/plain": [
       "<class 'statsmodels.iolib.summary2.Summary'>\n",
       "\"\"\"\n",
       "                           Results: ARIMA\n",
       "====================================================================\n",
       "Model:              ARIMA            Log-Likelihood:      4109.5    \n",
       "Dependent Variable: D.j3             Scale:               1.0000    \n",
       "Date:               2015-12-18 14:53 Method:              css-mle   \n",
       "No. Observations:   2680             Sample:              01-05-2005\n",
       "Df Model:           5                                     12-17-2015\n",
       "Df Residuals:       2675             S.D. of innovations: 0.052     \n",
       "AIC:                -8206.9186       HQIC:                -8194.126 \n",
       "BIC:                -8171.5572                                      \n",
       "---------------------------------------------------------------------\n",
       "                 Coef.   Std.Err.     t      P>|t|    [0.025   0.975]\n",
       "---------------------------------------------------------------------\n",
       "j1               0.0028    0.0013    2.1642  0.0305   0.0003   0.0053\n",
       "const           -0.0064    0.0028   -2.2545  0.0242  -0.0120  -0.0008\n",
       "ma.L1.D.j3      -0.3173    0.0194  -16.3203  0.0000  -0.3555  -0.2792\n",
       "ma.L2.D.j3       0.0121    0.0196    0.6147  0.5388  -0.0264   0.0505\n",
       "ma.L3.D.j3       0.0058    0.0192    0.3024  0.7624  -0.0319   0.0435\n",
       "-----------------------------------------------------------------------------\n",
       "                 Real           Imaginary          Modulus          Frequency\n",
       "-----------------------------------------------------------------------------\n",
       "MA.1            3.7699            -1.9188           4.2301            -0.0749\n",
       "MA.2            3.7699             1.9188           4.2301             0.0749\n",
       "MA.3           -9.6141            -0.0000           9.6141            -0.5000\n",
       "====================================================================\n",
       "\n",
       "\"\"\""
      ]
     },
     "execution_count": 97,
     "metadata": {},
     "output_type": "execute_result"
    }
   ],
   "source": [
    "#这里也可以在fit中指定常数而不用在回归中使用常数项\n",
    "\n",
    "X = sm.add_constant(rates[\"j1\"], prepend=False)\n",
    "\n",
    "\n",
    "results2 = sm.OLS(rates[\"j3\"], X).fit()\n",
    "\n",
    " \n",
    "arma_mod1 = sm.tsa.ARIMA(rates[\"j3\"], order=(0,1,3),exog =X)\n",
    "arma_res = arma_mod1.fit(trend='nc')\n",
    "arma_res.summary2()\n",
    " "
   ]
  },
  {
   "cell_type": "code",
   "execution_count": 98,
   "metadata": {
    "collapsed": false
   },
   "outputs": [
    {
     "data": {
      "text/plain": [
       "[<matplotlib.lines.Line2D at 0x29b43f98>,\n",
       " <matplotlib.lines.Line2D at 0x29b56208>,\n",
       " <matplotlib.lines.Line2D at 0x29b567f0>]"
      ]
     },
     "execution_count": 98,
     "metadata": {},
     "output_type": "execute_result"
    },
    {
     "data": {
      "image/png": "[encoded data removed]",
      "text/plain": [
       "<matplotlib.figure.Figure at 0x1f857240>"
      ]
     },
     "metadata": {},
     "output_type": "display_data"
    }
   ],
   "source": [
    "plt.plot(acf(arma_res.resid),\"*\",[2/np.sqrt(len(resi))]*40,\"r-\",[-2/np.sqrt(len(resi))]*40,\"r-\")"
   ]
  },
  {
   "cell_type": "markdown",
   "metadata": {},
   "source": [
    "也可以考虑ARIMA(0,1,1),比较后两者结果差异并不大."
   ]
  },
  {
   "cell_type": "code",
   "execution_count": 99,
   "metadata": {
    "collapsed": false,
    "scrolled": true
   },
   "outputs": [
    {
     "data": {
      "text/html": [
       "<table class=\"simpletable\">\n",
       "<tr>\n",
       "        <td>Model:</td>              <td>ARIMA</td>         <td>Log-Likelihood:</td>     <td>4109.1</td>  \n",
       "</tr>\n",
       "<tr>\n",
       "  <td>Dependent Variable:</td>       <td>D.j3</td>              <td>Scale:</td>          <td>1.0000</td>  \n",
       "</tr>\n",
       "<tr>\n",
       "         <td>Date:</td>        <td>2015-12-18 14:53</td>        <td>Method:</td>         <td>css-mle</td> \n",
       "</tr>\n",
       "<tr>\n",
       "   <td>No. Observations:</td>        <td>2680</td>              <td>Sample:</td>       <td>01-05-2005</td>\n",
       "</tr>\n",
       "<tr>\n",
       "       <td>Df Model:</td>              <td>3</td>                  <td></td>           <td>12-17-2015</td>\n",
       "</tr>\n",
       "<tr>\n",
       "     <td>Df Residuals:</td>          <td>2677</td>       <td>S.D. of innovations:</td>    <td>0.052</td>  \n",
       "</tr>\n",
       "<tr>\n",
       "         <td>AIC:</td>            <td>-8210.2678</td>            <td>HQIC:</td>         <td>-8201.739</td>\n",
       "</tr>\n",
       "<tr>\n",
       "         <td>BIC:</td>            <td>-8186.6935</td>              <td></td>                <td></td>     \n",
       "</tr>\n",
       "</table>\n",
       "<table class=\"simpletable\">\n",
       "<tr>\n",
       "       <td></td>       <th>Coef.</th>  <th>Std.Err.</th>     <th>t</th>     <th>P>|t|</th> <th>[0.025</th>  <th>0.975]</th> \n",
       "</tr>\n",
       "<tr>\n",
       "  <th>j1</th>         <td>0.0027</td>   <td>0.0013</td>   <td>2.1286</td>  <td>0.0334</td> <td>0.0002</td>  <td>0.0051</td> \n",
       "</tr>\n",
       "<tr>\n",
       "  <th>const</th>      <td>-0.0062</td>  <td>0.0028</td>   <td>-2.2229</td> <td>0.0263</td> <td>-0.0116</td> <td>-0.0007</td>\n",
       "</tr>\n",
       "<tr>\n",
       "  <th>ma.L1.D.j3</th> <td>-0.3123</td>  <td>0.0181</td>  <td>-17.2434</td> <td>0.0000</td> <td>-0.3478</td> <td>-0.2768</td>\n",
       "</tr>\n",
       "</table>\n",
       "<table class=\"simpletable\">\n",
       "<tr>\n",
       "    <td></td>    <th>Real</th>  <th>Imaginary</th> <th>Modulus</th> <th>Frequency</th>\n",
       "</tr>\n",
       "<tr>\n",
       "  <th>MA.1</th> <td>3.2023</td>  <td>0.0000</td>   <td>3.2023</td>   <td>0.0000</td>  \n",
       "</tr>\n",
       "</table>"
      ],
      "text/plain": [
       "<class 'statsmodels.iolib.summary2.Summary'>\n",
       "\"\"\"\n",
       "                           Results: ARIMA\n",
       "====================================================================\n",
       "Model:              ARIMA            Log-Likelihood:      4109.1    \n",
       "Dependent Variable: D.j3             Scale:               1.0000    \n",
       "Date:               2015-12-18 14:53 Method:              css-mle   \n",
       "No. Observations:   2680             Sample:              01-05-2005\n",
       "Df Model:           3                                     12-17-2015\n",
       "Df Residuals:       2677             S.D. of innovations: 0.052     \n",
       "AIC:                -8210.2678       HQIC:                -8201.739 \n",
       "BIC:                -8186.6935                                      \n",
       "---------------------------------------------------------------------\n",
       "                 Coef.   Std.Err.     t      P>|t|    [0.025   0.975]\n",
       "---------------------------------------------------------------------\n",
       "j1               0.0027    0.0013    2.1286  0.0334   0.0002   0.0051\n",
       "const           -0.0062    0.0028   -2.2229  0.0263  -0.0116  -0.0007\n",
       "ma.L1.D.j3      -0.3123    0.0181  -17.2434  0.0000  -0.3478  -0.2768\n",
       "-----------------------------------------------------------------------------\n",
       "                 Real           Imaginary          Modulus          Frequency\n",
       "-----------------------------------------------------------------------------\n",
       "MA.1            3.2023             0.0000           3.2023             0.0000\n",
       "====================================================================\n",
       "\n",
       "\"\"\""
      ]
     },
     "execution_count": 99,
     "metadata": {},
     "output_type": "execute_result"
    }
   ],
   "source": [
    "arma_mod1 = sm.tsa.ARIMA(rates[\"j3\"], order=(0,1,1),exog =X)\n",
    "arma_res = arma_mod1.fit(trend='nc')\n",
    "arma_res.summary2()"
   ]
  },
  {
   "cell_type": "code",
   "execution_count": 100,
   "metadata": {
    "collapsed": false
   },
   "outputs": [
    {
     "data": {
      "text/plain": [
       "[<matplotlib.lines.Line2D at 0x1f907208>,\n",
       " <matplotlib.lines.Line2D at 0x1f9079e8>,\n",
       " <matplotlib.lines.Line2D at 0x1f8ff208>]"
      ]
     },
     "execution_count": 100,
     "metadata": {},
     "output_type": "execute_result"
    },
    {
     "data": {
      "image/png": "[encoded data removed]",
      "text/plain": [
       "<matplotlib.figure.Figure at 0x1f2c6550>"
      ]
     },
     "metadata": {},
     "output_type": "display_data"
    }
   ],
   "source": [
    "plt.plot(acf(arma_res.resid),\"*\",[2/np.sqrt(len(resi))]*40,\"r-\",[-2/np.sqrt(len(resi))]*40,\"r-\")"
   ]
  }
 ],
 "metadata": {
  "kernelspec": {
   "display_name": "Python [Root]",
   "language": "python",
   "name": "Python [Root]"
  },
  "language_info": {
   "codemirror_mode": {
    "name": "ipython",
    "version": 3
   },
   "file_extension": ".py",
   "mimetype": "text/x-python",
   "name": "python",
   "nbconvert_exporter": "python",
   "pygments_lexer": "ipython3",
   "version": "3.5.2"
  }
 },
 "nbformat": 4,
 "nbformat_minor": 0
}
