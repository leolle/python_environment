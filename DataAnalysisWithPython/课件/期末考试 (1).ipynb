{
 "cells": [
  {
   "cell_type": "markdown",
   "metadata": {},
   "source": [
    "2015 - 2016学年第 1 学期\n",
    "考试科目金融数据分析考试\n",
    "时间 2016年1月13日8:30-10:30, 共120分钟"
   ]
  },
  {
   "cell_type": "markdown",
   "metadata": {},
   "source": [
    "## 题一(16分)\n",
    "写出下面代码的运行结果："
   ]
  },
  {
   "cell_type": "code",
   "execution_count": 3,
   "metadata": {
    "collapsed": false
   },
   "outputs": [
    {
     "name": "stdout",
     "output_type": "stream",
     "text": [
      "[1, 2, 3, 4, 1, 2, 3, 4]\n"
     ]
    }
   ],
   "source": [
    "a=range(1,5)+range(1,5)\n",
    "print(a)"
   ]
  },
  {
   "cell_type": "code",
   "execution_count": 4,
   "metadata": {
    "collapsed": false
   },
   "outputs": [
    {
     "name": "stdout",
     "output_type": "stream",
     "text": [
      "[2 4 6 8]\n"
     ]
    }
   ],
   "source": [
    "import numpy as np\n",
    "b=np.arange(1,5)*2\n",
    "print(b)"
   ]
  },
  {
   "cell_type": "code",
   "execution_count": 5,
   "metadata": {
    "collapsed": false
   },
   "outputs": [
    {
     "name": "stdout",
     "output_type": "stream",
     "text": [
      "[4 3 2 1 0]\n"
     ]
    }
   ],
   "source": [
    "Z = np.arange(5)\n",
    "Z = Z[::-1]\n",
    "print(Z)"
   ]
  },
  {
   "cell_type": "code",
   "execution_count": 6,
   "metadata": {
    "collapsed": false
   },
   "outputs": [
    {
     "name": "stdout",
     "output_type": "stream",
     "text": [
      "[[ 0.  1.  2.]\n",
      " [ 0.  1.  2.]\n",
      " [ 0.  1.  2.]]\n"
     ]
    }
   ],
   "source": [
    "Z = np.zeros((3,3))\n",
    "Z += np.arange(3)\n",
    "print(Z)"
   ]
  },
  {
   "cell_type": "code",
   "execution_count": 7,
   "metadata": {
    "collapsed": false
   },
   "outputs": [
    {
     "name": "stdout",
     "output_type": "stream",
     "text": [
      "key1\n",
      "a    10\n",
      "b    10\n",
      "Name: data1, dtype: int32\n"
     ]
    }
   ],
   "source": [
    "from pandas import DataFrame, Series\n",
    "df = DataFrame({'key1' : ['a', 'a', 'b', 'b', 'a'],\n",
    "                'key2' : ['one', 'two', 'one', 'two', 'one'],\n",
    "                'data1' : np.arange(0,10,2),\n",
    "                'data2' : np.arange(1,10,2)})\n",
    "grouped = df['data1'].groupby(df['key1'])\n",
    "x=grouped.sum()\n",
    "print(x)"
   ]
  },
  {
   "cell_type": "code",
   "execution_count": 8,
   "metadata": {
    "collapsed": false
   },
   "outputs": [
    {
     "name": "stdout",
     "output_type": "stream",
     "text": [
      "a    40\n",
      "dtype: float64\n"
     ]
    }
   ],
   "source": [
    "data = {'a': 20, 'b': 10,'c':30}\n",
    "indx1 = ['a', 'b']\n",
    "obj3 = Series(data,index=indx1)\n",
    "indx2 = ['a', 'c']\n",
    "obj4 = Series(data, index=indx2)\n",
    "obj4\n",
    "out1=obj3+obj4\n",
    "print(out1.dropna())"
   ]
  },
  {
   "cell_type": "code",
   "execution_count": 9,
   "metadata": {
    "collapsed": false
   },
   "outputs": [
    {
     "name": "stdout",
     "output_type": "stream",
     "text": [
      "2011-01-18 00:00:00\n"
     ]
    }
   ],
   "source": [
    "\n",
    "from datetime import datetime\n",
    "from datetime import timedelta\n",
    "start = datetime(2011, 1, 7)\n",
    "d=start + timedelta(11)\n",
    "print(d)\n",
    "# 只需说明表示什么时间，不管格式"
   ]
  },
  {
   "cell_type": "code",
   "execution_count": 10,
   "metadata": {
    "collapsed": false
   },
   "outputs": [
    {
     "name": "stdout",
     "output_type": "stream",
     "text": [
      "2016-01-10    10\n",
      "2016-01-17    26\n",
      "Freq: W-SUN, dtype: int32\n"
     ]
    }
   ],
   "source": [
    "#已知2016年1月4日是周一，下面将输出什么结果\n",
    "import pandas as pd\n",
    "rng = pd.date_range('1/4/2016', periods=9, freq='B')\n",
    "ts = Series(np.arange(9), index=rng)\n",
    "print(ts.resample('W', how='sum'))"
   ]
  },
  {
   "cell_type": "markdown",
   "metadata": {},
   "source": [
    "## 题二：收益率分布(15分)\n",
    "\n",
    "1. 关于资产简单收益率分布假设，\n",
    "   a. 对数正态假设相对于正态假设的优点，及其在刻画实际资产收益率时的缺点。\n",
    "      答：收益率正态假设是指简单收益率为正态的，对数正态假设指对数收益率是正态的(1分)。  简单收益率取值不小于-1，这和正态分布的取值范围不一致(1分)；另外如果单期假设为正态，多期就不是正态了(1分)。对数整体假设克服了这两个缺点。对数收益率正态假设不能刻画实际收益率的厚尾性(1分)。    \n",
    "      \n",
    "      \n",
    "   b. 简述检验简单收益率的对数正态假设的方法和步骤。\n",
    "   \n",
    "   (2分)qq图分析方法和假设检验方法介绍一个就可以。\n",
    "   \n",
    "2. 标准正态分布随机变量的偏度和峰度，一般正态分布随机变量的偏度和峰度是多少？（不用写计算过程）\n",
    "\n",
    "（3分）\n",
    "0，3，0，3\n",
    "\n",
    "3. t分布的密度如下：\n",
    "$$f(t) = \\frac{\\Gamma(\\frac{\\nu+1}{2})} {\\sqrt{\\nu\\pi}\\,\\Gamma(\\frac{\\nu}{2})} \\left(1+\\frac{t^2}{\\nu} \\right)^{-\\frac{\\nu+1}{2}},\\!$$\n",
    "分析当自由度为多少时，其峰度有限。\n",
    "\n",
    "答：(3分)\n",
    "当自由度大于4时，峰度有限。因为峰度是$t^4f(t)$的积分，只有当$v>4$时，上述积分才算有了可积。\n",
    "\n",
    "3. 广义误差分布的概率密度为：\n",
    " \n",
    "$$\\frac{\\beta}{2\\alpha\\Gamma(1/\\beta)} \\; e^{-(|x-\\mu|/\\alpha)^\\beta}$$\n",
    "其中位置参数$\\mu$,尺度参数$\\alpha$和形态参数$\\beta$。\n",
    "若以指数分布为标准定义厚尾分布，当参数满足什么条件时，广义误差分布可被认为是厚尾的。\n",
    "\n",
    "答(3分)：若分布密度尾部收敛到0的速度k慢于指数分布，这被认为是厚尾的，因此当$\\beta<1$时，可以认为上述分布是厚尾的。"
   ]
  },
  {
   "cell_type": "markdown",
   "metadata": {},
   "source": [
    "## 题三：投资组合(35分)\n",
    "\n",
    "设考虑$N$种资产的投资组合，收益率${\\bf R}$的期望和协方差矩阵分别为\n",
    "   $$\\mu=(\\mu_1,\\cdots,\\mu_N)^T,\\varOmega=\\mbox{COV}({\\bf R})$$  \n",
    "记预期收益率为$\\mu_p$的最小风险(方差)投资组合的方差为 $\\sigma_{\\mu_P}^2$，其权重向量为$\\omega_{\\mu_P}$，\n",
    "\n",
    "1.（20) **证明**：\n",
    "\n",
    "\n",
    "  $$\\omega_{\\mu_P}={\\bf g} + \\mu_P {\\bf h}$$\n",
    "$$\\sigma_{\\mu_P}=\\sqrt{\\omega_{\\mu_P}^T\\varOmega \\omega_{\\mu_P}}$$\n",
    "\n",
    "其中\n",
    " $$ A=\\mu^T\\varOmega^{-1}{\\bf 1},B=\\mu^T\\varOmega^{-1}\\mu, C={\\bf 1}^T \\varOmega^{-1} {\\bf 1}, D=BC-A^2 $$\n",
    "$${\\bf g}=\\frac{B}{D}\\varOmega^{-1}{\\bf 1}-\\frac{A}{D}\\varOmega^{-1}\\mu$$\n",
    "$${\\bf h}=\\frac{C}{D}\\varOmega^{-1}{\\mu}-\\frac{A}{D}\\varOmega^{-1}{\\bf 1}$$\n",
    " \n",
    " 答：\n",
    " (3分)\n",
    " 给定 预期收益率目标$\\mu_P$,即满足 \n",
    "$$\\omega^T\\mu=\\mu_P$$，\n",
    "权重向量满足${\\omega^T \\bf 1}=1$，组合方差为\n",
    "方差$\\omega^T\\varOmega \\omega$。\n",
    "\n",
    "（3分）方差最小可通过优化下列目标函数得到\n",
    " \n",
    " $$L(\\omega,\\delta_1,\\delta_2)=\\omega^T\\varOmega \\omega+\\delta_1(\\mu_P-\\omega_{\\mu_P}^T\\mu)+\\delta_2(1-\\omega^T{\\bf 1})$$\n",
    " \n",
    " 其中$\\delta_1,\\delta_2$是拉格朗日乘子.\n",
    "+ 解下面方程\n",
    "(3分)\n",
    "$$0=\\frac{\\partial}{\\partial \\omega}L(\\omega,\\delta_1,\\delta_2)=2\\omega_{\\mu_P}^T\\varOmega-\\delta_1\\mu^T-\\delta_2 {\\bf 1}^T$$\n",
    "\n",
    "+ 可得 \n",
    "（3分）\n",
    "$$\\omega_{\\mu_P}=\\frac{1}{2}\\varOmega^{-1}(\\delta_1\\mu+\\delta_2{\\bf 1})=\\varOmega^{-1}(\\lambda_1 \\mu+\\lambda_2{\\bf 1})$$\n",
    "\n",
    "其中，$\\lambda_1=\\delta_1/2,\\lambda_2=\\delta_2/2$\n",
    "\n",
    "\n",
    "\n",
    "+ 我们将上面解方程得到的权重代入两个限制条件(期望收益为$\\mu_P$及权重和为1)，\n",
    "（3分）\n",
    "$$\\mu_P=\\mu^T\\omega_{\\mu_P}=\\lambda_1\\mu^T\\varOmega^{-1}\\mu+\\lambda_2\\mu^T\\varOmega^{-1}{\\bf 1}$$\n",
    "和\n",
    "$$1={\\bf 1}\\omega_{\\mu_P}=\\lambda_1 {\\bf 1}^T \\varOmega^{-1} \\mu +\\lambda_2{\\bf 1}^T \\varOmega^{-1} {\\bf 1} $$\n",
    "+ 引入相应的记号， $A=\\mu^T\\varOmega^{-1}{\\bf 1},B=\\mu^T\\varOmega^{-1}\\mu$,$C={\\bf 1}^T \\varOmega^{-1} {\\bf 1}$,上述公式变化为：\n",
    " \n",
    " $$\\mu_P=B\\lambda_1+A\\lambda_2$$\n",
    "和\n",
    "$$1=A \\lambda_1   +C\\lambda_2 $$\n",
    "\n",
    "+ 进一步设 \n",
    "（2分）\n",
    "$$D=BC-A^2$$\n",
    "我们可以解得$\\lambda_1,\\lambda_2$\n",
    "$$\\lambda_1=\\frac{-A+C\\mu_P}{D},\\quad \\lambda_2=\\frac{B-A\\mu_P}{D}$$\n",
    "\n",
    "+ 带入拉格朗日乘子法得到的方程，得\n",
    "（3分）\n",
    "$$\\omega_{\\mu_P}={\\bf g} + \\mu_P {\\bf h}$$\n",
    "\n",
    "其中 \n",
    "$${\\bf g}=\\frac{B}{D}\\varOmega^{-1}{\\bf 1}-\\frac{A}{D}\\varOmega^{-1}\\mu$$\n",
    "$${\\bf h}=\\frac{C}{D}\\varOmega^{-1}{\\mu}-\\frac{A}{D}\\varOmega^{-1}{\\bf 1}$$"
   ]
  },
  {
   "cell_type": "markdown",
   "metadata": {
    "collapsed": true
   },
   "source": [
    " \n",
    " 2.(10)给定无风险资产的收益$\\mu_f$，记切线组合权重为$\\omega$，**证明**切线组合满足：\n",
    "\n",
    "$$\\bar{\\omega}=\\varOmega^{-1}(\\mu-\\mu_f{\\bf 1})$$\n",
    "$$\\omega=\\frac{\\bar{\\omega}}{{\\bf 1}^T\\bar{\\omega} }$$\n",
    "\n",
    "\n",
    "答：\n",
    "\n",
    "+ (2分)我们去掉$\\omega^T{\\bf 1}=1$的限制，设定$1-\\omega^T{\\bf 1}$为投资于无风险资产的量， 则期望收益为：\n",
    " $$ \\omega^T \\mu +(1-\\omega^T {\\bf 1})\\mu_f$$\n",
    "+ (2分)预期收益率$\\mu_P$,则最小化方差的目标函数为：\n",
    "$$L=\\omega^T\\varOmega\\omega+\\delta\\{\\mu_P-\\omega^T\\mu-(1-\\omega^T {\\bf 1})\\mu_f\\}$$\n",
    "其中$\\delta$为拉格朗日乘子\n",
    " \n",
    " + (2分)L对$\\omega$求导得$$2\\varOmega\\omega+\\delta\\{-\\mu+\\mu_f{\\bf 1}\\}=0$$\n",
    "  \n",
    "  + (2分)解出$$\\omega=\\varOmega^{-1}(\\mu-\\mu_f)\\frac{\\delta}{2}$$ \n",
    "  \n",
    " \n",
    "+ (2分)只考虑投资于风险资产的资金中，投资于各风险资产的权重为：\n",
    " $$\\omega^T=\\frac{\\bar{\\omega}}{{\\bf 1}^T\\bar{\\omega} }$$\n",
    " \n",
    "  \n",
    " 3.（5） 简述风险资产的有效前沿，利用双曲线性质解释只有当$\\mu_f$小于最小方差组合的预期收益率时，切线组合才在有效前沿上。\n",
    "\n",
    "答；利用双曲线的性质，当无风险资产大于最小方差组合时，从无风险资产向投资组合曲线的切线一定在最小方差组合的下方，因为从（0，最小方差组合的收益）这点可以做双曲线的两条渐近线，显然，经过（0，最小方差组合的收益）上方的点的直线，如果斜率大于等于渐近线 则不会和双曲线（右支）相交，如果斜率小于渐近线而大于0，则会穿越双曲线，如果斜率小于0，刚开始会和双曲线有两个交点，最后相切，此时的切线的斜率一定小于负斜率渐近线的斜率。 "
   ]
  },
  {
   "cell_type": "markdown",
   "metadata": {},
   "source": [
    "## 题四：时间序列(34分)\n",
    "\n",
    " 1. (5分) 弱平稳和严平稳时间序列的定义和关系\n",
    " 2. (5分) 简述白噪声的正态检验法 \n",
    " 3. (5分) 简述AR模型和MA模型利用样本自相关系数或样本偏相关系数定阶的方法。\n",
    " 4. 最简单的ARMA(1,1)模型表示为\n",
    "$${r_t} = {\\phi _0} + {\\phi _1}{r_{t - 1}} + {\\varepsilon _t} + {b_1}{\\varepsilon _{t - 1}},\\quad {\\varepsilon _t}\\sim WN\\left( {0,{\\sigma ^2}} \\right)$$\n",
    "其中$\\left\\{ {{\\varepsilon _t}} \\right\\}$ 为零均值白噪声序列，已知${\\mathop{\\rm cov}} \\left( {{r_{t - j}},{\\varepsilon _t}} \\right) = 0$。 \n",
    "\n",
    " A. (6分) 推导如下公式：\n",
    "\n",
    "   方差\n",
    "$${\\gamma _0} = \\frac{{\\left( {1 + b_1^2 + 2{\\phi _1}{b_1}} \\right){\\sigma ^2}}}{{1 - \\phi _1^2}}$$\n",
    "\n",
    "   自相关系数 \n",
    " $${\\rho _1} = {\\phi _1} + \\frac{{{b_1}{\\sigma ^2}}}{{{\\gamma _0}}},\\quad {\\rho _k} = {\\phi _1}{\\rho _{k - 1}}\\quad \\left( {k > 1} \\right)$$\n",
    "\n",
    "答：（1分）说明$\\phi_0$的值不影响相关性，不妨设为0； (1分) 计算$E(r_t\\varepsilon_t)=\\sigma^2$ (2分) 模型方程两边同时平方后取期望 计算方差\n",
    "\n",
    " （1分）方程两边同时乘$r_{t-1}$取期望得到相关系数第一项；方程两边同时乘$r_{t-j},j>1$取期望得第二项。\n",
    " \n",
    "  B. (3分) 计算上述模型进行$3$步向前预测的方差。\n",
    "  \n",
    "  答：(2分)计算MA表示的前三项 $$r_{t+3}=(1+\\phi_1 B+\\phi_1^2B^2+\\cdots)(1+b_1B)\\varepsilon_{t+3}=\\varepsilon_{t+3}+(b_1+\\phi_1)\\varepsilon_{t+2}+\\phi_1(b_1+\\phi_1)\\varepsilon_{t+1}+\\cdots$$\n",
    " （1分，可以不化简） 方差是前面三项的方差$$[1+(1+\\phi_1^2)(\\phi_1+b_1)^2]\\sigma^2$$"
   ]
  },
  {
   "cell_type": "code",
   "execution_count": 11,
   "metadata": {
    "collapsed": false
   },
   "outputs": [],
   "source": [
    "import pandas as pd\n",
    "import matplotlib.pyplot as plt\n",
    "from statsmodels.tsa.stattools import acf\n",
    "import numpy as np\n",
    "%matplotlib inline\n",
    "\n",
    "data1=pd.read_csv(\"data\\gdp.csv\",index_col=0)\n",
    "data1=np.log(data1)\n",
    "ep=np.random.normal(size=500)\n",
    "data2=ep.cumsum()\n",
    "data2=pd.Series(data2)\n",
    "\n",
    "data3=pd.read_csv(\"data\\m-NHTs.txt\",index_col=0 )\n",
    "ind=pd.date_range(\"1880-1\",\"2010-2\",freq=\"M\")\n",
    "n=len(ind)\n",
    "data3=pd.Series(data3.values.flatten()[:n],index=ind)\n",
    "\n",
    "from statsmodels.tsa.arima_process import arma_generate_sample\n",
    "phi=[1,-0.6]\n",
    "beta=[1,0.5]\n",
    "data4=arma_generate_sample(ar=phi,ma=beta,nsample=500)\n",
    "data4=pd.Series(data4)\n",
    "data=[data1,data2,data3,data4]"
   ]
  },
  {
   "cell_type": "markdown",
   "metadata": {},
   "source": [
    "5. (10分)\n",
    "请指出图形每行对应的实际数据，并给出你的理由。\n",
    "四个数据集合：\n",
    "\n",
    "ARMA(1,1)模型随机数，样本量500；全球气温变化月度数据，样本量1531;作业中使用的gdp(年度)取对数，样本量63;随机游走，样本量500;\n",
    "\n",
    "![](finaltest.png)\n",
    "\n",
    "上图是和这些数据(data1,data2,data3,data4)相关的自相关系数，每行为一个数据的acf，第一个是原始数据acf，第二个为一阶差分acf，第三个为2阶差分acf。\n",
    "\n",
    "答：data1 gpd (数据量，一，二阶差分都有不小的样本acf); data2, random walk （一阶差分平稳，二阶差分引入新的一阶自相关系数）; data3 global temp（不平稳，有明显的12周期）; data4, arma （平稳序列特征）\n"
   ]
  },
  {
   "cell_type": "code",
   "execution_count": 12,
   "metadata": {
    "collapsed": false
   },
   "outputs": [
    {
     "data": {
      "image/png": "[encoded data removed]",
      "text/plain": [
       "<matplotlib.figure.Figure at 0xaa97160>"
      ]
     },
     "metadata": {},
     "output_type": "display_data"
    }
   ],
   "source": [
    "%matplotlib inline\n",
    "fig = plt.figure(figsize=(12,4)) \n",
    "\n",
    "for i in range(4):\n",
    "    da=data[i]    \n",
    "    di1=da.diff().dropna()\n",
    "    di2=di1.diff().dropna()\n",
    "    acf1=acf(da, nlags=25)\n",
    "    ax = fig.add_subplot(4,3,i*3+1)\n",
    "    ax.plot(acf1,\"*\")\n",
    "    ax.set_ylabel(\"Data \"+str(i+1))\n",
    "    ax.set_yticks([0,.4,.8])\n",
    "    if i==0:\n",
    "        ax.set_title(\"ACF\")\n",
    "    acf2=acf(di1, nlags=25)\n",
    "    ax = fig.add_subplot(4,3,i*3+2)\n",
    "    ax.plot(acf2,\"*\")\n",
    "    if i==0:\n",
    "        ax.set_title(\"Diff 1,ACF\")\n",
    "    ax.set_yticks([0,.4,.8])\n",
    "    acf3=acf(di2, nlags=25)\n",
    "    ax = fig.add_subplot(4,3,i*3+3)\n",
    "    ax.plot(acf3,\"*\")\n",
    "    if i==0:\n",
    "        ax.set_title(\"Diff 2,ACF\")\n",
    "    ax.set_yticks([0,.4,.8])\n",
    "    "
   ]
  }
 ],
 "metadata": {
  "anaconda-cloud": {},
  "kernelspec": {
   "display_name": "Python [conda root]",
   "language": "python",
   "name": "conda-root-py"
  },
  "language_info": {
   "codemirror_mode": {
    "name": "ipython",
    "version": 3
   },
   "file_extension": ".py",
   "mimetype": "text/x-python",
   "name": "python",
   "nbconvert_exporter": "python",
   "pygments_lexer": "ipython3",
   "version": "3.5.2"
  }
 },
 "nbformat": 4,
 "nbformat_minor": 0
}
