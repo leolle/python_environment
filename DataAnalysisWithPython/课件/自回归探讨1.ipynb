{
 "cells": [
  {
   "cell_type": "markdown",
   "metadata": {},
   "source": [
    "自回归 的周期和阶的偏相关系数选择"
   ]
  },
  {
   "cell_type": "code",
   "execution_count": 16,
   "metadata": {
    "collapsed": false
   },
   "outputs": [
    {
     "data": {
      "text/plain": [
       "[<matplotlib.lines.Line2D at 0x1b2c017c470>,\n",
       " <matplotlib.lines.Line2D at 0x1b2c017c668>]"
      ]
     },
     "execution_count": 16,
     "metadata": {},
     "output_type": "execute_result"
    },
    {
     "data": {
      "image/png": "[encoded data removed]",
      "text/plain": [
       "<matplotlib.figure.Figure at 0x1b2bccc7240>"
      ]
     },
     "metadata": {},
     "output_type": "display_data"
    }
   ],
   "source": [
    "import pandas as pd \n",
    "import numpy as np\n",
    "import matplotlib.pylab as plt\n",
    "%matplotlib inline\n",
    "n=1000\n",
    "error=np.random.normal(size=n)\n",
    "#plt.plot(data)\n",
    "# 计算k阶自相关系数的函数\n",
    "\n",
    "def autocoef(data,k):\n",
    "    meanw=np.mean(data)\n",
    "    n=len(data)    \n",
    "    return np.nansum((data[:(n-k)]-meanw)*(data[k:]-meanw))/np.nansum((data-meanw)**2)\n",
    "#下面这个函数生成随机数\n",
    "from statsmodels.tsa.arima_process import arma_generate_sample\n",
    "  \n",
    "phi=[1,-0.6,0.4,0,0,0.3] \n",
    "\n",
    "data=arma_generate_sample(ar=phi,ma=[1],nsample=1000)\n",
    "ac=[autocoef(data,i) for i in range(20)]\n",
    "plt.plot(ac,\"b*\",[0,20],[0,0],\"r-\")\n",
    " \n"
   ]
  },
  {
   "cell_type": "code",
   "execution_count": 64,
   "metadata": {
    "collapsed": false
   },
   "outputs": [
    {
     "name": "stdout",
     "output_type": "stream",
     "text": [
      "[-1.57900783+0.j         -0.11770012+1.26161316j -0.11770012-1.26161316j\n",
      "  0.90720404+0.70131135j  0.90720404-0.70131135j]\n",
      "[ 1.57900783  1.26709158  1.26709158  1.14667205  1.14667205]\n"
     ]
    },
    {
     "data": {
      "text/plain": [
       "array([ 3.14159265,  1.66382042, -1.66382042,  0.65808876, -0.65808876])"
      ]
     },
     "execution_count": 64,
     "metadata": {},
     "output_type": "execute_result"
    }
   ],
   "source": [
    "phi=[1,-0.6,0.4,0,0,0.3] \n",
    "phi.reverse()\n",
    "roots=np.roots(phi)\n",
    "phi.reverse()\n",
    "print(roots)\n",
    "print(np.abs(roots))\n",
    "x=roots[1]\n",
    "np.angle(roots)"
   ]
  },
  {
   "cell_type": "code",
   "execution_count": 65,
   "metadata": {
    "collapsed": false
   },
   "outputs": [
    {
     "data": {
      "text/plain": [
       "9.548913840698459"
      ]
     },
     "execution_count": 65,
     "metadata": {},
     "output_type": "execute_result"
    }
   ],
   "source": [
    "\n",
    "2*np.pi/0.658"
   ]
  },
  {
   "cell_type": "code",
   "execution_count": 19,
   "metadata": {
    "collapsed": false
   },
   "outputs": [],
   "source": [
    "from scipy.linalg import toeplitz\n",
    "\n",
    "def mypacf(ac,k):    \n",
    "    r=ac[:k]\n",
    "    R = toeplitz(r[:-1])\n",
    "    rho = np.linalg.solve(R, r[1:])\n",
    "    return(rho)\n"
   ]
  },
  {
   "cell_type": "code",
   "execution_count": 34,
   "metadata": {
    "collapsed": false
   },
   "outputs": [
    {
     "name": "stdout",
     "output_type": "stream",
     "text": [
      "阈值: 0.0196\n",
      "[ 0.6738521  -0.36549317]\n",
      "[ 0.66993456 -0.35827049 -0.01071849]\n",
      "[ 0.66771107 -0.43259154  0.12825538 -0.20744396]\n",
      "[ 0.60505294 -0.3938522  -0.00240824 -0.00576283 -0.30204849]\n",
      "[ 0.60316446 -0.39388823 -0.0024233  -0.00822529 -0.29826557 -0.00625222]\n"
     ]
    },
    {
     "data": {
      "text/plain": [
       "array([ 1.        ,  0.49357456, -0.36564688, -0.01077499, -0.20768607,\n",
       "       -0.30192111, -0.00639393])"
      ]
     },
     "execution_count": 34,
     "metadata": {},
     "output_type": "execute_result"
    }
   ],
   "source": [
    "data=arma_generate_sample(ar=phi,ma=[1],nsample=10000)\n",
    "ac=[autocoef(data,i) for i in range(20)]\n",
    "\n",
    "#95%的阀值为：\n",
    "print(\"阈值:\",1.96/np.sqrt(10000))\n",
    "print(mypacf(ac,3))\n",
    "print(mypacf(ac,4))\n",
    "print(mypacf(ac,5))\n",
    "print(mypacf(ac,6))\n",
    "print(mypacf(ac,7))\n",
    "\n",
    "from statsmodels.tsa.stattools import pacf\n",
    "pacf(data,6,method='ols')"
   ]
  }
 ],
 "metadata": {
  "kernelspec": {
   "display_name": "Python [conda root]",
   "language": "python",
   "name": "conda-root-py"
  },
  "language_info": {
   "codemirror_mode": {
    "name": "ipython",
    "version": 3
   },
   "file_extension": ".py",
   "mimetype": "text/x-python",
   "name": "python",
   "nbconvert_exporter": "python",
   "pygments_lexer": "ipython3",
   "version": "3.5.2"
  }
 },
 "nbformat": 4,
 "nbformat_minor": 0
}
