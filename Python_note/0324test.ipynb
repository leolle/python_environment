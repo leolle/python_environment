{
 "cells": [
  {
   "cell_type": "code",
   "execution_count": 2,
   "metadata": {
    "collapsed": true
   },
   "outputs": [],
   "source": [
    "import numpy as np\n",
    "import pandas as pd\n",
    "from numpy.random import randn"
   ]
  },
  {
   "cell_type": "code",
   "execution_count": 4,
   "metadata": {
    "collapsed": false
   },
   "outputs": [
    {
     "data": {
      "text/plain": [
       "array('daddaddaddaddaddaddaddaddaddaddaddaddaddaddaddaddaddaddaddad', \n",
       "      dtype='<U60')"
      ]
     },
     "execution_count": 4,
     "metadata": {},
     "output_type": "execute_result"
    }
   ],
   "source": [
    "data = randn(20)\n",
    "data.size\n",
    "string = 'dad'\n",
    "complexstr = np.identity(string)\n",
    "complexstr"
   ]
  },
  {
   "cell_type": "code",
   "execution_count": 105,
   "metadata": {
    "collapsed": false
   },
   "outputs": [
    {
     "data": {
      "text/plain": [
       "[1]"
      ]
     },
     "execution_count": 105,
     "metadata": {},
     "output_type": "execute_result"
    }
   ],
   "source": [
    "data = np.array(data)\n",
    "record = []\n",
    "i = 12\n",
    "record.append(1)\n",
    "record"
   ]
  },
  {
   "cell_type": "code",
   "execution_count": 107,
   "metadata": {
    "collapsed": false
   },
   "outputs": [
    {
     "name": "stdout",
     "output_type": "stream",
     "text": [
      "[1, 1.1001658701059516, 1.1501450724349334, 0.59293000650705108, 0.65205192851600524, 0.77437759031556586, 1.1001658701059516, -0.33365210412384083, 1.1501450724349334, 0.44762864092754351]\n"
     ]
    }
   ],
   "source": [
    "for i in range(4,len(data)):\n",
    "    if(data[i] > max(data[i-1:i]) and data[i] > max(data[i+1:i+2])):\n",
    "        record.append(data[i]) \n",
    "print (record)"
   ]
  },
  {
   "cell_type": "code",
   "execution_count": 79,
   "metadata": {
    "collapsed": false
   },
   "outputs": [
    {
     "name": "stdout",
     "output_type": "stream",
     "text": [
      "0\n",
      "(array([0, 1, 2]), array([0, 0, 0]))\n",
      "0\n",
      "(array([0, 1, 2]), array([0, 0, 0]))\n",
      "0\n",
      "(array([0, 1, 2]), array([0, 0, 0]))\n",
      "1\n",
      "(array([3]), array([0]))\n",
      "2\n",
      "(array([4]), array([0]))\n",
      "3\n",
      "(array([5]), array([0]))\n",
      "4\n",
      "(array([6]), array([0]))\n",
      "5\n",
      "(array([7]), array([0]))\n"
     ]
    }
   ],
   "source": []
  },
  {
   "cell_type": "code",
   "execution_count": null,
   "metadata": {
    "collapsed": true
   },
   "outputs": [],
   "source": []
  },
  {
   "cell_type": "code",
   "execution_count": null,
   "metadata": {
    "collapsed": true
   },
   "outputs": [],
   "source": []
  }
 ],
 "metadata": {
  "anaconda-cloud": {},
  "kernelspec": {
   "display_name": "Python [conda root]",
   "language": "python",
   "name": "conda-root-py"
  },
  "language_info": {
   "codemirror_mode": {
    "name": "ipython",
    "version": 3
   },
   "file_extension": ".py",
   "mimetype": "text/x-python",
   "name": "python",
   "nbconvert_exporter": "python",
   "pygments_lexer": "ipython3",
   "version": "3.5.2"
  }
 },
 "nbformat": 4,
 "nbformat_minor": 1
}
