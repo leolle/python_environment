{
 "cells": [
  {
   "cell_type": "code",
   "execution_count": 1,
   "metadata": {},
   "outputs": [
    {
     "name": "stdout",
     "output_type": "stream",
     "text": [
      "<type 'listiterator'>\n",
      "<type 'listiterator'>\n",
      "False\n"
     ]
    }
   ],
   "source": [
    "L1 = [1,2,3,4,5,6]\n",
    "I1 = L1.__iter__()\n",
    "I2 = iter(L1)\n",
    "print type(I1)\n",
    "print type(I2)\n",
    "print bool(I1 == I2)"
   ]
  },
  {
   "cell_type": "code",
   "execution_count": null,
   "metadata": {
    "collapsed": true
   },
   "outputs": [],
   "source": [
    "class test_iter(object):\n",
    "    def __init__(self,a,b):\n",
    "        self.a = a\n",
    "        self.b = b\n",
    "        self.countnum = 10\n",
    "    def __iter__(self):\n",
    "        return self\n",
    "    def next(self):\n",
    "        self.a,self.b = self.b, self.a + self.b\n",
    "        self.countnum -=1\n",
    "        if self.countnum < 0: # 退出循环的条件\n",
    "            raise StopIteration();\n",
    "        return self.a # 返回下一个值"
   ]
  },
  {
   "cell_type": "code",
   "execution_count": null,
   "metadata": {
    "collapsed": true
   },
   "outputs": [],
   "source": [
    "fib = test_iter(2,3)"
   ]
  },
  {
   "cell_type": "code",
   "execution_count": null,
   "metadata": {
    "collapsed": true
   },
   "outputs": [],
   "source": [
    "for x in fib:\n",
    "    print x"
   ]
  },
  {
   "cell_type": "code",
   "execution_count": null,
   "metadata": {
    "collapsed": true
   },
   "outputs": [],
   "source": [
    "def iter_test():\n",
    "    i = iter('happy')#!!!\n",
    "    try:\n",
    "        while True:\n",
    "            print i.next()\n",
    "    except StopIteration:\n",
    "        pass\n",
    "\n",
    "    s = {'one':1,'two':2,'three':3}\n",
    "    print s\n",
    "    m = iter(s) #!!!\n",
    "    try:\n",
    "        while True:\n",
    "            print m.next()  #s[m.next()]\n",
    "    except StopIteration:\n",
    "        pass\n",
    "\n",
    "if __name__ == '__main__':    \n",
    "    iter_test()"
   ]
  },
  {
   "cell_type": "code",
   "execution_count": null,
   "metadata": {
    "collapsed": true
   },
   "outputs": [],
   "source": [
    "def odd():\n",
    "    n = 1\n",
    "    \n",
    "    while 1:\n",
    "        if n%2:\n",
    "            yield n\n",
    "        n = n+1"
   ]
  },
  {
   "cell_type": "code",
   "execution_count": null,
   "metadata": {
    "collapsed": true
   },
   "outputs": [],
   "source": [
    "odd_num = odd()\n",
    "count = 0\n",
    "for x in odd_num:\n",
    "    count += 1\n",
    "    if count > 5:\n",
    "        break\n",
    "    print x"
   ]
  }
 ],
 "metadata": {
  "kernelspec": {
   "display_name": "Python 2",
   "language": "python",
   "name": "python2"
  },
  "language_info": {
   "codemirror_mode": {
    "name": "ipython",
    "version": 2
   },
   "file_extension": ".py",
   "mimetype": "text/x-python",
   "name": "python",
   "nbconvert_exporter": "python",
   "pygments_lexer": "ipython2",
   "version": "2.7.12"
  }
 },
 "nbformat": 4,
 "nbformat_minor": 2
}
