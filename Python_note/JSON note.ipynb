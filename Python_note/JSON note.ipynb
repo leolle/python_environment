{
 "cells": [
  {
   "cell_type": "code",
   "execution_count": 9,
   "metadata": {
    "collapsed": false
   },
   "outputs": [],
   "source": [
    "import json"
   ]
  },
  {
   "cell_type": "code",
   "execution_count": 10,
   "metadata": {
    "collapsed": true
   },
   "outputs": [],
   "source": [
    "obj = [[1,2,3],123,123.123,'abc',{'key1':(1,2,3),'key2':(4,5,6)}]\n",
    "encodedjson = json.dumps(obj)"
   ]
  },
  {
   "cell_type": "code",
   "execution_count": 15,
   "metadata": {
    "collapsed": false
   },
   "outputs": [
    {
     "name": "stdout",
     "output_type": "stream",
     "text": [
      "the original list:\n",
      " [[1, 2, 3], 123, 123.123, 'abc', {'key1': (1, 2, 3), 'key2': (4, 5, 6)}]\n",
      "length of obj is: 72\n",
      "repr(obj),replace whiteblank with *:\n",
      " [[1,*2,*3],*123,*123.123,*'abc',*{'key1':*(1,*2,*3),*'key2':*(4,*5,*6)}]\n",
      "json encoded,replace whiteblank with *:\n",
      " [[1,*2,*3],*123,*123.123,*\"abc\",*{\"key1\":*[1,*2,*3],*\"key2\":*[4,*5,*6]}]\n"
     ]
    }
   ],
   "source": [
    "print ('the original list:\\n',obj )\n",
    "print ('length of obj is:',len(repr(obj)))\n",
    "print ('repr(obj),replace whiteblank with *:\\n', repr(obj).replace(' ','*') )\n",
    "print ('json encoded,replace whiteblank with *:\\n',encodedjson.replace(' ','*'))\n",
    "##json.dumps  :  python data-> javascript\n",
    "\n",
    "\n",
    "\n",
    "##json.load : javascript -> python data"
   ]
  },
  {
   "cell_type": "code",
   "execution_count": 16,
   "metadata": {
    "collapsed": false
   },
   "outputs": [
    {
     "name": "stdout",
     "output_type": "stream",
     "text": [
      "the type of decodeed obj from json: <class 'list'>\n",
      "the obj is:\n",
      " [[1, 2, 3], 123, 123.123, 'abc', {'key1': [1, 2, 3], 'key2': [4, 5, 6]}]\n",
      "length of decoded obj is: 72\n"
     ]
    }
   ],
   "source": [
    "##json.loads :解析\n",
    "##需要注意的是，json字符串中的字典类型的key必须要用双引号“”json.loads()才能正常解析\n",
    "\n",
    "\n",
    "decodejson = json.loads(encodedjson) \n",
    "print ('the type of decodeed obj from json:', type(decodejson)) \n",
    "print ('the obj is:\\n',decodejson) \n",
    "print ('length of decoded obj is:',len(repr(decodejson)))"
   ]
  },
  {
   "cell_type": "code",
   "execution_count": 18,
   "metadata": {
    "collapsed": false
   },
   "outputs": [
    {
     "name": "stdout",
     "output_type": "stream",
     "text": [
      "sorted data1(d1): {\"a\": 123, \"b\": 789, \"c\": 456}\n",
      "unsorted data2(d2): {\"b\": 789, \"a\": 123, \"c\": 456}\n",
      "sorted data2(d3): {\"a\": 123, \"b\": 789, \"c\": 456}\n",
      "d1==d2?: False\n",
      "d1==d3?: True\n"
     ]
    }
   ],
   "source": [
    "data1 = {'b':789,'c':456,'a':123} \n",
    "data2 = {'a':123,'b':789,'c':456} \n",
    "d1 = json.dumps(data1,sort_keys=True) \n",
    "d2 = json.dumps(data2) \n",
    "d3 = json.dumps(data2,sort_keys=True) \n",
    "print ('sorted data1(d1):',d1) \n",
    "print ('unsorted data2(d2):',d2) \n",
    "print ('sorted data2(d3):',d3 )\n",
    "print ('d1==d2?:',d1==d2 )\n",
    "print ('d1==d3?:',d1==d3)"
   ]
  },
  {
   "cell_type": "markdown",
   "metadata": {},
   "source": [
    "indent参数是缩进的意思，它可以使数据的存储格式更优雅、可读性更强，这是通过增加一些冗余的空格进行填充的。但是在解码（json.loads()）时，空白填充会被删除。"
   ]
  },
  {
   "cell_type": "code",
   "execution_count": 22,
   "metadata": {
    "collapsed": false
   },
   "outputs": [
    {
     "name": "stdout",
     "output_type": "stream",
     "text": [
      "data len is: 30\n",
      "4 indented data:\n",
      " {\n",
      "    \"a\": 123,\n",
      "    \"b\": 789,\n",
      "    \"c\": 456\n",
      "}\n",
      "decoded DATA: {'b': 789, 'a': 123, 'c': 456}\n",
      "len of decoded DATA: 30\n"
     ]
    }
   ],
   "source": [
    "data = {'b':789,'c':456,'a':123} \n",
    "d1 = json.dumps(data,sort_keys=True,indent=4) \n",
    "print ('data len is:',len(repr(data)) )\n",
    "print ('4 indented data:\\n',d1 )\n",
    "d2 = json.loads(d1) \n",
    "print ('decoded DATA:', repr(d2) )\n",
    "print ('len of decoded DATA:',len(repr(d2)))"
   ]
  },
  {
   "cell_type": "markdown",
   "metadata": {},
   "source": [
    "json主要是作为一种数据通信的格式存在的，无用的空格会浪费通信带宽，适当时候也要对数据进行压缩。separator参数可以起到这样的作用，该参数传递是一个元组，包含分割对象的字符串，其实质就是将Python默认的（‘, ',': '）分隔符替换成（',',':'）"
   ]
  },
  {
   "cell_type": "code",
   "execution_count": 23,
   "metadata": {
    "collapsed": false
   },
   "outputs": [
    {
     "name": "stdout",
     "output_type": "stream",
     "text": [
      "DATA: {'b': 789, 'a': 123, 'c': 456}\n",
      "repr(data)       : 30\n",
      "dumps(data)      : 30\n",
      "dumps(data, indent=2) : 44\n",
      "dumps(data, separators): 25\n"
     ]
    }
   ],
   "source": [
    "data = {'b':789,'c':456,'a':123} \n",
    "print ('DATA:', repr(data)) \n",
    "print ('repr(data)       :', len(repr(data)) )\n",
    "print ('dumps(data)      :', len(json.dumps(data)) )\n",
    "print ('dumps(data, indent=2) :', len(json.dumps(data, indent=4))) \n",
    "print ('dumps(data, separators):', len(json.dumps(data, separators=(',',':'))))"
   ]
  },
  {
   "cell_type": "markdown",
   "metadata": {},
   "source": [
    "另一个比较有用的dumps参数是skipkeys，默认为False。 dumps方法存储dict对象时key必须是str类型，其他类型会导致TypeError异常产生，如果将skipkeys设为True则会优雅的滤除非法keys。"
   ]
  },
  {
   "cell_type": "code",
   "execution_count": 24,
   "metadata": {
    "collapsed": false
   },
   "outputs": [
    {
     "name": "stdout",
     "output_type": "stream",
     "text": [
      "original data: {(1, 2): 123, 'b': 789, 'c': 456}\n",
      "json encoded {\"b\": 789, \"c\": 456}\n"
     ]
    }
   ],
   "source": [
    "data = {'b':789,'c':456,(1,2):123} \n",
    "print('original data:',repr(data) )\n",
    "print ('json encoded',json.dumps(data,skipkeys=True))"
   ]
  },
  {
   "cell_type": "markdown",
   "metadata": {},
   "source": [
    "json模块不仅可以处理普通的python内置类型，也可以处理我们自定义的数据类型，而往往处理自定义的对象是很常用的。\n",
    "\n",
    "如果直接通过json.dumps方法对Person的实例进行处理的话，会报错，因为json无法支持这样的自动转化。通过上面所提到的json和 python的类型转化对照表，可以发现，object类型是和dict相关联的，所以我们需要把我们自定义的类型转化为dict，然后再进行处理。这里，有两种方法可以使用。\n",
    "方法一：自己写转化函数\n",
    "自定义object类型和dict类型进行转化：encode-定义函数 object2dict()将对象模块名、类名以及__dict__存储在一个字典并返回;decode-定义dict2object()解析出模块名、类名、参数，创建新的对象并返回。在json.dumps()中通过default参数指定转化过程中调用的函数；json.loads()则通过 object_hook指定转化函数。\n",
    "方法二：继承JSONEncoder和JSONDecoder类，覆写相关方法\n",
    "JSONEncoder类负责编码，主要是通过其default函数进行转化，我们可以重载该方法。对于JSONDecoder，亦然。"
   ]
  },
  {
   "cell_type": "code",
   "execution_count": 26,
   "metadata": {
    "collapsed": false
   },
   "outputs": [
    {
     "name": "stdout",
     "output_type": "stream",
     "text": [
      "Person Object name : Aidan , age : 22\n",
      "method-json encode: {'name': 'Aidan', 'age': 22, '__module__': '__main__', '__class__': 'Person'}\n",
      "the module is: <module '__main__'>\n",
      "the atrribute: {b'name': 'Aidan', b'age': 22}\n"
     ]
    },
    {
     "ename": "TypeError",
     "evalue": "__init__() keywords must be strings",
     "output_type": "error",
     "traceback": [
      "\u001b[0;31m---------------------------------------------------------------------------\u001b[0m",
      "\u001b[0;31mTypeError\u001b[0m                                 Traceback (most recent call last)",
      "\u001b[0;32m<ipython-input-26-e2e732004087>\u001b[0m in \u001b[0;36m<module>\u001b[0;34m()\u001b[0m\n\u001b[1;32m     61\u001b[0m   \u001b[0mprint\u001b[0m \u001b[0;34m(\u001b[0m\u001b[0;34m'method-json encode:'\u001b[0m\u001b[0;34m,\u001b[0m \u001b[0md\u001b[0m\u001b[0;34m)\u001b[0m\u001b[0;34m\u001b[0m\u001b[0m\n\u001b[1;32m     62\u001b[0m \u001b[0;34m\u001b[0m\u001b[0m\n\u001b[0;32m---> 63\u001b[0;31m   \u001b[0mo\u001b[0m \u001b[0;34m=\u001b[0m \u001b[0mdict2object\u001b[0m\u001b[0;34m(\u001b[0m\u001b[0md\u001b[0m\u001b[0;34m)\u001b[0m\u001b[0;34m\u001b[0m\u001b[0m\n\u001b[0m\u001b[1;32m     64\u001b[0m   \u001b[0mprint\u001b[0m \u001b[0;34m(\u001b[0m\u001b[0;34m'the decoded obj type: %s, obj:%s'\u001b[0m \u001b[0;34m%\u001b[0m \u001b[0;34m(\u001b[0m\u001b[0mtype\u001b[0m\u001b[0;34m(\u001b[0m\u001b[0mo\u001b[0m\u001b[0;34m)\u001b[0m\u001b[0;34m,\u001b[0m\u001b[0mrepr\u001b[0m\u001b[0;34m(\u001b[0m\u001b[0mo\u001b[0m\u001b[0;34m)\u001b[0m\u001b[0;34m)\u001b[0m\u001b[0;34m)\u001b[0m\u001b[0;34m\u001b[0m\u001b[0m\n\u001b[1;32m     65\u001b[0m \u001b[0;34m\u001b[0m\u001b[0m\n",
      "\u001b[0;32m<ipython-input-26-e2e732004087>\u001b[0m in \u001b[0;36mdict2object\u001b[0;34m(d)\u001b[0m\n\u001b[1;32m     26\u001b[0m     \u001b[0margs\u001b[0m \u001b[0;34m=\u001b[0m \u001b[0mdict\u001b[0m\u001b[0;34m(\u001b[0m\u001b[0;34m(\u001b[0m\u001b[0mkey\u001b[0m\u001b[0;34m.\u001b[0m\u001b[0mencode\u001b[0m\u001b[0;34m(\u001b[0m\u001b[0;34m'ascii'\u001b[0m\u001b[0;34m)\u001b[0m\u001b[0;34m,\u001b[0m \u001b[0mvalue\u001b[0m\u001b[0;34m)\u001b[0m \u001b[0;32mfor\u001b[0m \u001b[0mkey\u001b[0m\u001b[0;34m,\u001b[0m \u001b[0mvalue\u001b[0m \u001b[0;32min\u001b[0m \u001b[0md\u001b[0m\u001b[0;34m.\u001b[0m\u001b[0mitems\u001b[0m\u001b[0;34m(\u001b[0m\u001b[0;34m)\u001b[0m\u001b[0;34m)\u001b[0m \u001b[0;31m#get args\u001b[0m\u001b[0;34m\u001b[0m\u001b[0m\n\u001b[1;32m     27\u001b[0m     \u001b[0mprint\u001b[0m \u001b[0;34m(\u001b[0m\u001b[0;34m'the atrribute:'\u001b[0m\u001b[0;34m,\u001b[0m \u001b[0mrepr\u001b[0m\u001b[0;34m(\u001b[0m\u001b[0margs\u001b[0m\u001b[0;34m)\u001b[0m\u001b[0;34m)\u001b[0m\u001b[0;34m\u001b[0m\u001b[0m\n\u001b[0;32m---> 28\u001b[0;31m     \u001b[0minst\u001b[0m \u001b[0;34m=\u001b[0m \u001b[0mclass_\u001b[0m\u001b[0;34m(\u001b[0m\u001b[0;34m**\u001b[0m\u001b[0margs\u001b[0m\u001b[0;34m)\u001b[0m \u001b[0;31m#create new instance\u001b[0m\u001b[0;34m\u001b[0m\u001b[0m\n\u001b[0m\u001b[1;32m     29\u001b[0m   \u001b[0;32melse\u001b[0m\u001b[0;34m:\u001b[0m\u001b[0;34m\u001b[0m\u001b[0m\n\u001b[1;32m     30\u001b[0m     \u001b[0minst\u001b[0m \u001b[0;34m=\u001b[0m \u001b[0md\u001b[0m\u001b[0;34m\u001b[0m\u001b[0m\n",
      "\u001b[0;31mTypeError\u001b[0m: __init__() keywords must be strings"
     ]
    }
   ],
   "source": [
    "#handling private data type \n",
    "#define class \n",
    "class Person(object): \n",
    "  def __init__(self,name,age): \n",
    "    self.name = name \n",
    "    self.age = age \n",
    "  def __repr__(self): \n",
    "    return 'Person Object name : %s , age : %d' % (self.name,self.age) \n",
    "    \n",
    "    \n",
    "#define transfer functions \n",
    "def object2dict(obj): \n",
    "  #convert object to a dict \n",
    "  d = {'__class__':obj.__class__.__name__, '__module__':obj.__module__} \n",
    "  d.update(obj.__dict__) \n",
    "  return d \n",
    "   \n",
    "def dict2object(d): \n",
    "  #convert dict to object \n",
    "  if'__class__' in d: \n",
    "    class_name = d.pop('__class__') \n",
    "    module_name = d.pop('__module__') \n",
    "    module = __import__(module_name) \n",
    "    print ('the module is:', module) \n",
    "    class_ = getattr(module,class_name) \n",
    "    args = dict((key.encode('ascii'), value) for key, value in d.items()) #get args \n",
    "    print ('the atrribute:', repr(args)) \n",
    "    inst = class_(**args) #create new instance \n",
    "  else: \n",
    "    inst = d \n",
    "  return inst \n",
    "#recreate the default method \n",
    "class LocalEncoder(json.JSONEncoder): \n",
    "  def default(self,obj): \n",
    "    #convert object to a dict \n",
    "    d = {'__class__':obj.__class__.__name__, '__module__':obj.__module__} \n",
    "    d.update(obj.__dict__) \n",
    "    return d \n",
    "   \n",
    "class LocalDecoder(json.JSONDecoder): \n",
    "  def __init__(self): \n",
    "    json.JSONDecoder.__init__(self,object_hook = self.dict2object) \n",
    "  def dict2object(self, d): \n",
    "    #convert dict to object \n",
    "    if'__class__' in d: \n",
    "      class_name = d.pop('__class__') \n",
    "      module_name = d.pop('__module__') \n",
    "      module = __import__(module_name) \n",
    "      class_ = getattr(module,class_name) \n",
    "      args = dict((key.encode('ascii'), value) for key, value in d.items()) #get args \n",
    "      inst = class_(**args) #create new instance \n",
    "    else: \n",
    "      inst = d \n",
    "    return inst \n",
    "#test function \n",
    "if __name__ == '__main__': \n",
    "  p = Person('Aidan',22) \n",
    "  print (p) \n",
    "  #json.dumps(p)#error will be throwed \n",
    "  d = object2dict(p) \n",
    "  print ('method-json encode:', d) \n",
    "   \n",
    "  o = dict2object(d) \n",
    "  print ('the decoded obj type: %s, obj:%s' % (type(o),repr(o))) \n",
    "   \n",
    "  dump = json.dumps(p,default=object2dict) \n",
    "  print ('dumps(default = object2dict):',dump )\n",
    "  load = json.loads(dump,object_hook = dict2object) \n",
    "  print ('loads(object_hook = dict2object):',load )\n",
    "  d = LocalEncoder().encode(p) \n",
    "  o = LocalDecoder().decode(d) \n",
    "   \n",
    "  print ('recereated encode method: ',d )\n",
    "  print ('recereated decode method: ',type(o),o)"
   ]
  },
  {
   "cell_type": "code",
   "execution_count": null,
   "metadata": {
    "collapsed": true
   },
   "outputs": [],
   "source": []
  }
 ],
 "metadata": {
  "anaconda-cloud": {},
  "kernelspec": {
   "display_name": "Python [conda root]",
   "language": "python",
   "name": "conda-root-py"
  },
  "language_info": {
   "codemirror_mode": {
    "name": "ipython",
    "version": 3
   },
   "file_extension": ".py",
   "mimetype": "text/x-python",
   "name": "python",
   "nbconvert_exporter": "python",
   "pygments_lexer": "ipython3",
   "version": "3.5.2"
  }
 },
 "nbformat": 4,
 "nbformat_minor": 1
}
