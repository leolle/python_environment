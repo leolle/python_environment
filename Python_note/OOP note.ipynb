{
 "cells": [
  {
   "cell_type": "code",
   "execution_count": 51,
   "metadata": {
    "collapsed": false
   },
   "outputs": [],
   "source": [
    "class coordinate(object):\n",
    "    def __init__(wrk,x,y):\n",
    "        wrk.x = x\n",
    "        wrk.y = y\n",
    "        \n",
    "    def distance(a,b):\n",
    "        return(abs(a.x - b.x) + abs(a.y - b.y))\n",
    "    \n",
    "    def __str__(wrk):\n",
    "        return \"<\"+ str(wrk.x) + \",\" + str(wrk.y) + \">\"\n",
    "    \n",
    "    def __eq__(a,b):\n",
    "        return (a.x == b.x & a.y == b.y)\n",
    "    "
   ]
  },
  {
   "cell_type": "code",
   "execution_count": 54,
   "metadata": {
    "collapsed": false
   },
   "outputs": [
    {
     "name": "stdout",
     "output_type": "stream",
     "text": [
      "2\n",
      "2\n",
      "<10,0> <class '__main__.coordinate'>\n",
      "True\n",
      "False\n"
     ]
    }
   ],
   "source": [
    "test = coordinate(10,0)\n",
    "copy = coordinate(9,1)\n",
    "print(coordinate.distance(test,copy))\n",
    "print(test.distance(copy))\n",
    "print(test,type(test))\n",
    "print(isinstance(test,coordinate))\n",
    "print(test == copy)"
   ]
  },
  {
   "cell_type": "code",
   "execution_count": 91,
   "metadata": {
    "collapsed": false
   },
   "outputs": [],
   "source": [
    "class intset(object):\n",
    "    def __init__(a):\n",
    "        a.value = []\n",
    "    def insert(self, e):\n",
    "        if not e in self.value:\n",
    "            self.value.append(e)\n",
    "    def member(self, e): \n",
    "        return e in self.value\n",
    "    def remove(self, e): \n",
    "        try:\n",
    "            self.value.remove(e) \n",
    "        except:\n",
    "            raise ValueError(str(e) + ' not found')\n",
    "    def __str__(self): \n",
    "        self.value.sort()\n",
    "        result = ''\n",
    "        for e in self.value:\n",
    "            result = result + str(e) + ','\n",
    "            return '{' + result[:] + '}'\n",
    "    \n",
    "    "
   ]
  },
  {
   "cell_type": "code",
   "execution_count": 92,
   "metadata": {
    "collapsed": false
   },
   "outputs": [
    {
     "name": "stdout",
     "output_type": "stream",
     "text": [
      "True\n",
      "{3,}\n"
     ]
    }
   ],
   "source": [
    "s = intset()\n",
    "s.insert(3)\n",
    "s.insert(4)\n",
    "print(s.member(4))\n",
    "s.remove(3)\n",
    "s.insert(3)\n",
    "print(s)"
   ]
  },
  {
   "cell_type": "code",
   "execution_count": null,
   "metadata": {
    "collapsed": true
   },
   "outputs": [],
   "source": []
  }
 ],
 "metadata": {
  "kernelspec": {
   "display_name": "Python [conda root]",
   "language": "python",
   "name": "conda-root-py"
  },
  "language_info": {
   "codemirror_mode": {
    "name": "ipython",
    "version": 3
   },
   "file_extension": ".py",
   "mimetype": "text/x-python",
   "name": "python",
   "nbconvert_exporter": "python",
   "pygments_lexer": "ipython3",
   "version": "3.5.2"
  }
 },
 "nbformat": 4,
 "nbformat_minor": 1
}
