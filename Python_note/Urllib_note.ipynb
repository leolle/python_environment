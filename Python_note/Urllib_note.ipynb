{
 "cells": [
  {
   "cell_type": "code",
   "execution_count": 4,
   "metadata": {},
   "outputs": [
    {
     "data": {
      "text/plain": [
       "instance"
      ]
     },
     "execution_count": 4,
     "metadata": {},
     "output_type": "execute_result"
    }
   ],
   "source": [
    "## urllib.urlopen(url[,data[,proxies]])  打开一个url的方法，返回一个文件对象，然后可以进行类似文件对象的操作。本例试着打开google\n",
    "import urllib\n",
    "f = urllib.urlopen('http://www.baidu.com/')\n",
    "type(f)   #读取html页面的第一行"
   ]
  },
  {
   "cell_type": "code",
   "execution_count": 3,
   "metadata": {},
   "outputs": [
    {
     "data": {
      "text/plain": [
       "'<!DOCTYPE html>\\n'"
      ]
     },
     "execution_count": 3,
     "metadata": {},
     "output_type": "execute_result"
    }
   ],
   "source": [
    "firstLine"
   ]
  },
  {
   "cell_type": "code",
   "execution_count": 19,
   "metadata": {},
   "outputs": [
    {
     "name": "stdout",
     "output_type": "stream",
     "text": [
      "('/Users/wrk/Desktop/1', <httplib.HTTPMessage instance at 0x1043ba4d0>)\n"
     ]
    }
   ],
   "source": [
    "# urlretrieve方法将url定位到的html文件下载到你本地的硬盘中。如果不指定filename，则会存为临时文件。\n",
    "# urlretrieve()返回一个二元组(filename,mine_hdrs)\n",
    "\n",
    "filename = urllib.urlretrieve('http://www.baidu.com/',filename='/Users/wrk/Desktop/1')\n",
    "print filename"
   ]
  },
  {
   "cell_type": "code",
   "execution_count": 20,
   "metadata": {
    "collapsed": true
   },
   "outputs": [],
   "source": [
    "urllib.urlcleanup()\n",
    "\n",
    "# 清除由于urllib.urlretrieve()所产生的缓存"
   ]
  },
  {
   "cell_type": "code",
   "execution_count": 24,
   "metadata": {},
   "outputs": [
    {
     "name": "stdout",
     "output_type": "stream",
     "text": [
      "http://www.baidu.com\n",
      "http%3A//www.baidu.com\n",
      "http%3A%2F%2Fwww.baidu.com\n"
     ]
    }
   ],
   "source": [
    "# urllib.quote(url)和urllib.quote_plus(url)\n",
    "# 将url数据获取之后，并将其编码，从而适用与URL字符串中，使其能被打印和被web服务器接受。\n",
    "#urllib.unquote & urllib.unquote_plus: inverse transform\n",
    "print urllib.unquote(urllib.quote('http://www.baidu.com'))\n",
    "print urllib.quote('http://www.baidu.com')\n",
    "print urllib.quote_plus('http://www.baidu.com')"
   ]
  },
  {
   "cell_type": "code",
   "execution_count": 31,
   "metadata": {},
   "outputs": [
    {
     "name": "stdout",
     "output_type": "stream",
     "text": [
      "<type 'dict'>\n",
      "<addinfourl at 4366062224 whose fp = <socket._fileobject object at 0x104236950>>\n"
     ]
    }
   ],
   "source": [
    "# urllib.urlencode(query)\n",
    "# 将URL中的键值对以连接符&划分\n",
    "# 这里可以与urlopen结合以实现post方法和get方法：\n",
    "dic = {'spam':1,'eggs':2,'bacon':0}\n",
    "print type(dic)\n",
    "parameters = urllib.urlencode(dic)\n",
    "f=urllib.urlopen(\"http://python.org/query?%s\" % parameters)\n",
    "print f"
   ]
  },
  {
   "cell_type": "code",
   "execution_count": null,
   "metadata": {
    "collapsed": true
   },
   "outputs": [],
   "source": []
  }
 ],
 "metadata": {
  "kernelspec": {
   "display_name": "Python 2",
   "language": "python",
   "name": "python2"
  },
  "language_info": {
   "codemirror_mode": {
    "name": "ipython",
    "version": 2
   },
   "file_extension": ".py",
   "mimetype": "text/x-python",
   "name": "python",
   "nbconvert_exporter": "python",
   "pygments_lexer": "ipython2",
   "version": "2.7.12"
  }
 },
 "nbformat": 4,
 "nbformat_minor": 2
}
